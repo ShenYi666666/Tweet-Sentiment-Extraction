{
 "cells": [
  {
   "cell_type": "code",
   "execution_count": 1,
   "metadata": {
    "ExecuteTime": {
     "end_time": "2020-06-07T07:39:41.400761Z",
     "start_time": "2020-06-07T07:39:41.175405Z"
    }
   },
   "outputs": [],
   "source": [
    "import pandas as pd\n",
    "import numpy as np\n",
    "\n",
    "%matplotlib inline"
   ]
  },
  {
   "cell_type": "code",
   "execution_count": 2,
   "metadata": {
    "ExecuteTime": {
     "end_time": "2020-06-07T07:39:41.403584Z",
     "start_time": "2020-06-07T07:39:41.401782Z"
    }
   },
   "outputs": [],
   "source": [
    "# train = pd.read_csv('../input/tweet-sentiment-extraction/train_folds.csv')"
   ]
  },
  {
   "cell_type": "code",
   "execution_count": 3,
   "metadata": {
    "ExecuteTime": {
     "end_time": "2020-06-07T07:39:41.623147Z",
     "start_time": "2020-06-07T07:39:41.533003Z"
    }
   },
   "outputs": [],
   "source": [
    "train = pd.read_csv('../input/tweet-sentiment-extraction/tweet_dataset.csv')"
   ]
  },
  {
   "cell_type": "code",
   "execution_count": 7,
   "metadata": {
    "ExecuteTime": {
     "end_time": "2020-06-07T08:13:53.762786Z",
     "start_time": "2020-06-07T08:13:53.742114Z"
    }
   },
   "outputs": [
    {
     "data": {
      "text/html": [
       "<div>\n",
       "<style scoped>\n",
       "    .dataframe tbody tr th:only-of-type {\n",
       "        vertical-align: middle;\n",
       "    }\n",
       "\n",
       "    .dataframe tbody tr th {\n",
       "        vertical-align: top;\n",
       "    }\n",
       "\n",
       "    .dataframe thead th {\n",
       "        text-align: right;\n",
       "    }\n",
       "</style>\n",
       "<table border=\"1\" class=\"dataframe\">\n",
       "  <thead>\n",
       "    <tr style=\"text-align: right;\">\n",
       "      <th></th>\n",
       "      <th>textID</th>\n",
       "      <th>sentiment</th>\n",
       "      <th>author</th>\n",
       "      <th>text</th>\n",
       "      <th>old_text</th>\n",
       "      <th>aux_id</th>\n",
       "      <th>new_sentiment</th>\n",
       "      <th>selected_text</th>\n",
       "    </tr>\n",
       "  </thead>\n",
       "  <tbody>\n",
       "    <tr>\n",
       "      <th>31747</th>\n",
       "      <td>1752052945</td>\n",
       "      <td>neutral</td>\n",
       "      <td>PaulCarterJr</td>\n",
       "      <td>_Geronimo    Thanks for sharing with your ...</td>\n",
       "      <td>@iamrehman @barbarawaterst @myob247 @hiannie @...</td>\n",
       "      <td>792063a20e</td>\n",
       "      <td>positive</td>\n",
       "      <td>imo</td>\n",
       "    </tr>\n",
       "  </tbody>\n",
       "</table>\n",
       "</div>"
      ],
      "text/plain": [
       "           textID sentiment        author  \\\n",
       "31747  1752052945   neutral  PaulCarterJr   \n",
       "\n",
       "                                                    text  \\\n",
       "31747      _Geronimo    Thanks for sharing with your ...   \n",
       "\n",
       "                                                old_text      aux_id  \\\n",
       "31747  @iamrehman @barbarawaterst @myob247 @hiannie @...  792063a20e   \n",
       "\n",
       "      new_sentiment selected_text  \n",
       "31747      positive           imo  "
      ]
     },
     "execution_count": 7,
     "metadata": {},
     "output_type": "execute_result"
    }
   ],
   "source": [
    "train[train['text'].str.find(\"Thanks for sharing with your friends!\")>0]"
   ]
  },
  {
   "cell_type": "code",
   "execution_count": 6,
   "metadata": {
    "ExecuteTime": {
     "end_time": "2020-06-07T07:57:31.254853Z",
     "start_time": "2020-06-07T07:57:31.249201Z"
    }
   },
   "outputs": [
    {
     "name": "stdout",
     "output_type": "stream",
     "text": [
      "listening to @hardqueen after last nights Up from the Underground screening, awesome job @latapia\n"
     ]
    }
   ],
   "source": [
    "loc = 30280\n",
    "print(train.loc[loc, 'old_text'])"
   ]
  },
  {
   "cell_type": "code",
   "execution_count": 5,
   "metadata": {
    "ExecuteTime": {
     "end_time": "2020-06-07T05:44:06.829998Z",
     "start_time": "2020-06-07T05:44:06.811643Z"
    }
   },
   "outputs": [],
   "source": [
    "train.dropna(subset=['selected_text'], inplace=True)\n",
    "train.drop_duplicates(subset=['text'], inplace=True)"
   ]
  },
  {
   "cell_type": "code",
   "execution_count": 6,
   "metadata": {
    "ExecuteTime": {
     "end_time": "2020-06-07T05:44:06.974082Z",
     "start_time": "2020-06-07T05:44:06.970886Z"
    }
   },
   "outputs": [
    {
     "data": {
      "text/plain": [
       "(27480, 8)"
      ]
     },
     "execution_count": 6,
     "metadata": {},
     "output_type": "execute_result"
    }
   ],
   "source": [
    "train.shape"
   ]
  },
  {
   "cell_type": "code",
   "execution_count": 7,
   "metadata": {
    "ExecuteTime": {
     "end_time": "2020-06-07T05:44:07.127753Z",
     "start_time": "2020-06-07T05:44:07.126076Z"
    }
   },
   "outputs": [],
   "source": [
    "def get_pos(x, y):\n",
    "    return x.find(y)"
   ]
  },
  {
   "cell_type": "code",
   "execution_count": 8,
   "metadata": {
    "ExecuteTime": {
     "end_time": "2020-06-07T05:44:07.347358Z",
     "start_time": "2020-06-07T05:44:07.305190Z"
    }
   },
   "outputs": [],
   "source": [
    "train['clean_text'] = train['text'].apply(lambda x: ' '.join(x.strip().split()))\n",
    "train['clean_st'] = train['selected_text'].apply(lambda x: ' '.join(x.strip().split()))"
   ]
  },
  {
   "cell_type": "code",
   "execution_count": 9,
   "metadata": {
    "ExecuteTime": {
     "end_time": "2020-06-07T05:44:07.794655Z",
     "start_time": "2020-06-07T05:44:07.441757Z"
    }
   },
   "outputs": [],
   "source": [
    "train['start_pos_origin'] = train.apply(lambda x: get_pos(x['text'], x['selected_text']), axis=1)\n",
    "train['end_pos_origin'] = train['start_pos_origin']+train['selected_text'].str.len()"
   ]
  },
  {
   "cell_type": "code",
   "execution_count": 10,
   "metadata": {
    "ExecuteTime": {
     "end_time": "2020-06-07T05:44:08.196038Z",
     "start_time": "2020-06-07T05:44:07.849009Z"
    }
   },
   "outputs": [],
   "source": [
    "train['start_pos_clean'] = train.apply(lambda x: get_pos(x['clean_text'], x['clean_st']), axis=1)\n",
    "train['end_pos_clean'] = train['start_pos_clean']+train['clean_st'].str.len()"
   ]
  },
  {
   "cell_type": "code",
   "execution_count": 11,
   "metadata": {
    "ExecuteTime": {
     "end_time": "2020-06-07T05:44:08.825735Z",
     "start_time": "2020-06-07T05:44:08.502827Z"
    }
   },
   "outputs": [],
   "source": [
    "train['to_end'] = train.apply(lambda x: x['end_pos_clean']==len(x['clean_text']), axis=1)"
   ]
  },
  {
   "cell_type": "code",
   "execution_count": 25,
   "metadata": {
    "ExecuteTime": {
     "end_time": "2020-06-07T05:52:45.161184Z",
     "start_time": "2020-06-07T05:52:45.146660Z"
    }
   },
   "outputs": [],
   "source": [
    "train['shift'] = train['text'].str.len()-train['clean_text'].str.len()"
   ]
  },
  {
   "cell_type": "code",
   "execution_count": 18,
   "metadata": {
    "ExecuteTime": {
     "end_time": "2020-06-07T05:46:14.742518Z",
     "start_time": "2020-06-07T05:46:14.727212Z"
    }
   },
   "outputs": [],
   "source": [
    "train['whole'] = (train['clean_st'].str.len()/train['clean_text'].str.len()>0.9)"
   ]
  },
  {
   "cell_type": "code",
   "execution_count": 26,
   "metadata": {
    "ExecuteTime": {
     "end_time": "2020-06-07T06:58:33.021938Z",
     "start_time": "2020-06-07T06:58:33.010479Z"
    }
   },
   "outputs": [
    {
     "data": {
      "text/plain": [
       "0     11086\n",
       "1     10933\n",
       "2      4132\n",
       "3       899\n",
       "4       239\n",
       "5       114\n",
       "6        37\n",
       "7        13\n",
       "8        10\n",
       "9         5\n",
       "15        2\n",
       "10        2\n",
       "14        2\n",
       "20        1\n",
       "11        1\n",
       "19        1\n",
       "12        1\n",
       "13        1\n",
       "95        1\n",
       "Name: shift, dtype: int64"
      ]
     },
     "execution_count": 26,
     "metadata": {},
     "output_type": "execute_result"
    }
   ],
   "source": [
    "train['shift'].value_counts()"
   ]
  },
  {
   "cell_type": "code",
   "execution_count": null,
   "metadata": {},
   "outputs": [],
   "source": []
  },
  {
   "cell_type": "code",
   "execution_count": 20,
   "metadata": {
    "ExecuteTime": {
     "end_time": "2020-06-07T05:47:45.889277Z",
     "start_time": "2020-06-07T05:47:45.880073Z"
    }
   },
   "outputs": [
    {
     "data": {
      "text/html": [
       "<div>\n",
       "<style scoped>\n",
       "    .dataframe tbody tr th:only-of-type {\n",
       "        vertical-align: middle;\n",
       "    }\n",
       "\n",
       "    .dataframe tbody tr th {\n",
       "        vertical-align: top;\n",
       "    }\n",
       "\n",
       "    .dataframe thead th {\n",
       "        text-align: right;\n",
       "    }\n",
       "</style>\n",
       "<table border=\"1\" class=\"dataframe\">\n",
       "  <thead>\n",
       "    <tr style=\"text-align: right;\">\n",
       "      <th></th>\n",
       "      <th>textID</th>\n",
       "      <th>sentiment</th>\n",
       "      <th>author</th>\n",
       "      <th>text</th>\n",
       "      <th>old_text</th>\n",
       "      <th>aux_id</th>\n",
       "      <th>new_sentiment</th>\n",
       "      <th>selected_text</th>\n",
       "      <th>clean_text</th>\n",
       "      <th>clean_st</th>\n",
       "      <th>start_pos_origin</th>\n",
       "      <th>end_pos_origin</th>\n",
       "      <th>start_pos_clean</th>\n",
       "      <th>end_pos_clean</th>\n",
       "      <th>to_end</th>\n",
       "      <th>shift</th>\n",
       "      <th>whole</th>\n",
       "    </tr>\n",
       "  </thead>\n",
       "  <tbody>\n",
       "    <tr>\n",
       "      <th>39195</th>\n",
       "      <td>1753775287</td>\n",
       "      <td>neutral</td>\n",
       "      <td>CecileLP</td>\n",
       "      <td>yes indeed                                   ...</td>\n",
       "      <td>@lectronice yes indeed                        ...</td>\n",
       "      <td>86fb8984c4</td>\n",
       "      <td>neutral</td>\n",
       "      <td>yes indeed</td>\n",
       "      <td>yes indeed here I am again</td>\n",
       "      <td>yes indeed</td>\n",
       "      <td>1</td>\n",
       "      <td>11</td>\n",
       "      <td>0</td>\n",
       "      <td>10</td>\n",
       "      <td>False</td>\n",
       "      <td>95</td>\n",
       "      <td>False</td>\n",
       "    </tr>\n",
       "  </tbody>\n",
       "</table>\n",
       "</div>"
      ],
      "text/plain": [
       "           textID sentiment    author  \\\n",
       "39195  1753775287   neutral  CecileLP   \n",
       "\n",
       "                                                    text  \\\n",
       "39195   yes indeed                                   ...   \n",
       "\n",
       "                                                old_text      aux_id  \\\n",
       "39195  @lectronice yes indeed                        ...  86fb8984c4   \n",
       "\n",
       "      new_sentiment selected_text                  clean_text    clean_st  \\\n",
       "39195       neutral    yes indeed  yes indeed here I am again  yes indeed   \n",
       "\n",
       "       start_pos_origin  end_pos_origin  start_pos_clean  end_pos_clean  \\\n",
       "39195                 1              11                0             10   \n",
       "\n",
       "       to_end  shift  whole  \n",
       "39195   False     95  False  "
      ]
     },
     "execution_count": 20,
     "metadata": {},
     "output_type": "execute_result"
    }
   ],
   "source": [
    "train[train['shift']==95]"
   ]
  },
  {
   "cell_type": "code",
   "execution_count": 23,
   "metadata": {
    "ExecuteTime": {
     "end_time": "2020-06-07T05:49:22.841879Z",
     "start_time": "2020-06-07T05:49:22.832567Z"
    }
   },
   "outputs": [
    {
     "data": {
      "text/plain": [
       "shift  new_sentiment\n",
       "0      negative         0.184189\n",
       "       positive         0.155678\n",
       "1      negative         0.141661\n",
       "       positive         0.147581\n",
       "2      negative         0.109201\n",
       "       positive         0.102913\n",
       "3      negative         0.097222\n",
       "       positive         0.103125\n",
       "4      negative         0.033898\n",
       "       positive         0.063158\n",
       "5      negative         0.064516\n",
       "       positive         0.083333\n",
       "6      negative         0.125000\n",
       "       positive         0.066667\n",
       "7      negative         0.000000\n",
       "       positive         0.000000\n",
       "8      negative         0.000000\n",
       "       positive         0.000000\n",
       "9      positive         0.000000\n",
       "10     positive         0.000000\n",
       "12     negative         0.000000\n",
       "14     negative         0.000000\n",
       "       positive         0.000000\n",
       "15     negative         0.000000\n",
       "       positive         0.000000\n",
       "19     positive         0.000000\n",
       "Name: whole, dtype: float64"
      ]
     },
     "execution_count": 23,
     "metadata": {},
     "output_type": "execute_result"
    }
   ],
   "source": [
    "train[train.new_sentiment!='neutral'].groupby(['shift','new_sentiment'])['whole'].mean()"
   ]
  },
  {
   "cell_type": "code",
   "execution_count": 12,
   "metadata": {
    "ExecuteTime": {
     "end_time": "2020-06-07T01:23:16.387475Z",
     "start_time": "2020-06-07T01:23:16.377792Z"
    }
   },
   "outputs": [
    {
     "data": {
      "text/html": [
       "<div>\n",
       "<style scoped>\n",
       "    .dataframe tbody tr th:only-of-type {\n",
       "        vertical-align: middle;\n",
       "    }\n",
       "\n",
       "    .dataframe tbody tr th {\n",
       "        vertical-align: top;\n",
       "    }\n",
       "\n",
       "    .dataframe thead th {\n",
       "        text-align: right;\n",
       "    }\n",
       "</style>\n",
       "<table border=\"1\" class=\"dataframe\">\n",
       "  <thead>\n",
       "    <tr style=\"text-align: right;\">\n",
       "      <th></th>\n",
       "      <th>textID</th>\n",
       "      <th>sentiment</th>\n",
       "      <th>author</th>\n",
       "      <th>text</th>\n",
       "      <th>old_text</th>\n",
       "      <th>aux_id</th>\n",
       "      <th>new_sentiment</th>\n",
       "      <th>selected_text</th>\n",
       "      <th>clean_text</th>\n",
       "      <th>clean_st</th>\n",
       "      <th>start_pos_origin</th>\n",
       "      <th>end_pos_origin</th>\n",
       "      <th>start_pos_clean</th>\n",
       "      <th>end_pos_clean</th>\n",
       "      <th>to_end</th>\n",
       "    </tr>\n",
       "  </thead>\n",
       "  <tbody>\n",
       "    <tr>\n",
       "      <th>1</th>\n",
       "      <td>1956967666</td>\n",
       "      <td>sadness</td>\n",
       "      <td>wannamama</td>\n",
       "      <td>Layin n bed with a headache  ughhhh...waitin o...</td>\n",
       "      <td>Layin n bed with a headache  ughhhh...waitin o...</td>\n",
       "      <td>c811396dc2</td>\n",
       "      <td>negative</td>\n",
       "      <td>headache</td>\n",
       "      <td>Layin n bed with a headache ughhhh...waitin on...</td>\n",
       "      <td>headache</td>\n",
       "      <td>19</td>\n",
       "      <td>27</td>\n",
       "      <td>19</td>\n",
       "      <td>27</td>\n",
       "      <td>False</td>\n",
       "    </tr>\n",
       "    <tr>\n",
       "      <th>2</th>\n",
       "      <td>1956967696</td>\n",
       "      <td>sadness</td>\n",
       "      <td>coolfunky</td>\n",
       "      <td>Funeral ceremony...gloomy friday...</td>\n",
       "      <td>Funeral ceremony...gloomy friday...</td>\n",
       "      <td>9063631ab1</td>\n",
       "      <td>negative</td>\n",
       "      <td>gloomy</td>\n",
       "      <td>Funeral ceremony...gloomy friday...</td>\n",
       "      <td>gloomy</td>\n",
       "      <td>19</td>\n",
       "      <td>25</td>\n",
       "      <td>19</td>\n",
       "      <td>25</td>\n",
       "      <td>False</td>\n",
       "    </tr>\n",
       "    <tr>\n",
       "      <th>3</th>\n",
       "      <td>1956967789</td>\n",
       "      <td>enthusiasm</td>\n",
       "      <td>czareaquino</td>\n",
       "      <td>wants to hang out with friends SOON!</td>\n",
       "      <td>wants to hang out with friends SOON!</td>\n",
       "      <td>2a815f151d</td>\n",
       "      <td>positive</td>\n",
       "      <td>wants to hang out with friends SOON!</td>\n",
       "      <td>wants to hang out with friends SOON!</td>\n",
       "      <td>wants to hang out with friends SOON!</td>\n",
       "      <td>0</td>\n",
       "      <td>36</td>\n",
       "      <td>0</td>\n",
       "      <td>36</td>\n",
       "      <td>True</td>\n",
       "    </tr>\n",
       "    <tr>\n",
       "      <th>4</th>\n",
       "      <td>1956968416</td>\n",
       "      <td>neutral</td>\n",
       "      <td>xkilljoyx</td>\n",
       "      <td>We want to trade with someone who has Houston...</td>\n",
       "      <td>@dannycastillo We want to trade with someone w...</td>\n",
       "      <td>82565a56d3</td>\n",
       "      <td>neutral</td>\n",
       "      <td>We want to trade with someone who has Houston ...</td>\n",
       "      <td>We want to trade with someone who has Houston ...</td>\n",
       "      <td>We want to trade with someone who has Houston ...</td>\n",
       "      <td>1</td>\n",
       "      <td>72</td>\n",
       "      <td>0</td>\n",
       "      <td>71</td>\n",
       "      <td>True</td>\n",
       "    </tr>\n",
       "    <tr>\n",
       "      <th>5</th>\n",
       "      <td>1956968477</td>\n",
       "      <td>worry</td>\n",
       "      <td>xxxPEACHESxxx</td>\n",
       "      <td>Re-pinging : why didn`t you go to prom? BC my ...</td>\n",
       "      <td>Re-pinging @ghostridah14: why didn't you go to...</td>\n",
       "      <td>a610d6b25b</td>\n",
       "      <td>negative</td>\n",
       "      <td>didn`t like my</td>\n",
       "      <td>Re-pinging : why didn`t you go to prom? BC my ...</td>\n",
       "      <td>didn`t like my</td>\n",
       "      <td>49</td>\n",
       "      <td>63</td>\n",
       "      <td>49</td>\n",
       "      <td>63</td>\n",
       "      <td>False</td>\n",
       "    </tr>\n",
       "  </tbody>\n",
       "</table>\n",
       "</div>"
      ],
      "text/plain": [
       "       textID   sentiment         author  \\\n",
       "1  1956967666     sadness      wannamama   \n",
       "2  1956967696     sadness      coolfunky   \n",
       "3  1956967789  enthusiasm    czareaquino   \n",
       "4  1956968416     neutral      xkilljoyx   \n",
       "5  1956968477       worry  xxxPEACHESxxx   \n",
       "\n",
       "                                                text  \\\n",
       "1  Layin n bed with a headache  ughhhh...waitin o...   \n",
       "2                Funeral ceremony...gloomy friday...   \n",
       "3               wants to hang out with friends SOON!   \n",
       "4   We want to trade with someone who has Houston...   \n",
       "5  Re-pinging : why didn`t you go to prom? BC my ...   \n",
       "\n",
       "                                            old_text      aux_id  \\\n",
       "1  Layin n bed with a headache  ughhhh...waitin o...  c811396dc2   \n",
       "2                Funeral ceremony...gloomy friday...  9063631ab1   \n",
       "3               wants to hang out with friends SOON!  2a815f151d   \n",
       "4  @dannycastillo We want to trade with someone w...  82565a56d3   \n",
       "5  Re-pinging @ghostridah14: why didn't you go to...  a610d6b25b   \n",
       "\n",
       "  new_sentiment                                      selected_text  \\\n",
       "1      negative                                           headache   \n",
       "2      negative                                             gloomy   \n",
       "3      positive               wants to hang out with friends SOON!   \n",
       "4       neutral  We want to trade with someone who has Houston ...   \n",
       "5      negative                                     didn`t like my   \n",
       "\n",
       "                                          clean_text  \\\n",
       "1  Layin n bed with a headache ughhhh...waitin on...   \n",
       "2                Funeral ceremony...gloomy friday...   \n",
       "3               wants to hang out with friends SOON!   \n",
       "4  We want to trade with someone who has Houston ...   \n",
       "5  Re-pinging : why didn`t you go to prom? BC my ...   \n",
       "\n",
       "                                            clean_st  start_pos_origin  \\\n",
       "1                                           headache                19   \n",
       "2                                             gloomy                19   \n",
       "3               wants to hang out with friends SOON!                 0   \n",
       "4  We want to trade with someone who has Houston ...                 1   \n",
       "5                                     didn`t like my                49   \n",
       "\n",
       "   end_pos_origin  start_pos_clean  end_pos_clean  to_end  \n",
       "1              27               19             27   False  \n",
       "2              25               19             25   False  \n",
       "3              36                0             36    True  \n",
       "4              72                0             71    True  \n",
       "5              63               49             63   False  "
      ]
     },
     "execution_count": 12,
     "metadata": {},
     "output_type": "execute_result"
    }
   ],
   "source": [
    "train.head()"
   ]
  },
  {
   "cell_type": "code",
   "execution_count": 13,
   "metadata": {
    "ExecuteTime": {
     "end_time": "2020-06-07T01:23:16.402349Z",
     "start_time": "2020-06-07T01:23:16.388787Z"
    }
   },
   "outputs": [
    {
     "data": {
      "text/html": [
       "<div>\n",
       "<style scoped>\n",
       "    .dataframe tbody tr th:only-of-type {\n",
       "        vertical-align: middle;\n",
       "    }\n",
       "\n",
       "    .dataframe tbody tr th {\n",
       "        vertical-align: top;\n",
       "    }\n",
       "\n",
       "    .dataframe thead th {\n",
       "        text-align: right;\n",
       "    }\n",
       "</style>\n",
       "<table border=\"1\" class=\"dataframe\">\n",
       "  <thead>\n",
       "    <tr style=\"text-align: right;\">\n",
       "      <th></th>\n",
       "      <th>textID</th>\n",
       "      <th>sentiment</th>\n",
       "      <th>author</th>\n",
       "      <th>text</th>\n",
       "      <th>old_text</th>\n",
       "      <th>aux_id</th>\n",
       "      <th>new_sentiment</th>\n",
       "      <th>selected_text</th>\n",
       "      <th>clean_text</th>\n",
       "      <th>clean_st</th>\n",
       "      <th>start_pos_origin</th>\n",
       "      <th>end_pos_origin</th>\n",
       "      <th>start_pos_clean</th>\n",
       "      <th>end_pos_clean</th>\n",
       "      <th>to_end</th>\n",
       "    </tr>\n",
       "  </thead>\n",
       "  <tbody>\n",
       "    <tr>\n",
       "      <th>4</th>\n",
       "      <td>1956968416</td>\n",
       "      <td>neutral</td>\n",
       "      <td>xkilljoyx</td>\n",
       "      <td>We want to trade with someone who has Houston...</td>\n",
       "      <td>@dannycastillo We want to trade with someone w...</td>\n",
       "      <td>82565a56d3</td>\n",
       "      <td>neutral</td>\n",
       "      <td>We want to trade with someone who has Houston ...</td>\n",
       "      <td>We want to trade with someone who has Houston ...</td>\n",
       "      <td>We want to trade with someone who has Houston ...</td>\n",
       "      <td>1</td>\n",
       "      <td>72</td>\n",
       "      <td>0</td>\n",
       "      <td>71</td>\n",
       "      <td>True</td>\n",
       "    </tr>\n",
       "    <tr>\n",
       "      <th>8</th>\n",
       "      <td>1956969035</td>\n",
       "      <td>sadness</td>\n",
       "      <td>nic0lepaula</td>\n",
       "      <td>Charlene my love. I miss you</td>\n",
       "      <td>@charviray Charlene my love. I miss you</td>\n",
       "      <td>cc22eca4c5</td>\n",
       "      <td>negative</td>\n",
       "      <td>Charlene my love. I miss you</td>\n",
       "      <td>Charlene my love. I miss you</td>\n",
       "      <td>Charlene my love. I miss you</td>\n",
       "      <td>1</td>\n",
       "      <td>29</td>\n",
       "      <td>0</td>\n",
       "      <td>28</td>\n",
       "      <td>True</td>\n",
       "    </tr>\n",
       "    <tr>\n",
       "      <th>13</th>\n",
       "      <td>1956970424</td>\n",
       "      <td>sadness</td>\n",
       "      <td>Samm_xo</td>\n",
       "      <td>if u watch the hills in london u will realise...</td>\n",
       "      <td>@BrodyJenner if u watch the hills in london u ...</td>\n",
       "      <td>d60b07133a</td>\n",
       "      <td>negative</td>\n",
       "      <td>realise what tourture</td>\n",
       "      <td>if u watch the hills in london u will realise ...</td>\n",
       "      <td>realise what tourture</td>\n",
       "      <td>39</td>\n",
       "      <td>60</td>\n",
       "      <td>38</td>\n",
       "      <td>59</td>\n",
       "      <td>False</td>\n",
       "    </tr>\n",
       "    <tr>\n",
       "      <th>16</th>\n",
       "      <td>1956971170</td>\n",
       "      <td>love</td>\n",
       "      <td>poppygallico</td>\n",
       "      <td>agreed</td>\n",
       "      <td>@annarosekerr agreed</td>\n",
       "      <td>768801365c</td>\n",
       "      <td>neutral</td>\n",
       "      <td>agreed</td>\n",
       "      <td>agreed</td>\n",
       "      <td>agreed</td>\n",
       "      <td>1</td>\n",
       "      <td>7</td>\n",
       "      <td>0</td>\n",
       "      <td>6</td>\n",
       "      <td>True</td>\n",
       "    </tr>\n",
       "    <tr>\n",
       "      <th>18</th>\n",
       "      <td>1956971473</td>\n",
       "      <td>worry</td>\n",
       "      <td>LCJ82</td>\n",
       "      <td>lady gaga tweeted about not being impressed b...</td>\n",
       "      <td>@PerezHilton lady gaga tweeted about not being...</td>\n",
       "      <td>23f0f2d1f3</td>\n",
       "      <td>negative</td>\n",
       "      <td>not being impressed</td>\n",
       "      <td>lady gaga tweeted about not being impressed by...</td>\n",
       "      <td>not being impressed</td>\n",
       "      <td>25</td>\n",
       "      <td>44</td>\n",
       "      <td>24</td>\n",
       "      <td>43</td>\n",
       "      <td>False</td>\n",
       "    </tr>\n",
       "    <tr>\n",
       "      <th>...</th>\n",
       "      <td>...</td>\n",
       "      <td>...</td>\n",
       "      <td>...</td>\n",
       "      <td>...</td>\n",
       "      <td>...</td>\n",
       "      <td>...</td>\n",
       "      <td>...</td>\n",
       "      <td>...</td>\n",
       "      <td>...</td>\n",
       "      <td>...</td>\n",
       "      <td>...</td>\n",
       "      <td>...</td>\n",
       "      <td>...</td>\n",
       "      <td>...</td>\n",
       "      <td>...</td>\n",
       "    </tr>\n",
       "    <tr>\n",
       "      <th>39985</th>\n",
       "      <td>1753905121</td>\n",
       "      <td>happiness</td>\n",
       "      <td>MizFitOnline</td>\n",
       "      <td>husband is golfing &amp; the Toddler and I shall ...</td>\n",
       "      <td>@McMedia husband is golfing &amp;amp; the Toddler ...</td>\n",
       "      <td>f706b31629</td>\n",
       "      <td>neutral</td>\n",
       "      <td>husband is golfing &amp; the Toddler and I shall f...</td>\n",
       "      <td>husband is golfing &amp; the Toddler and I shall f...</td>\n",
       "      <td>husband is golfing &amp; the Toddler and I shall f...</td>\n",
       "      <td>1</td>\n",
       "      <td>111</td>\n",
       "      <td>0</td>\n",
       "      <td>110</td>\n",
       "      <td>True</td>\n",
       "    </tr>\n",
       "    <tr>\n",
       "      <th>39991</th>\n",
       "      <td>1753918846</td>\n",
       "      <td>neutral</td>\n",
       "      <td>x0159432</td>\n",
       "      <td>can you give me the link for the kimba diarie...</td>\n",
       "      <td>@lovelylisaj can you give me the link for the ...</td>\n",
       "      <td>13bcc6a6f6</td>\n",
       "      <td>neutral</td>\n",
       "      <td>can you give me the link for the kimba diaries...</td>\n",
       "      <td>can you give me the link for the kimba diaries...</td>\n",
       "      <td>can you give me the link for the kimba diaries...</td>\n",
       "      <td>1</td>\n",
       "      <td>55</td>\n",
       "      <td>0</td>\n",
       "      <td>54</td>\n",
       "      <td>True</td>\n",
       "    </tr>\n",
       "    <tr>\n",
       "      <th>39992</th>\n",
       "      <td>1753918881</td>\n",
       "      <td>neutral</td>\n",
       "      <td>_Alectrona_</td>\n",
       "      <td>Ooo showing of your French skills!! lol Thing...</td>\n",
       "      <td>@jasimmo Ooo showing of your French skills!! l...</td>\n",
       "      <td>0d1925608e</td>\n",
       "      <td>positive</td>\n",
       "      <td>Things good over here. Lovely weather,</td>\n",
       "      <td>Ooo showing of your French skills!! lol Things...</td>\n",
       "      <td>Things good over here. Lovely weather,</td>\n",
       "      <td>41</td>\n",
       "      <td>79</td>\n",
       "      <td>40</td>\n",
       "      <td>78</td>\n",
       "      <td>False</td>\n",
       "    </tr>\n",
       "    <tr>\n",
       "      <th>39998</th>\n",
       "      <td>1753919043</td>\n",
       "      <td>happiness</td>\n",
       "      <td>ipdaman1</td>\n",
       "      <td>WASSUP BEAUTIFUL!!! FOLLOW ME!!  PEEP OUT MY ...</td>\n",
       "      <td>@niariley WASSUP BEAUTIFUL!!! FOLLOW ME!!  PEE...</td>\n",
       "      <td>d63253be9a</td>\n",
       "      <td>neutral</td>\n",
       "      <td>WASSUP BEAUTIFUL!!! FOLLOW ME!!  PEEP OUT MY N...</td>\n",
       "      <td>WASSUP BEAUTIFUL!!! FOLLOW ME!! PEEP OUT MY NE...</td>\n",
       "      <td>WASSUP BEAUTIFUL!!! FOLLOW ME!! PEEP OUT MY NE...</td>\n",
       "      <td>1</td>\n",
       "      <td>113</td>\n",
       "      <td>0</td>\n",
       "      <td>111</td>\n",
       "      <td>True</td>\n",
       "    </tr>\n",
       "    <tr>\n",
       "      <th>39999</th>\n",
       "      <td>1753919049</td>\n",
       "      <td>love</td>\n",
       "      <td>Alpharalpha</td>\n",
       "      <td>bullet train from tokyo    the gf and i have ...</td>\n",
       "      <td>@mopedronin bullet train from tokyo    the gf ...</td>\n",
       "      <td>879f64f30d</td>\n",
       "      <td>neutral</td>\n",
       "      <td>bullet train from tokyo    the gf and i have b...</td>\n",
       "      <td>bullet train from tokyo the gf and i have been...</td>\n",
       "      <td>bullet train from tokyo the gf and i have been...</td>\n",
       "      <td>1</td>\n",
       "      <td>115</td>\n",
       "      <td>0</td>\n",
       "      <td>107</td>\n",
       "      <td>False</td>\n",
       "    </tr>\n",
       "  </tbody>\n",
       "</table>\n",
       "<p>12340 rows × 15 columns</p>\n",
       "</div>"
      ],
      "text/plain": [
       "           textID  sentiment        author  \\\n",
       "4      1956968416    neutral     xkilljoyx   \n",
       "8      1956969035    sadness   nic0lepaula   \n",
       "13     1956970424    sadness       Samm_xo   \n",
       "16     1956971170       love  poppygallico   \n",
       "18     1956971473      worry         LCJ82   \n",
       "...           ...        ...           ...   \n",
       "39985  1753905121  happiness  MizFitOnline   \n",
       "39991  1753918846    neutral      x0159432   \n",
       "39992  1753918881    neutral   _Alectrona_   \n",
       "39998  1753919043  happiness      ipdaman1   \n",
       "39999  1753919049       love   Alpharalpha   \n",
       "\n",
       "                                                    text  \\\n",
       "4       We want to trade with someone who has Houston...   \n",
       "8                           Charlene my love. I miss you   \n",
       "13      if u watch the hills in london u will realise...   \n",
       "16                                                agreed   \n",
       "18      lady gaga tweeted about not being impressed b...   \n",
       "...                                                  ...   \n",
       "39985   husband is golfing & the Toddler and I shall ...   \n",
       "39991   can you give me the link for the kimba diarie...   \n",
       "39992   Ooo showing of your French skills!! lol Thing...   \n",
       "39998   WASSUP BEAUTIFUL!!! FOLLOW ME!!  PEEP OUT MY ...   \n",
       "39999   bullet train from tokyo    the gf and i have ...   \n",
       "\n",
       "                                                old_text      aux_id  \\\n",
       "4      @dannycastillo We want to trade with someone w...  82565a56d3   \n",
       "8                @charviray Charlene my love. I miss you  cc22eca4c5   \n",
       "13     @BrodyJenner if u watch the hills in london u ...  d60b07133a   \n",
       "16                                  @annarosekerr agreed  768801365c   \n",
       "18     @PerezHilton lady gaga tweeted about not being...  23f0f2d1f3   \n",
       "...                                                  ...         ...   \n",
       "39985  @McMedia husband is golfing &amp; the Toddler ...  f706b31629   \n",
       "39991  @lovelylisaj can you give me the link for the ...  13bcc6a6f6   \n",
       "39992  @jasimmo Ooo showing of your French skills!! l...  0d1925608e   \n",
       "39998  @niariley WASSUP BEAUTIFUL!!! FOLLOW ME!!  PEE...  d63253be9a   \n",
       "39999  @mopedronin bullet train from tokyo    the gf ...  879f64f30d   \n",
       "\n",
       "      new_sentiment                                      selected_text  \\\n",
       "4           neutral  We want to trade with someone who has Houston ...   \n",
       "8          negative                       Charlene my love. I miss you   \n",
       "13         negative                              realise what tourture   \n",
       "16          neutral                                             agreed   \n",
       "18         negative                                not being impressed   \n",
       "...             ...                                                ...   \n",
       "39985       neutral  husband is golfing & the Toddler and I shall f...   \n",
       "39991       neutral  can you give me the link for the kimba diaries...   \n",
       "39992      positive             Things good over here. Lovely weather,   \n",
       "39998       neutral  WASSUP BEAUTIFUL!!! FOLLOW ME!!  PEEP OUT MY N...   \n",
       "39999       neutral  bullet train from tokyo    the gf and i have b...   \n",
       "\n",
       "                                              clean_text  \\\n",
       "4      We want to trade with someone who has Houston ...   \n",
       "8                           Charlene my love. I miss you   \n",
       "13     if u watch the hills in london u will realise ...   \n",
       "16                                                agreed   \n",
       "18     lady gaga tweeted about not being impressed by...   \n",
       "...                                                  ...   \n",
       "39985  husband is golfing & the Toddler and I shall f...   \n",
       "39991  can you give me the link for the kimba diaries...   \n",
       "39992  Ooo showing of your French skills!! lol Things...   \n",
       "39998  WASSUP BEAUTIFUL!!! FOLLOW ME!! PEEP OUT MY NE...   \n",
       "39999  bullet train from tokyo the gf and i have been...   \n",
       "\n",
       "                                                clean_st  start_pos_origin  \\\n",
       "4      We want to trade with someone who has Houston ...                 1   \n",
       "8                           Charlene my love. I miss you                 1   \n",
       "13                                 realise what tourture                39   \n",
       "16                                                agreed                 1   \n",
       "18                                   not being impressed                25   \n",
       "...                                                  ...               ...   \n",
       "39985  husband is golfing & the Toddler and I shall f...                 1   \n",
       "39991  can you give me the link for the kimba diaries...                 1   \n",
       "39992             Things good over here. Lovely weather,                41   \n",
       "39998  WASSUP BEAUTIFUL!!! FOLLOW ME!! PEEP OUT MY NE...                 1   \n",
       "39999  bullet train from tokyo the gf and i have been...                 1   \n",
       "\n",
       "       end_pos_origin  start_pos_clean  end_pos_clean  to_end  \n",
       "4                  72                0             71    True  \n",
       "8                  29                0             28    True  \n",
       "13                 60               38             59   False  \n",
       "16                  7                0              6    True  \n",
       "18                 44               24             43   False  \n",
       "...               ...              ...            ...     ...  \n",
       "39985             111                0            110    True  \n",
       "39991              55                0             54    True  \n",
       "39992              79               40             78   False  \n",
       "39998             113                0            111    True  \n",
       "39999             115                0            107   False  \n",
       "\n",
       "[12340 rows x 15 columns]"
      ]
     },
     "execution_count": 13,
     "metadata": {},
     "output_type": "execute_result"
    }
   ],
   "source": [
    "train[train['start_pos_origin']!=train['start_pos_clean']]"
   ]
  },
  {
   "cell_type": "code",
   "execution_count": 14,
   "metadata": {
    "ExecuteTime": {
     "end_time": "2020-06-07T01:23:16.405481Z",
     "start_time": "2020-06-07T01:23:16.403130Z"
    }
   },
   "outputs": [],
   "source": [
    "def broken_start(x, y):\n",
    "    \n",
    "    if y>0 and x[y-1].isalpha():\n",
    "        return True\n",
    "    return False\n",
    "\n",
    "def broken_end(x, y):\n",
    "    if y<len(x) and x[y]!=' ':\n",
    "        return True\n",
    "    return False"
   ]
  },
  {
   "cell_type": "code",
   "execution_count": 15,
   "metadata": {
    "ExecuteTime": {
     "end_time": "2020-06-07T01:23:17.080014Z",
     "start_time": "2020-06-07T01:23:16.406197Z"
    }
   },
   "outputs": [],
   "source": [
    "train['broken_start'] = train.apply(lambda x: broken_start(x['clean_text'], x['start_pos_clean']), axis=1)\n",
    "train['broken_end'] = train.apply(lambda x: broken_end(x['clean_text'], x['end_pos_clean']), axis=1)"
   ]
  },
  {
   "cell_type": "code",
   "execution_count": 16,
   "metadata": {
    "ExecuteTime": {
     "end_time": "2020-06-07T01:23:17.091780Z",
     "start_time": "2020-06-07T01:23:17.081087Z"
    }
   },
   "outputs": [
    {
     "data": {
      "text/html": [
       "<div>\n",
       "<style scoped>\n",
       "    .dataframe tbody tr th:only-of-type {\n",
       "        vertical-align: middle;\n",
       "    }\n",
       "\n",
       "    .dataframe tbody tr th {\n",
       "        vertical-align: top;\n",
       "    }\n",
       "\n",
       "    .dataframe thead th {\n",
       "        text-align: right;\n",
       "    }\n",
       "</style>\n",
       "<table border=\"1\" class=\"dataframe\">\n",
       "  <thead>\n",
       "    <tr style=\"text-align: right;\">\n",
       "      <th></th>\n",
       "      <th>textID</th>\n",
       "      <th>sentiment</th>\n",
       "      <th>author</th>\n",
       "      <th>text</th>\n",
       "      <th>old_text</th>\n",
       "      <th>aux_id</th>\n",
       "      <th>new_sentiment</th>\n",
       "      <th>selected_text</th>\n",
       "      <th>clean_text</th>\n",
       "      <th>clean_st</th>\n",
       "      <th>start_pos_origin</th>\n",
       "      <th>end_pos_origin</th>\n",
       "      <th>start_pos_clean</th>\n",
       "      <th>end_pos_clean</th>\n",
       "      <th>to_end</th>\n",
       "      <th>broken_start</th>\n",
       "      <th>broken_end</th>\n",
       "    </tr>\n",
       "  </thead>\n",
       "  <tbody>\n",
       "    <tr>\n",
       "      <th>28670</th>\n",
       "      <td>1750930428</td>\n",
       "      <td>love</td>\n",
       "      <td>Elyteacher</td>\n",
       "      <td>Boy is all graduated!  So proud of him!</td>\n",
       "      <td>Boy is all graduated!  So proud of him!</td>\n",
       "      <td>d13176b652</td>\n",
       "      <td>positive</td>\n",
       "      <td>!  So proud of him!</td>\n",
       "      <td>Boy is all graduated! So proud of him!</td>\n",
       "      <td>! So proud of him!</td>\n",
       "      <td>20</td>\n",
       "      <td>39</td>\n",
       "      <td>20</td>\n",
       "      <td>38</td>\n",
       "      <td>True</td>\n",
       "      <td>True</td>\n",
       "      <td>False</td>\n",
       "    </tr>\n",
       "    <tr>\n",
       "      <th>11121</th>\n",
       "      <td>1963125076</td>\n",
       "      <td>neutral</td>\n",
       "      <td>photokitty</td>\n",
       "      <td>It`s freakin` hot and humid today.</td>\n",
       "      <td>It's freakin' hot and humid today.</td>\n",
       "      <td>efcb2921d5</td>\n",
       "      <td>negative</td>\n",
       "      <td>t`s freakin` hot and humid today.</td>\n",
       "      <td>It`s freakin` hot and humid today.</td>\n",
       "      <td>t`s freakin` hot and humid today.</td>\n",
       "      <td>1</td>\n",
       "      <td>34</td>\n",
       "      <td>1</td>\n",
       "      <td>34</td>\n",
       "      <td>True</td>\n",
       "      <td>True</td>\n",
       "      <td>False</td>\n",
       "    </tr>\n",
       "    <tr>\n",
       "      <th>7788</th>\n",
       "      <td>1961892497</td>\n",
       "      <td>neutral</td>\n",
       "      <td>noxhanti</td>\n",
       "      <td>Not doing single ones 2day...beat  lol but wo...</td>\n",
       "      <td>@bkmacdaddy Not doing single ones 2day...beat ...</td>\n",
       "      <td>7e795b2ff3</td>\n",
       "      <td>positive</td>\n",
       "      <td>d fun</td>\n",
       "      <td>Not doing single ones 2day...beat lol but woul...</td>\n",
       "      <td>d fun</td>\n",
       "      <td>81</td>\n",
       "      <td>86</td>\n",
       "      <td>79</td>\n",
       "      <td>84</td>\n",
       "      <td>False</td>\n",
       "      <td>True</td>\n",
       "      <td>False</td>\n",
       "    </tr>\n",
       "    <tr>\n",
       "      <th>10742</th>\n",
       "      <td>1962999358</td>\n",
       "      <td>worry</td>\n",
       "      <td>Pawns43</td>\n",
       "      <td>not all of them  You`ll be missing mine and e...</td>\n",
       "      <td>@PushPlayDEREK not all of them  You'll be miss...</td>\n",
       "      <td>c1f815e17d</td>\n",
       "      <td>negative</td>\n",
       "      <td>e missing</td>\n",
       "      <td>not all of them You`ll be missing mine and eve...</td>\n",
       "      <td>e missing</td>\n",
       "      <td>26</td>\n",
       "      <td>35</td>\n",
       "      <td>24</td>\n",
       "      <td>33</td>\n",
       "      <td>False</td>\n",
       "      <td>True</td>\n",
       "      <td>False</td>\n",
       "    </tr>\n",
       "    <tr>\n",
       "      <th>34448</th>\n",
       "      <td>1752872645</td>\n",
       "      <td>happiness</td>\n",
       "      <td>PeachPosh</td>\n",
       "      <td>oh ok  good ... now i will jump for joy! M, y...</td>\n",
       "      <td>@stompthewalrus oh ok  good ... now i will jum...</td>\n",
       "      <td>b61b7c4098</td>\n",
       "      <td>positive</td>\n",
       "      <td>r joy!</td>\n",
       "      <td>oh ok good ... now i will jump for joy! M, you...</td>\n",
       "      <td>r joy!</td>\n",
       "      <td>35</td>\n",
       "      <td>41</td>\n",
       "      <td>33</td>\n",
       "      <td>39</td>\n",
       "      <td>False</td>\n",
       "      <td>True</td>\n",
       "      <td>False</td>\n",
       "    </tr>\n",
       "  </tbody>\n",
       "</table>\n",
       "</div>"
      ],
      "text/plain": [
       "           textID  sentiment      author  \\\n",
       "28670  1750930428       love  Elyteacher   \n",
       "11121  1963125076    neutral  photokitty   \n",
       "7788   1961892497    neutral    noxhanti   \n",
       "10742  1962999358      worry     Pawns43   \n",
       "34448  1752872645  happiness   PeachPosh   \n",
       "\n",
       "                                                    text  \\\n",
       "28670            Boy is all graduated!  So proud of him!   \n",
       "11121                 It`s freakin` hot and humid today.   \n",
       "7788    Not doing single ones 2day...beat  lol but wo...   \n",
       "10742   not all of them  You`ll be missing mine and e...   \n",
       "34448   oh ok  good ... now i will jump for joy! M, y...   \n",
       "\n",
       "                                                old_text      aux_id  \\\n",
       "28670            Boy is all graduated!  So proud of him!  d13176b652   \n",
       "11121                 It's freakin' hot and humid today.  efcb2921d5   \n",
       "7788   @bkmacdaddy Not doing single ones 2day...beat ...  7e795b2ff3   \n",
       "10742  @PushPlayDEREK not all of them  You'll be miss...  c1f815e17d   \n",
       "34448  @stompthewalrus oh ok  good ... now i will jum...  b61b7c4098   \n",
       "\n",
       "      new_sentiment                      selected_text  \\\n",
       "28670      positive                !  So proud of him!   \n",
       "11121      negative  t`s freakin` hot and humid today.   \n",
       "7788       positive                              d fun   \n",
       "10742      negative                          e missing   \n",
       "34448      positive                             r joy!   \n",
       "\n",
       "                                              clean_text  \\\n",
       "28670             Boy is all graduated! So proud of him!   \n",
       "11121                 It`s freakin` hot and humid today.   \n",
       "7788   Not doing single ones 2day...beat lol but woul...   \n",
       "10742  not all of them You`ll be missing mine and eve...   \n",
       "34448  oh ok good ... now i will jump for joy! M, you...   \n",
       "\n",
       "                                clean_st  start_pos_origin  end_pos_origin  \\\n",
       "28670                 ! So proud of him!                20              39   \n",
       "11121  t`s freakin` hot and humid today.                 1              34   \n",
       "7788                               d fun                81              86   \n",
       "10742                          e missing                26              35   \n",
       "34448                             r joy!                35              41   \n",
       "\n",
       "       start_pos_clean  end_pos_clean  to_end  broken_start  broken_end  \n",
       "28670               20             38    True          True       False  \n",
       "11121                1             34    True          True       False  \n",
       "7788                79             84   False          True       False  \n",
       "10742               24             33   False          True       False  \n",
       "34448               33             39   False          True       False  "
      ]
     },
     "execution_count": 16,
     "metadata": {},
     "output_type": "execute_result"
    }
   ],
   "source": [
    "train[train.broken_start].sample(n=5)"
   ]
  },
  {
   "cell_type": "code",
   "execution_count": 18,
   "metadata": {
    "ExecuteTime": {
     "end_time": "2020-06-07T01:26:26.605651Z",
     "start_time": "2020-06-07T01:26:26.594651Z"
    }
   },
   "outputs": [
    {
     "name": "stdout",
     "output_type": "stream",
     "text": [
      "       text: Lucky you...my day has gone by with large amount of boredom...and a little stress. The detalis can get a bit gruesome\n",
      " clean text:Lucky you...my day has gone by with large amount of boredom...and a little stress. The detalis can get a bit gruesome\n",
      "  old label:. The detalis can get a bit gruesome\n",
      "  new label: The detalis can get a bit gruesome\n",
      "--------------------\n",
      "       text: Time for me to seek out some coffee for my own caffein love affair too!! Mmmmm... Sweet been of hyper-goodness!!\n",
      " clean text:Time for me to seek out some coffee for my own caffein love affair too!! Mmmmm... Sweet been of hyper-goodness!!\n",
      "  old label:-goodness!\n",
      "  new label:goodness!!\n",
      "--------------------\n",
      "       text:  ha ha, and what game is that? i like games\n",
      " clean text:ha ha, and what game is that? i like games\n",
      "  old label:? i like\n",
      "  new label:i like g\n",
      "--------------------\n",
      "       text: hey i loved ACS but i had to see it online, is not here yet   cant wait to buy it!!! you look amazing there\n",
      " clean text:hey i loved ACS but i had to see it online, is not here yet cant wait to buy it!!! you look amazing there\n",
      "  old label:y i loved ACS but i had to see it online, is not here yet   cant wait to buy it!!! you look amazing ther\n",
      "  new label: i loved ACS but i had to see it online, is not here yet cant wait to buy it!!! you look amazing there\n",
      "--------------------\n",
      "       text:  We can`t even call you from belgium  sucks\n",
      " clean text:We can`t even call you from belgium sucks\n",
      "  old label:m  suck\n",
      "  new label:sucks\n",
      "--------------------\n",
      "       text: i`m not at chaseton`s either  please don`t die, my heart will be really sad\n",
      " clean text:i`m not at chaseton`s either please don`t die, my heart will be really sad\n",
      "  old label:y sad\n",
      "  new label:sad\n",
      "--------------------\n",
      "       text: It was an app that changed your wallpaper to one of several hundred at random intervals. It`s hard to find good wallpapers.\n",
      " clean text:It was an app that changed your wallpaper to one of several hundred at random intervals. It`s hard to find good wallpapers.\n",
      "  old label:. It`s hard to find good wallpapers.\n",
      "  new label: It`s hard to find good wallpapers.\n",
      "--------------------\n",
      "       text:waiting to go to 4th period to get the final over with. omgg im sooo gonna fail\n",
      " clean text:waiting to go to 4th period to get the final over with. omgg im sooo gonna fail\n",
      "  old label:. omgg im sooo gonna fail\n",
      "  new label:. omgg im sooo gonna fail\n",
      "--------------------\n",
      "       text: Were you going to come? The venue said that they couldn`t afford to open so cancelled it. I wish we were there now!\n",
      " clean text:Were you going to come? The venue said that they couldn`t afford to open so cancelled it. I wish we were there now!\n",
      "  old label:. I wish we were there now!\n",
      "  new label: I wish we were there now!\n",
      "--------------------\n",
      "       text:   well, I couldn`t get a real clear shot, but I`ve got the best I could...silly people walking through the admitting of the ER...\n",
      " clean text:well, I couldn`t get a real clear shot, but I`ve got the best I could...silly people walking through the admitting of the ER...\n",
      "  old label:he bes\n",
      "  new label:best I\n",
      "--------------------\n",
      "       text: Oh ok,Thanks.Dont know where the courthouse id either,I`ll learn though.Any nkotb? Twitter stole my pic again  it hates me\n",
      " clean text:Oh ok,Thanks.Dont know where the courthouse id either,I`ll learn though.Any nkotb? Twitter stole my pic again it hates me\n",
      "  old label:t hates\n",
      "  new label:hates m\n",
      "--------------------\n",
      "       text:Just started on here and i already see  and  are by far the biggest talkers, er, i mean tweeters!\n",
      " clean text:Just started on here and i already see and are by far the biggest talkers, er, i mean tweeters!\n",
      "  old label:he biggest talkers,\n",
      "  new label: biggest talkers, e\n",
      "--------------------\n",
      "       text:  want somebody to hold me Alma! tear tear\n",
      " clean text:want somebody to hold me Alma! tear tear\n",
      "  old label:! tear\n",
      "  new label:tear t\n",
      "--------------------\n",
      "       text:  hey!, which song was that? I would like to listen to it\n",
      " clean text:hey!, which song was that? I would like to listen to it\n",
      "  old label:d like to\n",
      "  new label:like to l\n",
      "--------------------\n",
      "       text: It`s not as bad if you don`t combine. FX are nice. I like Windows 7 1000x better than Vista so far. To me Vista is Win ME reborn\n",
      " clean text:It`s not as bad if you don`t combine. FX are nice. I like Windows 7 1000x better than Vista so far. To me Vista is Win ME reborn\n",
      "  old label:. FX are nice. I like Windows 7 1000x better than Vista so far. To me Vista is Win ME reborn\n",
      "  new label: FX are nice. I like Windows 7 1000x better than Vista so far. To me Vista is Win ME reborn\n",
      "--------------------\n",
      "       text: Yes sir...I just acquired a Master of Arts in Christian Ministry-a loooooong journey completed today...so thankful!\n",
      " clean text:Yes sir...I just acquired a Master of Arts in Christian Ministry-a loooooong journey completed today...so thankful!\n",
      "  old label:-a loooooong journey completed today...so thankful!\n",
      "  new label:a loooooong journey completed today...so thankful!\n",
      "--------------------\n",
      "       text: Yeah they are! So stop making fun of me! I gotta get new ones\n",
      " clean text:Yeah they are! So stop making fun of me! I gotta get new ones\n",
      "  old label:o stop making fun of me!\n",
      "  new label: stop making fun of me! \n",
      "--------------------\n",
      "       text: You know what?  That cowboy hat in your pic made me smile today (you don`t see many of those in Japan)\n",
      " clean text:You know what? That cowboy hat in your pic made me smile today (you don`t see many of those in Japan)\n",
      "  old label:c made me smile today\n",
      "  new label:made me smile today (\n",
      "--------------------\n",
      "       text: xD  hello that`s an important date!\n",
      " clean text:xD hello that`s an important date!\n",
      "  old label:`s an important date!\n",
      "  new label: an important date!\n",
      "--------------------\n",
      "       text: again, surely the uploading could wait until you got home?  I`m all about enjoying the party when you can.\n",
      " clean text:again, surely the uploading could wait until you got home? I`m all about enjoying the party when you can.\n",
      "  old label:t enjoying\n",
      "  new label:enjoying t\n",
      "--------------------\n"
     ]
    }
   ],
   "source": [
    "# 取断头样例\n",
    "# clean text 是去掉多余空格的原始文本\n",
    "# start是原label在原text中的起始位置\n",
    "indexs = train[(train.broken_start)&(train['start_pos_clean']>0)].sample(n=20).index\n",
    "for loc in indexs:\n",
    "    print(\"%12s%s\"%('text:', train.loc[loc, 'text']))\n",
    "    clean_text = ' '.join(train.loc[loc, 'text'].strip().split())\n",
    "    print(\"%12s%s\"%('clean text:', clean_text))\n",
    "    print(\"%12s%s\"%('old label:', train.loc[loc, 'selected_text']))\n",
    "    start = train.loc[loc, 'text'].find(train.loc[loc, 'selected_text'])\n",
    "    length = len(' '.join(train.loc[loc, 'selected_text'].split()))\n",
    "    new_st = clean_text[start:start+length]\n",
    "    print(\"%12s%s\"%('new label:', new_st))\n",
    "    print('-'*20)"
   ]
  },
  {
   "cell_type": "code",
   "execution_count": null,
   "metadata": {},
   "outputs": [],
   "source": [
    "# indexs = train[(~train.broken_start)&(train['sentiment']!='neutral')&(train['start_pos_clean']>0)].sample(n=10).index\n"
   ]
  },
  {
   "cell_type": "code",
   "execution_count": 30,
   "metadata": {
    "ExecuteTime": {
     "end_time": "2020-06-04T13:59:10.071347Z",
     "start_time": "2020-06-04T13:59:10.067692Z"
    }
   },
   "outputs": [
    {
     "name": "stdout",
     "output_type": "stream",
     "text": [
      "@wood83   Does she like it, or does she roll her eyes?  Now I'm curious as hell!  Good singing is a real treat as far am I'm concerned!\n",
      "   Does she like it, or does she roll her eyes?  Now I`m curious as hell!  Good singing is a real treat as far am I`m concerned!\n",
      "s?  Now I`m curious as hel\n",
      "Now I`m curious as hell! G\n"
     ]
    }
   ],
   "source": [
    "loc = 5869\n",
    "print(train.loc[loc, 'old_text'])\n",
    "print(train.loc[loc, 'text'])\n",
    "print(train.loc[loc, 'selected_text'])\n",
    "start = train.loc[loc, 'text'].find(train.loc[loc, 'selected_text'])\n",
    "new_st = ' '.join(train.loc[loc, 'text'].strip().split())[start:start+len(train.loc[loc, 'selected_text'])]\n",
    "print(new_st)"
   ]
  },
  {
   "cell_type": "code",
   "execution_count": null,
   "metadata": {},
   "outputs": [],
   "source": []
  },
  {
   "cell_type": "code",
   "execution_count": 15,
   "metadata": {
    "ExecuteTime": {
     "end_time": "2020-06-03T01:38:47.791786Z",
     "start_time": "2020-06-03T01:38:47.775885Z"
    }
   },
   "outputs": [
    {
     "data": {
      "text/plain": [
       "0.179796918767507"
      ]
     },
     "execution_count": 15,
     "metadata": {},
     "output_type": "execute_result"
    }
   ],
   "source": [
    "train[(train['start_pos_origin']!=train['start_pos_clean'])&(train['start_pos_clean']!=0)].broken_start.mean()"
   ]
  },
  {
   "cell_type": "code",
   "execution_count": 74,
   "metadata": {
    "ExecuteTime": {
     "end_time": "2020-06-02T12:26:31.843946Z",
     "start_time": "2020-06-02T12:26:31.818183Z"
    }
   },
   "outputs": [
    {
     "data": {
      "text/plain": [
       "0.18776851149861007"
      ]
     },
     "execution_count": 74,
     "metadata": {},
     "output_type": "execute_result"
    }
   ],
   "source": [
    "train[(train['start_pos_origin']!=train['start_pos_clean'])&(train['start_pos_clean']!=0)&(~train.to_end)].broken_start.mean()"
   ]
  },
  {
   "cell_type": "code",
   "execution_count": 75,
   "metadata": {
    "ExecuteTime": {
     "end_time": "2020-06-02T12:26:32.038986Z",
     "start_time": "2020-06-02T12:26:32.029314Z"
    }
   },
   "outputs": [
    {
     "data": {
      "text/plain": [
       "0.038791848617176126"
      ]
     },
     "execution_count": 75,
     "metadata": {},
     "output_type": "execute_result"
    }
   ],
   "source": [
    "train.broken_start.mean()"
   ]
  },
  {
   "cell_type": "code",
   "execution_count": 76,
   "metadata": {
    "ExecuteTime": {
     "end_time": "2020-06-02T12:26:32.651785Z",
     "start_time": "2020-06-02T12:26:32.640793Z"
    }
   },
   "outputs": [
    {
     "data": {
      "text/html": [
       "<div>\n",
       "<style scoped>\n",
       "    .dataframe tbody tr th:only-of-type {\n",
       "        vertical-align: middle;\n",
       "    }\n",
       "\n",
       "    .dataframe tbody tr th {\n",
       "        vertical-align: top;\n",
       "    }\n",
       "\n",
       "    .dataframe thead th {\n",
       "        text-align: right;\n",
       "    }\n",
       "</style>\n",
       "<table border=\"1\" class=\"dataframe\">\n",
       "  <thead>\n",
       "    <tr style=\"text-align: right;\">\n",
       "      <th></th>\n",
       "      <th>textID</th>\n",
       "      <th>sentiment</th>\n",
       "      <th>author</th>\n",
       "      <th>text</th>\n",
       "      <th>old_text</th>\n",
       "      <th>aux_id</th>\n",
       "      <th>new_sentiment</th>\n",
       "      <th>selected_text</th>\n",
       "      <th>clean_text</th>\n",
       "      <th>clean_st</th>\n",
       "      <th>start_pos_origin</th>\n",
       "      <th>end_pos_origin</th>\n",
       "      <th>start_pos_clean</th>\n",
       "      <th>end_pos_clean</th>\n",
       "      <th>to_end</th>\n",
       "      <th>broken_start</th>\n",
       "    </tr>\n",
       "  </thead>\n",
       "  <tbody>\n",
       "    <tr>\n",
       "      <th>13</th>\n",
       "      <td>1956970424</td>\n",
       "      <td>sadness</td>\n",
       "      <td>Samm_xo</td>\n",
       "      <td>if u watch the hills in london u will realise...</td>\n",
       "      <td>@BrodyJenner if u watch the hills in london u ...</td>\n",
       "      <td>d60b07133a</td>\n",
       "      <td>negative</td>\n",
       "      <td>realise what tourture</td>\n",
       "      <td>if u watch the hills in london u will realise ...</td>\n",
       "      <td>realise what tourture</td>\n",
       "      <td>39</td>\n",
       "      <td>60</td>\n",
       "      <td>38</td>\n",
       "      <td>59</td>\n",
       "      <td>False</td>\n",
       "      <td>False</td>\n",
       "    </tr>\n",
       "    <tr>\n",
       "      <th>18</th>\n",
       "      <td>1956971473</td>\n",
       "      <td>worry</td>\n",
       "      <td>LCJ82</td>\n",
       "      <td>lady gaga tweeted about not being impressed b...</td>\n",
       "      <td>@PerezHilton lady gaga tweeted about not being...</td>\n",
       "      <td>23f0f2d1f3</td>\n",
       "      <td>negative</td>\n",
       "      <td>not being impressed</td>\n",
       "      <td>lady gaga tweeted about not being impressed by...</td>\n",
       "      <td>not being impressed</td>\n",
       "      <td>25</td>\n",
       "      <td>44</td>\n",
       "      <td>24</td>\n",
       "      <td>43</td>\n",
       "      <td>False</td>\n",
       "      <td>False</td>\n",
       "    </tr>\n",
       "    <tr>\n",
       "      <th>26</th>\n",
       "      <td>1956972557</td>\n",
       "      <td>sadness</td>\n",
       "      <td>LilithGaea</td>\n",
       "      <td>i`m sorry people are so rude to you, isaac, ...</td>\n",
       "      <td>@IsaacMascote  i'm sorry people are so rude to...</td>\n",
       "      <td>a88287bbda</td>\n",
       "      <td>negative</td>\n",
       "      <td>m sorry</td>\n",
       "      <td>i`m sorry people are so rude to you, isaac, th...</td>\n",
       "      <td>m sorry</td>\n",
       "      <td>4</td>\n",
       "      <td>11</td>\n",
       "      <td>2</td>\n",
       "      <td>9</td>\n",
       "      <td>False</td>\n",
       "      <td>False</td>\n",
       "    </tr>\n",
       "    <tr>\n",
       "      <th>36</th>\n",
       "      <td>1956976312</td>\n",
       "      <td>sadness</td>\n",
       "      <td>amy__xx</td>\n",
       "      <td>_radio yeah :S i feel all funny cause i haven`...</td>\n",
       "      <td>@ether_radio yeah :S i feel all funny cause i ...</td>\n",
       "      <td>66561d0e29</td>\n",
       "      <td>negative</td>\n",
       "      <td>i was singing she`s not impressed</td>\n",
       "      <td>_radio yeah :S i feel all funny cause i haven`...</td>\n",
       "      <td>i was singing she`s not impressed</td>\n",
       "      <td>85</td>\n",
       "      <td>118</td>\n",
       "      <td>84</td>\n",
       "      <td>117</td>\n",
       "      <td>False</td>\n",
       "      <td>False</td>\n",
       "    </tr>\n",
       "    <tr>\n",
       "      <th>46</th>\n",
       "      <td>1956978668</td>\n",
       "      <td>worry</td>\n",
       "      <td>bryancheung</td>\n",
       "      <td>Ahh.  ... Well, I was hoping that I could lea...</td>\n",
       "      <td>@onscrn Ahh.  ... Well, I was hoping that I co...</td>\n",
       "      <td>09162e0abc</td>\n",
       "      <td>positive</td>\n",
       "      <td>s hoping</td>\n",
       "      <td>Ahh. ... Well, I was hoping that I could learn...</td>\n",
       "      <td>s hoping</td>\n",
       "      <td>21</td>\n",
       "      <td>29</td>\n",
       "      <td>19</td>\n",
       "      <td>27</td>\n",
       "      <td>False</td>\n",
       "      <td>True</td>\n",
       "    </tr>\n",
       "  </tbody>\n",
       "</table>\n",
       "</div>"
      ],
      "text/plain": [
       "        textID sentiment       author  \\\n",
       "13  1956970424   sadness      Samm_xo   \n",
       "18  1956971473     worry        LCJ82   \n",
       "26  1956972557   sadness   LilithGaea   \n",
       "36  1956976312   sadness      amy__xx   \n",
       "46  1956978668     worry  bryancheung   \n",
       "\n",
       "                                                 text  \\\n",
       "13   if u watch the hills in london u will realise...   \n",
       "18   lady gaga tweeted about not being impressed b...   \n",
       "26    i`m sorry people are so rude to you, isaac, ...   \n",
       "36  _radio yeah :S i feel all funny cause i haven`...   \n",
       "46   Ahh.  ... Well, I was hoping that I could lea...   \n",
       "\n",
       "                                             old_text      aux_id  \\\n",
       "13  @BrodyJenner if u watch the hills in london u ...  d60b07133a   \n",
       "18  @PerezHilton lady gaga tweeted about not being...  23f0f2d1f3   \n",
       "26  @IsaacMascote  i'm sorry people are so rude to...  a88287bbda   \n",
       "36  @ether_radio yeah :S i feel all funny cause i ...  66561d0e29   \n",
       "46  @onscrn Ahh.  ... Well, I was hoping that I co...  09162e0abc   \n",
       "\n",
       "   new_sentiment                      selected_text  \\\n",
       "13      negative              realise what tourture   \n",
       "18      negative                not being impressed   \n",
       "26      negative                            m sorry   \n",
       "36      negative  i was singing she`s not impressed   \n",
       "46      positive                           s hoping   \n",
       "\n",
       "                                           clean_text  \\\n",
       "13  if u watch the hills in london u will realise ...   \n",
       "18  lady gaga tweeted about not being impressed by...   \n",
       "26  i`m sorry people are so rude to you, isaac, th...   \n",
       "36  _radio yeah :S i feel all funny cause i haven`...   \n",
       "46  Ahh. ... Well, I was hoping that I could learn...   \n",
       "\n",
       "                             clean_st  start_pos_origin  end_pos_origin  \\\n",
       "13              realise what tourture                39              60   \n",
       "18                not being impressed                25              44   \n",
       "26                            m sorry                 4              11   \n",
       "36  i was singing she`s not impressed                85             118   \n",
       "46                           s hoping                21              29   \n",
       "\n",
       "    start_pos_clean  end_pos_clean  to_end  broken_start  \n",
       "13               38             59   False         False  \n",
       "18               24             43   False         False  \n",
       "26                2              9   False         False  \n",
       "36               84            117   False         False  \n",
       "46               19             27   False          True  "
      ]
     },
     "execution_count": 76,
     "metadata": {},
     "output_type": "execute_result"
    }
   ],
   "source": [
    "train[(train['start_pos_origin']!=train['start_pos_clean'])&(train['start_pos_clean']!=0)].head()"
   ]
  },
  {
   "cell_type": "code",
   "execution_count": 77,
   "metadata": {
    "ExecuteTime": {
     "end_time": "2020-06-02T12:26:33.548894Z",
     "start_time": "2020-06-02T12:26:33.546364Z"
    }
   },
   "outputs": [],
   "source": [
    "train['delta_start'] = train['start_pos_origin'] - train['start_pos_clean']"
   ]
  },
  {
   "cell_type": "code",
   "execution_count": 78,
   "metadata": {
    "ExecuteTime": {
     "end_time": "2020-06-02T12:26:34.297351Z",
     "start_time": "2020-06-02T12:26:34.292462Z"
    }
   },
   "outputs": [
    {
     "data": {
      "text/plain": [
       "2    599\n",
       "1    306\n",
       "3     94\n",
       "0     39\n",
       "4     23\n",
       "5      5\n",
       "Name: delta_start, dtype: int64"
      ]
     },
     "execution_count": 78,
     "metadata": {},
     "output_type": "execute_result"
    }
   ],
   "source": [
    "train[train['broken_start']].delta_start.value_counts()"
   ]
  },
  {
   "cell_type": "code",
   "execution_count": 79,
   "metadata": {
    "ExecuteTime": {
     "end_time": "2020-06-02T12:26:34.846761Z",
     "start_time": "2020-06-02T12:26:34.822016Z"
    }
   },
   "outputs": [
    {
     "data": {
      "text/plain": [
       "delta_start\n",
       "0    0.006600\n",
       "1    0.070167\n",
       "2    0.537220\n",
       "3    0.534091\n",
       "4    0.511111\n",
       "5    0.500000\n",
       "6    0.000000\n",
       "7    0.000000\n",
       "8    0.000000\n",
       "Name: broken_start, dtype: float64"
      ]
     },
     "execution_count": 79,
     "metadata": {},
     "output_type": "execute_result"
    }
   ],
   "source": [
    "train[train['start_pos_clean']!=0].groupby('delta_start')['broken_start'].mean()"
   ]
  },
  {
   "cell_type": "code",
   "execution_count": 91,
   "metadata": {
    "ExecuteTime": {
     "end_time": "2020-06-02T12:30:37.728845Z",
     "start_time": "2020-06-02T12:30:37.717278Z"
    }
   },
   "outputs": [
    {
     "data": {
      "text/html": [
       "<div>\n",
       "<style scoped>\n",
       "    .dataframe tbody tr th:only-of-type {\n",
       "        vertical-align: middle;\n",
       "    }\n",
       "\n",
       "    .dataframe tbody tr th {\n",
       "        vertical-align: top;\n",
       "    }\n",
       "\n",
       "    .dataframe thead th {\n",
       "        text-align: right;\n",
       "    }\n",
       "</style>\n",
       "<table border=\"1\" class=\"dataframe\">\n",
       "  <thead>\n",
       "    <tr style=\"text-align: right;\">\n",
       "      <th></th>\n",
       "      <th>textID</th>\n",
       "      <th>sentiment</th>\n",
       "      <th>author</th>\n",
       "      <th>text</th>\n",
       "      <th>old_text</th>\n",
       "      <th>aux_id</th>\n",
       "      <th>new_sentiment</th>\n",
       "      <th>selected_text</th>\n",
       "      <th>clean_text</th>\n",
       "      <th>clean_st</th>\n",
       "      <th>start_pos_origin</th>\n",
       "      <th>end_pos_origin</th>\n",
       "      <th>start_pos_clean</th>\n",
       "      <th>end_pos_clean</th>\n",
       "      <th>to_end</th>\n",
       "      <th>broken_start</th>\n",
       "      <th>delta_start</th>\n",
       "    </tr>\n",
       "  </thead>\n",
       "  <tbody>\n",
       "    <tr>\n",
       "      <th>8980</th>\n",
       "      <td>1962387121</td>\n",
       "      <td>sadness</td>\n",
       "      <td>freehighfives</td>\n",
       "      <td>I doubt it! Boo! You always leave me behind ...</td>\n",
       "      <td>@LCPromotions  I doubt it! Boo! You always lea...</td>\n",
       "      <td>410b8df2b5</td>\n",
       "      <td>negative</td>\n",
       "      <td>! You always leave me behind</td>\n",
       "      <td>I doubt it! Boo! You always leave me behind on...</td>\n",
       "      <td>! You always leave me behind</td>\n",
       "      <td>17</td>\n",
       "      <td>45</td>\n",
       "      <td>15</td>\n",
       "      <td>43</td>\n",
       "      <td>False</td>\n",
       "      <td>True</td>\n",
       "      <td>2</td>\n",
       "    </tr>\n",
       "    <tr>\n",
       "      <th>15133</th>\n",
       "      <td>1964742836</td>\n",
       "      <td>neutral</td>\n",
       "      <td>KComer</td>\n",
       "      <td>i did that but my INS wouldn`t pay for the th...</td>\n",
       "      <td>@SooSpecial i did that but my INS wouldn't pay...</td>\n",
       "      <td>4d3e8d0978</td>\n",
       "      <td>negative</td>\n",
       "      <td>w i dk what to do</td>\n",
       "      <td>i did that but my INS wouldn`t pay for the the...</td>\n",
       "      <td>w i dk what to do</td>\n",
       "      <td>58</td>\n",
       "      <td>75</td>\n",
       "      <td>56</td>\n",
       "      <td>73</td>\n",
       "      <td>False</td>\n",
       "      <td>True</td>\n",
       "      <td>2</td>\n",
       "    </tr>\n",
       "    <tr>\n",
       "      <th>6735</th>\n",
       "      <td>1961426457</td>\n",
       "      <td>worry</td>\n",
       "      <td>fanofbsb4ever</td>\n",
       "      <td>totally missed the chatroom. I`m so lame</td>\n",
       "      <td>@backstreetboys  totally missed the chatroom. ...</td>\n",
       "      <td>02856005a9</td>\n",
       "      <td>negative</td>\n",
       "      <td>y missed</td>\n",
       "      <td>totally missed the chatroom. I`m so lame</td>\n",
       "      <td>y missed</td>\n",
       "      <td>8</td>\n",
       "      <td>16</td>\n",
       "      <td>6</td>\n",
       "      <td>14</td>\n",
       "      <td>False</td>\n",
       "      <td>True</td>\n",
       "      <td>2</td>\n",
       "    </tr>\n",
       "    <tr>\n",
       "      <th>33572</th>\n",
       "      <td>1752645659</td>\n",
       "      <td>love</td>\n",
       "      <td>damarisens</td>\n",
       "      <td>Jane Austen`s books!,    Pride and Prejudice...</td>\n",
       "      <td>@Rayyychell  Jane Austen's books!,    Pride an...</td>\n",
       "      <td>30c49267e3</td>\n",
       "      <td>positive</td>\n",
       "      <td>,    Pride and Prejudice &amp; Emma are gr</td>\n",
       "      <td>Jane Austen`s books!, Pride and Prejudice &amp; Em...</td>\n",
       "      <td>, Pride and Prejudice &amp; Emma are gr</td>\n",
       "      <td>22</td>\n",
       "      <td>60</td>\n",
       "      <td>20</td>\n",
       "      <td>55</td>\n",
       "      <td>False</td>\n",
       "      <td>False</td>\n",
       "      <td>2</td>\n",
       "    </tr>\n",
       "    <tr>\n",
       "      <th>23666</th>\n",
       "      <td>1694666081</td>\n",
       "      <td>love</td>\n",
       "      <td>tzlillovemcfly</td>\n",
       "      <td>thanx Tom  love u too !!!!!!!!!!!!!!!!!!!!!!!...</td>\n",
       "      <td>@tommcfly thanx Tom  love u too !!!!!!!!!!!!!!...</td>\n",
       "      <td>aff624f133</td>\n",
       "      <td>positive</td>\n",
       "      <td>a great</td>\n",
       "      <td>thanx Tom love u too !!!!!!!!!!!!!!!!!!!!!!! h...</td>\n",
       "      <td>a great</td>\n",
       "      <td>52</td>\n",
       "      <td>59</td>\n",
       "      <td>50</td>\n",
       "      <td>57</td>\n",
       "      <td>False</td>\n",
       "      <td>False</td>\n",
       "      <td>2</td>\n",
       "    </tr>\n",
       "  </tbody>\n",
       "</table>\n",
       "</div>"
      ],
      "text/plain": [
       "           textID sentiment          author  \\\n",
       "8980   1962387121   sadness   freehighfives   \n",
       "15133  1964742836   neutral          KComer   \n",
       "6735   1961426457     worry   fanofbsb4ever   \n",
       "33572  1752645659      love      damarisens   \n",
       "23666  1694666081      love  tzlillovemcfly   \n",
       "\n",
       "                                                    text  \\\n",
       "8980     I doubt it! Boo! You always leave me behind ...   \n",
       "15133   i did that but my INS wouldn`t pay for the th...   \n",
       "6735            totally missed the chatroom. I`m so lame   \n",
       "33572    Jane Austen`s books!,    Pride and Prejudice...   \n",
       "23666   thanx Tom  love u too !!!!!!!!!!!!!!!!!!!!!!!...   \n",
       "\n",
       "                                                old_text      aux_id  \\\n",
       "8980   @LCPromotions  I doubt it! Boo! You always lea...  410b8df2b5   \n",
       "15133  @SooSpecial i did that but my INS wouldn't pay...  4d3e8d0978   \n",
       "6735   @backstreetboys  totally missed the chatroom. ...  02856005a9   \n",
       "33572  @Rayyychell  Jane Austen's books!,    Pride an...  30c49267e3   \n",
       "23666  @tommcfly thanx Tom  love u too !!!!!!!!!!!!!!...  aff624f133   \n",
       "\n",
       "      new_sentiment                           selected_text  \\\n",
       "8980       negative            ! You always leave me behind   \n",
       "15133      negative                       w i dk what to do   \n",
       "6735       negative                                y missed   \n",
       "33572      positive  ,    Pride and Prejudice & Emma are gr   \n",
       "23666      positive                                 a great   \n",
       "\n",
       "                                              clean_text  \\\n",
       "8980   I doubt it! Boo! You always leave me behind on...   \n",
       "15133  i did that but my INS wouldn`t pay for the the...   \n",
       "6735            totally missed the chatroom. I`m so lame   \n",
       "33572  Jane Austen`s books!, Pride and Prejudice & Em...   \n",
       "23666  thanx Tom love u too !!!!!!!!!!!!!!!!!!!!!!! h...   \n",
       "\n",
       "                                  clean_st  start_pos_origin  end_pos_origin  \\\n",
       "8980          ! You always leave me behind                17              45   \n",
       "15133                    w i dk what to do                58              75   \n",
       "6735                              y missed                 8              16   \n",
       "33572  , Pride and Prejudice & Emma are gr                22              60   \n",
       "23666                              a great                52              59   \n",
       "\n",
       "       start_pos_clean  end_pos_clean  to_end  broken_start  delta_start  \n",
       "8980                15             43   False          True            2  \n",
       "15133               56             73   False          True            2  \n",
       "6735                 6             14   False          True            2  \n",
       "33572               20             55   False         False            2  \n",
       "23666               50             57   False         False            2  "
      ]
     },
     "execution_count": 91,
     "metadata": {},
     "output_type": "execute_result"
    }
   ],
   "source": [
    "train[(train['start_pos_clean']!=0)&(train['delta_start']==2)].sample(n=5)"
   ]
  },
  {
   "cell_type": "code",
   "execution_count": 93,
   "metadata": {
    "ExecuteTime": {
     "end_time": "2020-06-02T12:31:08.498709Z",
     "start_time": "2020-06-02T12:31:08.495761Z"
    }
   },
   "outputs": [
    {
     "name": "stdout",
     "output_type": "stream",
     "text": [
      "@SooSpecial i did that but my INS wouldn't pay for the therapy  so now i dk what to do!!\n",
      " i did that but my INS wouldn`t pay for the therapy  so now i dk what to do!!\n",
      "w i dk what to do\n"
     ]
    }
   ],
   "source": [
    "loc = 15133\n",
    "print(train.loc[loc, 'old_text'])\n",
    "print(train.loc[loc, 'text'])\n",
    "print(train.loc[loc, 'selected_text'])"
   ]
  },
  {
   "cell_type": "code",
   "execution_count": 58,
   "metadata": {
    "ExecuteTime": {
     "end_time": "2020-06-02T12:25:43.650065Z",
     "start_time": "2020-06-02T12:25:43.647391Z"
    }
   },
   "outputs": [
    {
     "name": "stdout",
     "output_type": "stream",
     "text": [
      "I did not twitt yesterday cause it was a very busy day but I`ll be back tomorrow  BTW I can not sleep  I`m like in zombie mode @_@\n",
      "I can not sleep\n"
     ]
    }
   ],
   "source": [
    "loc = 2\n",
    "# print(train.loc[loc, 'old_text'])\n",
    "print(train.loc[loc, 'text'])\n",
    "print(train.loc[loc, 'selected_text'])"
   ]
  },
  {
   "cell_type": "code",
   "execution_count": null,
   "metadata": {},
   "outputs": [],
   "source": []
  }
 ],
 "metadata": {
  "kernelspec": {
   "display_name": "Python 3",
   "language": "python",
   "name": "python3"
  },
  "language_info": {
   "codemirror_mode": {
    "name": "ipython",
    "version": 3
   },
   "file_extension": ".py",
   "mimetype": "text/x-python",
   "name": "python",
   "nbconvert_exporter": "python",
   "pygments_lexer": "ipython3",
   "version": "3.7.1"
  }
 },
 "nbformat": 4,
 "nbformat_minor": 2
}
