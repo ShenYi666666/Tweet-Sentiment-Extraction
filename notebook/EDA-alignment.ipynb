{
 "cells": [
  {
   "cell_type": "code",
   "execution_count": 1,
   "metadata": {
    "ExecuteTime": {
     "end_time": "2020-06-01T06:48:33.823684Z",
     "start_time": "2020-06-01T06:48:33.818722Z"
    }
   },
   "outputs": [],
   "source": [
    "import random"
   ]
  },
  {
   "cell_type": "code",
   "execution_count": 2,
   "metadata": {
    "ExecuteTime": {
     "end_time": "2020-06-01T06:48:34.027070Z",
     "start_time": "2020-06-01T06:48:33.992472Z"
    }
   },
   "outputs": [],
   "source": [
    "import numpy as np"
   ]
  },
  {
   "cell_type": "code",
   "execution_count": 3,
   "metadata": {
    "ExecuteTime": {
     "end_time": "2020-06-01T06:48:34.177943Z",
     "start_time": "2020-06-01T06:48:34.152175Z"
    }
   },
   "outputs": [
    {
     "data": {
      "text/plain": [
       "0.7941233901217171"
      ]
     },
     "execution_count": 3,
     "metadata": {},
     "output_type": "execute_result"
    }
   ],
   "source": [
    "np.random.rand()"
   ]
  },
  {
   "cell_type": "code",
   "execution_count": 4,
   "metadata": {
    "ExecuteTime": {
     "end_time": "2020-06-01T06:48:34.493965Z",
     "start_time": "2020-06-01T06:48:34.337518Z"
    }
   },
   "outputs": [],
   "source": [
    "import pandas as pd"
   ]
  },
  {
   "cell_type": "code",
   "execution_count": 5,
   "metadata": {
    "ExecuteTime": {
     "end_time": "2020-06-01T06:48:34.538684Z",
     "start_time": "2020-06-01T06:48:34.494914Z"
    }
   },
   "outputs": [],
   "source": [
    "train = pd.read_csv('../input/tweet-sentiment-extraction/train.csv')\n",
    "test = pd.read_csv('../input/tweet-sentiment-extraction/test.csv')"
   ]
  },
  {
   "cell_type": "code",
   "execution_count": 6,
   "metadata": {
    "ExecuteTime": {
     "end_time": "2020-06-01T06:48:34.825077Z",
     "start_time": "2020-06-01T06:48:34.697250Z"
    }
   },
   "outputs": [],
   "source": [
    "old = pd.read_csv('../input/tweet-sentiment-extraction/tweet_dataset.csv')"
   ]
  },
  {
   "cell_type": "code",
   "execution_count": 7,
   "metadata": {
    "ExecuteTime": {
     "end_time": "2020-06-01T06:48:35.653822Z",
     "start_time": "2020-06-01T06:48:35.644800Z"
    }
   },
   "outputs": [
    {
     "data": {
      "text/html": [
       "<div>\n",
       "<style scoped>\n",
       "    .dataframe tbody tr th:only-of-type {\n",
       "        vertical-align: middle;\n",
       "    }\n",
       "\n",
       "    .dataframe tbody tr th {\n",
       "        vertical-align: top;\n",
       "    }\n",
       "\n",
       "    .dataframe thead th {\n",
       "        text-align: right;\n",
       "    }\n",
       "</style>\n",
       "<table border=\"1\" class=\"dataframe\">\n",
       "  <thead>\n",
       "    <tr style=\"text-align: right;\">\n",
       "      <th></th>\n",
       "      <th>textID</th>\n",
       "      <th>text</th>\n",
       "      <th>selected_text</th>\n",
       "      <th>sentiment</th>\n",
       "    </tr>\n",
       "  </thead>\n",
       "  <tbody>\n",
       "    <tr>\n",
       "      <th>0</th>\n",
       "      <td>cb774db0d1</td>\n",
       "      <td>I`d have responded, if I were going</td>\n",
       "      <td>I`d have responded, if I were going</td>\n",
       "      <td>neutral</td>\n",
       "    </tr>\n",
       "    <tr>\n",
       "      <th>1</th>\n",
       "      <td>549e992a42</td>\n",
       "      <td>Sooo SAD I will miss you here in San Diego!!!</td>\n",
       "      <td>Sooo SAD</td>\n",
       "      <td>negative</td>\n",
       "    </tr>\n",
       "    <tr>\n",
       "      <th>2</th>\n",
       "      <td>088c60f138</td>\n",
       "      <td>my boss is bullying me...</td>\n",
       "      <td>bullying me</td>\n",
       "      <td>negative</td>\n",
       "    </tr>\n",
       "    <tr>\n",
       "      <th>3</th>\n",
       "      <td>9642c003ef</td>\n",
       "      <td>what interview! leave me alone</td>\n",
       "      <td>leave me alone</td>\n",
       "      <td>negative</td>\n",
       "    </tr>\n",
       "    <tr>\n",
       "      <th>4</th>\n",
       "      <td>358bd9e861</td>\n",
       "      <td>Sons of ****, why couldn`t they put them on t...</td>\n",
       "      <td>Sons of ****,</td>\n",
       "      <td>negative</td>\n",
       "    </tr>\n",
       "  </tbody>\n",
       "</table>\n",
       "</div>"
      ],
      "text/plain": [
       "       textID                                               text  \\\n",
       "0  cb774db0d1                I`d have responded, if I were going   \n",
       "1  549e992a42      Sooo SAD I will miss you here in San Diego!!!   \n",
       "2  088c60f138                          my boss is bullying me...   \n",
       "3  9642c003ef                     what interview! leave me alone   \n",
       "4  358bd9e861   Sons of ****, why couldn`t they put them on t...   \n",
       "\n",
       "                         selected_text sentiment  \n",
       "0  I`d have responded, if I were going   neutral  \n",
       "1                             Sooo SAD  negative  \n",
       "2                          bullying me  negative  \n",
       "3                       leave me alone  negative  \n",
       "4                        Sons of ****,  negative  "
      ]
     },
     "execution_count": 7,
     "metadata": {},
     "output_type": "execute_result"
    }
   ],
   "source": [
    "train.head()"
   ]
  },
  {
   "cell_type": "code",
   "execution_count": 8,
   "metadata": {
    "ExecuteTime": {
     "end_time": "2020-06-01T06:48:37.140311Z",
     "start_time": "2020-06-01T06:48:37.135406Z"
    }
   },
   "outputs": [
    {
     "data": {
      "text/plain": [
       "(27481, 4)"
      ]
     },
     "execution_count": 8,
     "metadata": {},
     "output_type": "execute_result"
    }
   ],
   "source": [
    "train.shape"
   ]
  },
  {
   "cell_type": "code",
   "execution_count": 9,
   "metadata": {
    "ExecuteTime": {
     "end_time": "2020-06-01T06:48:37.436503Z",
     "start_time": "2020-06-01T06:48:37.417411Z"
    }
   },
   "outputs": [
    {
     "data": {
      "text/html": [
       "<div>\n",
       "<style scoped>\n",
       "    .dataframe tbody tr th:only-of-type {\n",
       "        vertical-align: middle;\n",
       "    }\n",
       "\n",
       "    .dataframe tbody tr th {\n",
       "        vertical-align: top;\n",
       "    }\n",
       "\n",
       "    .dataframe thead th {\n",
       "        text-align: right;\n",
       "    }\n",
       "</style>\n",
       "<table border=\"1\" class=\"dataframe\">\n",
       "  <thead>\n",
       "    <tr style=\"text-align: right;\">\n",
       "      <th></th>\n",
       "      <th>textID</th>\n",
       "      <th>text</th>\n",
       "      <th>sentiment</th>\n",
       "    </tr>\n",
       "  </thead>\n",
       "  <tbody>\n",
       "    <tr>\n",
       "      <th>0</th>\n",
       "      <td>f87dea47db</td>\n",
       "      <td>Last session of the day  http://twitpic.com/67ezh</td>\n",
       "      <td>neutral</td>\n",
       "    </tr>\n",
       "    <tr>\n",
       "      <th>1</th>\n",
       "      <td>96d74cb729</td>\n",
       "      <td>Shanghai is also really exciting (precisely -...</td>\n",
       "      <td>positive</td>\n",
       "    </tr>\n",
       "    <tr>\n",
       "      <th>2</th>\n",
       "      <td>eee518ae67</td>\n",
       "      <td>Recession hit Veronique Branquinho, she has to...</td>\n",
       "      <td>negative</td>\n",
       "    </tr>\n",
       "    <tr>\n",
       "      <th>3</th>\n",
       "      <td>01082688c6</td>\n",
       "      <td>happy bday!</td>\n",
       "      <td>positive</td>\n",
       "    </tr>\n",
       "    <tr>\n",
       "      <th>4</th>\n",
       "      <td>33987a8ee5</td>\n",
       "      <td>http://twitpic.com/4w75p - I like it!!</td>\n",
       "      <td>positive</td>\n",
       "    </tr>\n",
       "  </tbody>\n",
       "</table>\n",
       "</div>"
      ],
      "text/plain": [
       "       textID                                               text sentiment\n",
       "0  f87dea47db  Last session of the day  http://twitpic.com/67ezh   neutral\n",
       "1  96d74cb729   Shanghai is also really exciting (precisely -...  positive\n",
       "2  eee518ae67  Recession hit Veronique Branquinho, she has to...  negative\n",
       "3  01082688c6                                        happy bday!  positive\n",
       "4  33987a8ee5             http://twitpic.com/4w75p - I like it!!  positive"
      ]
     },
     "execution_count": 9,
     "metadata": {},
     "output_type": "execute_result"
    }
   ],
   "source": [
    "test.head()"
   ]
  },
  {
   "cell_type": "code",
   "execution_count": 10,
   "metadata": {
    "ExecuteTime": {
     "end_time": "2020-06-01T06:48:40.251450Z",
     "start_time": "2020-06-01T06:48:40.241658Z"
    }
   },
   "outputs": [
    {
     "data": {
      "text/html": [
       "<div>\n",
       "<style scoped>\n",
       "    .dataframe tbody tr th:only-of-type {\n",
       "        vertical-align: middle;\n",
       "    }\n",
       "\n",
       "    .dataframe tbody tr th {\n",
       "        vertical-align: top;\n",
       "    }\n",
       "\n",
       "    .dataframe thead th {\n",
       "        text-align: right;\n",
       "    }\n",
       "</style>\n",
       "<table border=\"1\" class=\"dataframe\">\n",
       "  <thead>\n",
       "    <tr style=\"text-align: right;\">\n",
       "      <th></th>\n",
       "      <th>textID</th>\n",
       "      <th>sentiment</th>\n",
       "      <th>author</th>\n",
       "      <th>text</th>\n",
       "      <th>old_text</th>\n",
       "      <th>aux_id</th>\n",
       "      <th>new_sentiment</th>\n",
       "      <th>selected_text</th>\n",
       "    </tr>\n",
       "  </thead>\n",
       "  <tbody>\n",
       "    <tr>\n",
       "      <th>0</th>\n",
       "      <td>1956967341</td>\n",
       "      <td>empty</td>\n",
       "      <td>xoshayzers</td>\n",
       "      <td>i know  i was listenin to bad habit earlier a...</td>\n",
       "      <td>@tiffanylue i know  i was listenin to bad habi...</td>\n",
       "      <td>p1000000000</td>\n",
       "      <td>NaN</td>\n",
       "      <td>NaN</td>\n",
       "    </tr>\n",
       "    <tr>\n",
       "      <th>1</th>\n",
       "      <td>1956967666</td>\n",
       "      <td>sadness</td>\n",
       "      <td>wannamama</td>\n",
       "      <td>Layin n bed with a headache  ughhhh...waitin o...</td>\n",
       "      <td>Layin n bed with a headache  ughhhh...waitin o...</td>\n",
       "      <td>c811396dc2</td>\n",
       "      <td>negative</td>\n",
       "      <td>headache</td>\n",
       "    </tr>\n",
       "    <tr>\n",
       "      <th>2</th>\n",
       "      <td>1956967696</td>\n",
       "      <td>sadness</td>\n",
       "      <td>coolfunky</td>\n",
       "      <td>Funeral ceremony...gloomy friday...</td>\n",
       "      <td>Funeral ceremony...gloomy friday...</td>\n",
       "      <td>9063631ab1</td>\n",
       "      <td>negative</td>\n",
       "      <td>gloomy</td>\n",
       "    </tr>\n",
       "    <tr>\n",
       "      <th>3</th>\n",
       "      <td>1956967789</td>\n",
       "      <td>enthusiasm</td>\n",
       "      <td>czareaquino</td>\n",
       "      <td>wants to hang out with friends SOON!</td>\n",
       "      <td>wants to hang out with friends SOON!</td>\n",
       "      <td>2a815f151d</td>\n",
       "      <td>positive</td>\n",
       "      <td>wants to hang out with friends SOON!</td>\n",
       "    </tr>\n",
       "    <tr>\n",
       "      <th>4</th>\n",
       "      <td>1956968416</td>\n",
       "      <td>neutral</td>\n",
       "      <td>xkilljoyx</td>\n",
       "      <td>We want to trade with someone who has Houston...</td>\n",
       "      <td>@dannycastillo We want to trade with someone w...</td>\n",
       "      <td>82565a56d3</td>\n",
       "      <td>neutral</td>\n",
       "      <td>We want to trade with someone who has Houston ...</td>\n",
       "    </tr>\n",
       "  </tbody>\n",
       "</table>\n",
       "</div>"
      ],
      "text/plain": [
       "       textID   sentiment       author  \\\n",
       "0  1956967341       empty   xoshayzers   \n",
       "1  1956967666     sadness    wannamama   \n",
       "2  1956967696     sadness    coolfunky   \n",
       "3  1956967789  enthusiasm  czareaquino   \n",
       "4  1956968416     neutral    xkilljoyx   \n",
       "\n",
       "                                                text  \\\n",
       "0   i know  i was listenin to bad habit earlier a...   \n",
       "1  Layin n bed with a headache  ughhhh...waitin o...   \n",
       "2                Funeral ceremony...gloomy friday...   \n",
       "3               wants to hang out with friends SOON!   \n",
       "4   We want to trade with someone who has Houston...   \n",
       "\n",
       "                                            old_text       aux_id  \\\n",
       "0  @tiffanylue i know  i was listenin to bad habi...  p1000000000   \n",
       "1  Layin n bed with a headache  ughhhh...waitin o...   c811396dc2   \n",
       "2                Funeral ceremony...gloomy friday...   9063631ab1   \n",
       "3               wants to hang out with friends SOON!   2a815f151d   \n",
       "4  @dannycastillo We want to trade with someone w...   82565a56d3   \n",
       "\n",
       "  new_sentiment                                      selected_text  \n",
       "0           NaN                                                NaN  \n",
       "1      negative                                           headache  \n",
       "2      negative                                             gloomy  \n",
       "3      positive               wants to hang out with friends SOON!  \n",
       "4       neutral  We want to trade with someone who has Houston ...  "
      ]
     },
     "execution_count": 10,
     "metadata": {},
     "output_type": "execute_result"
    }
   ],
   "source": [
    "old.head()"
   ]
  },
  {
   "cell_type": "code",
   "execution_count": 36,
   "metadata": {
    "ExecuteTime": {
     "end_time": "2020-06-01T08:24:21.282608Z",
     "start_time": "2020-06-01T08:24:21.274661Z"
    }
   },
   "outputs": [
    {
     "data": {
      "text/html": [
       "<div>\n",
       "<style scoped>\n",
       "    .dataframe tbody tr th:only-of-type {\n",
       "        vertical-align: middle;\n",
       "    }\n",
       "\n",
       "    .dataframe tbody tr th {\n",
       "        vertical-align: top;\n",
       "    }\n",
       "\n",
       "    .dataframe thead th {\n",
       "        text-align: right;\n",
       "    }\n",
       "</style>\n",
       "<table border=\"1\" class=\"dataframe\">\n",
       "  <thead>\n",
       "    <tr style=\"text-align: right;\">\n",
       "      <th></th>\n",
       "      <th>textID</th>\n",
       "      <th>sentiment</th>\n",
       "      <th>author</th>\n",
       "      <th>text</th>\n",
       "      <th>old_text</th>\n",
       "      <th>aux_id</th>\n",
       "      <th>new_sentiment</th>\n",
       "      <th>selected_text</th>\n",
       "    </tr>\n",
       "  </thead>\n",
       "  <tbody>\n",
       "    <tr>\n",
       "      <th>30935</th>\n",
       "      <td>1751783894</td>\n",
       "      <td>love</td>\n",
       "      <td>daNanner</td>\n",
       "      <td>thanks! You`re the first one to wish me a happ...</td>\n",
       "      <td>@bkGirlFriday thanks! You're the first one to ...</td>\n",
       "      <td>b99780d3eb</td>\n",
       "      <td>positive</td>\n",
       "      <td>thanks! You`re the first one to wish me a happ...</td>\n",
       "    </tr>\n",
       "  </tbody>\n",
       "</table>\n",
       "</div>"
      ],
      "text/plain": [
       "           textID sentiment    author  \\\n",
       "30935  1751783894      love  daNanner   \n",
       "\n",
       "                                                    text  \\\n",
       "30935  thanks! You`re the first one to wish me a happ...   \n",
       "\n",
       "                                                old_text      aux_id  \\\n",
       "30935  @bkGirlFriday thanks! You're the first one to ...  b99780d3eb   \n",
       "\n",
       "      new_sentiment                                      selected_text  \n",
       "30935      positive  thanks! You`re the first one to wish me a happ...  "
      ]
     },
     "execution_count": 36,
     "metadata": {},
     "output_type": "execute_result"
    }
   ],
   "source": [
    "old[old['aux_id']=='b99780d3eb']"
   ]
  },
  {
   "cell_type": "code",
   "execution_count": 14,
   "metadata": {
    "ExecuteTime": {
     "end_time": "2020-06-01T06:49:14.816527Z",
     "start_time": "2020-06-01T06:49:14.794376Z"
    }
   },
   "outputs": [],
   "source": [
    "old.dropna(subset=['text'],inplace=True)\n",
    "old.drop_duplicates(subset=['text'], inplace=True)"
   ]
  },
  {
   "cell_type": "code",
   "execution_count": 15,
   "metadata": {
    "ExecuteTime": {
     "end_time": "2020-06-01T06:49:19.233888Z",
     "start_time": "2020-06-01T06:49:19.196292Z"
    }
   },
   "outputs": [],
   "source": [
    "old['text'] = old['text'].apply(lambda x: ' '.join(x.strip().split()))"
   ]
  },
  {
   "cell_type": "code",
   "execution_count": 16,
   "metadata": {
    "ExecuteTime": {
     "end_time": "2020-06-01T06:49:19.903987Z",
     "start_time": "2020-06-01T06:49:19.893366Z"
    }
   },
   "outputs": [
    {
     "data": {
      "text/html": [
       "<div>\n",
       "<style scoped>\n",
       "    .dataframe tbody tr th:only-of-type {\n",
       "        vertical-align: middle;\n",
       "    }\n",
       "\n",
       "    .dataframe tbody tr th {\n",
       "        vertical-align: top;\n",
       "    }\n",
       "\n",
       "    .dataframe thead th {\n",
       "        text-align: right;\n",
       "    }\n",
       "</style>\n",
       "<table border=\"1\" class=\"dataframe\">\n",
       "  <thead>\n",
       "    <tr style=\"text-align: right;\">\n",
       "      <th></th>\n",
       "      <th>textID</th>\n",
       "      <th>sentiment</th>\n",
       "      <th>author</th>\n",
       "      <th>text</th>\n",
       "      <th>old_text</th>\n",
       "      <th>aux_id</th>\n",
       "      <th>new_sentiment</th>\n",
       "      <th>selected_text</th>\n",
       "    </tr>\n",
       "  </thead>\n",
       "  <tbody>\n",
       "    <tr>\n",
       "      <th>20362</th>\n",
       "      <td>1694032968</td>\n",
       "      <td>love</td>\n",
       "      <td>ChineseLearn</td>\n",
       "      <td>Hi I have uploaded 5 completely new Chinese Le...</td>\n",
       "      <td>@puerhan Hi I have uploaded 5 completely new C...</td>\n",
       "      <td>3793966498</td>\n",
       "      <td>positive</td>\n",
       "      <td>Please feel free to watch and enjoy</td>\n",
       "    </tr>\n",
       "  </tbody>\n",
       "</table>\n",
       "</div>"
      ],
      "text/plain": [
       "           textID sentiment        author  \\\n",
       "20362  1694032968      love  ChineseLearn   \n",
       "\n",
       "                                                    text  \\\n",
       "20362  Hi I have uploaded 5 completely new Chinese Le...   \n",
       "\n",
       "                                                old_text      aux_id  \\\n",
       "20362  @puerhan Hi I have uploaded 5 completely new C...  3793966498   \n",
       "\n",
       "      new_sentiment                        selected_text  \n",
       "20362      positive  Please feel free to watch and enjoy  "
      ]
     },
     "execution_count": 16,
     "metadata": {},
     "output_type": "execute_result"
    }
   ],
   "source": [
    "old[old['text']=='Hi I have uploaded 5 completely new Chinese Lessons on www.youtube.com/ChineseLearn Please feel free to watch and enjoy']"
   ]
  },
  {
   "cell_type": "code",
   "execution_count": 17,
   "metadata": {
    "ExecuteTime": {
     "end_time": "2020-06-01T06:49:28.409683Z",
     "start_time": "2020-06-01T06:49:28.384000Z"
    }
   },
   "outputs": [],
   "source": [
    "train = train.merge(old[['text','sentiment','author']], on='text', how='left')"
   ]
  },
  {
   "cell_type": "code",
   "execution_count": 18,
   "metadata": {
    "ExecuteTime": {
     "end_time": "2020-06-01T06:49:30.947548Z",
     "start_time": "2020-06-01T06:49:30.932117Z"
    }
   },
   "outputs": [],
   "source": [
    "train.drop_duplicates(subset=['textID'], inplace=True)"
   ]
  },
  {
   "cell_type": "code",
   "execution_count": 19,
   "metadata": {
    "ExecuteTime": {
     "end_time": "2020-06-01T06:49:31.124127Z",
     "start_time": "2020-06-01T06:49:31.115456Z"
    }
   },
   "outputs": [
    {
     "data": {
      "text/plain": [
       "(27481, 6)"
      ]
     },
     "execution_count": 19,
     "metadata": {},
     "output_type": "execute_result"
    }
   ],
   "source": [
    "train.shape"
   ]
  },
  {
   "cell_type": "code",
   "execution_count": 20,
   "metadata": {
    "ExecuteTime": {
     "end_time": "2020-06-01T06:49:36.370881Z",
     "start_time": "2020-06-01T06:49:36.357059Z"
    }
   },
   "outputs": [],
   "source": [
    "test = test.merge(old[['text','sentiment']], on='text', how='left')"
   ]
  },
  {
   "cell_type": "code",
   "execution_count": 21,
   "metadata": {
    "ExecuteTime": {
     "end_time": "2020-06-01T06:49:36.784486Z",
     "start_time": "2020-06-01T06:49:36.777567Z"
    }
   },
   "outputs": [],
   "source": [
    "test.drop_duplicates(subset=['textID'], inplace=True)"
   ]
  },
  {
   "cell_type": "code",
   "execution_count": 22,
   "metadata": {
    "ExecuteTime": {
     "end_time": "2020-06-01T06:49:36.951836Z",
     "start_time": "2020-06-01T06:49:36.940733Z"
    }
   },
   "outputs": [
    {
     "data": {
      "text/plain": [
       "2119"
      ]
     },
     "execution_count": 22,
     "metadata": {},
     "output_type": "execute_result"
    }
   ],
   "source": [
    "test['sentiment_y'].isnull().sum()"
   ]
  },
  {
   "cell_type": "code",
   "execution_count": 23,
   "metadata": {
    "ExecuteTime": {
     "end_time": "2020-06-01T06:49:37.414523Z",
     "start_time": "2020-06-01T06:49:37.405825Z"
    }
   },
   "outputs": [
    {
     "data": {
      "text/html": [
       "<div>\n",
       "<style scoped>\n",
       "    .dataframe tbody tr th:only-of-type {\n",
       "        vertical-align: middle;\n",
       "    }\n",
       "\n",
       "    .dataframe tbody tr th {\n",
       "        vertical-align: top;\n",
       "    }\n",
       "\n",
       "    .dataframe thead th {\n",
       "        text-align: right;\n",
       "    }\n",
       "</style>\n",
       "<table border=\"1\" class=\"dataframe\">\n",
       "  <thead>\n",
       "    <tr style=\"text-align: right;\">\n",
       "      <th></th>\n",
       "      <th>textID</th>\n",
       "      <th>text</th>\n",
       "      <th>selected_text</th>\n",
       "      <th>sentiment_x</th>\n",
       "      <th>sentiment_y</th>\n",
       "      <th>author</th>\n",
       "    </tr>\n",
       "  </thead>\n",
       "  <tbody>\n",
       "    <tr>\n",
       "      <th>0</th>\n",
       "      <td>cb774db0d1</td>\n",
       "      <td>I`d have responded, if I were going</td>\n",
       "      <td>I`d have responded, if I were going</td>\n",
       "      <td>neutral</td>\n",
       "      <td>NaN</td>\n",
       "      <td>NaN</td>\n",
       "    </tr>\n",
       "    <tr>\n",
       "      <th>1</th>\n",
       "      <td>549e992a42</td>\n",
       "      <td>Sooo SAD I will miss you here in San Diego!!!</td>\n",
       "      <td>Sooo SAD</td>\n",
       "      <td>negative</td>\n",
       "      <td>NaN</td>\n",
       "      <td>NaN</td>\n",
       "    </tr>\n",
       "    <tr>\n",
       "      <th>2</th>\n",
       "      <td>088c60f138</td>\n",
       "      <td>my boss is bullying me...</td>\n",
       "      <td>bullying me</td>\n",
       "      <td>negative</td>\n",
       "      <td>worry</td>\n",
       "      <td>bincho8</td>\n",
       "    </tr>\n",
       "    <tr>\n",
       "      <th>3</th>\n",
       "      <td>9642c003ef</td>\n",
       "      <td>what interview! leave me alone</td>\n",
       "      <td>leave me alone</td>\n",
       "      <td>negative</td>\n",
       "      <td>NaN</td>\n",
       "      <td>NaN</td>\n",
       "    </tr>\n",
       "    <tr>\n",
       "      <th>4</th>\n",
       "      <td>358bd9e861</td>\n",
       "      <td>Sons of ****, why couldn`t they put them on t...</td>\n",
       "      <td>Sons of ****,</td>\n",
       "      <td>negative</td>\n",
       "      <td>NaN</td>\n",
       "      <td>NaN</td>\n",
       "    </tr>\n",
       "  </tbody>\n",
       "</table>\n",
       "</div>"
      ],
      "text/plain": [
       "       textID                                               text  \\\n",
       "0  cb774db0d1                I`d have responded, if I were going   \n",
       "1  549e992a42      Sooo SAD I will miss you here in San Diego!!!   \n",
       "2  088c60f138                          my boss is bullying me...   \n",
       "3  9642c003ef                     what interview! leave me alone   \n",
       "4  358bd9e861   Sons of ****, why couldn`t they put them on t...   \n",
       "\n",
       "                         selected_text sentiment_x sentiment_y   author  \n",
       "0  I`d have responded, if I were going     neutral         NaN      NaN  \n",
       "1                             Sooo SAD    negative         NaN      NaN  \n",
       "2                          bullying me    negative       worry  bincho8  \n",
       "3                       leave me alone    negative         NaN      NaN  \n",
       "4                        Sons of ****,    negative         NaN      NaN  "
      ]
     },
     "execution_count": 23,
     "metadata": {},
     "output_type": "execute_result"
    }
   ],
   "source": [
    "train.head()"
   ]
  },
  {
   "cell_type": "code",
   "execution_count": 24,
   "metadata": {
    "ExecuteTime": {
     "end_time": "2020-06-01T06:49:37.874388Z",
     "start_time": "2020-06-01T06:49:37.866125Z"
    }
   },
   "outputs": [],
   "source": [
    "train.dropna(subset=['text'], inplace=True)"
   ]
  },
  {
   "cell_type": "code",
   "execution_count": 25,
   "metadata": {
    "ExecuteTime": {
     "end_time": "2020-06-01T06:49:39.702915Z",
     "start_time": "2020-06-01T06:49:39.658723Z"
    }
   },
   "outputs": [],
   "source": [
    "train['text'] = train['text'].apply(lambda x: ' '.join(x.strip().split()))\n",
    "train['selected_text'] = train['selected_text'].apply(\n",
    "                lambda x: ' '.join(x.strip().split()))"
   ]
  },
  {
   "cell_type": "code",
   "execution_count": 26,
   "metadata": {
    "ExecuteTime": {
     "end_time": "2020-06-01T06:49:40.269865Z",
     "start_time": "2020-06-01T06:49:39.959899Z"
    }
   },
   "outputs": [],
   "source": [
    "train['whole_sentence'] = train.apply(lambda x: len(x['selected_text'])/len(x['text'])>0.99, axis=1)"
   ]
  },
  {
   "cell_type": "code",
   "execution_count": 27,
   "metadata": {
    "ExecuteTime": {
     "end_time": "2020-06-01T06:49:40.999353Z",
     "start_time": "2020-06-01T06:49:40.987684Z"
    }
   },
   "outputs": [
    {
     "data": {
      "text/plain": [
       "sentiment_x  sentiment_y\n",
       "negative     worry           262\n",
       "             sadness         181\n",
       "             neutral          78\n",
       "             hate             46\n",
       "             surprise         29\n",
       "             empty            13\n",
       "             boredom           9\n",
       "             love              8\n",
       "             happiness         7\n",
       "             relief            7\n",
       "             enthusiasm        4\n",
       "             fun               4\n",
       "             anger             1\n",
       "neutral      neutral        1448\n",
       "             worry           801\n",
       "             sadness         473\n",
       "             happiness       424\n",
       "             surprise        248\n",
       "             relief          193\n",
       "             love            190\n",
       "             fun             189\n",
       "             empty           129\n",
       "             enthusiasm      103\n",
       "             hate             87\n",
       "             boredom          22\n",
       "             anger             9\n",
       "positive     happiness       130\n",
       "             love            109\n",
       "             neutral          73\n",
       "             worry            36\n",
       "             relief           22\n",
       "             surprise         22\n",
       "             fun              21\n",
       "             sadness          16\n",
       "             enthusiasm       10\n",
       "             empty             2\n",
       "             hate              2\n",
       "             anger             1\n",
       "Name: sentiment_y, dtype: int64"
      ]
     },
     "execution_count": 27,
     "metadata": {},
     "output_type": "execute_result"
    }
   ],
   "source": [
    "train[train['whole_sentence']==1].groupby('sentiment_x')['sentiment_y'].value_counts()"
   ]
  },
  {
   "cell_type": "code",
   "execution_count": 28,
   "metadata": {
    "ExecuteTime": {
     "end_time": "2020-06-01T06:49:54.677051Z",
     "start_time": "2020-06-01T06:49:54.667531Z"
    }
   },
   "outputs": [
    {
     "data": {
      "text/plain": [
       "FashionGuru        3\n",
       "intheglow          3\n",
       "cprsumalinog       3\n",
       "candiesandmusic    3\n",
       "libster_t          3\n",
       "                  ..\n",
       "Lynne73            1\n",
       "Tessypie           1\n",
       "babysa92           1\n",
       "l4flare            1\n",
       "ohdichi            1\n",
       "Name: author, Length: 5309, dtype: int64"
      ]
     },
     "execution_count": 28,
     "metadata": {},
     "output_type": "execute_result"
    }
   ],
   "source": [
    "train[train['whole_sentence']==1]['author'].value_counts()"
   ]
  },
  {
   "cell_type": "code",
   "execution_count": 33,
   "metadata": {
    "ExecuteTime": {
     "end_time": "2020-06-01T06:51:54.090547Z",
     "start_time": "2020-06-01T06:51:54.079003Z"
    }
   },
   "outputs": [
    {
     "data": {
      "text/html": [
       "<div>\n",
       "<style scoped>\n",
       "    .dataframe tbody tr th:only-of-type {\n",
       "        vertical-align: middle;\n",
       "    }\n",
       "\n",
       "    .dataframe tbody tr th {\n",
       "        vertical-align: top;\n",
       "    }\n",
       "\n",
       "    .dataframe thead th {\n",
       "        text-align: right;\n",
       "    }\n",
       "</style>\n",
       "<table border=\"1\" class=\"dataframe\">\n",
       "  <thead>\n",
       "    <tr style=\"text-align: right;\">\n",
       "      <th></th>\n",
       "      <th>textID</th>\n",
       "      <th>text</th>\n",
       "      <th>selected_text</th>\n",
       "      <th>sentiment_x</th>\n",
       "      <th>sentiment_y</th>\n",
       "      <th>author</th>\n",
       "      <th>whole_sentence</th>\n",
       "    </tr>\n",
       "  </thead>\n",
       "  <tbody>\n",
       "    <tr>\n",
       "      <th>21588</th>\n",
       "      <td>b943e7969b</td>\n",
       "      <td>So ... Still finishing errands for a trip tomo...</td>\n",
       "      <td>So ... Still finishing errands for a trip tomo...</td>\n",
       "      <td>neutral</td>\n",
       "      <td>worry</td>\n",
       "      <td>Lynne73</td>\n",
       "      <td>True</td>\n",
       "    </tr>\n",
       "  </tbody>\n",
       "</table>\n",
       "</div>"
      ],
      "text/plain": [
       "           textID                                               text  \\\n",
       "21588  b943e7969b  So ... Still finishing errands for a trip tomo...   \n",
       "\n",
       "                                           selected_text sentiment_x  \\\n",
       "21588  So ... Still finishing errands for a trip tomo...     neutral   \n",
       "\n",
       "      sentiment_y   author  whole_sentence  \n",
       "21588       worry  Lynne73            True  "
      ]
     },
     "execution_count": 33,
     "metadata": {},
     "output_type": "execute_result"
    }
   ],
   "source": [
    "train[train['author']=='Lynne73']"
   ]
  },
  {
   "cell_type": "code",
   "execution_count": 24,
   "metadata": {
    "ExecuteTime": {
     "end_time": "2020-05-31T09:51:35.269737Z",
     "start_time": "2020-05-31T09:51:35.264285Z"
    }
   },
   "outputs": [
    {
     "data": {
      "text/plain": [
       "sentiment_y\n",
       "anger         0.366667\n",
       "boredom       0.382716\n",
       "empty         0.582996\n",
       "enthusiasm    0.600000\n",
       "fun           0.507109\n",
       "happiness     0.428571\n",
       "hate          0.321429\n",
       "love          0.333696\n",
       "neutral       0.684503\n",
       "relief        0.511521\n",
       "sadness       0.425667\n",
       "surprise      0.505922\n",
       "worry         0.434903\n",
       "Name: whole_sentence, dtype: float64"
      ]
     },
     "execution_count": 24,
     "metadata": {},
     "output_type": "execute_result"
    }
   ],
   "source": [
    "train.groupby('sentiment_y')['whole_sentence'].mean()"
   ]
  },
  {
   "cell_type": "code",
   "execution_count": 25,
   "metadata": {
    "ExecuteTime": {
     "end_time": "2020-05-31T09:51:35.633469Z",
     "start_time": "2020-05-31T09:51:35.626358Z"
    }
   },
   "outputs": [
    {
     "data": {
      "text/plain": [
       "sentiment_x  sentiment_y\n",
       "negative     anger          0.066667\n",
       "             boredom        0.160714\n",
       "             empty          0.160494\n",
       "             enthusiasm     0.129032\n",
       "             fun            0.093023\n",
       "             happiness      0.140000\n",
       "             hate           0.149351\n",
       "             love           0.131148\n",
       "             neutral        0.192118\n",
       "             relief         0.122807\n",
       "             sadness        0.192758\n",
       "             surprise       0.169591\n",
       "             worry          0.188897\n",
       "neutral      anger          1.000000\n",
       "             boredom        1.000000\n",
       "             empty          0.908451\n",
       "             enthusiasm     0.980952\n",
       "             fun            0.908654\n",
       "             happiness      0.946429\n",
       "             hate           0.935484\n",
       "             love           0.922330\n",
       "             neutral        0.942708\n",
       "             relief         0.960199\n",
       "             sadness        0.934783\n",
       "             surprise       0.928839\n",
       "             worry          0.952438\n",
       "positive     anger          0.166667\n",
       "             boredom        0.000000\n",
       "             empty          0.083333\n",
       "             enthusiasm     0.169492\n",
       "             fun            0.122807\n",
       "             happiness      0.160296\n",
       "             hate           0.105263\n",
       "             love           0.166922\n",
       "             neutral        0.185279\n",
       "             relief         0.125000\n",
       "             sadness        0.124031\n",
       "             surprise       0.143791\n",
       "             worry          0.120401\n",
       "Name: whole_sentence, dtype: float64"
      ]
     },
     "execution_count": 25,
     "metadata": {},
     "output_type": "execute_result"
    }
   ],
   "source": [
    "train.groupby(['sentiment_x','sentiment_y'])['whole_sentence'].mean()"
   ]
  },
  {
   "cell_type": "code",
   "execution_count": 26,
   "metadata": {
    "ExecuteTime": {
     "end_time": "2020-05-31T09:51:37.875551Z",
     "start_time": "2020-05-31T09:51:37.871132Z"
    }
   },
   "outputs": [
    {
     "data": {
      "text/plain": [
       "sentiment_x\n",
       "negative    0.147539\n",
       "neutral     0.905460\n",
       "positive    0.130972\n",
       "Name: whole_sentence, dtype: float64"
      ]
     },
     "execution_count": 26,
     "metadata": {},
     "output_type": "execute_result"
    }
   ],
   "source": [
    "train.groupby(['sentiment_x'])['whole_sentence'].mean()"
   ]
  },
  {
   "cell_type": "code",
   "execution_count": 27,
   "metadata": {
    "ExecuteTime": {
     "end_time": "2020-05-31T09:51:38.210566Z",
     "start_time": "2020-05-31T09:51:38.208258Z"
    }
   },
   "outputs": [
    {
     "data": {
      "text/plain": [
       "(27480, 6)"
      ]
     },
     "execution_count": 27,
     "metadata": {},
     "output_type": "execute_result"
    }
   ],
   "source": [
    "train.shape"
   ]
  },
  {
   "cell_type": "code",
   "execution_count": 23,
   "metadata": {
    "ExecuteTime": {
     "end_time": "2020-05-31T09:51:35.112462Z",
     "start_time": "2020-05-31T09:51:35.103019Z"
    }
   },
   "outputs": [
    {
     "data": {
      "text/plain": [
       "sentiment_x  sentiment_y\n",
       "negative     worry          1387\n",
       "             sadness         939\n",
       "             neutral         406\n",
       "             hate            308\n",
       "             surprise        171\n",
       "             empty            81\n",
       "             love             61\n",
       "             relief           57\n",
       "             boredom          56\n",
       "             happiness        50\n",
       "             fun              43\n",
       "             enthusiasm       31\n",
       "             anger            15\n",
       "neutral      neutral        1536\n",
       "             worry           841\n",
       "             sadness         506\n",
       "             happiness       448\n",
       "             surprise        267\n",
       "             fun             208\n",
       "             love            206\n",
       "             relief          201\n",
       "             empty           142\n",
       "             enthusiasm      105\n",
       "             hate             93\n",
       "             boredom          22\n",
       "             anger             9\n",
       "positive     happiness       811\n",
       "             love            653\n",
       "             neutral         394\n",
       "             worry           299\n",
       "             relief          176\n",
       "             fun             171\n",
       "             surprise        153\n",
       "             sadness         129\n",
       "             enthusiasm       59\n",
       "             empty            24\n",
       "             hate             19\n",
       "             anger             6\n",
       "             boredom           3\n",
       "Name: sentiment_y, dtype: int64"
      ]
     },
     "execution_count": 23,
     "metadata": {},
     "output_type": "execute_result"
    }
   ],
   "source": [
    "train.groupby('sentiment_x')['sentiment_y'].value_counts()"
   ]
  },
  {
   "cell_type": "code",
   "execution_count": 43,
   "metadata": {
    "ExecuteTime": {
     "end_time": "2020-05-31T10:34:41.541312Z",
     "start_time": "2020-05-31T10:34:41.530533Z"
    }
   },
   "outputs": [
    {
     "data": {
      "text/html": [
       "<div>\n",
       "<style scoped>\n",
       "    .dataframe tbody tr th:only-of-type {\n",
       "        vertical-align: middle;\n",
       "    }\n",
       "\n",
       "    .dataframe tbody tr th {\n",
       "        vertical-align: top;\n",
       "    }\n",
       "\n",
       "    .dataframe thead th {\n",
       "        text-align: right;\n",
       "    }\n",
       "</style>\n",
       "<table border=\"1\" class=\"dataframe\">\n",
       "  <thead>\n",
       "    <tr style=\"text-align: right;\">\n",
       "      <th></th>\n",
       "      <th>textID</th>\n",
       "      <th>text</th>\n",
       "      <th>selected_text</th>\n",
       "      <th>sentiment_x</th>\n",
       "      <th>sentiment_y</th>\n",
       "      <th>whole_sentence</th>\n",
       "    </tr>\n",
       "  </thead>\n",
       "  <tbody>\n",
       "    <tr>\n",
       "      <th>23735</th>\n",
       "      <td>ff2788e53e</td>\n",
       "      <td>_frog... yes they ARE!!</td>\n",
       "      <td>yes they ARE!!</td>\n",
       "      <td>positive</td>\n",
       "      <td>neutral</td>\n",
       "      <td>False</td>\n",
       "    </tr>\n",
       "    <tr>\n",
       "      <th>20986</th>\n",
       "      <td>34022c6e5f</td>\n",
       "      <td>Good B-movie... Starship Troopers is cool! Cit...</td>\n",
       "      <td>Good B-movie..</td>\n",
       "      <td>positive</td>\n",
       "      <td>neutral</td>\n",
       "      <td>False</td>\n",
       "    </tr>\n",
       "    <tr>\n",
       "      <th>1452</th>\n",
       "      <td>edfc9878fd</td>\n",
       "      <td>just come in from the garden. It is very warm ...</td>\n",
       "      <td>beautiful.</td>\n",
       "      <td>positive</td>\n",
       "      <td>neutral</td>\n",
       "      <td>False</td>\n",
       "    </tr>\n",
       "    <tr>\n",
       "      <th>13815</th>\n",
       "      <td>d2679b98ab</td>\n",
       "      <td>is chilling at home</td>\n",
       "      <td>is chilling at home</td>\n",
       "      <td>positive</td>\n",
       "      <td>neutral</td>\n",
       "      <td>True</td>\n",
       "    </tr>\n",
       "    <tr>\n",
       "      <th>25832</th>\n",
       "      <td>3d30b8a120</td>\n",
       "      <td>Just saw the Toy Story 3 trailer! It`s about t...</td>\n",
       "      <td>It`s about to get EPIC!</td>\n",
       "      <td>positive</td>\n",
       "      <td>neutral</td>\n",
       "      <td>False</td>\n",
       "    </tr>\n",
       "    <tr>\n",
       "      <th>11916</th>\n",
       "      <td>4358e192f8</td>\n",
       "      <td>Well, I just need to get some motivation, and ...</td>\n",
       "      <td>it`s such a lovely day!</td>\n",
       "      <td>positive</td>\n",
       "      <td>neutral</td>\n",
       "      <td>False</td>\n",
       "    </tr>\n",
       "    <tr>\n",
       "      <th>16467</th>\n",
       "      <td>8caf9852b4</td>\n",
       "      <td>bout tuh head out an find sum wher tuh go an c...</td>\n",
       "      <td>chill</td>\n",
       "      <td>positive</td>\n",
       "      <td>neutral</td>\n",
       "      <td>False</td>\n",
       "    </tr>\n",
       "    <tr>\n",
       "      <th>25099</th>\n",
       "      <td>277d5a930c</td>\n",
       "      <td>_a_michael i plan on it! Goodnight</td>\n",
       "      <td>Goodnight</td>\n",
       "      <td>positive</td>\n",
       "      <td>neutral</td>\n",
       "      <td>False</td>\n",
       "    </tr>\n",
       "    <tr>\n",
       "      <th>24738</th>\n",
       "      <td>0a75e980ad</td>\n",
       "      <td>at work. these five year olds are gonna keep m...</td>\n",
       "      <td>young.</td>\n",
       "      <td>positive</td>\n",
       "      <td>neutral</td>\n",
       "      <td>False</td>\n",
       "    </tr>\n",
       "    <tr>\n",
       "      <th>18399</th>\n",
       "      <td>f17bce53be</td>\n",
       "      <td>Going to bed. Today was another good, if uneve...</td>\n",
       "      <td>good,</td>\n",
       "      <td>positive</td>\n",
       "      <td>neutral</td>\n",
       "      <td>False</td>\n",
       "    </tr>\n",
       "  </tbody>\n",
       "</table>\n",
       "</div>"
      ],
      "text/plain": [
       "           textID                                               text  \\\n",
       "23735  ff2788e53e                            _frog... yes they ARE!!   \n",
       "20986  34022c6e5f  Good B-movie... Starship Troopers is cool! Cit...   \n",
       "1452   edfc9878fd  just come in from the garden. It is very warm ...   \n",
       "13815  d2679b98ab                                is chilling at home   \n",
       "25832  3d30b8a120  Just saw the Toy Story 3 trailer! It`s about t...   \n",
       "11916  4358e192f8  Well, I just need to get some motivation, and ...   \n",
       "16467  8caf9852b4  bout tuh head out an find sum wher tuh go an c...   \n",
       "25099  277d5a930c                 _a_michael i plan on it! Goodnight   \n",
       "24738  0a75e980ad  at work. these five year olds are gonna keep m...   \n",
       "18399  f17bce53be  Going to bed. Today was another good, if uneve...   \n",
       "\n",
       "                 selected_text sentiment_x sentiment_y  whole_sentence  \n",
       "23735           yes they ARE!!    positive     neutral           False  \n",
       "20986           Good B-movie..    positive     neutral           False  \n",
       "1452                beautiful.    positive     neutral           False  \n",
       "13815      is chilling at home    positive     neutral            True  \n",
       "25832  It`s about to get EPIC!    positive     neutral           False  \n",
       "11916  it`s such a lovely day!    positive     neutral           False  \n",
       "16467                    chill    positive     neutral           False  \n",
       "25099                Goodnight    positive     neutral           False  \n",
       "24738                   young.    positive     neutral           False  \n",
       "18399                    good,    positive     neutral           False  "
      ]
     },
     "execution_count": 43,
     "metadata": {},
     "output_type": "execute_result"
    }
   ],
   "source": [
    "train[(train['sentiment_x']=='positive')&(train['sentiment_y']=='neutral')].sample(n=10)"
   ]
  },
  {
   "cell_type": "code",
   "execution_count": null,
   "metadata": {},
   "outputs": [],
   "source": []
  }
 ],
 "metadata": {
  "kernelspec": {
   "display_name": "Python 3",
   "language": "python",
   "name": "python3"
  },
  "language_info": {
   "codemirror_mode": {
    "name": "ipython",
    "version": 3
   },
   "file_extension": ".py",
   "mimetype": "text/x-python",
   "name": "python",
   "nbconvert_exporter": "python",
   "pygments_lexer": "ipython3",
   "version": "3.7.1"
  }
 },
 "nbformat": 4,
 "nbformat_minor": 2
}
