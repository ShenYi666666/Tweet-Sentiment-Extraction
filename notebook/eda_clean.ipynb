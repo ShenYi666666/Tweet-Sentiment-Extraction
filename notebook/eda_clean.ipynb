{
 "cells": [
  {
   "cell_type": "code",
   "execution_count": 2,
   "metadata": {
    "ExecuteTime": {
     "end_time": "2020-04-18T12:25:55.987106Z",
     "start_time": "2020-04-18T12:25:55.984940Z"
    }
   },
   "outputs": [],
   "source": [
    "import pandas as pd\n",
    "import numpy as np\n",
    "from transformers import BertTokenizer\n",
    "from transformers import RobertaTokenizer\n",
    "import re"
   ]
  },
  {
   "cell_type": "code",
   "execution_count": 7,
   "metadata": {
    "ExecuteTime": {
     "end_time": "2020-04-18T12:27:50.828310Z",
     "start_time": "2020-04-18T12:27:50.826299Z"
    }
   },
   "outputs": [],
   "source": [
    "pattern = r\"\\w+[.]{3,5}\\w+\"\n",
    "pattern = re.compile(pattern)"
   ]
  },
  {
   "cell_type": "code",
   "execution_count": 9,
   "metadata": {
    "ExecuteTime": {
     "end_time": "2020-04-18T12:27:54.690690Z",
     "start_time": "2020-04-18T12:27:54.686782Z"
    }
   },
   "outputs": [
    {
     "data": {
      "text/plain": [
       "[]"
      ]
     },
     "execution_count": 9,
     "metadata": {},
     "output_type": "execute_result"
    }
   ],
   "source": [
    "pattern.findall('...')"
   ]
  },
  {
   "cell_type": "code",
   "execution_count": 10,
   "metadata": {
    "ExecuteTime": {
     "end_time": "2020-04-18T12:28:03.439194Z",
     "start_time": "2020-04-18T12:28:03.396286Z"
    }
   },
   "outputs": [],
   "source": [
    "train = pd.read_csv('../input/tweet-sentiment-extraction/train.csv')"
   ]
  },
  {
   "cell_type": "code",
   "execution_count": 11,
   "metadata": {
    "ExecuteTime": {
     "end_time": "2020-04-18T12:28:09.012829Z",
     "start_time": "2020-04-18T12:28:08.985613Z"
    }
   },
   "outputs": [],
   "source": [
    "train.dropna(subset=['text','selected_text'], how='any', inplace=True)"
   ]
  },
  {
   "cell_type": "code",
   "execution_count": 12,
   "metadata": {
    "ExecuteTime": {
     "end_time": "2020-04-18T12:28:35.148127Z",
     "start_time": "2020-04-18T12:28:35.146137Z"
    }
   },
   "outputs": [],
   "source": [
    "def has_pattern(x):\n",
    "    if len(pattern.findall(x))>0:\n",
    "        return True\n",
    "    return False"
   ]
  },
  {
   "cell_type": "code",
   "execution_count": 13,
   "metadata": {
    "ExecuteTime": {
     "end_time": "2020-04-18T12:28:59.946976Z",
     "start_time": "2020-04-18T12:28:59.849891Z"
    }
   },
   "outputs": [],
   "source": [
    "train['has_pattern'] = train['text'].apply(lambda x: has_pattern(x))"
   ]
  },
  {
   "cell_type": "code",
   "execution_count": 21,
   "metadata": {
    "ExecuteTime": {
     "end_time": "2020-04-18T12:33:49.946968Z",
     "start_time": "2020-04-18T12:33:49.934802Z"
    }
   },
   "outputs": [
    {
     "data": {
      "text/html": [
       "<div>\n",
       "<style scoped>\n",
       "    .dataframe tbody tr th:only-of-type {\n",
       "        vertical-align: middle;\n",
       "    }\n",
       "\n",
       "    .dataframe tbody tr th {\n",
       "        vertical-align: top;\n",
       "    }\n",
       "\n",
       "    .dataframe thead th {\n",
       "        text-align: right;\n",
       "    }\n",
       "</style>\n",
       "<table border=\"1\" class=\"dataframe\">\n",
       "  <thead>\n",
       "    <tr style=\"text-align: right;\">\n",
       "      <th></th>\n",
       "      <th>textID</th>\n",
       "      <th>text</th>\n",
       "      <th>selected_text</th>\n",
       "      <th>sentiment</th>\n",
       "      <th>has_pattern</th>\n",
       "    </tr>\n",
       "  </thead>\n",
       "  <tbody>\n",
       "    <tr>\n",
       "      <th>8005</th>\n",
       "      <td>40d3b2d03c</td>\n",
       "      <td>You right...we are 'arguing' about nothing......</td>\n",
       "      <td>.we are 'arguing' about nothing.</td>\n",
       "      <td>negative</td>\n",
       "      <td>True</td>\n",
       "    </tr>\n",
       "    <tr>\n",
       "      <th>20014</th>\n",
       "      <td>ce4f7c4a1c</td>\n",
       "      <td>on our way home after seeing Rodney Atkins in ...</td>\n",
       "      <td>.I Love him! Thanks Bob</td>\n",
       "      <td>positive</td>\n",
       "      <td>True</td>\n",
       "    </tr>\n",
       "    <tr>\n",
       "      <th>2008</th>\n",
       "      <td>35a2e01940</td>\n",
       "      <td>school and the guy i like was talking to the g...</td>\n",
       "      <td>.ughhhh!</td>\n",
       "      <td>negative</td>\n",
       "      <td>True</td>\n",
       "    </tr>\n",
       "    <tr>\n",
       "      <th>22117</th>\n",
       "      <td>079da73fd1</td>\n",
       "      <td>another fun night!!  chilled wit my homie @ gr...</td>\n",
       "      <td>.good</td>\n",
       "      <td>positive</td>\n",
       "      <td>True</td>\n",
       "    </tr>\n",
       "    <tr>\n",
       "      <th>160</th>\n",
       "      <td>e4e9b8713a</td>\n",
       "      <td>My back hurts...really bad</td>\n",
       "      <td>.really bad</td>\n",
       "      <td>negative</td>\n",
       "      <td>True</td>\n",
       "    </tr>\n",
       "    <tr>\n",
       "      <th>27</th>\n",
       "      <td>bdc32ea43c</td>\n",
       "      <td>On the way to Malaysia...no internet access to...</td>\n",
       "      <td>.no internet</td>\n",
       "      <td>negative</td>\n",
       "      <td>True</td>\n",
       "    </tr>\n",
       "    <tr>\n",
       "      <th>4404</th>\n",
       "      <td>32c85dc305</td>\n",
       "      <td>Well the one thing where you lay on the floor...</td>\n",
       "      <td>.I`m very out of shape</td>\n",
       "      <td>negative</td>\n",
       "      <td>True</td>\n",
       "    </tr>\n",
       "    <tr>\n",
       "      <th>18375</th>\n",
       "      <td>1abbb4c82f</td>\n",
       "      <td>Can`t give blood within a year of getting a ta...</td>\n",
       "      <td>.Im gutted</td>\n",
       "      <td>negative</td>\n",
       "      <td>True</td>\n",
       "    </tr>\n",
       "    <tr>\n",
       "      <th>23372</th>\n",
       "      <td>7f72544581</td>\n",
       "      <td>Graduation tonight  I`m gonna miss my boys...M...</td>\n",
       "      <td>.I love you guys</td>\n",
       "      <td>positive</td>\n",
       "      <td>True</td>\n",
       "    </tr>\n",
       "    <tr>\n",
       "      <th>23528</th>\n",
       "      <td>ea00ceb956</td>\n",
       "      <td>Ok, I`m going outside...wish i was playing bas...</td>\n",
       "      <td>.wish</td>\n",
       "      <td>positive</td>\n",
       "      <td>True</td>\n",
       "    </tr>\n",
       "  </tbody>\n",
       "</table>\n",
       "</div>"
      ],
      "text/plain": [
       "           textID                                               text  \\\n",
       "8005   40d3b2d03c   You right...we are 'arguing' about nothing......   \n",
       "20014  ce4f7c4a1c  on our way home after seeing Rodney Atkins in ...   \n",
       "2008   35a2e01940  school and the guy i like was talking to the g...   \n",
       "22117  079da73fd1  another fun night!!  chilled wit my homie @ gr...   \n",
       "160    e4e9b8713a                         My back hurts...really bad   \n",
       "27     bdc32ea43c  On the way to Malaysia...no internet access to...   \n",
       "4404   32c85dc305   Well the one thing where you lay on the floor...   \n",
       "18375  1abbb4c82f  Can`t give blood within a year of getting a ta...   \n",
       "23372  7f72544581  Graduation tonight  I`m gonna miss my boys...M...   \n",
       "23528  ea00ceb956  Ok, I`m going outside...wish i was playing bas...   \n",
       "\n",
       "                          selected_text sentiment  has_pattern  \n",
       "8005   .we are 'arguing' about nothing.  negative         True  \n",
       "20014           .I Love him! Thanks Bob  positive         True  \n",
       "2008                           .ughhhh!  negative         True  \n",
       "22117                             .good  positive         True  \n",
       "160                         .really bad  negative         True  \n",
       "27                         .no internet  negative         True  \n",
       "4404             .I`m very out of shape  negative         True  \n",
       "18375                        .Im gutted  negative         True  \n",
       "23372                  .I love you guys  positive         True  \n",
       "23528                             .wish  positive         True  "
      ]
     },
     "execution_count": 21,
     "metadata": {},
     "output_type": "execute_result"
    }
   ],
   "source": [
    "train[(train['has_pattern']==True)&(train['selected_text'].str.startswith('.'))].sample(n=10)"
   ]
  },
  {
   "cell_type": "code",
   "execution_count": 22,
   "metadata": {
    "ExecuteTime": {
     "end_time": "2020-04-18T12:34:05.280978Z",
     "start_time": "2020-04-18T12:34:05.273204Z"
    }
   },
   "outputs": [
    {
     "name": "stdout",
     "output_type": "stream",
     "text": [
      " Well the one thing where you lay on the floor I couldn`t do all of them....I`m very out of shape\n"
     ]
    }
   ],
   "source": [
    "print(train.loc[4404, 'text'])"
   ]
  },
  {
   "cell_type": "code",
   "execution_count": null,
   "metadata": {},
   "outputs": [],
   "source": []
  }
 ],
 "metadata": {
  "kernelspec": {
   "display_name": "Python 3",
   "language": "python",
   "name": "python3"
  },
  "language_info": {
   "codemirror_mode": {
    "name": "ipython",
    "version": 3
   },
   "file_extension": ".py",
   "mimetype": "text/x-python",
   "name": "python",
   "nbconvert_exporter": "python",
   "pygments_lexer": "ipython3",
   "version": "3.7.1"
  }
 },
 "nbformat": 4,
 "nbformat_minor": 2
}
