{
 "cells": [
  {
   "cell_type": "code",
   "execution_count": 1,
   "metadata": {
    "ExecuteTime": {
     "end_time": "2020-06-09T11:20:57.450995Z",
     "start_time": "2020-06-09T11:20:57.221206Z"
    }
   },
   "outputs": [],
   "source": [
    "import pandas as pd\n",
    "import numpy as np\n",
    "\n",
    "%matplotlib inline"
   ]
  },
  {
   "cell_type": "code",
   "execution_count": 2,
   "metadata": {
    "ExecuteTime": {
     "end_time": "2020-06-09T11:21:17.683068Z",
     "start_time": "2020-06-09T11:21:17.657561Z"
    }
   },
   "outputs": [],
   "source": [
    "train = pd.read_pickle('../input/tweet-sentiment-extraction/preds.pkl')"
   ]
  },
  {
   "cell_type": "code",
   "execution_count": 3,
   "metadata": {
    "ExecuteTime": {
     "end_time": "2020-06-09T11:21:19.090664Z",
     "start_time": "2020-06-09T11:21:19.082248Z"
    }
   },
   "outputs": [],
   "source": [
    "train.dropna(subset=['text'], inplace=True)"
   ]
  },
  {
   "cell_type": "code",
   "execution_count": 4,
   "metadata": {
    "ExecuteTime": {
     "end_time": "2020-06-09T11:21:20.427450Z",
     "start_time": "2020-06-09T11:21:20.423224Z"
    }
   },
   "outputs": [],
   "source": [
    "def get_pos(x, y):\n",
    "    return x.find(y)\n",
    "\n",
    "def get_extra_space_count(x):\n",
    "    prev_space = True\n",
    "    space_counts = []\n",
    "    count = 0\n",
    "    for c in x:\n",
    "        if c==' ':\n",
    "            if prev_space:\n",
    "                count+=1\n",
    "            space_counts.append(count)\n",
    "            prev_space = True\n",
    "        else:\n",
    "            space_counts.append(count)\n",
    "            prev_space = False\n",
    "    return space_counts"
   ]
  },
  {
   "cell_type": "code",
   "execution_count": 5,
   "metadata": {
    "ExecuteTime": {
     "end_time": "2020-06-09T11:21:21.450349Z",
     "start_time": "2020-06-09T11:21:21.372354Z"
    }
   },
   "outputs": [],
   "source": [
    "train['clean_text'] = train['text'].apply(lambda x: ' '.join(x.strip().split()))\n",
    "train['len_delta'] = train['text'].str.len()-train['clean_text'].str.len()\n",
    "train['whole'] = (train.selected_text.str.len()/train.text.str.len())>0.9"
   ]
  },
  {
   "cell_type": "code",
   "execution_count": 6,
   "metadata": {
    "ExecuteTime": {
     "end_time": "2020-06-09T11:21:23.040809Z",
     "start_time": "2020-06-09T11:21:21.707346Z"
    }
   },
   "outputs": [],
   "source": [
    "train['text'] = train['text'].str.rstrip()\n",
    "train['selected_text'] = train['selected_text'].str.rstrip()\n",
    "\n",
    "train['extra_space'] = train['text'].apply(lambda x: get_extra_space_count(x))\n",
    "\n",
    "\n",
    "train['clean_st'] = train['selected_text'].apply(lambda x: ' '.join(x.strip().split()))\n",
    "train['start_pos_origin'] = train.apply(lambda x: get_pos(x['text'], x['selected_text']), axis=1)\n",
    "train['end_pos_origin'] = train['start_pos_origin']+train['selected_text'].str.len()\n",
    "train['to_end'] = train['end_pos_origin']>=train['text'].str.len()\n",
    "\n",
    "train['start_pos_clean'] = train.apply(lambda x: get_pos(x['clean_text'], x['clean_st']), axis=1)\n",
    "train['end_pos_clean'] = train['start_pos_clean']+train['clean_st'].str.len()\n",
    "\n",
    "train['shift'] = train.apply(lambda x: x['extra_space'][x['end_pos_origin']-1], axis=1)"
   ]
  },
  {
   "cell_type": "code",
   "execution_count": 7,
   "metadata": {
    "ExecuteTime": {
     "end_time": "2020-06-09T11:21:23.044160Z",
     "start_time": "2020-06-09T11:21:23.041799Z"
    }
   },
   "outputs": [],
   "source": [
    "def broken_start(x, y):\n",
    "    \n",
    "    if y>0 and x[y-1] not in [' ']: #.isalpha():\n",
    "        return True\n",
    "    return False\n",
    "\n",
    "def broken_end(x, y):\n",
    "    if y<len(x) and x[y]!=' ':\n",
    "        return True\n",
    "    return False"
   ]
  },
  {
   "cell_type": "code",
   "execution_count": 8,
   "metadata": {
    "ExecuteTime": {
     "end_time": "2020-06-09T11:21:23.744578Z",
     "start_time": "2020-06-09T11:21:23.045033Z"
    }
   },
   "outputs": [],
   "source": [
    "train['broken_start'] = train.apply(lambda x: broken_start(x['clean_text'], x['start_pos_clean']), axis=1)\n",
    "train['broken_end'] = train.apply(lambda x: broken_end(x['clean_text'], x['end_pos_clean']), axis=1)\n",
    "train['broken'] = train['broken_start']|train['broken_end']"
   ]
  },
  {
   "cell_type": "code",
   "execution_count": 9,
   "metadata": {
    "ExecuteTime": {
     "end_time": "2020-06-09T11:21:23.912299Z",
     "start_time": "2020-06-09T11:21:23.897099Z"
    }
   },
   "outputs": [
    {
     "data": {
      "text/plain": [
       "0     12813\n",
       "1     10739\n",
       "2      3068\n",
       "3       613\n",
       "4       146\n",
       "5        62\n",
       "6        20\n",
       "7         8\n",
       "8         4\n",
       "9         3\n",
       "15        1\n",
       "12        1\n",
       "11        1\n",
       "20        1\n",
       "Name: shift, dtype: int64"
      ]
     },
     "execution_count": 9,
     "metadata": {},
     "output_type": "execute_result"
    }
   ],
   "source": [
    "train['shift'].value_counts()"
   ]
  },
  {
   "cell_type": "code",
   "execution_count": 10,
   "metadata": {
    "ExecuteTime": {
     "end_time": "2020-06-09T11:21:28.792229Z",
     "start_time": "2020-06-09T11:21:28.788373Z"
    }
   },
   "outputs": [],
   "source": [
    "def get_clean_label(x):\n",
    "    shift = x['shift']\n",
    "    if shift < 1 or x['start_pos_clean'] == 0:\n",
    "        return x['selected_text']\n",
    "\n",
    "    # 不修复shift=1不断头的\n",
    "    if shift==1 and  not x['broken_start']:\n",
    "        return x['selected_text']\n",
    "\n",
    "    text = x['text']\n",
    "    start = x['start_pos_origin']\n",
    "    end = x['end_pos_origin']\n",
    "\n",
    "#     while(len(text[start+shift-1:end+shift-1].strip()) == 0):\n",
    "#         shift += 1\n",
    "    if shift==1:\n",
    "        new_st = text[start+shift:end].strip()\n",
    "    else:\n",
    "        # 对于shift>1的，都应该修复，除非修复之后还是断头\n",
    "        parts = x['selected_text'].split()\n",
    "        \n",
    "        if len(parts)==1 or len(parts[0])>shift:\n",
    "            return x['selected_text']\n",
    "        else:\n",
    "            new_st = text[start+shift:end+shift-1].strip()\n",
    "    assert len(new_st)>0\n",
    "    return new_st"
   ]
  },
  {
   "cell_type": "code",
   "execution_count": 11,
   "metadata": {
    "ExecuteTime": {
     "end_time": "2020-06-09T11:21:29.510276Z",
     "start_time": "2020-06-09T11:21:29.036054Z"
    }
   },
   "outputs": [],
   "source": [
    "train['new_st'] = train.apply(lambda x: get_clean_label(x), axis=1)"
   ]
  },
  {
   "cell_type": "code",
   "execution_count": 12,
   "metadata": {
    "ExecuteTime": {
     "end_time": "2020-06-09T11:21:43.502711Z",
     "start_time": "2020-06-09T11:21:43.481100Z"
    }
   },
   "outputs": [
    {
     "data": {
      "text/html": [
       "<div>\n",
       "<style scoped>\n",
       "    .dataframe tbody tr th:only-of-type {\n",
       "        vertical-align: middle;\n",
       "    }\n",
       "\n",
       "    .dataframe tbody tr th {\n",
       "        vertical-align: top;\n",
       "    }\n",
       "\n",
       "    .dataframe thead th {\n",
       "        text-align: right;\n",
       "    }\n",
       "</style>\n",
       "<table border=\"1\" class=\"dataframe\">\n",
       "  <thead>\n",
       "    <tr style=\"text-align: right;\">\n",
       "      <th></th>\n",
       "      <th>textID</th>\n",
       "      <th>text</th>\n",
       "      <th>selected_text</th>\n",
       "      <th>sentiment</th>\n",
       "      <th>kfold</th>\n",
       "      <th>pred</th>\n",
       "      <th>raw_pred</th>\n",
       "      <th>score</th>\n",
       "      <th>whole_pred</th>\n",
       "      <th>clean_text</th>\n",
       "      <th>...</th>\n",
       "      <th>start_pos_origin</th>\n",
       "      <th>end_pos_origin</th>\n",
       "      <th>to_end</th>\n",
       "      <th>start_pos_clean</th>\n",
       "      <th>end_pos_clean</th>\n",
       "      <th>shift</th>\n",
       "      <th>broken_start</th>\n",
       "      <th>broken_end</th>\n",
       "      <th>broken</th>\n",
       "      <th>new_st</th>\n",
       "    </tr>\n",
       "  </thead>\n",
       "  <tbody>\n",
       "    <tr>\n",
       "      <th>0</th>\n",
       "      <td>f7fdea625a</td>\n",
       "      <td>i`m so bored i can barely even tweet. i have n...</td>\n",
       "      <td>bored</td>\n",
       "      <td>negative</td>\n",
       "      <td>0</td>\n",
       "      <td>bored</td>\n",
       "      <td>bored</td>\n",
       "      <td>1.260304</td>\n",
       "      <td>0.068662</td>\n",
       "      <td>i`m so bored i can barely even tweet. i have n...</td>\n",
       "      <td>...</td>\n",
       "      <td>7</td>\n",
       "      <td>12</td>\n",
       "      <td>False</td>\n",
       "      <td>7</td>\n",
       "      <td>12</td>\n",
       "      <td>0</td>\n",
       "      <td>False</td>\n",
       "      <td>False</td>\n",
       "      <td>False</td>\n",
       "      <td>bored</td>\n",
       "    </tr>\n",
       "    <tr>\n",
       "      <th>1</th>\n",
       "      <td>c19de2c75b</td>\n",
       "      <td>awwwwwwwwww  thats jus...awwwww.did she get t...</td>\n",
       "      <td>awwwwwwwwww  thats jus...awwwww.did she get to...</td>\n",
       "      <td>neutral</td>\n",
       "      <td>0</td>\n",
       "      <td>awwwwwwwwww  thats jus...awwwww.did she get t...</td>\n",
       "      <td>awwwwwwwwww  thats jus...awwwww.did she get t...</td>\n",
       "      <td>1.927268</td>\n",
       "      <td>0.918263</td>\n",
       "      <td>awwwwwwwwww thats jus...awwwww.did she get to ...</td>\n",
       "      <td>...</td>\n",
       "      <td>1</td>\n",
       "      <td>65</td>\n",
       "      <td>True</td>\n",
       "      <td>0</td>\n",
       "      <td>63</td>\n",
       "      <td>2</td>\n",
       "      <td>False</td>\n",
       "      <td>False</td>\n",
       "      <td>False</td>\n",
       "      <td>awwwwwwwwww  thats jus...awwwww.did she get to...</td>\n",
       "    </tr>\n",
       "    <tr>\n",
       "      <th>2</th>\n",
       "      <td>0f963af18f</td>\n",
       "      <td>I did not twitt yesterday cause it was a very ...</td>\n",
       "      <td>I can not sleep</td>\n",
       "      <td>negative</td>\n",
       "      <td>0</td>\n",
       "      <td>I can not sleep</td>\n",
       "      <td>I can not sleep</td>\n",
       "      <td>0.706122</td>\n",
       "      <td>0.060505</td>\n",
       "      <td>I did not twitt yesterday cause it was a very ...</td>\n",
       "      <td>...</td>\n",
       "      <td>86</td>\n",
       "      <td>101</td>\n",
       "      <td>False</td>\n",
       "      <td>85</td>\n",
       "      <td>100</td>\n",
       "      <td>1</td>\n",
       "      <td>False</td>\n",
       "      <td>False</td>\n",
       "      <td>False</td>\n",
       "      <td>I can not sleep</td>\n",
       "    </tr>\n",
       "    <tr>\n",
       "      <th>3</th>\n",
       "      <td>0583c78cc1</td>\n",
       "      <td>Congratulation`s to phil packer on completing ...</td>\n",
       "      <td>Congratulation`s</td>\n",
       "      <td>positive</td>\n",
       "      <td>0</td>\n",
       "      <td>Congratulation`s to phil packer on completing ...</td>\n",
       "      <td>Congratulation`s to phil packer on completing ...</td>\n",
       "      <td>0.820241</td>\n",
       "      <td>0.080782</td>\n",
       "      <td>Congratulation`s to phil packer on completing ...</td>\n",
       "      <td>...</td>\n",
       "      <td>0</td>\n",
       "      <td>16</td>\n",
       "      <td>False</td>\n",
       "      <td>0</td>\n",
       "      <td>16</td>\n",
       "      <td>0</td>\n",
       "      <td>False</td>\n",
       "      <td>False</td>\n",
       "      <td>False</td>\n",
       "      <td>Congratulation`s</td>\n",
       "    </tr>\n",
       "    <tr>\n",
       "      <th>4</th>\n",
       "      <td>1cdb444ea5</td>\n",
       "      <td>O`Charleys? Pretty good. Especially when its f...</td>\n",
       "      <td>Pretty good.</td>\n",
       "      <td>positive</td>\n",
       "      <td>0</td>\n",
       "      <td>Pretty good.</td>\n",
       "      <td>Pretty good.</td>\n",
       "      <td>1.386945</td>\n",
       "      <td>0.057058</td>\n",
       "      <td>O`Charleys? Pretty good. Especially when its f...</td>\n",
       "      <td>...</td>\n",
       "      <td>12</td>\n",
       "      <td>24</td>\n",
       "      <td>False</td>\n",
       "      <td>12</td>\n",
       "      <td>24</td>\n",
       "      <td>0</td>\n",
       "      <td>False</td>\n",
       "      <td>False</td>\n",
       "      <td>False</td>\n",
       "      <td>Pretty good.</td>\n",
       "    </tr>\n",
       "  </tbody>\n",
       "</table>\n",
       "<p>5 rows × 24 columns</p>\n",
       "</div>"
      ],
      "text/plain": [
       "       textID                                               text  \\\n",
       "0  f7fdea625a  i`m so bored i can barely even tweet. i have n...   \n",
       "1  c19de2c75b   awwwwwwwwww  thats jus...awwwww.did she get t...   \n",
       "2  0f963af18f  I did not twitt yesterday cause it was a very ...   \n",
       "3  0583c78cc1  Congratulation`s to phil packer on completing ...   \n",
       "4  1cdb444ea5  O`Charleys? Pretty good. Especially when its f...   \n",
       "\n",
       "                                       selected_text sentiment  kfold  \\\n",
       "0                                              bored  negative      0   \n",
       "1  awwwwwwwwww  thats jus...awwwww.did she get to...   neutral      0   \n",
       "2                                    I can not sleep  negative      0   \n",
       "3                                   Congratulation`s  positive      0   \n",
       "4                                       Pretty good.  positive      0   \n",
       "\n",
       "                                                pred  \\\n",
       "0                                              bored   \n",
       "1   awwwwwwwwww  thats jus...awwwww.did she get t...   \n",
       "2                                    I can not sleep   \n",
       "3  Congratulation`s to phil packer on completing ...   \n",
       "4                                       Pretty good.   \n",
       "\n",
       "                                            raw_pred     score  whole_pred  \\\n",
       "0                                              bored  1.260304    0.068662   \n",
       "1   awwwwwwwwww  thats jus...awwwww.did she get t...  1.927268    0.918263   \n",
       "2                                    I can not sleep  0.706122    0.060505   \n",
       "3  Congratulation`s to phil packer on completing ...  0.820241    0.080782   \n",
       "4                                       Pretty good.  1.386945    0.057058   \n",
       "\n",
       "                                          clean_text  ...  start_pos_origin  \\\n",
       "0  i`m so bored i can barely even tweet. i have n...  ...                 7   \n",
       "1  awwwwwwwwww thats jus...awwwww.did she get to ...  ...                 1   \n",
       "2  I did not twitt yesterday cause it was a very ...  ...                86   \n",
       "3  Congratulation`s to phil packer on completing ...  ...                 0   \n",
       "4  O`Charleys? Pretty good. Especially when its f...  ...                12   \n",
       "\n",
       "   end_pos_origin to_end start_pos_clean  end_pos_clean  shift  broken_start  \\\n",
       "0              12  False               7             12      0         False   \n",
       "1              65   True               0             63      2         False   \n",
       "2             101  False              85            100      1         False   \n",
       "3              16  False               0             16      0         False   \n",
       "4              24  False              12             24      0         False   \n",
       "\n",
       "   broken_end  broken                                             new_st  \n",
       "0       False   False                                              bored  \n",
       "1       False   False  awwwwwwwwww  thats jus...awwwww.did she get to...  \n",
       "2       False   False                                    I can not sleep  \n",
       "3       False   False                                   Congratulation`s  \n",
       "4       False   False                                       Pretty good.  \n",
       "\n",
       "[5 rows x 24 columns]"
      ]
     },
     "execution_count": 12,
     "metadata": {},
     "output_type": "execute_result"
    }
   ],
   "source": [
    "train.head()"
   ]
  },
  {
   "cell_type": "code",
   "execution_count": 33,
   "metadata": {
    "ExecuteTime": {
     "end_time": "2020-06-09T11:39:10.507149Z",
     "start_time": "2020-06-09T11:39:10.497534Z"
    }
   },
   "outputs": [
    {
     "data": {
      "text/html": [
       "<div>\n",
       "<style scoped>\n",
       "    .dataframe tbody tr th:only-of-type {\n",
       "        vertical-align: middle;\n",
       "    }\n",
       "\n",
       "    .dataframe tbody tr th {\n",
       "        vertical-align: top;\n",
       "    }\n",
       "\n",
       "    .dataframe thead th {\n",
       "        text-align: right;\n",
       "    }\n",
       "</style>\n",
       "<table border=\"1\" class=\"dataframe\">\n",
       "  <thead>\n",
       "    <tr style=\"text-align: right;\">\n",
       "      <th></th>\n",
       "      <th>text</th>\n",
       "      <th>selected_text</th>\n",
       "      <th>sentiment</th>\n",
       "      <th>pred</th>\n",
       "      <th>raw_pred</th>\n",
       "      <th>shift</th>\n",
       "      <th>new_st</th>\n",
       "    </tr>\n",
       "  </thead>\n",
       "  <tbody>\n",
       "    <tr>\n",
       "      <th>2113</th>\n",
       "      <td>will have to wait on the recipe at Simply Re...</td>\n",
       "      <td>.  Sorrie</td>\n",
       "      <td>negative</td>\n",
       "      <td>.  Sorries!</td>\n",
       "      <td>Sorries!</td>\n",
       "      <td>3</td>\n",
       "      <td>Sorries!</td>\n",
       "    </tr>\n",
       "    <tr>\n",
       "      <th>14691</th>\n",
       "      <td>Happy mother`s day to your moms.</td>\n",
       "      <td>Happ</td>\n",
       "      <td>positive</td>\n",
       "      <td>Happy</td>\n",
       "      <td>Happy</td>\n",
       "      <td>3</td>\n",
       "      <td>Happ</td>\n",
       "    </tr>\n",
       "    <tr>\n",
       "      <th>759</th>\n",
       "      <td>: I`m sure lots of that studio equipment was c...</td>\n",
       "      <td>y, condolence</td>\n",
       "      <td>negative</td>\n",
       "      <td>y, condolences</td>\n",
       "      <td>condolences.</td>\n",
       "      <td>3</td>\n",
       "      <td>condolences.</td>\n",
       "    </tr>\n",
       "    <tr>\n",
       "      <th>2106</th>\n",
       "      <td>omg   i found it  thnx</td>\n",
       "      <td>omg   i found it  thn</td>\n",
       "      <td>positive</td>\n",
       "      <td>t  thnx</td>\n",
       "      <td>thnx</td>\n",
       "      <td>3</td>\n",
       "      <td>omg   i found it  thn</td>\n",
       "    </tr>\n",
       "    <tr>\n",
       "      <th>19789</th>\n",
       "      <td>Strike one.    (Three and I`m out.)</td>\n",
       "      <td>(Three and I`m out</td>\n",
       "      <td>negative</td>\n",
       "      <td>Strike one.    (Three and I`m out.)</td>\n",
       "      <td>Strike one.    (Three and I`m out.)</td>\n",
       "      <td>3</td>\n",
       "      <td>(Three and I`m out</td>\n",
       "    </tr>\n",
       "  </tbody>\n",
       "</table>\n",
       "</div>"
      ],
      "text/plain": [
       "                                                    text  \\\n",
       "2113     will have to wait on the recipe at Simply Re...   \n",
       "14691                   Happy mother`s day to your moms.   \n",
       "759    : I`m sure lots of that studio equipment was c...   \n",
       "2106                              omg   i found it  thnx   \n",
       "19789                Strike one.    (Three and I`m out.)   \n",
       "\n",
       "               selected_text sentiment                                 pred  \\\n",
       "2113               .  Sorrie  negative                          .  Sorries!   \n",
       "14691                   Happ  positive                                Happy   \n",
       "759            y, condolence  negative                       y, condolences   \n",
       "2106   omg   i found it  thn  positive                              t  thnx   \n",
       "19789     (Three and I`m out  negative  Strike one.    (Three and I`m out.)   \n",
       "\n",
       "                                  raw_pred  shift                 new_st  \n",
       "2113                              Sorries!      3               Sorries!  \n",
       "14691                                Happy      3                   Happ  \n",
       "759                           condolences.      3           condolences.  \n",
       "2106                                  thnx      3  omg   i found it  thn  \n",
       "19789  Strike one.    (Three and I`m out.)      3     (Three and I`m out  "
      ]
     },
     "execution_count": 33,
     "metadata": {},
     "output_type": "execute_result"
    }
   ],
   "source": [
    "train[(train['shift']==3)&(train['sentiment']!='neutral')][['text', 'selected_text', 'sentiment','pred','raw_pred','shift','new_st']].sample(n=5)"
   ]
  },
  {
   "cell_type": "code",
   "execution_count": 45,
   "metadata": {
    "ExecuteTime": {
     "end_time": "2020-06-09T11:46:57.864180Z",
     "start_time": "2020-06-09T11:46:57.861188Z"
    }
   },
   "outputs": [
    {
     "name": "stdout",
     "output_type": "stream",
     "text": [
      "'omg   i found it  thnx'\n",
      "'t  thnx'\n",
      "'thnx'\n"
     ]
    }
   ],
   "source": [
    "loc = 2106\n",
    "print(\"'\"+train.loc[loc, 'text']+\"'\")\n",
    "print(\"'\"+train.loc[loc, 'pred']+\"'\")\n",
    "print(\"'\"+train.loc[loc, 'raw_pred']+\"'\")"
   ]
  },
  {
   "cell_type": "code",
   "execution_count": 22,
   "metadata": {
    "ExecuteTime": {
     "end_time": "2020-06-09T11:26:57.441948Z",
     "start_time": "2020-06-09T11:26:57.439028Z"
    }
   },
   "outputs": [],
   "source": [
    "def get_extra_space_count(x):\n",
    "    prev_space = True\n",
    "    space_counts = []\n",
    "    count = 0\n",
    "    for c in x:\n",
    "        if c == ' ':\n",
    "            if prev_space:\n",
    "                count += 1\n",
    "            space_counts.append(count)\n",
    "            prev_space = True\n",
    "        else:\n",
    "            space_counts.append(count)\n",
    "            prev_space = False\n",
    "    return space_counts"
   ]
  },
  {
   "cell_type": "code",
   "execution_count": 42,
   "metadata": {
    "ExecuteTime": {
     "end_time": "2020-06-09T11:44:05.891278Z",
     "start_time": "2020-06-09T11:44:05.886957Z"
    }
   },
   "outputs": [
    {
     "data": {
      "text/plain": [
       "[0, 0, 0, 0, 1, 2, 2, 2, 2, 2, 2, 2, 2, 2, 2, 2, 2, 3, 3, 3, 3, 3]"
      ]
     },
     "execution_count": 42,
     "metadata": {},
     "output_type": "execute_result"
    }
   ],
   "source": [
    "get_extra_space_count(train.loc[2106, 'text'])"
   ]
  },
  {
   "cell_type": "code",
   "execution_count": null,
   "metadata": {},
   "outputs": [],
   "source": []
  }
 ],
 "metadata": {
  "kernelspec": {
   "display_name": "Python 3",
   "language": "python",
   "name": "python3"
  },
  "language_info": {
   "codemirror_mode": {
    "name": "ipython",
    "version": 3
   },
   "file_extension": ".py",
   "mimetype": "text/x-python",
   "name": "python",
   "nbconvert_exporter": "python",
   "pygments_lexer": "ipython3",
   "version": "3.7.1"
  }
 },
 "nbformat": 4,
 "nbformat_minor": 2
}
