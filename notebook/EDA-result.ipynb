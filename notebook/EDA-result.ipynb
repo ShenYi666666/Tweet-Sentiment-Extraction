{
 "cells": [
  {
   "cell_type": "code",
   "execution_count": 1,
   "metadata": {
    "ExecuteTime": {
     "end_time": "2020-06-09T12:14:29.810900Z",
     "start_time": "2020-06-09T12:14:29.575220Z"
    }
   },
   "outputs": [],
   "source": [
    "import pandas as pd\n",
    "import numpy as np\n",
    "\n",
    "%matplotlib inline"
   ]
  },
  {
   "cell_type": "code",
   "execution_count": 2,
   "metadata": {
    "ExecuteTime": {
     "end_time": "2020-06-09T12:14:29.826408Z",
     "start_time": "2020-06-09T12:14:29.811938Z"
    }
   },
   "outputs": [],
   "source": [
    "train = pd.read_pickle('../input/tweet-sentiment-extraction/preds.pkl')"
   ]
  },
  {
   "cell_type": "code",
   "execution_count": 3,
   "metadata": {
    "ExecuteTime": {
     "end_time": "2020-06-09T12:14:29.925694Z",
     "start_time": "2020-06-09T12:14:29.917456Z"
    }
   },
   "outputs": [],
   "source": [
    "train.dropna(subset=['text'], inplace=True)"
   ]
  },
  {
   "cell_type": "code",
   "execution_count": 4,
   "metadata": {
    "ExecuteTime": {
     "end_time": "2020-06-09T12:14:30.099739Z",
     "start_time": "2020-06-09T12:14:30.087897Z"
    }
   },
   "outputs": [],
   "source": [
    "def get_pos(x, y):\n",
    "    return x.find(y)\n",
    "\n",
    "def get_extra_space_count(x):\n",
    "    prev_space = True\n",
    "    space_counts = []\n",
    "    count = 0\n",
    "    for c in x:\n",
    "        if c==' ':\n",
    "            if prev_space:\n",
    "                count+=1\n",
    "            space_counts.append(count)\n",
    "            prev_space = True\n",
    "        else:\n",
    "            space_counts.append(count)\n",
    "            prev_space = False\n",
    "    return space_counts"
   ]
  },
  {
   "cell_type": "code",
   "execution_count": 5,
   "metadata": {
    "ExecuteTime": {
     "end_time": "2020-06-09T12:14:30.370431Z",
     "start_time": "2020-06-09T12:14:30.263782Z"
    }
   },
   "outputs": [],
   "source": [
    "train['clean_text'] = train['text'].apply(lambda x: ' '.join(x.strip().split()))\n",
    "train['len_delta'] = train['text'].str.len()-train['clean_text'].str.len()\n",
    "train['whole'] = (train.selected_text.str.len()/train.text.str.len())>0.9"
   ]
  },
  {
   "cell_type": "code",
   "execution_count": 6,
   "metadata": {
    "ExecuteTime": {
     "end_time": "2020-06-09T12:14:31.744070Z",
     "start_time": "2020-06-09T12:14:30.429789Z"
    }
   },
   "outputs": [],
   "source": [
    "train['text'] = train['text'].str.rstrip()\n",
    "train['selected_text'] = train['selected_text'].str.rstrip()\n",
    "\n",
    "train['extra_space'] = train['text'].apply(lambda x: get_extra_space_count(x))\n",
    "\n",
    "\n",
    "train['clean_st'] = train['selected_text'].apply(lambda x: ' '.join(x.strip().split()))\n",
    "train['start_pos_origin'] = train.apply(lambda x: get_pos(x['text'], x['selected_text']), axis=1)\n",
    "train['end_pos_origin'] = train['start_pos_origin']+train['selected_text'].str.len()\n",
    "train['to_end'] = train['end_pos_origin']>=train['text'].str.len()\n",
    "\n",
    "train['start_pos_clean'] = train.apply(lambda x: get_pos(x['clean_text'], x['clean_st']), axis=1)\n",
    "train['end_pos_clean'] = train['start_pos_clean']+train['clean_st'].str.len()\n",
    "\n",
    "train['shift'] = train.apply(lambda x: x['extra_space'][x['end_pos_origin']-1], axis=1)"
   ]
  },
  {
   "cell_type": "code",
   "execution_count": 7,
   "metadata": {
    "ExecuteTime": {
     "end_time": "2020-06-09T12:14:31.747971Z",
     "start_time": "2020-06-09T12:14:31.745174Z"
    }
   },
   "outputs": [],
   "source": [
    "def broken_start(x, y):\n",
    "    \n",
    "    if y>0 and x[y-1] not in [' ']: #.isalpha():\n",
    "        return True\n",
    "    return False\n",
    "\n",
    "def broken_end(x, y):\n",
    "    if y<len(x) and x[y]!=' ':\n",
    "        return True\n",
    "    return False"
   ]
  },
  {
   "cell_type": "code",
   "execution_count": 8,
   "metadata": {
    "ExecuteTime": {
     "end_time": "2020-06-09T12:14:32.462159Z",
     "start_time": "2020-06-09T12:14:31.748892Z"
    }
   },
   "outputs": [],
   "source": [
    "train['broken_start'] = train.apply(lambda x: broken_start(x['clean_text'], x['start_pos_clean']), axis=1)\n",
    "train['broken_end'] = train.apply(lambda x: broken_end(x['clean_text'], x['end_pos_clean']), axis=1)\n",
    "train['broken'] = train['broken_start']|train['broken_end']"
   ]
  },
  {
   "cell_type": "code",
   "execution_count": 9,
   "metadata": {
    "ExecuteTime": {
     "end_time": "2020-06-09T12:14:32.467609Z",
     "start_time": "2020-06-09T12:14:32.463327Z"
    }
   },
   "outputs": [
    {
     "data": {
      "text/plain": [
       "0     12813\n",
       "1     10739\n",
       "2      3068\n",
       "3       613\n",
       "4       146\n",
       "5        62\n",
       "6        20\n",
       "7         8\n",
       "8         4\n",
       "9         3\n",
       "15        1\n",
       "12        1\n",
       "11        1\n",
       "20        1\n",
       "Name: shift, dtype: int64"
      ]
     },
     "execution_count": 9,
     "metadata": {},
     "output_type": "execute_result"
    }
   ],
   "source": [
    "train['shift'].value_counts()"
   ]
  },
  {
   "cell_type": "code",
   "execution_count": 10,
   "metadata": {
    "ExecuteTime": {
     "end_time": "2020-06-09T12:14:32.472964Z",
     "start_time": "2020-06-09T12:14:32.469109Z"
    }
   },
   "outputs": [],
   "source": [
    "def get_clean_label(x):\n",
    "    shift = x['shift']\n",
    "    if shift < 1 or x['start_pos_clean'] == 0:\n",
    "        return x['selected_text']\n",
    "\n",
    "    # 不修复shift=1不断头的\n",
    "    if shift==1 and  not x['broken_start']:\n",
    "        return x['selected_text']\n",
    "\n",
    "    text = x['text']\n",
    "    start = x['start_pos_origin']\n",
    "    end = x['end_pos_origin']\n",
    "\n",
    "#     while(len(text[start+shift-1:end+shift-1].strip()) == 0):\n",
    "#         shift += 1\n",
    "    if shift==1:\n",
    "        new_st = text[start+shift:end].strip()\n",
    "    else:\n",
    "        # 对于shift>1的，都应该修复，除非修复之后还是断头\n",
    "        parts = x['selected_text'].split()\n",
    "        \n",
    "        if len(parts)==1 or len(parts[0])>shift:\n",
    "            return x['selected_text']\n",
    "        else:\n",
    "            new_st = text[start+shift:end+shift-1].strip()\n",
    "    assert len(new_st)>0\n",
    "    return new_st"
   ]
  },
  {
   "cell_type": "code",
   "execution_count": 11,
   "metadata": {
    "ExecuteTime": {
     "end_time": "2020-06-09T12:14:32.932040Z",
     "start_time": "2020-06-09T12:14:32.473955Z"
    }
   },
   "outputs": [],
   "source": [
    "train['new_st'] = train.apply(lambda x: get_clean_label(x), axis=1)"
   ]
  },
  {
   "cell_type": "code",
   "execution_count": 12,
   "metadata": {
    "ExecuteTime": {
     "end_time": "2020-06-09T12:14:32.946372Z",
     "start_time": "2020-06-09T12:14:32.932812Z"
    }
   },
   "outputs": [
    {
     "data": {
      "text/html": [
       "<div>\n",
       "<style scoped>\n",
       "    .dataframe tbody tr th:only-of-type {\n",
       "        vertical-align: middle;\n",
       "    }\n",
       "\n",
       "    .dataframe tbody tr th {\n",
       "        vertical-align: top;\n",
       "    }\n",
       "\n",
       "    .dataframe thead th {\n",
       "        text-align: right;\n",
       "    }\n",
       "</style>\n",
       "<table border=\"1\" class=\"dataframe\">\n",
       "  <thead>\n",
       "    <tr style=\"text-align: right;\">\n",
       "      <th></th>\n",
       "      <th>textID</th>\n",
       "      <th>text</th>\n",
       "      <th>selected_text</th>\n",
       "      <th>sentiment</th>\n",
       "      <th>kfold</th>\n",
       "      <th>pred</th>\n",
       "      <th>raw_pred</th>\n",
       "      <th>score</th>\n",
       "      <th>whole_pred</th>\n",
       "      <th>clean_text</th>\n",
       "      <th>...</th>\n",
       "      <th>start_pos_origin</th>\n",
       "      <th>end_pos_origin</th>\n",
       "      <th>to_end</th>\n",
       "      <th>start_pos_clean</th>\n",
       "      <th>end_pos_clean</th>\n",
       "      <th>shift</th>\n",
       "      <th>broken_start</th>\n",
       "      <th>broken_end</th>\n",
       "      <th>broken</th>\n",
       "      <th>new_st</th>\n",
       "    </tr>\n",
       "  </thead>\n",
       "  <tbody>\n",
       "    <tr>\n",
       "      <th>0</th>\n",
       "      <td>f7fdea625a</td>\n",
       "      <td>i`m so bored i can barely even tweet. i have n...</td>\n",
       "      <td>bored</td>\n",
       "      <td>negative</td>\n",
       "      <td>0</td>\n",
       "      <td>bored</td>\n",
       "      <td>bored</td>\n",
       "      <td>1.260304</td>\n",
       "      <td>0.068662</td>\n",
       "      <td>i`m so bored i can barely even tweet. i have n...</td>\n",
       "      <td>...</td>\n",
       "      <td>7</td>\n",
       "      <td>12</td>\n",
       "      <td>False</td>\n",
       "      <td>7</td>\n",
       "      <td>12</td>\n",
       "      <td>0</td>\n",
       "      <td>False</td>\n",
       "      <td>False</td>\n",
       "      <td>False</td>\n",
       "      <td>bored</td>\n",
       "    </tr>\n",
       "    <tr>\n",
       "      <th>1</th>\n",
       "      <td>c19de2c75b</td>\n",
       "      <td>awwwwwwwwww  thats jus...awwwww.did she get t...</td>\n",
       "      <td>awwwwwwwwww  thats jus...awwwww.did she get to...</td>\n",
       "      <td>neutral</td>\n",
       "      <td>0</td>\n",
       "      <td>awwwwwwwwww  thats jus...awwwww.did she get t...</td>\n",
       "      <td>awwwwwwwwww  thats jus...awwwww.did she get t...</td>\n",
       "      <td>1.927268</td>\n",
       "      <td>0.918263</td>\n",
       "      <td>awwwwwwwwww thats jus...awwwww.did she get to ...</td>\n",
       "      <td>...</td>\n",
       "      <td>1</td>\n",
       "      <td>65</td>\n",
       "      <td>True</td>\n",
       "      <td>0</td>\n",
       "      <td>63</td>\n",
       "      <td>2</td>\n",
       "      <td>False</td>\n",
       "      <td>False</td>\n",
       "      <td>False</td>\n",
       "      <td>awwwwwwwwww  thats jus...awwwww.did she get to...</td>\n",
       "    </tr>\n",
       "    <tr>\n",
       "      <th>2</th>\n",
       "      <td>0f963af18f</td>\n",
       "      <td>I did not twitt yesterday cause it was a very ...</td>\n",
       "      <td>I can not sleep</td>\n",
       "      <td>negative</td>\n",
       "      <td>0</td>\n",
       "      <td>I can not sleep</td>\n",
       "      <td>I can not sleep</td>\n",
       "      <td>0.706122</td>\n",
       "      <td>0.060505</td>\n",
       "      <td>I did not twitt yesterday cause it was a very ...</td>\n",
       "      <td>...</td>\n",
       "      <td>86</td>\n",
       "      <td>101</td>\n",
       "      <td>False</td>\n",
       "      <td>85</td>\n",
       "      <td>100</td>\n",
       "      <td>1</td>\n",
       "      <td>False</td>\n",
       "      <td>False</td>\n",
       "      <td>False</td>\n",
       "      <td>I can not sleep</td>\n",
       "    </tr>\n",
       "    <tr>\n",
       "      <th>3</th>\n",
       "      <td>0583c78cc1</td>\n",
       "      <td>Congratulation`s to phil packer on completing ...</td>\n",
       "      <td>Congratulation`s</td>\n",
       "      <td>positive</td>\n",
       "      <td>0</td>\n",
       "      <td>Congratulation`s to phil packer on completing ...</td>\n",
       "      <td>Congratulation`s to phil packer on completing ...</td>\n",
       "      <td>0.820241</td>\n",
       "      <td>0.080782</td>\n",
       "      <td>Congratulation`s to phil packer on completing ...</td>\n",
       "      <td>...</td>\n",
       "      <td>0</td>\n",
       "      <td>16</td>\n",
       "      <td>False</td>\n",
       "      <td>0</td>\n",
       "      <td>16</td>\n",
       "      <td>0</td>\n",
       "      <td>False</td>\n",
       "      <td>False</td>\n",
       "      <td>False</td>\n",
       "      <td>Congratulation`s</td>\n",
       "    </tr>\n",
       "    <tr>\n",
       "      <th>4</th>\n",
       "      <td>1cdb444ea5</td>\n",
       "      <td>O`Charleys? Pretty good. Especially when its f...</td>\n",
       "      <td>Pretty good.</td>\n",
       "      <td>positive</td>\n",
       "      <td>0</td>\n",
       "      <td>Pretty good.</td>\n",
       "      <td>Pretty good.</td>\n",
       "      <td>1.386945</td>\n",
       "      <td>0.057058</td>\n",
       "      <td>O`Charleys? Pretty good. Especially when its f...</td>\n",
       "      <td>...</td>\n",
       "      <td>12</td>\n",
       "      <td>24</td>\n",
       "      <td>False</td>\n",
       "      <td>12</td>\n",
       "      <td>24</td>\n",
       "      <td>0</td>\n",
       "      <td>False</td>\n",
       "      <td>False</td>\n",
       "      <td>False</td>\n",
       "      <td>Pretty good.</td>\n",
       "    </tr>\n",
       "  </tbody>\n",
       "</table>\n",
       "<p>5 rows × 24 columns</p>\n",
       "</div>"
      ],
      "text/plain": [
       "       textID                                               text  \\\n",
       "0  f7fdea625a  i`m so bored i can barely even tweet. i have n...   \n",
       "1  c19de2c75b   awwwwwwwwww  thats jus...awwwww.did she get t...   \n",
       "2  0f963af18f  I did not twitt yesterday cause it was a very ...   \n",
       "3  0583c78cc1  Congratulation`s to phil packer on completing ...   \n",
       "4  1cdb444ea5  O`Charleys? Pretty good. Especially when its f...   \n",
       "\n",
       "                                       selected_text sentiment  kfold  \\\n",
       "0                                              bored  negative      0   \n",
       "1  awwwwwwwwww  thats jus...awwwww.did she get to...   neutral      0   \n",
       "2                                    I can not sleep  negative      0   \n",
       "3                                   Congratulation`s  positive      0   \n",
       "4                                       Pretty good.  positive      0   \n",
       "\n",
       "                                                pred  \\\n",
       "0                                              bored   \n",
       "1   awwwwwwwwww  thats jus...awwwww.did she get t...   \n",
       "2                                    I can not sleep   \n",
       "3  Congratulation`s to phil packer on completing ...   \n",
       "4                                       Pretty good.   \n",
       "\n",
       "                                            raw_pred     score  whole_pred  \\\n",
       "0                                              bored  1.260304    0.068662   \n",
       "1   awwwwwwwwww  thats jus...awwwww.did she get t...  1.927268    0.918263   \n",
       "2                                    I can not sleep  0.706122    0.060505   \n",
       "3  Congratulation`s to phil packer on completing ...  0.820241    0.080782   \n",
       "4                                       Pretty good.  1.386945    0.057058   \n",
       "\n",
       "                                          clean_text  ...  start_pos_origin  \\\n",
       "0  i`m so bored i can barely even tweet. i have n...  ...                 7   \n",
       "1  awwwwwwwwww thats jus...awwwww.did she get to ...  ...                 1   \n",
       "2  I did not twitt yesterday cause it was a very ...  ...                86   \n",
       "3  Congratulation`s to phil packer on completing ...  ...                 0   \n",
       "4  O`Charleys? Pretty good. Especially when its f...  ...                12   \n",
       "\n",
       "   end_pos_origin to_end start_pos_clean  end_pos_clean  shift  broken_start  \\\n",
       "0              12  False               7             12      0         False   \n",
       "1              65   True               0             63      2         False   \n",
       "2             101  False              85            100      1         False   \n",
       "3              16  False               0             16      0         False   \n",
       "4              24  False              12             24      0         False   \n",
       "\n",
       "   broken_end  broken                                             new_st  \n",
       "0       False   False                                              bored  \n",
       "1       False   False  awwwwwwwwww  thats jus...awwwww.did she get to...  \n",
       "2       False   False                                    I can not sleep  \n",
       "3       False   False                                   Congratulation`s  \n",
       "4       False   False                                       Pretty good.  \n",
       "\n",
       "[5 rows x 24 columns]"
      ]
     },
     "execution_count": 12,
     "metadata": {},
     "output_type": "execute_result"
    }
   ],
   "source": [
    "train.head()"
   ]
  },
  {
   "cell_type": "code",
   "execution_count": 15,
   "metadata": {
    "ExecuteTime": {
     "end_time": "2020-06-09T12:15:59.552750Z",
     "start_time": "2020-06-09T12:15:59.527830Z"
    }
   },
   "outputs": [
    {
     "data": {
      "text/html": [
       "<div>\n",
       "<style scoped>\n",
       "    .dataframe tbody tr th:only-of-type {\n",
       "        vertical-align: middle;\n",
       "    }\n",
       "\n",
       "    .dataframe tbody tr th {\n",
       "        vertical-align: top;\n",
       "    }\n",
       "\n",
       "    .dataframe thead th {\n",
       "        text-align: right;\n",
       "    }\n",
       "</style>\n",
       "<table border=\"1\" class=\"dataframe\">\n",
       "  <thead>\n",
       "    <tr style=\"text-align: right;\">\n",
       "      <th></th>\n",
       "      <th>textID</th>\n",
       "      <th>text</th>\n",
       "      <th>selected_text</th>\n",
       "      <th>sentiment</th>\n",
       "      <th>kfold</th>\n",
       "      <th>pred</th>\n",
       "      <th>raw_pred</th>\n",
       "      <th>score</th>\n",
       "      <th>whole_pred</th>\n",
       "      <th>clean_text</th>\n",
       "      <th>...</th>\n",
       "      <th>start_pos_origin</th>\n",
       "      <th>end_pos_origin</th>\n",
       "      <th>to_end</th>\n",
       "      <th>start_pos_clean</th>\n",
       "      <th>end_pos_clean</th>\n",
       "      <th>shift</th>\n",
       "      <th>broken_start</th>\n",
       "      <th>broken_end</th>\n",
       "      <th>broken</th>\n",
       "      <th>new_st</th>\n",
       "    </tr>\n",
       "  </thead>\n",
       "  <tbody>\n",
       "    <tr>\n",
       "      <th>8483</th>\n",
       "      <td>1440b11d65</td>\n",
       "      <td>thanks hun!! I`m working hard over here...  ...</td>\n",
       "      <td>..  thanks</td>\n",
       "      <td>positive</td>\n",
       "      <td>1</td>\n",
       "      <td>thanks</td>\n",
       "      <td>thanks</td>\n",
       "      <td>1.314751</td>\n",
       "      <td>0.060324</td>\n",
       "      <td>thanks hun!! I`m working hard over here... tha...</td>\n",
       "      <td>...</td>\n",
       "      <td>42</td>\n",
       "      <td>52</td>\n",
       "      <td>False</td>\n",
       "      <td>40</td>\n",
       "      <td>49</td>\n",
       "      <td>3</td>\n",
       "      <td>True</td>\n",
       "      <td>False</td>\n",
       "      <td>True</td>\n",
       "      <td>thanks m</td>\n",
       "    </tr>\n",
       "  </tbody>\n",
       "</table>\n",
       "<p>1 rows × 24 columns</p>\n",
       "</div>"
      ],
      "text/plain": [
       "          textID                                               text  \\\n",
       "8483  1440b11d65    thanks hun!! I`m working hard over here...  ...   \n",
       "\n",
       "     selected_text sentiment  kfold    pred raw_pred     score  whole_pred  \\\n",
       "8483    ..  thanks  positive      1  thanks   thanks  1.314751    0.060324   \n",
       "\n",
       "                                             clean_text  ...  \\\n",
       "8483  thanks hun!! I`m working hard over here... tha...  ...   \n",
       "\n",
       "      start_pos_origin  end_pos_origin to_end start_pos_clean  end_pos_clean  \\\n",
       "8483                42              52  False              40             49   \n",
       "\n",
       "      shift  broken_start  broken_end  broken    new_st  \n",
       "8483      3          True       False    True  thanks m  \n",
       "\n",
       "[1 rows x 24 columns]"
      ]
     },
     "execution_count": 15,
     "metadata": {},
     "output_type": "execute_result"
    }
   ],
   "source": [
    "train[train['text'].str.find(\"thanks mama\")>0]"
   ]
  },
  {
   "cell_type": "code",
   "execution_count": 27,
   "metadata": {
    "ExecuteTime": {
     "end_time": "2020-06-09T12:18:05.644899Z",
     "start_time": "2020-06-09T12:18:05.634526Z"
    }
   },
   "outputs": [
    {
     "data": {
      "text/html": [
       "<div>\n",
       "<style scoped>\n",
       "    .dataframe tbody tr th:only-of-type {\n",
       "        vertical-align: middle;\n",
       "    }\n",
       "\n",
       "    .dataframe tbody tr th {\n",
       "        vertical-align: top;\n",
       "    }\n",
       "\n",
       "    .dataframe thead th {\n",
       "        text-align: right;\n",
       "    }\n",
       "</style>\n",
       "<table border=\"1\" class=\"dataframe\">\n",
       "  <thead>\n",
       "    <tr style=\"text-align: right;\">\n",
       "      <th></th>\n",
       "      <th>text</th>\n",
       "      <th>selected_text</th>\n",
       "      <th>sentiment</th>\n",
       "      <th>pred</th>\n",
       "      <th>raw_pred</th>\n",
       "      <th>shift</th>\n",
       "      <th>new_st</th>\n",
       "    </tr>\n",
       "  </thead>\n",
       "  <tbody>\n",
       "    <tr>\n",
       "      <th>7731</th>\n",
       "      <td>You should direct your 'wanting to invest in ...</td>\n",
       "      <td>.  They are the big cheese</td>\n",
       "      <td>positive</td>\n",
       "      <td>.  They are the big cheeses</td>\n",
       "      <td>They are the big cheeses.</td>\n",
       "      <td>3</td>\n",
       "      <td>They are the big cheeses.</td>\n",
       "    </tr>\n",
       "    <tr>\n",
       "      <th>11088</th>\n",
       "      <td>Psych has to be better than neuro!  Or at lea...</td>\n",
       "      <td>?  I miss yo</td>\n",
       "      <td>negative</td>\n",
       "      <td>?  I miss yo</td>\n",
       "      <td>I miss you</td>\n",
       "      <td>3</td>\n",
       "      <td>I miss you</td>\n",
       "    </tr>\n",
       "    <tr>\n",
       "      <th>21326</th>\n",
       "      <td>People are cruel sometimes.  I can`t imagin...</td>\n",
       "      <td>People are cruel sometime</td>\n",
       "      <td>negative</td>\n",
       "      <td>People are cruel</td>\n",
       "      <td>People are cruel</td>\n",
       "      <td>3</td>\n",
       "      <td>People are cruel sometime</td>\n",
       "    </tr>\n",
       "    <tr>\n",
       "      <th>5792</th>\n",
       "      <td>Thank you - If you like please leave a commen...</td>\n",
       "      <td>er grea</td>\n",
       "      <td>positive</td>\n",
       "      <td>Thank you - If you like please leave a comment...</td>\n",
       "      <td>Thank you - If you like please leave a comment...</td>\n",
       "      <td>3</td>\n",
       "      <td>great</td>\n",
       "    </tr>\n",
       "    <tr>\n",
       "      <th>11694</th>\n",
       "      <td>i`m doing awesome! Rachel N had a bday party ...</td>\n",
       "      <td>re GORGEOU</td>\n",
       "      <td>positive</td>\n",
       "      <td>i`m doing awesome! Rachel N had a bday party t...</td>\n",
       "      <td>i`m doing awesome! Rachel N had a bday party t...</td>\n",
       "      <td>3</td>\n",
       "      <td>GORGEOUS!</td>\n",
       "    </tr>\n",
       "  </tbody>\n",
       "</table>\n",
       "</div>"
      ],
      "text/plain": [
       "                                                    text  \\\n",
       "7731    You should direct your 'wanting to invest in ...   \n",
       "11088   Psych has to be better than neuro!  Or at lea...   \n",
       "21326     People are cruel sometimes.  I can`t imagin...   \n",
       "5792    Thank you - If you like please leave a commen...   \n",
       "11694   i`m doing awesome! Rachel N had a bday party ...   \n",
       "\n",
       "                    selected_text sentiment  \\\n",
       "7731   .  They are the big cheese  positive   \n",
       "11088                ?  I miss yo  negative   \n",
       "21326   People are cruel sometime  negative   \n",
       "5792                      er grea  positive   \n",
       "11694                  re GORGEOU  positive   \n",
       "\n",
       "                                                    pred  \\\n",
       "7731                         .  They are the big cheeses   \n",
       "11088                                       ?  I miss yo   \n",
       "21326                                   People are cruel   \n",
       "5792   Thank you - If you like please leave a comment...   \n",
       "11694  i`m doing awesome! Rachel N had a bday party t...   \n",
       "\n",
       "                                                raw_pred  shift  \\\n",
       "7731                           They are the big cheeses.      3   \n",
       "11088                                         I miss you      3   \n",
       "21326                                   People are cruel      3   \n",
       "5792   Thank you - If you like please leave a comment...      3   \n",
       "11694  i`m doing awesome! Rachel N had a bday party t...      3   \n",
       "\n",
       "                          new_st  \n",
       "7731   They are the big cheeses.  \n",
       "11088                 I miss you  \n",
       "21326  People are cruel sometime  \n",
       "5792                       great  \n",
       "11694                  GORGEOUS!  "
      ]
     },
     "execution_count": 27,
     "metadata": {},
     "output_type": "execute_result"
    }
   ],
   "source": [
    "train[(train['shift']==3)&(train['sentiment']!='neutral')][['text', 'selected_text', 'sentiment','pred','raw_pred','shift','new_st']].sample(n=5)"
   ]
  },
  {
   "cell_type": "code",
   "execution_count": 69,
   "metadata": {
    "ExecuteTime": {
     "end_time": "2020-06-09T12:03:42.827108Z",
     "start_time": "2020-06-09T12:03:42.824040Z"
    }
   },
   "outputs": [
    {
     "name": "stdout",
     "output_type": "stream",
     "text": [
      "textID                                                     47aec7e3be\n",
      "text                                           omg   i found it  thnx\n",
      "selected_text                                   omg   i found it  thn\n",
      "sentiment                                                    positive\n",
      "kfold                                                               0\n",
      "pred                                                          t  thnx\n",
      "raw_pred                                                         thnx\n",
      "score                                                         1.64235\n",
      "whole_pred                                                   0.254472\n",
      "clean_text                                        omg i found it thnx\n",
      "len_delta                                                           3\n",
      "whole                                                            True\n",
      "extra_space         [0, 0, 0, 0, 1, 2, 2, 2, 2, 2, 2, 2, 2, 2, 2, ...\n",
      "clean_st                                           omg i found it thn\n",
      "start_pos_origin                                                    0\n",
      "end_pos_origin                                                     21\n",
      "to_end                                                          False\n",
      "start_pos_clean                                                     0\n",
      "end_pos_clean                                                      18\n",
      "shift                                                               3\n",
      "broken_start                                                    False\n",
      "broken_end                                                       True\n",
      "broken                                                           True\n",
      "new_st                                          omg   i found it  thn\n",
      "Name: 2106, dtype: object\n"
     ]
    }
   ],
   "source": [
    "print(train.loc[2106])"
   ]
  },
  {
   "cell_type": "code",
   "execution_count": 21,
   "metadata": {
    "ExecuteTime": {
     "end_time": "2020-06-09T12:16:22.691417Z",
     "start_time": "2020-06-09T12:16:22.687824Z"
    }
   },
   "outputs": [
    {
     "name": "stdout",
     "output_type": "stream",
     "text": [
      "'  thanks hun!! I`m working hard over here...  thanks mama!! I yuhh you!!!'\n",
      "'thanks'\n",
      "'thanks'\n"
     ]
    }
   ],
   "source": [
    "loc = 8483\n",
    "print(\"'\"+train.loc[loc, 'text']+\"'\")\n",
    "print(\"'\"+train.loc[loc, 'pred']+\"'\")\n",
    "print(\"'\"+train.loc[loc, 'raw_pred']+\"'\")"
   ]
  },
  {
   "cell_type": "code",
   "execution_count": 22,
   "metadata": {
    "ExecuteTime": {
     "end_time": "2020-06-09T11:26:57.441948Z",
     "start_time": "2020-06-09T11:26:57.439028Z"
    }
   },
   "outputs": [],
   "source": [
    "def get_extra_space_count(x):\n",
    "    prev_space = True\n",
    "    space_counts = []\n",
    "    count = 0\n",
    "    for c in x:\n",
    "        if c == ' ':\n",
    "            if prev_space:\n",
    "                count += 1\n",
    "            space_counts.append(count)\n",
    "            prev_space = True\n",
    "        else:\n",
    "            space_counts.append(count)\n",
    "            prev_space = False\n",
    "    return space_counts"
   ]
  },
  {
   "cell_type": "code",
   "execution_count": 67,
   "metadata": {
    "ExecuteTime": {
     "end_time": "2020-06-09T12:03:03.973939Z",
     "start_time": "2020-06-09T12:03:03.971997Z"
    }
   },
   "outputs": [],
   "source": [
    "es = get_extra_space_count(train.loc[2106, 'text'])"
   ]
  },
  {
   "cell_type": "code",
   "execution_count": 46,
   "metadata": {
    "ExecuteTime": {
     "end_time": "2020-06-09T12:00:02.362675Z",
     "start_time": "2020-06-09T12:00:02.360441Z"
    }
   },
   "outputs": [],
   "source": [
    "text = train.loc[loc, 'text']"
   ]
  },
  {
   "cell_type": "code",
   "execution_count": 29,
   "metadata": {
    "ExecuteTime": {
     "end_time": "2020-06-09T13:50:42.917674Z",
     "start_time": "2020-06-09T13:50:41.674077Z"
    }
   },
   "outputs": [],
   "source": [
    "from transformers import RobertaTokenizer\n",
    "tokenizer = RobertaTokenizer.from_pretrained('../../bert_models/roberta_base/')"
   ]
  },
  {
   "cell_type": "code",
   "execution_count": 31,
   "metadata": {
    "ExecuteTime": {
     "end_time": "2020-06-09T13:50:56.551665Z",
     "start_time": "2020-06-09T13:50:56.548785Z"
    }
   },
   "outputs": [
    {
     "data": {
      "text/plain": [
       "['Cr', 'amps']"
      ]
     },
     "execution_count": 31,
     "metadata": {},
     "output_type": "execute_result"
    }
   ],
   "source": [
    "tokenizer.tokenize('Cramps')"
   ]
  },
  {
   "cell_type": "code",
   "execution_count": 32,
   "metadata": {
    "ExecuteTime": {
     "end_time": "2020-06-09T13:51:33.551990Z",
     "start_time": "2020-06-09T13:51:33.549932Z"
    }
   },
   "outputs": [],
   "source": [
    "text = \"Cramps...\""
   ]
  },
  {
   "cell_type": "code",
   "execution_count": 33,
   "metadata": {
    "ExecuteTime": {
     "end_time": "2020-06-09T13:51:34.143199Z",
     "start_time": "2020-06-09T13:51:34.117655Z"
    }
   },
   "outputs": [],
   "source": [
    "prev_punc = True\n",
    "word = []\n",
    "offset = []\n",
    "token = []\n",
    "invert_map = []\n",
    "for idx, c in enumerate(text):\n",
    "\n",
    "    if c in [' ','.',',','!','?','(',')',';',':','-','=',\"/\",\"<\",\"`\"]:\n",
    "        prev_punc = True\n",
    "        word.append(c)\n",
    "        offset.append(idx)\n",
    "    else:\n",
    "        if prev_punc:\n",
    "            word.append(c)\n",
    "            offset.append(idx)\n",
    "            prev_punc = False\n",
    "        else:\n",
    "            word[-1]+=c\n",
    "offset = [(x, x+len(y)) for x, y in zip(offset, word)]\n",
    "for word_idx, w in enumerate(word):\n",
    "    if word_idx>0 and word[word_idx-1]==' ':\n",
    "        prefix = ' '\n",
    "    else:\n",
    "        prefix = ''\n",
    "    if word==' ':\n",
    "        token.append(\"Ġ\")\n",
    "        invert_map.append(word_idx)\n",
    "    else:\n",
    "        for t in tokenizer.tokenize(prefix+w):\n",
    "            token.append(t)\n",
    "            invert_map.append(word_idx)"
   ]
  },
  {
   "cell_type": "code",
   "execution_count": 34,
   "metadata": {
    "ExecuteTime": {
     "end_time": "2020-06-09T13:51:34.863014Z",
     "start_time": "2020-06-09T13:51:34.860731Z"
    }
   },
   "outputs": [
    {
     "data": {
      "text/plain": [
       "['Cramps', '.', '.', '.']"
      ]
     },
     "execution_count": 34,
     "metadata": {},
     "output_type": "execute_result"
    }
   ],
   "source": [
    "word"
   ]
  },
  {
   "cell_type": "code",
   "execution_count": 35,
   "metadata": {
    "ExecuteTime": {
     "end_time": "2020-06-09T13:51:38.498648Z",
     "start_time": "2020-06-09T13:51:38.495925Z"
    }
   },
   "outputs": [
    {
     "data": {
      "text/plain": [
       "[0, 0, 1, 2, 3]"
      ]
     },
     "execution_count": 35,
     "metadata": {},
     "output_type": "execute_result"
    }
   ],
   "source": [
    "invert_map"
   ]
  },
  {
   "cell_type": "code",
   "execution_count": 50,
   "metadata": {
    "ExecuteTime": {
     "end_time": "2020-06-09T12:00:46.975114Z",
     "start_time": "2020-06-09T12:00:46.972212Z"
    }
   },
   "outputs": [
    {
     "data": {
      "text/plain": [
       "[(0, 3),\n",
       " (3, 4),\n",
       " (4, 5),\n",
       " (5, 6),\n",
       " (6, 7),\n",
       " (7, 8),\n",
       " (8, 13),\n",
       " (13, 14),\n",
       " (14, 16),\n",
       " (16, 17),\n",
       " (17, 18),\n",
       " (18, 22)]"
      ]
     },
     "execution_count": 50,
     "metadata": {},
     "output_type": "execute_result"
    }
   ],
   "source": [
    "offset"
   ]
  },
  {
   "cell_type": "code",
   "execution_count": 51,
   "metadata": {
    "ExecuteTime": {
     "end_time": "2020-06-09T12:00:58.268934Z",
     "start_time": "2020-06-09T12:00:58.266519Z"
    }
   },
   "outputs": [
    {
     "data": {
      "text/plain": [
       "22"
      ]
     },
     "execution_count": 51,
     "metadata": {},
     "output_type": "execute_result"
    }
   ],
   "source": [
    "len(text)"
   ]
  },
  {
   "cell_type": "code",
   "execution_count": 68,
   "metadata": {
    "ExecuteTime": {
     "end_time": "2020-06-09T12:03:16.278465Z",
     "start_time": "2020-06-09T12:03:16.272965Z"
    }
   },
   "outputs": [
    {
     "data": {
      "text/plain": [
       "3"
      ]
     },
     "execution_count": 68,
     "metadata": {},
     "output_type": "execute_result"
    }
   ],
   "source": [
    "es[offset[-1][0]]"
   ]
  },
  {
   "cell_type": "code",
   "execution_count": null,
   "metadata": {},
   "outputs": [],
   "source": []
  }
 ],
 "metadata": {
  "kernelspec": {
   "display_name": "Python 3",
   "language": "python",
   "name": "python3"
  },
  "language_info": {
   "codemirror_mode": {
    "name": "ipython",
    "version": 3
   },
   "file_extension": ".py",
   "mimetype": "text/x-python",
   "name": "python",
   "nbconvert_exporter": "python",
   "pygments_lexer": "ipython3",
   "version": "3.7.1"
  }
 },
 "nbformat": 4,
 "nbformat_minor": 2
}
