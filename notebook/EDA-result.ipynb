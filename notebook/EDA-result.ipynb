{
 "cells": [
  {
   "cell_type": "code",
   "execution_count": 53,
   "metadata": {
    "ExecuteTime": {
     "end_time": "2020-06-09T12:02:21.526881Z",
     "start_time": "2020-06-09T12:02:21.523245Z"
    }
   },
   "outputs": [],
   "source": [
    "import pandas as pd\n",
    "import numpy as np\n",
    "\n",
    "%matplotlib inline"
   ]
  },
  {
   "cell_type": "code",
   "execution_count": 54,
   "metadata": {
    "ExecuteTime": {
     "end_time": "2020-06-09T12:02:21.760527Z",
     "start_time": "2020-06-09T12:02:21.737980Z"
    }
   },
   "outputs": [],
   "source": [
    "train = pd.read_pickle('../input/tweet-sentiment-extraction/preds.pkl')"
   ]
  },
  {
   "cell_type": "code",
   "execution_count": 55,
   "metadata": {
    "ExecuteTime": {
     "end_time": "2020-06-09T12:02:22.033636Z",
     "start_time": "2020-06-09T12:02:22.006768Z"
    }
   },
   "outputs": [],
   "source": [
    "train.dropna(subset=['text'], inplace=True)"
   ]
  },
  {
   "cell_type": "code",
   "execution_count": 56,
   "metadata": {
    "ExecuteTime": {
     "end_time": "2020-06-09T12:02:22.144322Z",
     "start_time": "2020-06-09T12:02:22.131547Z"
    }
   },
   "outputs": [],
   "source": [
    "def get_pos(x, y):\n",
    "    return x.find(y)\n",
    "\n",
    "def get_extra_space_count(x):\n",
    "    prev_space = True\n",
    "    space_counts = []\n",
    "    count = 0\n",
    "    for c in x:\n",
    "        if c==' ':\n",
    "            if prev_space:\n",
    "                count+=1\n",
    "            space_counts.append(count)\n",
    "            prev_space = True\n",
    "        else:\n",
    "            space_counts.append(count)\n",
    "            prev_space = False\n",
    "    return space_counts"
   ]
  },
  {
   "cell_type": "code",
   "execution_count": 57,
   "metadata": {
    "ExecuteTime": {
     "end_time": "2020-06-09T12:02:22.390508Z",
     "start_time": "2020-06-09T12:02:22.313788Z"
    }
   },
   "outputs": [],
   "source": [
    "train['clean_text'] = train['text'].apply(lambda x: ' '.join(x.strip().split()))\n",
    "train['len_delta'] = train['text'].str.len()-train['clean_text'].str.len()\n",
    "train['whole'] = (train.selected_text.str.len()/train.text.str.len())>0.9"
   ]
  },
  {
   "cell_type": "code",
   "execution_count": 58,
   "metadata": {
    "ExecuteTime": {
     "end_time": "2020-06-09T12:02:23.769243Z",
     "start_time": "2020-06-09T12:02:22.463539Z"
    }
   },
   "outputs": [],
   "source": [
    "train['text'] = train['text'].str.rstrip()\n",
    "train['selected_text'] = train['selected_text'].str.rstrip()\n",
    "\n",
    "train['extra_space'] = train['text'].apply(lambda x: get_extra_space_count(x))\n",
    "\n",
    "\n",
    "train['clean_st'] = train['selected_text'].apply(lambda x: ' '.join(x.strip().split()))\n",
    "train['start_pos_origin'] = train.apply(lambda x: get_pos(x['text'], x['selected_text']), axis=1)\n",
    "train['end_pos_origin'] = train['start_pos_origin']+train['selected_text'].str.len()\n",
    "train['to_end'] = train['end_pos_origin']>=train['text'].str.len()\n",
    "\n",
    "train['start_pos_clean'] = train.apply(lambda x: get_pos(x['clean_text'], x['clean_st']), axis=1)\n",
    "train['end_pos_clean'] = train['start_pos_clean']+train['clean_st'].str.len()\n",
    "\n",
    "train['shift'] = train.apply(lambda x: x['extra_space'][x['end_pos_origin']-1], axis=1)"
   ]
  },
  {
   "cell_type": "code",
   "execution_count": 59,
   "metadata": {
    "ExecuteTime": {
     "end_time": "2020-06-09T12:02:23.772947Z",
     "start_time": "2020-06-09T12:02:23.770452Z"
    }
   },
   "outputs": [],
   "source": [
    "def broken_start(x, y):\n",
    "    \n",
    "    if y>0 and x[y-1] not in [' ']: #.isalpha():\n",
    "        return True\n",
    "    return False\n",
    "\n",
    "def broken_end(x, y):\n",
    "    if y<len(x) and x[y]!=' ':\n",
    "        return True\n",
    "    return False"
   ]
  },
  {
   "cell_type": "code",
   "execution_count": 60,
   "metadata": {
    "ExecuteTime": {
     "end_time": "2020-06-09T12:02:24.465655Z",
     "start_time": "2020-06-09T12:02:23.773880Z"
    }
   },
   "outputs": [],
   "source": [
    "train['broken_start'] = train.apply(lambda x: broken_start(x['clean_text'], x['start_pos_clean']), axis=1)\n",
    "train['broken_end'] = train.apply(lambda x: broken_end(x['clean_text'], x['end_pos_clean']), axis=1)\n",
    "train['broken'] = train['broken_start']|train['broken_end']"
   ]
  },
  {
   "cell_type": "code",
   "execution_count": 61,
   "metadata": {
    "ExecuteTime": {
     "end_time": "2020-06-09T12:02:24.470453Z",
     "start_time": "2020-06-09T12:02:24.466576Z"
    }
   },
   "outputs": [
    {
     "data": {
      "text/plain": [
       "0     12813\n",
       "1     10739\n",
       "2      3068\n",
       "3       613\n",
       "4       146\n",
       "5        62\n",
       "6        20\n",
       "7         8\n",
       "8         4\n",
       "9         3\n",
       "15        1\n",
       "12        1\n",
       "11        1\n",
       "20        1\n",
       "Name: shift, dtype: int64"
      ]
     },
     "execution_count": 61,
     "metadata": {},
     "output_type": "execute_result"
    }
   ],
   "source": [
    "train['shift'].value_counts()"
   ]
  },
  {
   "cell_type": "code",
   "execution_count": 62,
   "metadata": {
    "ExecuteTime": {
     "end_time": "2020-06-09T12:02:24.475717Z",
     "start_time": "2020-06-09T12:02:24.471938Z"
    }
   },
   "outputs": [],
   "source": [
    "def get_clean_label(x):\n",
    "    shift = x['shift']\n",
    "    if shift < 1 or x['start_pos_clean'] == 0:\n",
    "        return x['selected_text']\n",
    "\n",
    "    # 不修复shift=1不断头的\n",
    "    if shift==1 and  not x['broken_start']:\n",
    "        return x['selected_text']\n",
    "\n",
    "    text = x['text']\n",
    "    start = x['start_pos_origin']\n",
    "    end = x['end_pos_origin']\n",
    "\n",
    "#     while(len(text[start+shift-1:end+shift-1].strip()) == 0):\n",
    "#         shift += 1\n",
    "    if shift==1:\n",
    "        new_st = text[start+shift:end].strip()\n",
    "    else:\n",
    "        # 对于shift>1的，都应该修复，除非修复之后还是断头\n",
    "        parts = x['selected_text'].split()\n",
    "        \n",
    "        if len(parts)==1 or len(parts[0])>shift:\n",
    "            return x['selected_text']\n",
    "        else:\n",
    "            new_st = text[start+shift:end+shift-1].strip()\n",
    "    assert len(new_st)>0\n",
    "    return new_st"
   ]
  },
  {
   "cell_type": "code",
   "execution_count": 63,
   "metadata": {
    "ExecuteTime": {
     "end_time": "2020-06-09T12:02:24.972663Z",
     "start_time": "2020-06-09T12:02:24.476807Z"
    }
   },
   "outputs": [],
   "source": [
    "train['new_st'] = train.apply(lambda x: get_clean_label(x), axis=1)"
   ]
  },
  {
   "cell_type": "code",
   "execution_count": 64,
   "metadata": {
    "ExecuteTime": {
     "end_time": "2020-06-09T12:02:24.986563Z",
     "start_time": "2020-06-09T12:02:24.973656Z"
    }
   },
   "outputs": [
    {
     "data": {
      "text/html": [
       "<div>\n",
       "<style scoped>\n",
       "    .dataframe tbody tr th:only-of-type {\n",
       "        vertical-align: middle;\n",
       "    }\n",
       "\n",
       "    .dataframe tbody tr th {\n",
       "        vertical-align: top;\n",
       "    }\n",
       "\n",
       "    .dataframe thead th {\n",
       "        text-align: right;\n",
       "    }\n",
       "</style>\n",
       "<table border=\"1\" class=\"dataframe\">\n",
       "  <thead>\n",
       "    <tr style=\"text-align: right;\">\n",
       "      <th></th>\n",
       "      <th>textID</th>\n",
       "      <th>text</th>\n",
       "      <th>selected_text</th>\n",
       "      <th>sentiment</th>\n",
       "      <th>kfold</th>\n",
       "      <th>pred</th>\n",
       "      <th>raw_pred</th>\n",
       "      <th>score</th>\n",
       "      <th>whole_pred</th>\n",
       "      <th>clean_text</th>\n",
       "      <th>...</th>\n",
       "      <th>start_pos_origin</th>\n",
       "      <th>end_pos_origin</th>\n",
       "      <th>to_end</th>\n",
       "      <th>start_pos_clean</th>\n",
       "      <th>end_pos_clean</th>\n",
       "      <th>shift</th>\n",
       "      <th>broken_start</th>\n",
       "      <th>broken_end</th>\n",
       "      <th>broken</th>\n",
       "      <th>new_st</th>\n",
       "    </tr>\n",
       "  </thead>\n",
       "  <tbody>\n",
       "    <tr>\n",
       "      <th>0</th>\n",
       "      <td>f7fdea625a</td>\n",
       "      <td>i`m so bored i can barely even tweet. i have n...</td>\n",
       "      <td>bored</td>\n",
       "      <td>negative</td>\n",
       "      <td>0</td>\n",
       "      <td>bored</td>\n",
       "      <td>bored</td>\n",
       "      <td>1.260304</td>\n",
       "      <td>0.068662</td>\n",
       "      <td>i`m so bored i can barely even tweet. i have n...</td>\n",
       "      <td>...</td>\n",
       "      <td>7</td>\n",
       "      <td>12</td>\n",
       "      <td>False</td>\n",
       "      <td>7</td>\n",
       "      <td>12</td>\n",
       "      <td>0</td>\n",
       "      <td>False</td>\n",
       "      <td>False</td>\n",
       "      <td>False</td>\n",
       "      <td>bored</td>\n",
       "    </tr>\n",
       "    <tr>\n",
       "      <th>1</th>\n",
       "      <td>c19de2c75b</td>\n",
       "      <td>awwwwwwwwww  thats jus...awwwww.did she get t...</td>\n",
       "      <td>awwwwwwwwww  thats jus...awwwww.did she get to...</td>\n",
       "      <td>neutral</td>\n",
       "      <td>0</td>\n",
       "      <td>awwwwwwwwww  thats jus...awwwww.did she get t...</td>\n",
       "      <td>awwwwwwwwww  thats jus...awwwww.did she get t...</td>\n",
       "      <td>1.927268</td>\n",
       "      <td>0.918263</td>\n",
       "      <td>awwwwwwwwww thats jus...awwwww.did she get to ...</td>\n",
       "      <td>...</td>\n",
       "      <td>1</td>\n",
       "      <td>65</td>\n",
       "      <td>True</td>\n",
       "      <td>0</td>\n",
       "      <td>63</td>\n",
       "      <td>2</td>\n",
       "      <td>False</td>\n",
       "      <td>False</td>\n",
       "      <td>False</td>\n",
       "      <td>awwwwwwwwww  thats jus...awwwww.did she get to...</td>\n",
       "    </tr>\n",
       "    <tr>\n",
       "      <th>2</th>\n",
       "      <td>0f963af18f</td>\n",
       "      <td>I did not twitt yesterday cause it was a very ...</td>\n",
       "      <td>I can not sleep</td>\n",
       "      <td>negative</td>\n",
       "      <td>0</td>\n",
       "      <td>I can not sleep</td>\n",
       "      <td>I can not sleep</td>\n",
       "      <td>0.706122</td>\n",
       "      <td>0.060505</td>\n",
       "      <td>I did not twitt yesterday cause it was a very ...</td>\n",
       "      <td>...</td>\n",
       "      <td>86</td>\n",
       "      <td>101</td>\n",
       "      <td>False</td>\n",
       "      <td>85</td>\n",
       "      <td>100</td>\n",
       "      <td>1</td>\n",
       "      <td>False</td>\n",
       "      <td>False</td>\n",
       "      <td>False</td>\n",
       "      <td>I can not sleep</td>\n",
       "    </tr>\n",
       "    <tr>\n",
       "      <th>3</th>\n",
       "      <td>0583c78cc1</td>\n",
       "      <td>Congratulation`s to phil packer on completing ...</td>\n",
       "      <td>Congratulation`s</td>\n",
       "      <td>positive</td>\n",
       "      <td>0</td>\n",
       "      <td>Congratulation`s to phil packer on completing ...</td>\n",
       "      <td>Congratulation`s to phil packer on completing ...</td>\n",
       "      <td>0.820241</td>\n",
       "      <td>0.080782</td>\n",
       "      <td>Congratulation`s to phil packer on completing ...</td>\n",
       "      <td>...</td>\n",
       "      <td>0</td>\n",
       "      <td>16</td>\n",
       "      <td>False</td>\n",
       "      <td>0</td>\n",
       "      <td>16</td>\n",
       "      <td>0</td>\n",
       "      <td>False</td>\n",
       "      <td>False</td>\n",
       "      <td>False</td>\n",
       "      <td>Congratulation`s</td>\n",
       "    </tr>\n",
       "    <tr>\n",
       "      <th>4</th>\n",
       "      <td>1cdb444ea5</td>\n",
       "      <td>O`Charleys? Pretty good. Especially when its f...</td>\n",
       "      <td>Pretty good.</td>\n",
       "      <td>positive</td>\n",
       "      <td>0</td>\n",
       "      <td>Pretty good.</td>\n",
       "      <td>Pretty good.</td>\n",
       "      <td>1.386945</td>\n",
       "      <td>0.057058</td>\n",
       "      <td>O`Charleys? Pretty good. Especially when its f...</td>\n",
       "      <td>...</td>\n",
       "      <td>12</td>\n",
       "      <td>24</td>\n",
       "      <td>False</td>\n",
       "      <td>12</td>\n",
       "      <td>24</td>\n",
       "      <td>0</td>\n",
       "      <td>False</td>\n",
       "      <td>False</td>\n",
       "      <td>False</td>\n",
       "      <td>Pretty good.</td>\n",
       "    </tr>\n",
       "  </tbody>\n",
       "</table>\n",
       "<p>5 rows × 24 columns</p>\n",
       "</div>"
      ],
      "text/plain": [
       "       textID                                               text  \\\n",
       "0  f7fdea625a  i`m so bored i can barely even tweet. i have n...   \n",
       "1  c19de2c75b   awwwwwwwwww  thats jus...awwwww.did she get t...   \n",
       "2  0f963af18f  I did not twitt yesterday cause it was a very ...   \n",
       "3  0583c78cc1  Congratulation`s to phil packer on completing ...   \n",
       "4  1cdb444ea5  O`Charleys? Pretty good. Especially when its f...   \n",
       "\n",
       "                                       selected_text sentiment  kfold  \\\n",
       "0                                              bored  negative      0   \n",
       "1  awwwwwwwwww  thats jus...awwwww.did she get to...   neutral      0   \n",
       "2                                    I can not sleep  negative      0   \n",
       "3                                   Congratulation`s  positive      0   \n",
       "4                                       Pretty good.  positive      0   \n",
       "\n",
       "                                                pred  \\\n",
       "0                                              bored   \n",
       "1   awwwwwwwwww  thats jus...awwwww.did she get t...   \n",
       "2                                    I can not sleep   \n",
       "3  Congratulation`s to phil packer on completing ...   \n",
       "4                                       Pretty good.   \n",
       "\n",
       "                                            raw_pred     score  whole_pred  \\\n",
       "0                                              bored  1.260304    0.068662   \n",
       "1   awwwwwwwwww  thats jus...awwwww.did she get t...  1.927268    0.918263   \n",
       "2                                    I can not sleep  0.706122    0.060505   \n",
       "3  Congratulation`s to phil packer on completing ...  0.820241    0.080782   \n",
       "4                                       Pretty good.  1.386945    0.057058   \n",
       "\n",
       "                                          clean_text  ...  start_pos_origin  \\\n",
       "0  i`m so bored i can barely even tweet. i have n...  ...                 7   \n",
       "1  awwwwwwwwww thats jus...awwwww.did she get to ...  ...                 1   \n",
       "2  I did not twitt yesterday cause it was a very ...  ...                86   \n",
       "3  Congratulation`s to phil packer on completing ...  ...                 0   \n",
       "4  O`Charleys? Pretty good. Especially when its f...  ...                12   \n",
       "\n",
       "   end_pos_origin to_end start_pos_clean  end_pos_clean  shift  broken_start  \\\n",
       "0              12  False               7             12      0         False   \n",
       "1              65   True               0             63      2         False   \n",
       "2             101  False              85            100      1         False   \n",
       "3              16  False               0             16      0         False   \n",
       "4              24  False              12             24      0         False   \n",
       "\n",
       "   broken_end  broken                                             new_st  \n",
       "0       False   False                                              bored  \n",
       "1       False   False  awwwwwwwwww  thats jus...awwwww.did she get to...  \n",
       "2       False   False                                    I can not sleep  \n",
       "3       False   False                                   Congratulation`s  \n",
       "4       False   False                                       Pretty good.  \n",
       "\n",
       "[5 rows x 24 columns]"
      ]
     },
     "execution_count": 64,
     "metadata": {},
     "output_type": "execute_result"
    }
   ],
   "source": [
    "train.head()"
   ]
  },
  {
   "cell_type": "code",
   "execution_count": 65,
   "metadata": {
    "ExecuteTime": {
     "end_time": "2020-06-09T12:02:25.010137Z",
     "start_time": "2020-06-09T12:02:24.987772Z"
    }
   },
   "outputs": [
    {
     "data": {
      "text/html": [
       "<div>\n",
       "<style scoped>\n",
       "    .dataframe tbody tr th:only-of-type {\n",
       "        vertical-align: middle;\n",
       "    }\n",
       "\n",
       "    .dataframe tbody tr th {\n",
       "        vertical-align: top;\n",
       "    }\n",
       "\n",
       "    .dataframe thead th {\n",
       "        text-align: right;\n",
       "    }\n",
       "</style>\n",
       "<table border=\"1\" class=\"dataframe\">\n",
       "  <thead>\n",
       "    <tr style=\"text-align: right;\">\n",
       "      <th></th>\n",
       "      <th>text</th>\n",
       "      <th>selected_text</th>\n",
       "      <th>sentiment</th>\n",
       "      <th>pred</th>\n",
       "      <th>raw_pred</th>\n",
       "      <th>shift</th>\n",
       "      <th>new_st</th>\n",
       "    </tr>\n",
       "  </thead>\n",
       "  <tbody>\n",
       "    <tr>\n",
       "      <th>3416</th>\n",
       "      <td>Jeff can`t get his visa in time to come visit ...</td>\n",
       "      <td>`m so sa</td>\n",
       "      <td>negative</td>\n",
       "      <td>I`m so sad.</td>\n",
       "      <td>I`m so sad.</td>\n",
       "      <td>3</td>\n",
       "      <td>so sad.</td>\n",
       "    </tr>\n",
       "    <tr>\n",
       "      <th>8555</th>\n",
       "      <td>New work wellness challenge not going well.  I...</td>\n",
       "      <td>Failed on first day.  Twic</td>\n",
       "      <td>negative</td>\n",
       "      <td>not going well.</td>\n",
       "      <td>not going well.</td>\n",
       "      <td>3</td>\n",
       "      <td>Failed on first day.  Twic</td>\n",
       "    </tr>\n",
       "    <tr>\n",
       "      <th>1052</th>\n",
       "      <td>i hope so  I KNOW WOO! haha 2 times  it was e...</td>\n",
       "      <td>as excitin</td>\n",
       "      <td>positive</td>\n",
       "      <td>as excitin</td>\n",
       "      <td>exciting</td>\n",
       "      <td>3</td>\n",
       "      <td>exciting</td>\n",
       "    </tr>\n",
       "    <tr>\n",
       "      <th>27192</th>\n",
       "      <td>Mooorning! It`s Friday, and that`s terrific! S...</td>\n",
       "      <td>that`s terrific! Smile up!    :-|</td>\n",
       "      <td>positive</td>\n",
       "      <td>terrific!</td>\n",
       "      <td>terrific!</td>\n",
       "      <td>3</td>\n",
       "      <td>that`s terrific! Smile up!    :-|</td>\n",
       "    </tr>\n",
       "    <tr>\n",
       "      <th>15525</th>\n",
       "      <td>May the 4th be with you    Happy Star Wars Day...</td>\n",
       "      <td>Happy Star Wars Day !!</td>\n",
       "      <td>positive</td>\n",
       "      <td>Happy</td>\n",
       "      <td>Happy</td>\n",
       "      <td>3</td>\n",
       "      <td>Happy Star Wars Day !!</td>\n",
       "    </tr>\n",
       "  </tbody>\n",
       "</table>\n",
       "</div>"
      ],
      "text/plain": [
       "                                                    text  \\\n",
       "3416   Jeff can`t get his visa in time to come visit ...   \n",
       "8555   New work wellness challenge not going well.  I...   \n",
       "1052    i hope so  I KNOW WOO! haha 2 times  it was e...   \n",
       "27192  Mooorning! It`s Friday, and that`s terrific! S...   \n",
       "15525  May the 4th be with you    Happy Star Wars Day...   \n",
       "\n",
       "                           selected_text sentiment             pred  \\\n",
       "3416                            `m so sa  negative     I`m so sad.    \n",
       "8555          Failed on first day.  Twic  negative  not going well.   \n",
       "1052                          as excitin  positive       as excitin   \n",
       "27192  that`s terrific! Smile up!    :-|  positive        terrific!   \n",
       "15525             Happy Star Wars Day !!  positive           Happy    \n",
       "\n",
       "              raw_pred  shift                             new_st  \n",
       "3416       I`m so sad.      3                            so sad.  \n",
       "8555   not going well.      3         Failed on first day.  Twic  \n",
       "1052          exciting      3                           exciting  \n",
       "27192        terrific!      3  that`s terrific! Smile up!    :-|  \n",
       "15525            Happy      3             Happy Star Wars Day !!  "
      ]
     },
     "execution_count": 65,
     "metadata": {},
     "output_type": "execute_result"
    }
   ],
   "source": [
    "train[(train['shift']==3)&(train['sentiment']!='neutral')][['text', 'selected_text', 'sentiment','pred','raw_pred','shift','new_st']].sample(n=5)"
   ]
  },
  {
   "cell_type": "code",
   "execution_count": 69,
   "metadata": {
    "ExecuteTime": {
     "end_time": "2020-06-09T12:03:42.827108Z",
     "start_time": "2020-06-09T12:03:42.824040Z"
    }
   },
   "outputs": [
    {
     "name": "stdout",
     "output_type": "stream",
     "text": [
      "textID                                                     47aec7e3be\n",
      "text                                           omg   i found it  thnx\n",
      "selected_text                                   omg   i found it  thn\n",
      "sentiment                                                    positive\n",
      "kfold                                                               0\n",
      "pred                                                          t  thnx\n",
      "raw_pred                                                         thnx\n",
      "score                                                         1.64235\n",
      "whole_pred                                                   0.254472\n",
      "clean_text                                        omg i found it thnx\n",
      "len_delta                                                           3\n",
      "whole                                                            True\n",
      "extra_space         [0, 0, 0, 0, 1, 2, 2, 2, 2, 2, 2, 2, 2, 2, 2, ...\n",
      "clean_st                                           omg i found it thn\n",
      "start_pos_origin                                                    0\n",
      "end_pos_origin                                                     21\n",
      "to_end                                                          False\n",
      "start_pos_clean                                                     0\n",
      "end_pos_clean                                                      18\n",
      "shift                                                               3\n",
      "broken_start                                                    False\n",
      "broken_end                                                       True\n",
      "broken                                                           True\n",
      "new_st                                          omg   i found it  thn\n",
      "Name: 2106, dtype: object\n"
     ]
    }
   ],
   "source": [
    "print(train.loc[2106])"
   ]
  },
  {
   "cell_type": "code",
   "execution_count": 66,
   "metadata": {
    "ExecuteTime": {
     "end_time": "2020-06-09T12:02:25.473337Z",
     "start_time": "2020-06-09T12:02:25.467496Z"
    }
   },
   "outputs": [
    {
     "name": "stdout",
     "output_type": "stream",
     "text": [
      "'omg   i found it  thnx'\n",
      "'t  thnx'\n",
      "'thnx'\n"
     ]
    }
   ],
   "source": [
    "loc = 2106\n",
    "print(\"'\"+train.loc[loc, 'text']+\"'\")\n",
    "print(\"'\"+train.loc[loc, 'pred']+\"'\")\n",
    "print(\"'\"+train.loc[loc, 'raw_pred']+\"'\")"
   ]
  },
  {
   "cell_type": "code",
   "execution_count": 22,
   "metadata": {
    "ExecuteTime": {
     "end_time": "2020-06-09T11:26:57.441948Z",
     "start_time": "2020-06-09T11:26:57.439028Z"
    }
   },
   "outputs": [],
   "source": [
    "def get_extra_space_count(x):\n",
    "    prev_space = True\n",
    "    space_counts = []\n",
    "    count = 0\n",
    "    for c in x:\n",
    "        if c == ' ':\n",
    "            if prev_space:\n",
    "                count += 1\n",
    "            space_counts.append(count)\n",
    "            prev_space = True\n",
    "        else:\n",
    "            space_counts.append(count)\n",
    "            prev_space = False\n",
    "    return space_counts"
   ]
  },
  {
   "cell_type": "code",
   "execution_count": 67,
   "metadata": {
    "ExecuteTime": {
     "end_time": "2020-06-09T12:03:03.973939Z",
     "start_time": "2020-06-09T12:03:03.971997Z"
    }
   },
   "outputs": [],
   "source": [
    "es = get_extra_space_count(train.loc[2106, 'text'])"
   ]
  },
  {
   "cell_type": "code",
   "execution_count": 46,
   "metadata": {
    "ExecuteTime": {
     "end_time": "2020-06-09T12:00:02.362675Z",
     "start_time": "2020-06-09T12:00:02.360441Z"
    }
   },
   "outputs": [],
   "source": [
    "text = train.loc[loc, 'text']"
   ]
  },
  {
   "cell_type": "code",
   "execution_count": 48,
   "metadata": {
    "ExecuteTime": {
     "end_time": "2020-06-09T12:00:40.439196Z",
     "start_time": "2020-06-09T12:00:39.160499Z"
    }
   },
   "outputs": [],
   "source": [
    "from transformers import RobertaTokenizer\n",
    "tokenizer = RobertaTokenizer.from_pretrained('../../bert_models/roberta_base/')"
   ]
  },
  {
   "cell_type": "code",
   "execution_count": 49,
   "metadata": {
    "ExecuteTime": {
     "end_time": "2020-06-09T12:00:43.679360Z",
     "start_time": "2020-06-09T12:00:43.672618Z"
    }
   },
   "outputs": [],
   "source": [
    "prev_punc = True\n",
    "word = []\n",
    "offset = []\n",
    "token = []\n",
    "invert_map = []\n",
    "for idx, c in enumerate(text):\n",
    "\n",
    "    if c in [' ','.',',','!','?','(',')',';',':','-','=',\"/\",\"<\",\"`\"]:\n",
    "        prev_punc = True\n",
    "        word.append(c)\n",
    "        offset.append(idx)\n",
    "    else:\n",
    "        if prev_punc:\n",
    "            word.append(c)\n",
    "            offset.append(idx)\n",
    "            prev_punc = False\n",
    "        else:\n",
    "            word[-1]+=c\n",
    "offset = [(x, x+len(y)) for x, y in zip(offset, word)]\n",
    "for word_idx, w in enumerate(word):\n",
    "    if word_idx>0 and word[word_idx-1]==' ':\n",
    "        prefix = ' '\n",
    "    else:\n",
    "        prefix = ''\n",
    "    if word==' ':\n",
    "        token.append(\"Ġ\")\n",
    "        invert_map.append(word_idx)\n",
    "    else:\n",
    "        for t in tokenizer.tokenize(prefix+w):\n",
    "            token.append(t)\n",
    "            invert_map.append(word_idx)"
   ]
  },
  {
   "cell_type": "code",
   "execution_count": 52,
   "metadata": {
    "ExecuteTime": {
     "end_time": "2020-06-09T12:01:41.781201Z",
     "start_time": "2020-06-09T12:01:41.778317Z"
    }
   },
   "outputs": [
    {
     "data": {
      "text/plain": [
       "['omg', ' ', ' ', ' ', 'i', ' ', 'found', ' ', 'it', ' ', ' ', 'thnx']"
      ]
     },
     "execution_count": 52,
     "metadata": {},
     "output_type": "execute_result"
    }
   ],
   "source": [
    "word"
   ]
  },
  {
   "cell_type": "code",
   "execution_count": 50,
   "metadata": {
    "ExecuteTime": {
     "end_time": "2020-06-09T12:00:46.975114Z",
     "start_time": "2020-06-09T12:00:46.972212Z"
    }
   },
   "outputs": [
    {
     "data": {
      "text/plain": [
       "[(0, 3),\n",
       " (3, 4),\n",
       " (4, 5),\n",
       " (5, 6),\n",
       " (6, 7),\n",
       " (7, 8),\n",
       " (8, 13),\n",
       " (13, 14),\n",
       " (14, 16),\n",
       " (16, 17),\n",
       " (17, 18),\n",
       " (18, 22)]"
      ]
     },
     "execution_count": 50,
     "metadata": {},
     "output_type": "execute_result"
    }
   ],
   "source": [
    "offset"
   ]
  },
  {
   "cell_type": "code",
   "execution_count": 51,
   "metadata": {
    "ExecuteTime": {
     "end_time": "2020-06-09T12:00:58.268934Z",
     "start_time": "2020-06-09T12:00:58.266519Z"
    }
   },
   "outputs": [
    {
     "data": {
      "text/plain": [
       "22"
      ]
     },
     "execution_count": 51,
     "metadata": {},
     "output_type": "execute_result"
    }
   ],
   "source": [
    "len(text)"
   ]
  },
  {
   "cell_type": "code",
   "execution_count": 68,
   "metadata": {
    "ExecuteTime": {
     "end_time": "2020-06-09T12:03:16.278465Z",
     "start_time": "2020-06-09T12:03:16.272965Z"
    }
   },
   "outputs": [
    {
     "data": {
      "text/plain": [
       "3"
      ]
     },
     "execution_count": 68,
     "metadata": {},
     "output_type": "execute_result"
    }
   ],
   "source": [
    "es[offset[-1][0]]"
   ]
  },
  {
   "cell_type": "code",
   "execution_count": null,
   "metadata": {},
   "outputs": [],
   "source": []
  }
 ],
 "metadata": {
  "kernelspec": {
   "display_name": "Python 3",
   "language": "python",
   "name": "python3"
  },
  "language_info": {
   "codemirror_mode": {
    "name": "ipython",
    "version": 3
   },
   "file_extension": ".py",
   "mimetype": "text/x-python",
   "name": "python",
   "nbconvert_exporter": "python",
   "pygments_lexer": "ipython3",
   "version": "3.7.1"
  }
 },
 "nbformat": 4,
 "nbformat_minor": 2
}
