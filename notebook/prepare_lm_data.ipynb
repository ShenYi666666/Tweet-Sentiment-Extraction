{
 "cells": [
  {
   "cell_type": "code",
   "execution_count": 1,
   "metadata": {
    "ExecuteTime": {
     "end_time": "2020-05-13T14:09:52.087078Z",
     "start_time": "2020-05-13T14:09:51.902406Z"
    }
   },
   "outputs": [],
   "source": [
    "import pandas as pd"
   ]
  },
  {
   "cell_type": "code",
   "execution_count": 13,
   "metadata": {
    "ExecuteTime": {
     "end_time": "2020-05-13T14:39:28.094303Z",
     "start_time": "2020-05-13T14:39:27.918282Z"
    }
   },
   "outputs": [],
   "source": [
    "import torch\n",
    "from torch import nn"
   ]
  },
  {
   "cell_type": "code",
   "execution_count": 44,
   "metadata": {
    "ExecuteTime": {
     "end_time": "2020-05-13T14:53:45.585040Z",
     "start_time": "2020-05-13T14:53:45.582770Z"
    }
   },
   "outputs": [],
   "source": [
    "t = torch.FloatTensor([[0,0,0,1]])\n",
    "i = torch.FloatTensor([[1,2,5,1]])"
   ]
  },
  {
   "cell_type": "code",
   "execution_count": 53,
   "metadata": {
    "ExecuteTime": {
     "end_time": "2020-05-13T15:00:03.732297Z",
     "start_time": "2020-05-13T15:00:03.730092Z"
    }
   },
   "outputs": [],
   "source": [
    "ce = nn.CrossEntropyLoss()\n",
    "nl = nn.NLLLoss()\n",
    "kl = nn.KLDivLoss(reduction='batchmean')"
   ]
  },
  {
   "cell_type": "code",
   "execution_count": 54,
   "metadata": {
    "ExecuteTime": {
     "end_time": "2020-05-13T15:00:04.812999Z",
     "start_time": "2020-05-13T15:00:04.809943Z"
    }
   },
   "outputs": [
    {
     "data": {
      "text/plain": [
       "tensor([[-4.0829, -3.0829, -0.0829, -4.0829]])"
      ]
     },
     "execution_count": 54,
     "metadata": {},
     "output_type": "execute_result"
    }
   ],
   "source": [
    "torch.log_softmax(i, dim=-1)"
   ]
  },
  {
   "cell_type": "code",
   "execution_count": 55,
   "metadata": {
    "ExecuteTime": {
     "end_time": "2020-05-13T15:00:05.268308Z",
     "start_time": "2020-05-13T15:00:05.256201Z"
    }
   },
   "outputs": [
    {
     "data": {
      "text/plain": [
       "tensor(4.0829)"
      ]
     },
     "execution_count": 55,
     "metadata": {},
     "output_type": "execute_result"
    }
   ],
   "source": [
    "kl(torch.log_softmax(i, dim=-1), t)"
   ]
  },
  {
   "cell_type": "code",
   "execution_count": 48,
   "metadata": {
    "ExecuteTime": {
     "end_time": "2020-05-13T14:55:42.825404Z",
     "start_time": "2020-05-13T14:55:42.822398Z"
    }
   },
   "outputs": [
    {
     "data": {
      "text/plain": [
       "tensor(4.0829)"
      ]
     },
     "execution_count": 48,
     "metadata": {},
     "output_type": "execute_result"
    }
   ],
   "source": [
    "nl(torch.log_softmax(i, dim=-1), torch.LongTensor([3]))"
   ]
  },
  {
   "cell_type": "code",
   "execution_count": 46,
   "metadata": {
    "ExecuteTime": {
     "end_time": "2020-05-13T14:53:46.088373Z",
     "start_time": "2020-05-13T14:53:46.075431Z"
    }
   },
   "outputs": [
    {
     "data": {
      "text/plain": [
       "tensor(1.9745)"
      ]
     },
     "execution_count": 46,
     "metadata": {},
     "output_type": "execute_result"
    }
   ],
   "source": [
    "nl(torch.log_softmax(i, dim=-1), torch.LongTensor([3]))-kl(t, i)"
   ]
  },
  {
   "cell_type": "code",
   "execution_count": 37,
   "metadata": {
    "ExecuteTime": {
     "end_time": "2020-05-13T14:45:44.218788Z",
     "start_time": "2020-05-13T14:45:44.204650Z"
    }
   },
   "outputs": [
    {
     "data": {
      "text/plain": [
       "tensor(4.0829)"
      ]
     },
     "execution_count": 37,
     "metadata": {},
     "output_type": "execute_result"
    }
   ],
   "source": [
    "nl(torch.log_softmax(i, dim=-1), torch.LongTensor([3]))-kl(t, torch.log_softmax(i, dim=-1))"
   ]
  },
  {
   "cell_type": "code",
   "execution_count": 38,
   "metadata": {
    "ExecuteTime": {
     "end_time": "2020-05-13T14:50:29.776577Z",
     "start_time": "2020-05-13T14:50:29.773131Z"
    }
   },
   "outputs": [
    {
     "data": {
      "text/plain": [
       "tensor(0.)"
      ]
     },
     "execution_count": 38,
     "metadata": {},
     "output_type": "execute_result"
    }
   ],
   "source": [
    "ce(i, torch.LongTensor([3]))-nl(torch.log_softmax(i, dim=-1), torch.LongTensor([3]))"
   ]
  },
  {
   "cell_type": "code",
   "execution_count": 23,
   "metadata": {
    "ExecuteTime": {
     "end_time": "2020-05-13T14:41:32.804533Z",
     "start_time": "2020-05-13T14:41:32.801144Z"
    }
   },
   "outputs": [],
   "source": []
  },
  {
   "cell_type": "code",
   "execution_count": 24,
   "metadata": {
    "ExecuteTime": {
     "end_time": "2020-05-13T14:41:54.471744Z",
     "start_time": "2020-05-13T14:41:54.466215Z"
    }
   },
   "outputs": [
    {
     "name": "stderr",
     "output_type": "stream",
     "text": [
      "/home/yuanhao/anaconda3/lib/python3.7/site-packages/torch/nn/functional.py:1958: UserWarning: reduction: 'mean' divides the total loss by both the batch size and the support size.'batchmean' divides only by the batch size, and aligns with the KL div math definition.'mean' will be changed to behave the same as 'batchmean' in the next major release.\n",
      "  warnings.warn(\"reduction: 'mean' divides the total loss by both the batch size and the support size.\"\n"
     ]
    },
    {
     "data": {
      "text/plain": [
       "tensor(0.3466)"
      ]
     },
     "execution_count": 24,
     "metadata": {},
     "output_type": "execute_result"
    }
   ],
   "source": [
    "kl(torch.log_softmax(i, dim=-1), t)"
   ]
  },
  {
   "cell_type": "code",
   "execution_count": 2,
   "metadata": {
    "ExecuteTime": {
     "end_time": "2020-05-13T14:09:52.155404Z",
     "start_time": "2020-05-13T14:09:52.116028Z"
    }
   },
   "outputs": [],
   "source": [
    "train = pd.read_csv('../input/tweet-sentiment-extraction/train.csv')"
   ]
  },
  {
   "cell_type": "code",
   "execution_count": 3,
   "metadata": {
    "ExecuteTime": {
     "end_time": "2020-05-13T14:09:52.305004Z",
     "start_time": "2020-05-13T14:09:52.278509Z"
    }
   },
   "outputs": [],
   "source": [
    "test = pd.read_csv('../input/tweet-sentiment-extraction/test.csv')"
   ]
  },
  {
   "cell_type": "code",
   "execution_count": 4,
   "metadata": {
    "ExecuteTime": {
     "end_time": "2020-05-13T14:09:52.481700Z",
     "start_time": "2020-05-13T14:09:52.460551Z"
    }
   },
   "outputs": [],
   "source": [
    "data = pd.concat([train, test], ignore_index=True, sort=False)"
   ]
  },
  {
   "cell_type": "code",
   "execution_count": 5,
   "metadata": {
    "ExecuteTime": {
     "end_time": "2020-05-13T14:09:52.631253Z",
     "start_time": "2020-05-13T14:09:52.624655Z"
    }
   },
   "outputs": [],
   "source": [
    "data.reset_index(drop=True, inplace=True)"
   ]
  },
  {
   "cell_type": "code",
   "execution_count": 6,
   "metadata": {
    "ExecuteTime": {
     "end_time": "2020-05-13T14:09:52.804015Z",
     "start_time": "2020-05-13T14:09:52.782846Z"
    }
   },
   "outputs": [
    {
     "data": {
      "text/plain": [
       "(31015, 4)"
      ]
     },
     "execution_count": 6,
     "metadata": {},
     "output_type": "execute_result"
    }
   ],
   "source": [
    "data.shape"
   ]
  },
  {
   "cell_type": "code",
   "execution_count": 7,
   "metadata": {
    "ExecuteTime": {
     "end_time": "2020-05-13T14:09:52.990411Z",
     "start_time": "2020-05-13T14:09:52.967417Z"
    }
   },
   "outputs": [
    {
     "data": {
      "text/html": [
       "<div>\n",
       "<style scoped>\n",
       "    .dataframe tbody tr th:only-of-type {\n",
       "        vertical-align: middle;\n",
       "    }\n",
       "\n",
       "    .dataframe tbody tr th {\n",
       "        vertical-align: top;\n",
       "    }\n",
       "\n",
       "    .dataframe thead th {\n",
       "        text-align: right;\n",
       "    }\n",
       "</style>\n",
       "<table border=\"1\" class=\"dataframe\">\n",
       "  <thead>\n",
       "    <tr style=\"text-align: right;\">\n",
       "      <th></th>\n",
       "      <th>textID</th>\n",
       "      <th>text</th>\n",
       "      <th>selected_text</th>\n",
       "      <th>sentiment</th>\n",
       "    </tr>\n",
       "  </thead>\n",
       "  <tbody>\n",
       "    <tr>\n",
       "      <th>31010</th>\n",
       "      <td>e5f0e6ef4b</td>\n",
       "      <td>its at 3 am, im very tired but i can`t sleep  ...</td>\n",
       "      <td>NaN</td>\n",
       "      <td>negative</td>\n",
       "    </tr>\n",
       "    <tr>\n",
       "      <th>31011</th>\n",
       "      <td>416863ce47</td>\n",
       "      <td>All alone in this old house again.  Thanks for...</td>\n",
       "      <td>NaN</td>\n",
       "      <td>positive</td>\n",
       "    </tr>\n",
       "    <tr>\n",
       "      <th>31012</th>\n",
       "      <td>6332da480c</td>\n",
       "      <td>I know what you mean. My little dog is sinkin...</td>\n",
       "      <td>NaN</td>\n",
       "      <td>negative</td>\n",
       "    </tr>\n",
       "    <tr>\n",
       "      <th>31013</th>\n",
       "      <td>df1baec676</td>\n",
       "      <td>_sutra what is your next youtube video gonna b...</td>\n",
       "      <td>NaN</td>\n",
       "      <td>positive</td>\n",
       "    </tr>\n",
       "    <tr>\n",
       "      <th>31014</th>\n",
       "      <td>469e15c5a8</td>\n",
       "      <td>http://twitpic.com/4woj2 - omgssh  ang cute n...</td>\n",
       "      <td>NaN</td>\n",
       "      <td>positive</td>\n",
       "    </tr>\n",
       "  </tbody>\n",
       "</table>\n",
       "</div>"
      ],
      "text/plain": [
       "           textID                                               text  \\\n",
       "31010  e5f0e6ef4b  its at 3 am, im very tired but i can`t sleep  ...   \n",
       "31011  416863ce47  All alone in this old house again.  Thanks for...   \n",
       "31012  6332da480c   I know what you mean. My little dog is sinkin...   \n",
       "31013  df1baec676  _sutra what is your next youtube video gonna b...   \n",
       "31014  469e15c5a8   http://twitpic.com/4woj2 - omgssh  ang cute n...   \n",
       "\n",
       "      selected_text sentiment  \n",
       "31010           NaN  negative  \n",
       "31011           NaN  positive  \n",
       "31012           NaN  negative  \n",
       "31013           NaN  positive  \n",
       "31014           NaN  positive  "
      ]
     },
     "execution_count": 7,
     "metadata": {},
     "output_type": "execute_result"
    }
   ],
   "source": [
    "data.tail()"
   ]
  },
  {
   "cell_type": "code",
   "execution_count": 8,
   "metadata": {
    "ExecuteTime": {
     "end_time": "2020-05-13T14:09:53.141814Z",
     "start_time": "2020-05-13T14:09:53.108743Z"
    }
   },
   "outputs": [],
   "source": [
    "data.dropna(subset=['text'], how='any', inplace=True)"
   ]
  },
  {
   "cell_type": "code",
   "execution_count": 9,
   "metadata": {
    "ExecuteTime": {
     "end_time": "2020-05-13T14:09:53.587992Z",
     "start_time": "2020-05-13T14:09:53.528955Z"
    }
   },
   "outputs": [],
   "source": [
    "data['text'] = data['text'].apply(lambda x: ' '.join(x.lower().strip().split()))"
   ]
  },
  {
   "cell_type": "code",
   "execution_count": 10,
   "metadata": {
    "ExecuteTime": {
     "end_time": "2020-05-13T14:09:53.804500Z",
     "start_time": "2020-05-13T14:09:53.792167Z"
    }
   },
   "outputs": [
    {
     "data": {
      "text/plain": [
       "31010    its at 3 am, im very tired but i can`t sleep b...\n",
       "31011    all alone in this old house again. thanks for ...\n",
       "31012    i know what you mean. my little dog is sinking...\n",
       "31013    _sutra what is your next youtube video gonna b...\n",
       "31014    http://twitpic.com/4woj2 - omgssh ang cute ng ...\n",
       "Name: text, dtype: object"
      ]
     },
     "execution_count": 10,
     "metadata": {},
     "output_type": "execute_result"
    }
   ],
   "source": [
    "data['text'].tail()"
   ]
  },
  {
   "cell_type": "code",
   "execution_count": 11,
   "metadata": {
    "ExecuteTime": {
     "end_time": "2020-05-13T14:09:54.005644Z",
     "start_time": "2020-05-13T14:09:53.970491Z"
    }
   },
   "outputs": [],
   "source": [
    "data['text'] = data['text'].apply(lambda st: st.replace(\"`\",\"'\"))"
   ]
  },
  {
   "cell_type": "code",
   "execution_count": 12,
   "metadata": {
    "ExecuteTime": {
     "end_time": "2020-05-13T14:09:54.296083Z",
     "start_time": "2020-05-13T14:09:54.269157Z"
    }
   },
   "outputs": [],
   "source": [
    "with open('../input/corpus.txt', 'w') as f:\n",
    "    for sentiment, text in zip(data['sentiment'].tolist(), data['text'].tolist()):\n",
    "        f.write(text+\"\\n\")"
   ]
  },
  {
   "cell_type": "code",
   "execution_count": null,
   "metadata": {},
   "outputs": [],
   "source": []
  }
 ],
 "metadata": {
  "kernelspec": {
   "display_name": "Python 3",
   "language": "python",
   "name": "python3"
  },
  "language_info": {
   "codemirror_mode": {
    "name": "ipython",
    "version": 3
   },
   "file_extension": ".py",
   "mimetype": "text/x-python",
   "name": "python",
   "nbconvert_exporter": "python",
   "pygments_lexer": "ipython3",
   "version": "3.7.1"
  }
 },
 "nbformat": 4,
 "nbformat_minor": 2
}
