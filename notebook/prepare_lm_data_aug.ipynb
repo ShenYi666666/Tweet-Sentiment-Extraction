{
 "cells": [
  {
   "cell_type": "code",
   "execution_count": 1,
   "metadata": {
    "ExecuteTime": {
     "end_time": "2020-05-16T01:33:16.964407Z",
     "start_time": "2020-05-16T01:33:16.765340Z"
    }
   },
   "outputs": [],
   "source": [
    "import pandas as pd"
   ]
  },
  {
   "cell_type": "code",
   "execution_count": 3,
   "metadata": {
    "ExecuteTime": {
     "end_time": "2020-05-16T01:33:23.032866Z",
     "start_time": "2020-05-16T01:33:22.941210Z"
    }
   },
   "outputs": [],
   "source": [
    "data = pd.read_csv('../input/tweet-sentiment-extraction/tweet_dataset.csv')"
   ]
  },
  {
   "cell_type": "code",
   "execution_count": 4,
   "metadata": {
    "ExecuteTime": {
     "end_time": "2020-05-16T01:33:24.696462Z",
     "start_time": "2020-05-16T01:33:24.694378Z"
    }
   },
   "outputs": [],
   "source": [
    "data.reset_index(drop=True, inplace=True)"
   ]
  },
  {
   "cell_type": "code",
   "execution_count": 5,
   "metadata": {
    "ExecuteTime": {
     "end_time": "2020-05-16T01:33:25.120033Z",
     "start_time": "2020-05-16T01:33:25.098875Z"
    }
   },
   "outputs": [
    {
     "data": {
      "text/plain": [
       "(40000, 8)"
      ]
     },
     "execution_count": 5,
     "metadata": {},
     "output_type": "execute_result"
    }
   ],
   "source": [
    "data.shape"
   ]
  },
  {
   "cell_type": "code",
   "execution_count": 6,
   "metadata": {
    "ExecuteTime": {
     "end_time": "2020-05-16T01:33:28.351370Z",
     "start_time": "2020-05-16T01:33:28.343243Z"
    }
   },
   "outputs": [
    {
     "data": {
      "text/html": [
       "<div>\n",
       "<style scoped>\n",
       "    .dataframe tbody tr th:only-of-type {\n",
       "        vertical-align: middle;\n",
       "    }\n",
       "\n",
       "    .dataframe tbody tr th {\n",
       "        vertical-align: top;\n",
       "    }\n",
       "\n",
       "    .dataframe thead th {\n",
       "        text-align: right;\n",
       "    }\n",
       "</style>\n",
       "<table border=\"1\" class=\"dataframe\">\n",
       "  <thead>\n",
       "    <tr style=\"text-align: right;\">\n",
       "      <th></th>\n",
       "      <th>textID</th>\n",
       "      <th>sentiment</th>\n",
       "      <th>author</th>\n",
       "      <th>text</th>\n",
       "      <th>old_text</th>\n",
       "      <th>aux_id</th>\n",
       "      <th>new_sentiment</th>\n",
       "      <th>selected_text</th>\n",
       "    </tr>\n",
       "  </thead>\n",
       "  <tbody>\n",
       "    <tr>\n",
       "      <th>0</th>\n",
       "      <td>1956967341</td>\n",
       "      <td>empty</td>\n",
       "      <td>xoshayzers</td>\n",
       "      <td>i know  i was listenin to bad habit earlier a...</td>\n",
       "      <td>@tiffanylue i know  i was listenin to bad habi...</td>\n",
       "      <td>p1000000000</td>\n",
       "      <td>NaN</td>\n",
       "      <td>NaN</td>\n",
       "    </tr>\n",
       "    <tr>\n",
       "      <th>1</th>\n",
       "      <td>1956967666</td>\n",
       "      <td>sadness</td>\n",
       "      <td>wannamama</td>\n",
       "      <td>Layin n bed with a headache  ughhhh...waitin o...</td>\n",
       "      <td>Layin n bed with a headache  ughhhh...waitin o...</td>\n",
       "      <td>c811396dc2</td>\n",
       "      <td>negative</td>\n",
       "      <td>headache</td>\n",
       "    </tr>\n",
       "    <tr>\n",
       "      <th>2</th>\n",
       "      <td>1956967696</td>\n",
       "      <td>sadness</td>\n",
       "      <td>coolfunky</td>\n",
       "      <td>Funeral ceremony...gloomy friday...</td>\n",
       "      <td>Funeral ceremony...gloomy friday...</td>\n",
       "      <td>9063631ab1</td>\n",
       "      <td>negative</td>\n",
       "      <td>gloomy</td>\n",
       "    </tr>\n",
       "    <tr>\n",
       "      <th>3</th>\n",
       "      <td>1956967789</td>\n",
       "      <td>enthusiasm</td>\n",
       "      <td>czareaquino</td>\n",
       "      <td>wants to hang out with friends SOON!</td>\n",
       "      <td>wants to hang out with friends SOON!</td>\n",
       "      <td>2a815f151d</td>\n",
       "      <td>positive</td>\n",
       "      <td>wants to hang out with friends SOON!</td>\n",
       "    </tr>\n",
       "    <tr>\n",
       "      <th>4</th>\n",
       "      <td>1956968416</td>\n",
       "      <td>neutral</td>\n",
       "      <td>xkilljoyx</td>\n",
       "      <td>We want to trade with someone who has Houston...</td>\n",
       "      <td>@dannycastillo We want to trade with someone w...</td>\n",
       "      <td>82565a56d3</td>\n",
       "      <td>neutral</td>\n",
       "      <td>We want to trade with someone who has Houston ...</td>\n",
       "    </tr>\n",
       "  </tbody>\n",
       "</table>\n",
       "</div>"
      ],
      "text/plain": [
       "       textID   sentiment       author  \\\n",
       "0  1956967341       empty   xoshayzers   \n",
       "1  1956967666     sadness    wannamama   \n",
       "2  1956967696     sadness    coolfunky   \n",
       "3  1956967789  enthusiasm  czareaquino   \n",
       "4  1956968416     neutral    xkilljoyx   \n",
       "\n",
       "                                                text  \\\n",
       "0   i know  i was listenin to bad habit earlier a...   \n",
       "1  Layin n bed with a headache  ughhhh...waitin o...   \n",
       "2                Funeral ceremony...gloomy friday...   \n",
       "3               wants to hang out with friends SOON!   \n",
       "4   We want to trade with someone who has Houston...   \n",
       "\n",
       "                                            old_text       aux_id  \\\n",
       "0  @tiffanylue i know  i was listenin to bad habi...  p1000000000   \n",
       "1  Layin n bed with a headache  ughhhh...waitin o...   c811396dc2   \n",
       "2                Funeral ceremony...gloomy friday...   9063631ab1   \n",
       "3               wants to hang out with friends SOON!   2a815f151d   \n",
       "4  @dannycastillo We want to trade with someone w...   82565a56d3   \n",
       "\n",
       "  new_sentiment                                      selected_text  \n",
       "0           NaN                                                NaN  \n",
       "1      negative                                           headache  \n",
       "2      negative                                             gloomy  \n",
       "3      positive               wants to hang out with friends SOON!  \n",
       "4       neutral  We want to trade with someone who has Houston ...  "
      ]
     },
     "execution_count": 6,
     "metadata": {},
     "output_type": "execute_result"
    }
   ],
   "source": [
    "data.head()"
   ]
  },
  {
   "cell_type": "code",
   "execution_count": 7,
   "metadata": {
    "ExecuteTime": {
     "end_time": "2020-05-16T01:33:41.789819Z",
     "start_time": "2020-05-16T01:33:41.784859Z"
    }
   },
   "outputs": [],
   "source": [
    "def prepare(text):\n",
    "    words = text.split()\n",
    "    retval, first_char, invert_map = [], [], []\n",
    "    current_pos = 0\n",
    "    for w in words:\n",
    "        word_ret = [\"\"]\n",
    "        word_invert = [current_pos]\n",
    "        for p, c in enumerate(w):\n",
    "            if c in ['.',',','!','?']:\n",
    "                if word_ret[-1]==\"\":\n",
    "                    word_ret[-1]+=c\n",
    "                    word_invert[-1]=current_pos+p\n",
    "                else:\n",
    "                    word_ret.append(c)\n",
    "                    word_invert.append(current_pos+p)\n",
    "                word_ret.append(\"\")\n",
    "                word_invert.append(current_pos+p+1)\n",
    "            else:\n",
    "                word_ret[-1]+=c\n",
    "        if len(word_ret[-1])==0:\n",
    "            word_ret.pop(-1)\n",
    "            word_invert.pop(-1)\n",
    "        word_first = [False if i>0 else True for i in range(len(word_ret)) ]\n",
    "        retval.extend(word_ret)\n",
    "        first_char.extend(word_first)\n",
    "        invert_map.extend(word_invert)\n",
    "        current_pos+=len(w)+1\n",
    "    assert len(retval)==len(first_char)\n",
    "    return retval, first_char, invert_map"
   ]
  },
  {
   "cell_type": "code",
   "execution_count": 8,
   "metadata": {
    "ExecuteTime": {
     "end_time": "2020-05-16T01:33:42.018564Z",
     "start_time": "2020-05-16T01:33:42.007239Z"
    }
   },
   "outputs": [
    {
     "data": {
      "text/html": [
       "<div>\n",
       "<style scoped>\n",
       "    .dataframe tbody tr th:only-of-type {\n",
       "        vertical-align: middle;\n",
       "    }\n",
       "\n",
       "    .dataframe tbody tr th {\n",
       "        vertical-align: top;\n",
       "    }\n",
       "\n",
       "    .dataframe thead th {\n",
       "        text-align: right;\n",
       "    }\n",
       "</style>\n",
       "<table border=\"1\" class=\"dataframe\">\n",
       "  <thead>\n",
       "    <tr style=\"text-align: right;\">\n",
       "      <th></th>\n",
       "      <th>textID</th>\n",
       "      <th>sentiment</th>\n",
       "      <th>author</th>\n",
       "      <th>text</th>\n",
       "      <th>old_text</th>\n",
       "      <th>aux_id</th>\n",
       "      <th>new_sentiment</th>\n",
       "      <th>selected_text</th>\n",
       "    </tr>\n",
       "  </thead>\n",
       "  <tbody>\n",
       "    <tr>\n",
       "      <th>39995</th>\n",
       "      <td>1753918954</td>\n",
       "      <td>neutral</td>\n",
       "      <td>showMe_Heaven</td>\n",
       "      <td>NaN</td>\n",
       "      <td>@JohnLloydTaylor</td>\n",
       "      <td>p1000008985</td>\n",
       "      <td>neutral</td>\n",
       "      <td>NaN</td>\n",
       "    </tr>\n",
       "    <tr>\n",
       "      <th>39996</th>\n",
       "      <td>1753919001</td>\n",
       "      <td>love</td>\n",
       "      <td>drapeaux</td>\n",
       "      <td>Happy Mothers Day  All my love</td>\n",
       "      <td>Happy Mothers Day  All my love</td>\n",
       "      <td>0b62ea4f2d</td>\n",
       "      <td>positive</td>\n",
       "      <td>Happy</td>\n",
       "    </tr>\n",
       "    <tr>\n",
       "      <th>39997</th>\n",
       "      <td>1753919005</td>\n",
       "      <td>love</td>\n",
       "      <td>JenniRox</td>\n",
       "      <td>Happy Mother`s Day to all the mommies out ther...</td>\n",
       "      <td>Happy Mother's Day to all the mommies out ther...</td>\n",
       "      <td>1adaa3519d</td>\n",
       "      <td>positive</td>\n",
       "      <td>Happy Mother`s Day</td>\n",
       "    </tr>\n",
       "    <tr>\n",
       "      <th>39998</th>\n",
       "      <td>1753919043</td>\n",
       "      <td>happiness</td>\n",
       "      <td>ipdaman1</td>\n",
       "      <td>WASSUP BEAUTIFUL!!! FOLLOW ME!!  PEEP OUT MY ...</td>\n",
       "      <td>@niariley WASSUP BEAUTIFUL!!! FOLLOW ME!!  PEE...</td>\n",
       "      <td>d63253be9a</td>\n",
       "      <td>neutral</td>\n",
       "      <td>WASSUP BEAUTIFUL!!! FOLLOW ME!!  PEEP OUT MY N...</td>\n",
       "    </tr>\n",
       "    <tr>\n",
       "      <th>39999</th>\n",
       "      <td>1753919049</td>\n",
       "      <td>love</td>\n",
       "      <td>Alpharalpha</td>\n",
       "      <td>bullet train from tokyo    the gf and i have ...</td>\n",
       "      <td>@mopedronin bullet train from tokyo    the gf ...</td>\n",
       "      <td>879f64f30d</td>\n",
       "      <td>neutral</td>\n",
       "      <td>bullet train from tokyo    the gf and i have b...</td>\n",
       "    </tr>\n",
       "  </tbody>\n",
       "</table>\n",
       "</div>"
      ],
      "text/plain": [
       "           textID  sentiment         author  \\\n",
       "39995  1753918954    neutral  showMe_Heaven   \n",
       "39996  1753919001       love       drapeaux   \n",
       "39997  1753919005       love       JenniRox   \n",
       "39998  1753919043  happiness       ipdaman1   \n",
       "39999  1753919049       love    Alpharalpha   \n",
       "\n",
       "                                                    text  \\\n",
       "39995                                                NaN   \n",
       "39996                     Happy Mothers Day  All my love   \n",
       "39997  Happy Mother`s Day to all the mommies out ther...   \n",
       "39998   WASSUP BEAUTIFUL!!! FOLLOW ME!!  PEEP OUT MY ...   \n",
       "39999   bullet train from tokyo    the gf and i have ...   \n",
       "\n",
       "                                                old_text       aux_id  \\\n",
       "39995                                   @JohnLloydTaylor  p1000008985   \n",
       "39996                     Happy Mothers Day  All my love   0b62ea4f2d   \n",
       "39997  Happy Mother's Day to all the mommies out ther...   1adaa3519d   \n",
       "39998  @niariley WASSUP BEAUTIFUL!!! FOLLOW ME!!  PEE...   d63253be9a   \n",
       "39999  @mopedronin bullet train from tokyo    the gf ...   879f64f30d   \n",
       "\n",
       "      new_sentiment                                      selected_text  \n",
       "39995       neutral                                                NaN  \n",
       "39996      positive                                              Happy  \n",
       "39997      positive                                 Happy Mother`s Day  \n",
       "39998       neutral  WASSUP BEAUTIFUL!!! FOLLOW ME!!  PEEP OUT MY N...  \n",
       "39999       neutral  bullet train from tokyo    the gf and i have b...  "
      ]
     },
     "execution_count": 8,
     "metadata": {},
     "output_type": "execute_result"
    }
   ],
   "source": [
    "data.tail()"
   ]
  },
  {
   "cell_type": "code",
   "execution_count": 9,
   "metadata": {
    "ExecuteTime": {
     "end_time": "2020-05-16T01:33:43.365647Z",
     "start_time": "2020-05-16T01:33:43.357801Z"
    }
   },
   "outputs": [],
   "source": [
    "data.dropna(subset=['text'], how='any', inplace=True)"
   ]
  },
  {
   "cell_type": "code",
   "execution_count": 10,
   "metadata": {
    "ExecuteTime": {
     "end_time": "2020-05-16T01:33:44.122493Z",
     "start_time": "2020-05-16T01:33:44.081865Z"
    }
   },
   "outputs": [],
   "source": [
    "data['text'] = data['text'].apply(lambda x: ' '.join(x.lower().strip().split()))"
   ]
  },
  {
   "cell_type": "code",
   "execution_count": 11,
   "metadata": {
    "ExecuteTime": {
     "end_time": "2020-05-16T01:33:45.656982Z",
     "start_time": "2020-05-16T01:33:45.653814Z"
    }
   },
   "outputs": [
    {
     "data": {
      "text/plain": [
       "39994                        succesfully following tayla!!\n",
       "39996                        happy mothers day all my love\n",
       "39997    happy mother`s day to all the mommies out ther...\n",
       "39998    wassup beautiful!!! follow me!! peep out my ne...\n",
       "39999    bullet train from tokyo the gf and i have been...\n",
       "Name: text, dtype: object"
      ]
     },
     "execution_count": 11,
     "metadata": {},
     "output_type": "execute_result"
    }
   ],
   "source": [
    "data['text'].tail()"
   ]
  },
  {
   "cell_type": "code",
   "execution_count": 12,
   "metadata": {
    "ExecuteTime": {
     "end_time": "2020-05-16T01:35:01.973504Z",
     "start_time": "2020-05-16T01:35:01.196204Z"
    }
   },
   "outputs": [],
   "source": [
    "with open('../input/corpus_aug.txt', 'w') as f:\n",
    "    for sentiment, text in zip(data['sentiment'].tolist(), data['text'].tolist()):\n",
    "        words, _, _ = prepare(text)\n",
    "        words = [w.replace(\"`\",\"'\") for w in words]\n",
    "        text = ' '.join(words)\n",
    "        f.write(text+\"\\n\")"
   ]
  },
  {
   "cell_type": "code",
   "execution_count": null,
   "metadata": {},
   "outputs": [],
   "source": []
  }
 ],
 "metadata": {
  "kernelspec": {
   "display_name": "Python 3",
   "language": "python",
   "name": "python3"
  },
  "language_info": {
   "codemirror_mode": {
    "name": "ipython",
    "version": 3
   },
   "file_extension": ".py",
   "mimetype": "text/x-python",
   "name": "python",
   "nbconvert_exporter": "python",
   "pygments_lexer": "ipython3",
   "version": "3.7.1"
  }
 },
 "nbformat": 4,
 "nbformat_minor": 2
}
