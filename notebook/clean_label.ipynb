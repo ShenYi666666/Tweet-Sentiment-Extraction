{
 "cells": [
  {
   "cell_type": "code",
   "execution_count": 1,
   "metadata": {
    "ExecuteTime": {
     "end_time": "2020-06-07T07:02:10.129393Z",
     "start_time": "2020-06-07T07:02:09.902258Z"
    }
   },
   "outputs": [],
   "source": [
    "import pandas as pd\n",
    "import numpy as np\n",
    "\n",
    "%matplotlib inline"
   ]
  },
  {
   "cell_type": "code",
   "execution_count": 2,
   "metadata": {
    "ExecuteTime": {
     "end_time": "2020-06-07T07:02:10.167762Z",
     "start_time": "2020-06-07T07:02:10.130515Z"
    }
   },
   "outputs": [],
   "source": [
    "train = pd.read_csv('../input/tweet-sentiment-extraction/train_folds.csv')"
   ]
  },
  {
   "cell_type": "code",
   "execution_count": 3,
   "metadata": {
    "ExecuteTime": {
     "end_time": "2020-06-07T07:02:10.212188Z",
     "start_time": "2020-06-07T07:02:10.206355Z"
    }
   },
   "outputs": [],
   "source": [
    "train.dropna(subset=['text'], inplace=True)"
   ]
  },
  {
   "cell_type": "code",
   "execution_count": 196,
   "metadata": {
    "ExecuteTime": {
     "end_time": "2020-06-07T09:36:07.569437Z",
     "start_time": "2020-06-07T09:36:07.563433Z"
    }
   },
   "outputs": [],
   "source": [
    "def get_pos(x, y):\n",
    "    return x.find(y)\n",
    "\n",
    "def get_extra_space_count(x):\n",
    "    prev_space = True\n",
    "    space_counts = []\n",
    "    count = 0\n",
    "    for c in x:\n",
    "        if c==' ':\n",
    "            if prev_space:\n",
    "                count+=1\n",
    "            space_counts.append(count)\n",
    "            prev_space = True\n",
    "        else:\n",
    "            space_counts.append(count)\n",
    "            prev_space = False\n",
    "    return space_counts"
   ]
  },
  {
   "cell_type": "code",
   "execution_count": 203,
   "metadata": {
    "ExecuteTime": {
     "end_time": "2020-06-07T09:39:21.453157Z",
     "start_time": "2020-06-07T09:39:20.223220Z"
    }
   },
   "outputs": [],
   "source": [
    "train['text'] = train['text'].str.rstrip()\n",
    "train['selected_text'] = train['selected_text'].str.rstrip()\n",
    "\n",
    "train['extra_space'] = train['text'].apply(lambda x: get_extra_space_count(x))\n",
    "\n",
    "train['clean_text'] = train['text'].apply(lambda x: ' '.join(x.strip().split()))\n",
    "train['clean_st'] = train['selected_text'].apply(lambda x: ' '.join(x.strip().split()))\n",
    "train['start_pos_origin'] = train.apply(lambda x: get_pos(x['text'], x['selected_text']), axis=1)\n",
    "train['end_pos_origin'] = train['start_pos_origin']+train['selected_text'].str.len()\n",
    "train['to_end'] = train['end_pos_origin']>=train['text'].str.len()\n",
    "\n",
    "train['start_pos_clean'] = train.apply(lambda x: get_pos(x['clean_text'], x['clean_st']), axis=1)\n",
    "train['end_pos_clean'] = train['start_pos_clean']+train['clean_st'].str.len()\n",
    "\n",
    "train['shift'] = train.apply(lambda x: x['extra_space'][x['end_pos_origin']-1], axis=1)"
   ]
  },
  {
   "cell_type": "code",
   "execution_count": 204,
   "metadata": {
    "ExecuteTime": {
     "end_time": "2020-06-07T09:39:23.667234Z",
     "start_time": "2020-06-07T09:39:23.661448Z"
    }
   },
   "outputs": [],
   "source": [
    "def broken_start(x, y):\n",
    "    \n",
    "    if y>0 and x[y-1] not in [' ','.',',','?','!']: #.isalpha():\n",
    "        return True\n",
    "    return False\n",
    "\n",
    "def broken_end(x, y):\n",
    "    if y<len(x) and x[y]!=' ':\n",
    "        return True\n",
    "    return False"
   ]
  },
  {
   "cell_type": "code",
   "execution_count": 205,
   "metadata": {
    "ExecuteTime": {
     "end_time": "2020-06-07T09:39:24.650161Z",
     "start_time": "2020-06-07T09:39:23.980566Z"
    }
   },
   "outputs": [],
   "source": [
    "train['broken_start'] = train.apply(lambda x: broken_start(x['clean_text'], x['start_pos_clean']), axis=1)\n",
    "train['broken_end'] = train.apply(lambda x: broken_end(x['clean_text'], x['end_pos_clean']), axis=1)\n",
    "train['broken'] = train['broken_start']|train['broken_end']"
   ]
  },
  {
   "cell_type": "code",
   "execution_count": 206,
   "metadata": {
    "ExecuteTime": {
     "end_time": "2020-06-07T09:39:26.712746Z",
     "start_time": "2020-06-07T09:39:26.701290Z"
    }
   },
   "outputs": [
    {
     "data": {
      "text/plain": [
       "0     12813\n",
       "1     10739\n",
       "2      3068\n",
       "3       613\n",
       "4       146\n",
       "5        62\n",
       "6        20\n",
       "7         8\n",
       "8         4\n",
       "9         3\n",
       "15        1\n",
       "12        1\n",
       "11        1\n",
       "20        1\n",
       "Name: shift, dtype: int64"
      ]
     },
     "execution_count": 206,
     "metadata": {},
     "output_type": "execute_result"
    }
   ],
   "source": [
    "train['shift'].value_counts()"
   ]
  },
  {
   "cell_type": "code",
   "execution_count": 216,
   "metadata": {
    "ExecuteTime": {
     "end_time": "2020-06-07T11:47:04.868803Z",
     "start_time": "2020-06-07T11:47:04.865963Z"
    }
   },
   "outputs": [],
   "source": [
    "def get_clean_label(x):\n",
    "    shift = x['shift']\n",
    "    if shift<2 or x['start_pos_clean']==0:\n",
    "        return x['selected_text']\n",
    "    \n",
    "    text = x['text']\n",
    "    start = x['start_pos_origin']\n",
    "    end = x['end_pos_origin']\n",
    "\n",
    "    new_st = text[start+shift-1:end+shift-1]\n",
    "    return new_st"
   ]
  },
  {
   "cell_type": "code",
   "execution_count": 217,
   "metadata": {
    "ExecuteTime": {
     "end_time": "2020-06-07T11:47:07.300899Z",
     "start_time": "2020-06-07T11:47:06.934907Z"
    }
   },
   "outputs": [],
   "source": [
    "train['new_st'] = train.apply(lambda x: get_clean_label(x), axis=1)"
   ]
  },
  {
   "cell_type": "code",
   "execution_count": 218,
   "metadata": {
    "ExecuteTime": {
     "end_time": "2020-06-07T11:47:09.713865Z",
     "start_time": "2020-06-07T11:47:09.702836Z"
    }
   },
   "outputs": [
    {
     "data": {
      "text/html": [
       "<div>\n",
       "<style scoped>\n",
       "    .dataframe tbody tr th:only-of-type {\n",
       "        vertical-align: middle;\n",
       "    }\n",
       "\n",
       "    .dataframe tbody tr th {\n",
       "        vertical-align: top;\n",
       "    }\n",
       "\n",
       "    .dataframe thead th {\n",
       "        text-align: right;\n",
       "    }\n",
       "</style>\n",
       "<table border=\"1\" class=\"dataframe\">\n",
       "  <thead>\n",
       "    <tr style=\"text-align: right;\">\n",
       "      <th></th>\n",
       "      <th></th>\n",
       "      <th>mean</th>\n",
       "      <th>count</th>\n",
       "    </tr>\n",
       "    <tr>\n",
       "      <th>shift</th>\n",
       "      <th>sentiment</th>\n",
       "      <th></th>\n",
       "      <th></th>\n",
       "    </tr>\n",
       "  </thead>\n",
       "  <tbody>\n",
       "    <tr>\n",
       "      <th rowspan=\"3\" valign=\"top\">0</th>\n",
       "      <th>negative</th>\n",
       "      <td>0.119060</td>\n",
       "      <td>1957</td>\n",
       "    </tr>\n",
       "    <tr>\n",
       "      <th>neutral</th>\n",
       "      <td>0.222222</td>\n",
       "      <td>27</td>\n",
       "    </tr>\n",
       "    <tr>\n",
       "      <th>positive</th>\n",
       "      <td>0.087638</td>\n",
       "      <td>1723</td>\n",
       "    </tr>\n",
       "    <tr>\n",
       "      <th rowspan=\"3\" valign=\"top\">1</th>\n",
       "      <th>negative</th>\n",
       "      <td>0.133716</td>\n",
       "      <td>1219</td>\n",
       "    </tr>\n",
       "    <tr>\n",
       "      <th>neutral</th>\n",
       "      <td>0.275862</td>\n",
       "      <td>29</td>\n",
       "    </tr>\n",
       "    <tr>\n",
       "      <th>positive</th>\n",
       "      <td>0.108238</td>\n",
       "      <td>1663</td>\n",
       "    </tr>\n",
       "    <tr>\n",
       "      <th rowspan=\"3\" valign=\"top\">2</th>\n",
       "      <th>negative</th>\n",
       "      <td>0.773770</td>\n",
       "      <td>305</td>\n",
       "    </tr>\n",
       "    <tr>\n",
       "      <th>neutral</th>\n",
       "      <td>0.571429</td>\n",
       "      <td>14</td>\n",
       "    </tr>\n",
       "    <tr>\n",
       "      <th>positive</th>\n",
       "      <td>0.640592</td>\n",
       "      <td>473</td>\n",
       "    </tr>\n",
       "    <tr>\n",
       "      <th rowspan=\"3\" valign=\"top\">3</th>\n",
       "      <th>negative</th>\n",
       "      <td>0.944444</td>\n",
       "      <td>72</td>\n",
       "    </tr>\n",
       "    <tr>\n",
       "      <th>neutral</th>\n",
       "      <td>1.000000</td>\n",
       "      <td>18</td>\n",
       "    </tr>\n",
       "    <tr>\n",
       "      <th>positive</th>\n",
       "      <td>0.941176</td>\n",
       "      <td>136</td>\n",
       "    </tr>\n",
       "    <tr>\n",
       "      <th rowspan=\"3\" valign=\"top\">4</th>\n",
       "      <th>negative</th>\n",
       "      <td>0.900000</td>\n",
       "      <td>20</td>\n",
       "    </tr>\n",
       "    <tr>\n",
       "      <th>neutral</th>\n",
       "      <td>0.666667</td>\n",
       "      <td>3</td>\n",
       "    </tr>\n",
       "    <tr>\n",
       "      <th>positive</th>\n",
       "      <td>1.000000</td>\n",
       "      <td>43</td>\n",
       "    </tr>\n",
       "    <tr>\n",
       "      <th rowspan=\"3\" valign=\"top\">5</th>\n",
       "      <th>negative</th>\n",
       "      <td>0.857143</td>\n",
       "      <td>7</td>\n",
       "    </tr>\n",
       "    <tr>\n",
       "      <th>neutral</th>\n",
       "      <td>0.666667</td>\n",
       "      <td>3</td>\n",
       "    </tr>\n",
       "    <tr>\n",
       "      <th>positive</th>\n",
       "      <td>0.900000</td>\n",
       "      <td>10</td>\n",
       "    </tr>\n",
       "    <tr>\n",
       "      <th rowspan=\"3\" valign=\"top\">6</th>\n",
       "      <th>negative</th>\n",
       "      <td>1.000000</td>\n",
       "      <td>1</td>\n",
       "    </tr>\n",
       "    <tr>\n",
       "      <th>neutral</th>\n",
       "      <td>0.000000</td>\n",
       "      <td>1</td>\n",
       "    </tr>\n",
       "    <tr>\n",
       "      <th>positive</th>\n",
       "      <td>0.400000</td>\n",
       "      <td>5</td>\n",
       "    </tr>\n",
       "    <tr>\n",
       "      <th rowspan=\"2\" valign=\"top\">7</th>\n",
       "      <th>negative</th>\n",
       "      <td>0.000000</td>\n",
       "      <td>1</td>\n",
       "    </tr>\n",
       "    <tr>\n",
       "      <th>positive</th>\n",
       "      <td>1.000000</td>\n",
       "      <td>1</td>\n",
       "    </tr>\n",
       "    <tr>\n",
       "      <th>8</th>\n",
       "      <th>positive</th>\n",
       "      <td>1.000000</td>\n",
       "      <td>1</td>\n",
       "    </tr>\n",
       "    <tr>\n",
       "      <th rowspan=\"3\" valign=\"top\">9</th>\n",
       "      <th>negative</th>\n",
       "      <td>0.000000</td>\n",
       "      <td>1</td>\n",
       "    </tr>\n",
       "    <tr>\n",
       "      <th>neutral</th>\n",
       "      <td>1.000000</td>\n",
       "      <td>1</td>\n",
       "    </tr>\n",
       "    <tr>\n",
       "      <th>positive</th>\n",
       "      <td>1.000000</td>\n",
       "      <td>1</td>\n",
       "    </tr>\n",
       "  </tbody>\n",
       "</table>\n",
       "</div>"
      ],
      "text/plain": [
       "                     mean  count\n",
       "shift sentiment                 \n",
       "0     negative   0.119060   1957\n",
       "      neutral    0.222222     27\n",
       "      positive   0.087638   1723\n",
       "1     negative   0.133716   1219\n",
       "      neutral    0.275862     29\n",
       "      positive   0.108238   1663\n",
       "2     negative   0.773770    305\n",
       "      neutral    0.571429     14\n",
       "      positive   0.640592    473\n",
       "3     negative   0.944444     72\n",
       "      neutral    1.000000     18\n",
       "      positive   0.941176    136\n",
       "4     negative   0.900000     20\n",
       "      neutral    0.666667      3\n",
       "      positive   1.000000     43\n",
       "5     negative   0.857143      7\n",
       "      neutral    0.666667      3\n",
       "      positive   0.900000     10\n",
       "6     negative   1.000000      1\n",
       "      neutral    0.000000      1\n",
       "      positive   0.400000      5\n",
       "7     negative   0.000000      1\n",
       "      positive   1.000000      1\n",
       "8     positive   1.000000      1\n",
       "9     negative   0.000000      1\n",
       "      neutral    1.000000      1\n",
       "      positive   1.000000      1"
      ]
     },
     "execution_count": 218,
     "metadata": {},
     "output_type": "execute_result"
    }
   ],
   "source": [
    "train[(train['start_pos_clean']>0)&~train['to_end']].groupby(['shift','sentiment'])['broken'].agg(['mean','count'])"
   ]
  },
  {
   "cell_type": "markdown",
   "metadata": {},
   "source": [
    "## 断头词"
   ]
  },
  {
   "cell_type": "code",
   "execution_count": 240,
   "metadata": {
    "ExecuteTime": {
     "end_time": "2020-06-07T11:58:25.559419Z",
     "start_time": "2020-06-07T11:58:25.551396Z"
    }
   },
   "outputs": [
    {
     "name": "stdout",
     "output_type": "stream",
     "text": [
      " ....nope.. its for the 1st time we invited her at SSM  and she very graceful accepted it !\n",
      "d she very graceful accepted it\n",
      " she very graceful accepted it \n",
      "--------------------\n",
      " YAY!! that`s so cool  aww that woulda been sweet, no worries though! I`m just glad you had fun!!\n",
      "! I`m just glad\n",
      " I`m just glad \n",
      "--------------------\n",
      " Thats ok  Yeah I had a good night thanks. Glad you did too. Hope you enjoy your BBQ\n",
      "s. Glad\n",
      ". Glad \n",
      "--------------------\n",
      " yeeh. i also have a thing for drummers  basically, all guys have 2 do is play an instrument or sing and im all theirs :p\n",
      "d im all theirs\n",
      " im all theirs \n",
      "--------------------\n",
      " Amen to that! My vitamins made me so ill  I felt better before i started taking them!\n",
      "t better\n",
      " better \n",
      "--------------------\n"
     ]
    }
   ],
   "source": [
    "indexs = train[(train['shift']==2)&(train['start_pos_clean']>0)&~train.to_end&(train['sentiment']=='positive')&train.broken_start].sample(n=5).index\n",
    "for loc in indexs:\n",
    "    print(train.loc[loc, 'text'])\n",
    "#     print(train.loc[loc, 'ltext'])\n",
    "#     print(train.loc[loc, 'ltext_strip'])\n",
    "    print(train.loc[loc, 'selected_text'])\n",
    "    print(train.loc[loc, 'new_st'])\n",
    "    print('-'*20)"
   ]
  },
  {
   "cell_type": "markdown",
   "metadata": {},
   "source": [
    "## 有偏移但没断头词"
   ]
  },
  {
   "cell_type": "code",
   "execution_count": 241,
   "metadata": {
    "ExecuteTime": {
     "end_time": "2020-06-07T12:00:02.695687Z",
     "start_time": "2020-06-07T12:00:02.687523Z"
    }
   },
   "outputs": [
    {
     "name": "stdout",
     "output_type": "stream",
     "text": [
      "  - Guess POTUS will be able to do more digging & folo up on the SS nomination. He`s in a good pos 2 do that,\n",
      "a good\n",
      " good \n",
      "--------------------\n",
      "If you followed us recently, PLEASE dont be offended that we haven`t followed back. We hit our limit.   Hopefully we will be free soon.\n",
      "Hopefully\n",
      "opefully \n",
      "--------------------\n",
      " sorry you didn`t make it  Good luck next time though!\n",
      "Good luck\n",
      "ood luck \n",
      "--------------------\n",
      "  I know! they were running out though, Soph had to get a massive one...\n",
      "a massive\n",
      " massive \n",
      "--------------------\n",
      "Have to leave twitter alone for the night..last night in Barcelona   back to Philly tomorrow. Hope u all have a great Friday! Muahh!!\n",
      "a great\n",
      " great \n",
      "--------------------\n"
     ]
    }
   ],
   "source": [
    "indexs = train[(train['shift']==2)&(train['start_pos_clean']>0)&~train.to_end&(train['sentiment']=='positive')&~train.broken].sample(n=5).index\n",
    "for loc in indexs:\n",
    "    print(train.loc[loc, 'text'])\n",
    "#     print(train.loc[loc, 'ltext'])\n",
    "#     print(train.loc[loc, 'ltext_strip'])\n",
    "    print(train.loc[loc, 'selected_text'])\n",
    "    print(train.loc[loc, 'new_st'])\n",
    "    print('-'*20)"
   ]
  },
  {
   "cell_type": "markdown",
   "metadata": {},
   "source": [
    "## 下面的不用看"
   ]
  },
  {
   "cell_type": "code",
   "execution_count": 195,
   "metadata": {
    "ExecuteTime": {
     "end_time": "2020-06-07T08:41:14.558471Z",
     "start_time": "2020-06-07T08:41:14.552393Z"
    }
   },
   "outputs": [
    {
     "name": "stdout",
     "output_type": "stream",
     "text": [
      "  Those dog pic had me  ROLF!  The one  with the snow stuck too it  has that 'if looks could kill look' way funny\n",
      "  Those dog pic had me  ROLF!  The one  with the snow stuck too it  has that 'if looks could kill look' way\n",
      "Those dog pic had me ROLF! The one with the snow stuck too it has that 'if looks could kill look' way\n",
      "look' way\n",
      "way funn\n",
      "False\n"
     ]
    }
   ],
   "source": [
    "loc = 1309\t\n",
    "print(train.loc[loc, 'text'])\n",
    "print(train.loc[loc, 'ltext'])\n",
    "print(train.loc[loc, 'ltext_strip'])\n",
    "print(train.loc[loc, 'selected_text'])\n",
    "print(train.loc[loc, 'new_st'])\n",
    "print(train.loc[loc, 'to_end'])"
   ]
  },
  {
   "cell_type": "code",
   "execution_count": 30,
   "metadata": {
    "ExecuteTime": {
     "end_time": "2020-06-07T07:08:45.865690Z",
     "start_time": "2020-06-07T07:08:45.853759Z"
    }
   },
   "outputs": [
    {
     "data": {
      "text/html": [
       "<div>\n",
       "<style scoped>\n",
       "    .dataframe tbody tr th:only-of-type {\n",
       "        vertical-align: middle;\n",
       "    }\n",
       "\n",
       "    .dataframe tbody tr th {\n",
       "        vertical-align: top;\n",
       "    }\n",
       "\n",
       "    .dataframe thead th {\n",
       "        text-align: right;\n",
       "    }\n",
       "</style>\n",
       "<table border=\"1\" class=\"dataframe\">\n",
       "  <thead>\n",
       "    <tr style=\"text-align: right;\">\n",
       "      <th></th>\n",
       "      <th>textID</th>\n",
       "      <th>text</th>\n",
       "      <th>selected_text</th>\n",
       "      <th>sentiment</th>\n",
       "      <th>kfold</th>\n",
       "      <th>clean_text</th>\n",
       "      <th>clean_st</th>\n",
       "      <th>start_pos_origin</th>\n",
       "      <th>end_pos_origin</th>\n",
       "      <th>start_pos_clean</th>\n",
       "      <th>end_pos_clean</th>\n",
       "      <th>broken_start</th>\n",
       "      <th>broken_end</th>\n",
       "      <th>shift</th>\n",
       "      <th>new_st</th>\n",
       "    </tr>\n",
       "  </thead>\n",
       "  <tbody>\n",
       "    <tr>\n",
       "      <th>24887</th>\n",
       "      <td>f804ea3526</td>\n",
       "      <td>No but I just checked and got it LOL. You are...</td>\n",
       "      <td>t LOL. You are ok!</td>\n",
       "      <td>positive</td>\n",
       "      <td>4</td>\n",
       "      <td>No but I just checked and got it LOL. You are ...</td>\n",
       "      <td>t LOL. You are ok!</td>\n",
       "      <td>32</td>\n",
       "      <td>50</td>\n",
       "      <td>31</td>\n",
       "      <td>49</td>\n",
       "      <td>True</td>\n",
       "      <td>False</td>\n",
       "      <td>1</td>\n",
       "      <td>LOL. You are ok!</td>\n",
       "    </tr>\n",
       "    <tr>\n",
       "      <th>22400</th>\n",
       "      <td>dc582b9f85</td>\n",
       "      <td>YAY!! that`s so cool  aww that woulda been sw...</td>\n",
       "      <td>! I`m just glad</td>\n",
       "      <td>positive</td>\n",
       "      <td>4</td>\n",
       "      <td>YAY!! that`s so cool aww that woulda been swee...</td>\n",
       "      <td>! I`m just glad</td>\n",
       "      <td>68</td>\n",
       "      <td>83</td>\n",
       "      <td>66</td>\n",
       "      <td>81</td>\n",
       "      <td>True</td>\n",
       "      <td>False</td>\n",
       "      <td>2</td>\n",
       "      <td>I`m just glad</td>\n",
       "    </tr>\n",
       "    <tr>\n",
       "      <th>3256</th>\n",
       "      <td>028ea6ef68</td>\n",
       "      <td>I have to choose between  and _FC on Sunday an...</td>\n",
       "      <td>s. I`m shattered</td>\n",
       "      <td>negative</td>\n",
       "      <td>0</td>\n",
       "      <td>I have to choose between and _FC on Sunday and...</td>\n",
       "      <td>s. I`m shattered</td>\n",
       "      <td>52</td>\n",
       "      <td>68</td>\n",
       "      <td>50</td>\n",
       "      <td>66</td>\n",
       "      <td>True</td>\n",
       "      <td>True</td>\n",
       "      <td>3</td>\n",
       "      <td>I`m shattered.</td>\n",
       "    </tr>\n",
       "    <tr>\n",
       "      <th>11964</th>\n",
       "      <td>2f0047bcad</td>\n",
       "      <td>I did laundry tonight too.  Guess I can admit...</td>\n",
       "      <td>w that you paved the way.</td>\n",
       "      <td>positive</td>\n",
       "      <td>2</td>\n",
       "      <td>I did laundry tonight too. Guess I can admit t...</td>\n",
       "      <td>w that you paved the way.</td>\n",
       "      <td>54</td>\n",
       "      <td>79</td>\n",
       "      <td>52</td>\n",
       "      <td>77</td>\n",
       "      <td>True</td>\n",
       "      <td>False</td>\n",
       "      <td>2</td>\n",
       "      <td>that you paved the way.</td>\n",
       "    </tr>\n",
       "    <tr>\n",
       "      <th>25190</th>\n",
       "      <td>c567514034</td>\n",
       "      <td>hahaha well its try its so ugly</td>\n",
       "      <td>s so ugly</td>\n",
       "      <td>negative</td>\n",
       "      <td>4</td>\n",
       "      <td>hahaha well its try its so ugly</td>\n",
       "      <td>s so ugly</td>\n",
       "      <td>24</td>\n",
       "      <td>33</td>\n",
       "      <td>22</td>\n",
       "      <td>31</td>\n",
       "      <td>True</td>\n",
       "      <td>False</td>\n",
       "      <td>2</td>\n",
       "      <td>so ugly</td>\n",
       "    </tr>\n",
       "  </tbody>\n",
       "</table>\n",
       "</div>"
      ],
      "text/plain": [
       "           textID                                               text  \\\n",
       "24887  f804ea3526   No but I just checked and got it LOL. You are...   \n",
       "22400  dc582b9f85   YAY!! that`s so cool  aww that woulda been sw...   \n",
       "3256   028ea6ef68  I have to choose between  and _FC on Sunday an...   \n",
       "11964  2f0047bcad   I did laundry tonight too.  Guess I can admit...   \n",
       "25190  c567514034                    hahaha well its try its so ugly   \n",
       "\n",
       "                   selected_text sentiment  kfold  \\\n",
       "24887         t LOL. You are ok!  positive      4   \n",
       "22400            ! I`m just glad  positive      4   \n",
       "3256            s. I`m shattered  negative      0   \n",
       "11964  w that you paved the way.  positive      2   \n",
       "25190                  s so ugly  negative      4   \n",
       "\n",
       "                                              clean_text  \\\n",
       "24887  No but I just checked and got it LOL. You are ...   \n",
       "22400  YAY!! that`s so cool aww that woulda been swee...   \n",
       "3256   I have to choose between and _FC on Sunday and...   \n",
       "11964  I did laundry tonight too. Guess I can admit t...   \n",
       "25190                    hahaha well its try its so ugly   \n",
       "\n",
       "                        clean_st  start_pos_origin  end_pos_origin  \\\n",
       "24887         t LOL. You are ok!                32              50   \n",
       "22400            ! I`m just glad                68              83   \n",
       "3256            s. I`m shattered                52              68   \n",
       "11964  w that you paved the way.                54              79   \n",
       "25190                  s so ugly                24              33   \n",
       "\n",
       "       start_pos_clean  end_pos_clean  broken_start  broken_end  shift  \\\n",
       "24887               31             49          True       False      1   \n",
       "22400               66             81          True       False      2   \n",
       "3256                50             66          True        True      3   \n",
       "11964               52             77          True       False      2   \n",
       "25190               22             31          True       False      2   \n",
       "\n",
       "                        new_st  \n",
       "24887        LOL. You are ok!   \n",
       "22400            I`m just glad  \n",
       "3256           I`m shattered.   \n",
       "11964  that you paved the way.  \n",
       "25190                  so ugly  "
      ]
     },
     "execution_count": 30,
     "metadata": {},
     "output_type": "execute_result"
    }
   ],
   "source": [
    "train[train.broken_start].sample(n=5)"
   ]
  },
  {
   "cell_type": "code",
   "execution_count": 87,
   "metadata": {
    "ExecuteTime": {
     "end_time": "2020-06-07T07:38:36.813064Z",
     "start_time": "2020-06-07T07:38:36.802349Z"
    }
   },
   "outputs": [
    {
     "name": "stdout",
     "output_type": "stream",
     "text": [
      "  - I always appreciate your 'musings.'\n",
      "I always appreciate\n",
      " always appreciate \n",
      "--------------------\n",
      "  Those dog pic had me  ROLF!  The one  with the snow stuck too it  has that 'if looks could kill look' way funny\n",
      "look' way\n",
      "ook' way \n",
      "--------------------\n",
      "  oist the 1st tym, di pa ko 18, the 2nd tym, may sakit na siya... don`t blame me\n",
      ". don`t blame me\n",
      " don`t blame me\n",
      "--------------------\n",
      "  heheheheh... lol... I always figured he`d send them your way if he got any dupes... I felt bad not sending him stuff...\n",
      ". I felt bad not sending him\n",
      " I felt bad not sending him \n",
      "--------------------\n",
      "  you`re missing out, bb! i`m such a cereal nut, i think i like every kind available.\n",
      "i like\n",
      " like \n",
      "--------------------\n",
      "  I know! they were running out though, Soph had to get a massive one...\n",
      "a massive\n",
      " massive \n",
      "--------------------\n",
      "  she was sleep and then she woke up to check on me see if i was cold or hot i love my mom\n",
      "i love\n",
      " love \n",
      "--------------------\n",
      "  but i love your haaaaair!\n",
      "i love\n",
      " love \n",
      "--------------------\n",
      "  awww lol yh it is worth it-  mcfly are worth it 2  eekk\n",
      "are worth\n",
      "re worth \n",
      "--------------------\n",
      "  AWOOOOGAHHHHHH!!!! heheee hope you get some decently priced breakfast real quick, David\n",
      "! heheee hope you get some decently priced breakfast real quick, David\n",
      " heheee hope you get some decently priced breakfast real quick, David\n",
      "--------------------\n",
      "  I hope you have a nice sleep\n",
      "a nice\n",
      " nice \n",
      "--------------------\n",
      "  thanks hun!! I`m working hard over here...  thanks mama!! I yuhh you!!!\n",
      "..  thanks\n",
      ".  thanks \n",
      "--------------------\n",
      "  - Guess POTUS will be able to do more digging & folo up on the SS nomination. He`s in a good pos 2 do that,\n",
      "a good\n",
      " good \n",
      "--------------------\n",
      "  as a kid, i remember searching with the local video store owner in a godown , got a video tape with fungus badluck\n",
      ", got a video tape with fungus badluck\n",
      " got a video tape with fungus badluck\n",
      "--------------------\n",
      "  Whaaaaaaaaaat?!  Thas HOT B!    Super nice!\n",
      "B!    Super\n",
      "!    Super \n",
      "--------------------\n",
      "  i just want to wish your mom a happy mothers day!\n",
      "a happy mothers day!\n",
      " happy mothers day!\n",
      "--------------------\n",
      "  buy yay for your shoot...hope it goes well!  What is it for?\n",
      "..hope\n",
      ".hope \n",
      "--------------------\n",
      "  I need to come spend some time on your roof - I miss you &     double date in a couple of weeks?\n",
      "I miss\n",
      " miss \n",
      "--------------------\n",
      "  really? ur a brave lady walkin around those lions then.  any other book suggestions?\n",
      "a brave\n",
      " brave \n",
      "--------------------\n",
      "  ... i have phone calls like that often .. different subject - same result of feeling beaten to pulp and left for dead\n",
      ". i have phone calls like that often .. different subject - same result of feeling beaten to pulp and left for dead\n",
      " i have phone calls like that often .. different subject - same result of feeling beaten to pulp and left for dead\n",
      "--------------------\n",
      "  tis a sad day\n",
      "a sad\n",
      " sad \n",
      "--------------------\n",
      "  maybe a good night`s sleep for everyone?\n",
      "a good\n",
      " good \n",
      "--------------------\n",
      "  the cokies arnt real imaginary will hav to do mmmmmmmmmmmm cookie...\n",
      "do mmmmmmmmmmmm cookie...\n",
      "o mmmmmmmmmmmm cookie...\n",
      "--------------------\n",
      "  i`ve seen inkheart- i liked it too\n",
      "i liked\n",
      " liked \n",
      "--------------------\n",
      "  Way too many people indeed... I only recognize the Chinese guy... LOL\n",
      ". LOL\n",
      " LOL\n",
      "--------------------\n",
      "  that`s no bueno...hope u feel better!\n",
      "..hope u feel better!\n",
      ".hope u feel better!\n",
      "--------------------\n",
      "  awww for me I just think she`s tooo young or just not ready for it - tis painful to watch her so upset\n",
      "- tis painful to watch her so upset\n",
      " tis painful to watch her so upset\n",
      "--------------------\n",
      "  caught me at lunch today... you were correct of he stalking me\n",
      ". you were correct\n",
      " you were correct \n",
      "--------------------\n"
     ]
    }
   ],
   "source": [
    "for loc in train[(train['shift']==2)&(train['start_pos_clean']>0)&~train.broken].index: #&(train['sentiment']=='positive')\n",
    "    print(train.loc[loc, 'text'])\n",
    "    print(train.loc[loc, 'selected_text'])\n",
    "    new_st = train.loc[loc, 'text'][train.loc[loc, 'start_pos_origin']+1:train.loc[loc, 'end_pos_origin']+1]\n",
    "    print(new_st)\n",
    "    print('-'*20)"
   ]
  },
  {
   "cell_type": "code",
   "execution_count": 191,
   "metadata": {
    "ExecuteTime": {
     "end_time": "2020-06-07T08:40:47.959815Z",
     "start_time": "2020-06-07T08:40:47.954086Z"
    }
   },
   "outputs": [],
   "source": []
  },
  {
   "cell_type": "code",
   "execution_count": 192,
   "metadata": {
    "ExecuteTime": {
     "end_time": "2020-06-07T08:40:48.762279Z",
     "start_time": "2020-06-07T08:40:48.403008Z"
    }
   },
   "outputs": [],
   "source": []
  },
  {
   "cell_type": "code",
   "execution_count": 176,
   "metadata": {
    "ExecuteTime": {
     "end_time": "2020-06-07T08:32:15.375069Z",
     "start_time": "2020-06-07T08:32:15.363961Z"
    }
   },
   "outputs": [
    {
     "data": {
      "text/html": [
       "<div>\n",
       "<style scoped>\n",
       "    .dataframe tbody tr th:only-of-type {\n",
       "        vertical-align: middle;\n",
       "    }\n",
       "\n",
       "    .dataframe tbody tr th {\n",
       "        vertical-align: top;\n",
       "    }\n",
       "\n",
       "    .dataframe thead th {\n",
       "        text-align: right;\n",
       "    }\n",
       "</style>\n",
       "<table border=\"1\" class=\"dataframe\">\n",
       "  <thead>\n",
       "    <tr style=\"text-align: right;\">\n",
       "      <th></th>\n",
       "      <th>selected_text</th>\n",
       "      <th>new_st</th>\n",
       "    </tr>\n",
       "  </thead>\n",
       "  <tbody>\n",
       "    <tr>\n",
       "      <th>9414</th>\n",
       "      <td>aw! I`m gonna miss my old username... nick jon...</td>\n",
       "      <td>aw! I`m gonna miss my old username... nick jon...</td>\n",
       "    </tr>\n",
       "    <tr>\n",
       "      <th>25849</th>\n",
       "      <td>http://twitpic.com/4w9zb - must... stick.. my....</td>\n",
       "      <td>http://twitpic.com/4w9zb - must... stick.. my....</td>\n",
       "    </tr>\n",
       "    <tr>\n",
       "      <th>3182</th>\n",
       "      <td>I`m grateful that my kids also don`t like them...</td>\n",
       "      <td>I`m grateful that my kids also don`t like them...</td>\n",
       "    </tr>\n",
       "    <tr>\n",
       "      <th>27356</th>\n",
       "      <td>paramore makes me want to punch babies  lol</td>\n",
       "      <td>paramore makes me want to punch babies lol</td>\n",
       "    </tr>\n",
       "    <tr>\n",
       "      <th>17567</th>\n",
       "      <td>__Cullen_ lol  emmett wont do a dance off again</td>\n",
       "      <td>__Cullen_ lol emmett wont do a dance off again</td>\n",
       "    </tr>\n",
       "    <tr>\n",
       "      <th>14203</th>\n",
       "      <td>Um, why arent episodes 1-14 of Lost season 5 o...</td>\n",
       "      <td>Um, why arent episodes 1-14 of Lost season 5 o...</td>\n",
       "    </tr>\n",
       "    <tr>\n",
       "      <th>22377</th>\n",
       "      <td>feeling sorry for Ian. He broke up with his gf...</td>\n",
       "      <td>feeling sorry for Ian. He broke up with his gf...</td>\n",
       "    </tr>\n",
       "    <tr>\n",
       "      <th>8188</th>\n",
       "      <td>my iMac`s died  keeps cutting out for no reason.</td>\n",
       "      <td>my iMac`s died keeps cutting out for no reason.</td>\n",
       "    </tr>\n",
       "    <tr>\n",
       "      <th>19134</th>\n",
       "      <td>your in london?   are you doing any shows here?</td>\n",
       "      <td>your in london? are you doing any shows here?</td>\n",
       "    </tr>\n",
       "    <tr>\n",
       "      <th>13157</th>\n",
       "      <td>ha english portfolio!!! i finally finshed you ...</td>\n",
       "      <td>ha english portfolio!!! i finally finshed you ...</td>\n",
       "    </tr>\n",
       "  </tbody>\n",
       "</table>\n",
       "</div>"
      ],
      "text/plain": [
       "                                           selected_text  \\\n",
       "9414   aw! I`m gonna miss my old username... nick jon...   \n",
       "25849  http://twitpic.com/4w9zb - must... stick.. my....   \n",
       "3182   I`m grateful that my kids also don`t like them...   \n",
       "27356        paramore makes me want to punch babies  lol   \n",
       "17567    __Cullen_ lol  emmett wont do a dance off again   \n",
       "14203  Um, why arent episodes 1-14 of Lost season 5 o...   \n",
       "22377  feeling sorry for Ian. He broke up with his gf...   \n",
       "8188    my iMac`s died  keeps cutting out for no reason.   \n",
       "19134    your in london?   are you doing any shows here?   \n",
       "13157  ha english portfolio!!! i finally finshed you ...   \n",
       "\n",
       "                                                  new_st  \n",
       "9414   aw! I`m gonna miss my old username... nick jon...  \n",
       "25849  http://twitpic.com/4w9zb - must... stick.. my....  \n",
       "3182   I`m grateful that my kids also don`t like them...  \n",
       "27356         paramore makes me want to punch babies lol  \n",
       "17567     __Cullen_ lol emmett wont do a dance off again  \n",
       "14203  Um, why arent episodes 1-14 of Lost season 5 o...  \n",
       "22377  feeling sorry for Ian. He broke up with his gf...  \n",
       "8188     my iMac`s died keeps cutting out for no reason.  \n",
       "19134      your in london? are you doing any shows here?  \n",
       "13157  ha english portfolio!!! i finally finshed you ...  "
      ]
     },
     "execution_count": 176,
     "metadata": {},
     "output_type": "execute_result"
    }
   ],
   "source": [
    "train[train['new_st']!=train['selected_text']].sample(n=10)[['selected_text', 'new_st']]"
   ]
  },
  {
   "cell_type": "code",
   "execution_count": 86,
   "metadata": {
    "ExecuteTime": {
     "end_time": "2020-06-07T07:37:01.621646Z",
     "start_time": "2020-06-07T07:37:01.605300Z"
    }
   },
   "outputs": [
    {
     "data": {
      "text/plain": [
       "11679    B! Super\n",
       "Name: new_st, dtype: object"
      ]
     },
     "execution_count": 86,
     "metadata": {},
     "output_type": "execute_result"
    }
   ],
   "source": [
    "train[train['text'].str.find('Whaaaaaaaaaat')>0]['new_st']"
   ]
  },
  {
   "cell_type": "code",
   "execution_count": 32,
   "metadata": {
    "ExecuteTime": {
     "end_time": "2020-06-07T01:51:28.300455Z",
     "start_time": "2020-06-07T01:51:28.280254Z"
    }
   },
   "outputs": [
    {
     "data": {
      "text/html": [
       "<div>\n",
       "<style scoped>\n",
       "    .dataframe tbody tr th:only-of-type {\n",
       "        vertical-align: middle;\n",
       "    }\n",
       "\n",
       "    .dataframe tbody tr th {\n",
       "        vertical-align: top;\n",
       "    }\n",
       "\n",
       "    .dataframe thead th {\n",
       "        text-align: right;\n",
       "    }\n",
       "</style>\n",
       "<table border=\"1\" class=\"dataframe\">\n",
       "  <thead>\n",
       "    <tr style=\"text-align: right;\">\n",
       "      <th></th>\n",
       "      <th>textID</th>\n",
       "      <th>text</th>\n",
       "      <th>selected_text</th>\n",
       "      <th>sentiment</th>\n",
       "      <th>kfold</th>\n",
       "      <th>clean_text</th>\n",
       "      <th>clean_st</th>\n",
       "      <th>start_pos_origin</th>\n",
       "      <th>end_pos_origin</th>\n",
       "      <th>start_pos_clean</th>\n",
       "      <th>end_pos_clean</th>\n",
       "      <th>broken_start</th>\n",
       "      <th>broken_end</th>\n",
       "      <th>new_st</th>\n",
       "    </tr>\n",
       "  </thead>\n",
       "  <tbody>\n",
       "    <tr>\n",
       "      <th>20423</th>\n",
       "      <td>09d0f8f088</td>\n",
       "      <td>two macaroons go into a bar....one says oh yo...</td>\n",
       "      <td>wo</td>\n",
       "      <td>positive</td>\n",
       "      <td>3</td>\n",
       "      <td>two macaroons go into a bar....one says oh you...</td>\n",
       "      <td>wo</td>\n",
       "      <td>2</td>\n",
       "      <td>4</td>\n",
       "      <td>1</td>\n",
       "      <td>3</td>\n",
       "      <td>True</td>\n",
       "      <td>False</td>\n",
       "      <td>o</td>\n",
       "    </tr>\n",
       "  </tbody>\n",
       "</table>\n",
       "</div>"
      ],
      "text/plain": [
       "           textID                                               text  \\\n",
       "20423  09d0f8f088   two macaroons go into a bar....one says oh yo...   \n",
       "\n",
       "      selected_text sentiment  kfold  \\\n",
       "20423            wo  positive      3   \n",
       "\n",
       "                                              clean_text clean_st  \\\n",
       "20423  two macaroons go into a bar....one says oh you...       wo   \n",
       "\n",
       "       start_pos_origin  end_pos_origin  start_pos_clean  end_pos_clean  \\\n",
       "20423                 2               4                1              3   \n",
       "\n",
       "       broken_start  broken_end new_st  \n",
       "20423          True       False     o   "
      ]
     },
     "execution_count": 32,
     "metadata": {},
     "output_type": "execute_result"
    }
   ],
   "source": [
    "train[train['clean_text'].str.find('macaroons')>0]"
   ]
  },
  {
   "cell_type": "code",
   "execution_count": 33,
   "metadata": {
    "ExecuteTime": {
     "end_time": "2020-06-07T01:51:28.917972Z",
     "start_time": "2020-06-07T01:51:28.911149Z"
    }
   },
   "outputs": [
    {
     "name": "stdout",
     "output_type": "stream",
     "text": [
      " two macaroons go into a bar....one says oh your a nut.  wow I need to get out more.\n",
      "wo\n"
     ]
    }
   ],
   "source": [
    "print(train.loc[20423, 'text'])\n",
    "print(train.loc[20423, 'selected_text'])"
   ]
  },
  {
   "cell_type": "code",
   "execution_count": 165,
   "metadata": {
    "ExecuteTime": {
     "end_time": "2020-06-07T08:14:44.582099Z",
     "start_time": "2020-06-07T08:14:44.560516Z"
    }
   },
   "outputs": [
    {
     "data": {
      "text/html": [
       "<div>\n",
       "<style scoped>\n",
       "    .dataframe tbody tr th:only-of-type {\n",
       "        vertical-align: middle;\n",
       "    }\n",
       "\n",
       "    .dataframe tbody tr th {\n",
       "        vertical-align: top;\n",
       "    }\n",
       "\n",
       "    .dataframe thead th {\n",
       "        text-align: right;\n",
       "    }\n",
       "</style>\n",
       "<table border=\"1\" class=\"dataframe\">\n",
       "  <thead>\n",
       "    <tr style=\"text-align: right;\">\n",
       "      <th></th>\n",
       "      <th>textID</th>\n",
       "      <th>text</th>\n",
       "      <th>selected_text</th>\n",
       "      <th>sentiment</th>\n",
       "      <th>kfold</th>\n",
       "      <th>clean_text</th>\n",
       "      <th>clean_st</th>\n",
       "      <th>start_pos_origin</th>\n",
       "      <th>end_pos_origin</th>\n",
       "      <th>start_pos_clean</th>\n",
       "      <th>end_pos_clean</th>\n",
       "      <th>broken_start</th>\n",
       "      <th>broken_end</th>\n",
       "      <th>shift</th>\n",
       "      <th>new_st</th>\n",
       "      <th>broken</th>\n",
       "      <th>ltext</th>\n",
       "      <th>ltext_strip</th>\n",
       "      <th>to_end</th>\n",
       "    </tr>\n",
       "  </thead>\n",
       "  <tbody>\n",
       "    <tr>\n",
       "      <th>13020</th>\n",
       "      <td>792063a20e</td>\n",
       "      <td>_Geronimo    Thanks for sharing with your ...</td>\n",
       "      <td>imo</td>\n",
       "      <td>positive</td>\n",
       "      <td>2</td>\n",
       "      <td>_Geronimo Thanks for sharing with your friends!</td>\n",
       "      <td>imo</td>\n",
       "      <td>10</td>\n",
       "      <td>13</td>\n",
       "      <td>6</td>\n",
       "      <td>9</td>\n",
       "      <td>True</td>\n",
       "      <td>False</td>\n",
       "      <td>4</td>\n",
       "      <td></td>\n",
       "      <td>True</td>\n",
       "      <td>_Geronimo</td>\n",
       "      <td>_Geronimo</td>\n",
       "      <td>False</td>\n",
       "    </tr>\n",
       "  </tbody>\n",
       "</table>\n",
       "</div>"
      ],
      "text/plain": [
       "           textID                                               text  \\\n",
       "13020  792063a20e      _Geronimo    Thanks for sharing with your ...   \n",
       "\n",
       "      selected_text sentiment  kfold  \\\n",
       "13020           imo  positive      2   \n",
       "\n",
       "                                            clean_text clean_st  \\\n",
       "13020  _Geronimo Thanks for sharing with your friends!      imo   \n",
       "\n",
       "       start_pos_origin  end_pos_origin  start_pos_clean  end_pos_clean  \\\n",
       "13020                10              13                6              9   \n",
       "\n",
       "       broken_start  broken_end  shift new_st  broken          ltext  \\\n",
       "13020          True       False      4           True      _Geronimo   \n",
       "\n",
       "      ltext_strip  to_end  \n",
       "13020   _Geronimo   False  "
      ]
     },
     "execution_count": 165,
     "metadata": {},
     "output_type": "execute_result"
    }
   ],
   "source": [
    "train[train['text'].str.find(\"Thanks for sharing with your friends!\")>0]"
   ]
  },
  {
   "cell_type": "code",
   "execution_count": null,
   "metadata": {},
   "outputs": [],
   "source": []
  }
 ],
 "metadata": {
  "kernelspec": {
   "display_name": "Python 3",
   "language": "python",
   "name": "python3"
  },
  "language_info": {
   "codemirror_mode": {
    "name": "ipython",
    "version": 3
   },
   "file_extension": ".py",
   "mimetype": "text/x-python",
   "name": "python",
   "nbconvert_exporter": "python",
   "pygments_lexer": "ipython3",
   "version": "3.7.1"
  }
 },
 "nbformat": 4,
 "nbformat_minor": 2
}
