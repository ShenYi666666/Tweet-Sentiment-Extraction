{
 "cells": [
  {
   "cell_type": "code",
   "execution_count": 1,
   "metadata": {
    "ExecuteTime": {
     "end_time": "2020-05-28T12:05:55.081949Z",
     "start_time": "2020-05-28T12:05:52.651793Z"
    }
   },
   "outputs": [],
   "source": [
    "import pandas as pd\n",
    "import numpy as np\n",
    "from transformers import BertTokenizer\n",
    "from transformers import RobertaTokenizer"
   ]
  },
  {
   "cell_type": "code",
   "execution_count": 2,
   "metadata": {
    "ExecuteTime": {
     "end_time": "2020-05-28T12:05:55.086157Z",
     "start_time": "2020-05-28T12:05:55.083152Z"
    }
   },
   "outputs": [],
   "source": [
    "def _improve_answer_span(doc_tokens, input_start, input_end, tokenizer, orig_answer_text):\n",
    "    \"\"\"Returns tokenized answer spans that better match the annotated answer.\"\"\"\n",
    "    tok_answer_text = \" \".join(tokenizer.tokenize(orig_answer_text))\n",
    "\n",
    "    for new_start in range(input_start, input_end + 1):\n",
    "        for new_end in range(input_end, new_start - 1, -1):\n",
    "            text_span = \" \".join(doc_tokens[new_start : (new_end + 1)])\n",
    "            if text_span == tok_answer_text:\n",
    "                return (new_start, new_end)\n",
    "\n",
    "    return (input_start, input_end)"
   ]
  },
  {
   "cell_type": "code",
   "execution_count": 3,
   "metadata": {
    "ExecuteTime": {
     "end_time": "2020-05-28T12:05:55.139430Z",
     "start_time": "2020-05-28T12:05:55.087054Z"
    }
   },
   "outputs": [],
   "source": [
    "train = pd.read_csv('../input/tweet-sentiment-extraction/train.csv')"
   ]
  },
  {
   "cell_type": "code",
   "execution_count": 4,
   "metadata": {
    "ExecuteTime": {
     "end_time": "2020-05-28T12:05:55.181772Z",
     "start_time": "2020-05-28T12:05:55.140465Z"
    }
   },
   "outputs": [],
   "source": [
    "tokenizer = BertTokenizer.from_pretrained('../../bert_models/bert_base_uncased/')"
   ]
  },
  {
   "cell_type": "code",
   "execution_count": 6,
   "metadata": {
    "ExecuteTime": {
     "end_time": "2020-05-28T12:07:16.884877Z",
     "start_time": "2020-05-28T12:07:16.855665Z"
    }
   },
   "outputs": [],
   "source": [
    "tokenizer = BertTokenizer.from_pretrained('../../bert_models/chinese_roberta_large/')"
   ]
  },
  {
   "cell_type": "code",
   "execution_count": 8,
   "metadata": {
    "ExecuteTime": {
     "end_time": "2020-05-28T12:07:37.106833Z",
     "start_time": "2020-05-28T12:07:37.104098Z"
    }
   },
   "outputs": [
    {
     "data": {
      "text/plain": [
       "['a', '你', 'b', '妹']"
      ]
     },
     "execution_count": 8,
     "metadata": {},
     "output_type": "execute_result"
    }
   ],
   "source": [
    "tokenizer.tokenize('a你b妹')"
   ]
  },
  {
   "cell_type": "code",
   "execution_count": 7,
   "metadata": {
    "ExecuteTime": {
     "end_time": "2020-04-18T12:18:46.247437Z",
     "start_time": "2020-04-18T12:18:46.242448Z"
    }
   },
   "outputs": [
    {
     "data": {
      "text/plain": [
       "(27481, 4)"
      ]
     },
     "execution_count": 7,
     "metadata": {},
     "output_type": "execute_result"
    }
   ],
   "source": [
    "train.shape"
   ]
  },
  {
   "cell_type": "code",
   "execution_count": 8,
   "metadata": {
    "ExecuteTime": {
     "end_time": "2020-04-18T12:18:46.255167Z",
     "start_time": "2020-04-18T12:18:46.248326Z"
    }
   },
   "outputs": [],
   "source": [
    "train.dropna(subset=['text','selected_text'], how='any', inplace=True)"
   ]
  },
  {
   "cell_type": "code",
   "execution_count": 9,
   "metadata": {
    "ExecuteTime": {
     "end_time": "2020-04-18T12:18:46.258070Z",
     "start_time": "2020-04-18T12:18:46.255974Z"
    }
   },
   "outputs": [
    {
     "data": {
      "text/plain": [
       "(27480, 4)"
      ]
     },
     "execution_count": 9,
     "metadata": {},
     "output_type": "execute_result"
    }
   ],
   "source": [
    "train.shape"
   ]
  },
  {
   "cell_type": "code",
   "execution_count": 10,
   "metadata": {
    "ExecuteTime": {
     "end_time": "2020-04-18T12:18:46.322384Z",
     "start_time": "2020-04-18T12:18:46.315985Z"
    }
   },
   "outputs": [
    {
     "data": {
      "text/html": [
       "<div>\n",
       "<style scoped>\n",
       "    .dataframe tbody tr th:only-of-type {\n",
       "        vertical-align: middle;\n",
       "    }\n",
       "\n",
       "    .dataframe tbody tr th {\n",
       "        vertical-align: top;\n",
       "    }\n",
       "\n",
       "    .dataframe thead th {\n",
       "        text-align: right;\n",
       "    }\n",
       "</style>\n",
       "<table border=\"1\" class=\"dataframe\">\n",
       "  <thead>\n",
       "    <tr style=\"text-align: right;\">\n",
       "      <th></th>\n",
       "      <th>textID</th>\n",
       "      <th>text</th>\n",
       "      <th>selected_text</th>\n",
       "      <th>sentiment</th>\n",
       "    </tr>\n",
       "  </thead>\n",
       "  <tbody>\n",
       "    <tr>\n",
       "      <th>0</th>\n",
       "      <td>cb774db0d1</td>\n",
       "      <td>I`d have responded, if I were going</td>\n",
       "      <td>I`d have responded, if I were going</td>\n",
       "      <td>neutral</td>\n",
       "    </tr>\n",
       "    <tr>\n",
       "      <th>1</th>\n",
       "      <td>549e992a42</td>\n",
       "      <td>Sooo SAD I will miss you here in San Diego!!!</td>\n",
       "      <td>Sooo SAD</td>\n",
       "      <td>negative</td>\n",
       "    </tr>\n",
       "    <tr>\n",
       "      <th>2</th>\n",
       "      <td>088c60f138</td>\n",
       "      <td>my boss is bullying me...</td>\n",
       "      <td>bullying me</td>\n",
       "      <td>negative</td>\n",
       "    </tr>\n",
       "    <tr>\n",
       "      <th>3</th>\n",
       "      <td>9642c003ef</td>\n",
       "      <td>what interview! leave me alone</td>\n",
       "      <td>leave me alone</td>\n",
       "      <td>negative</td>\n",
       "    </tr>\n",
       "    <tr>\n",
       "      <th>4</th>\n",
       "      <td>358bd9e861</td>\n",
       "      <td>Sons of ****, why couldn`t they put them on t...</td>\n",
       "      <td>Sons of ****,</td>\n",
       "      <td>negative</td>\n",
       "    </tr>\n",
       "  </tbody>\n",
       "</table>\n",
       "</div>"
      ],
      "text/plain": [
       "       textID                                               text  \\\n",
       "0  cb774db0d1                I`d have responded, if I were going   \n",
       "1  549e992a42      Sooo SAD I will miss you here in San Diego!!!   \n",
       "2  088c60f138                          my boss is bullying me...   \n",
       "3  9642c003ef                     what interview! leave me alone   \n",
       "4  358bd9e861   Sons of ****, why couldn`t they put them on t...   \n",
       "\n",
       "                         selected_text sentiment  \n",
       "0  I`d have responded, if I were going   neutral  \n",
       "1                             Sooo SAD  negative  \n",
       "2                          bullying me  negative  \n",
       "3                       leave me alone  negative  \n",
       "4                        Sons of ****,  negative  "
      ]
     },
     "execution_count": 10,
     "metadata": {},
     "output_type": "execute_result"
    }
   ],
   "source": [
    "train.head()"
   ]
  },
  {
   "cell_type": "code",
   "execution_count": 11,
   "metadata": {
    "ExecuteTime": {
     "end_time": "2020-04-18T12:18:46.810705Z",
     "start_time": "2020-04-18T12:18:46.746472Z"
    }
   },
   "outputs": [],
   "source": [
    "train['text'] = train['text'].apply(lambda x: ' '.join(x.strip().split()))\n",
    "train['selected_text'] = train['selected_text'].apply(lambda x: ' '.join(x.strip().split()))"
   ]
  },
  {
   "cell_type": "code",
   "execution_count": 12,
   "metadata": {
    "ExecuteTime": {
     "end_time": "2020-04-18T12:18:50.940931Z",
     "start_time": "2020-04-18T12:18:50.934743Z"
    }
   },
   "outputs": [],
   "source": [
    "def clean(x):\n",
    "    sp_x = x.split()\n",
    "    if sp_x[0] in [',','.','!','?',':',';'] and len(sp_x)>1:\n",
    "        print(x, '|', ' '.join(sp_x[1:]))\n",
    "        return ' '.join(sp_x[1:])\n",
    "    return x"
   ]
  },
  {
   "cell_type": "code",
   "execution_count": 13,
   "metadata": {
    "ExecuteTime": {
     "end_time": "2020-04-18T12:18:51.600251Z",
     "start_time": "2020-04-18T12:18:51.552089Z"
    }
   },
   "outputs": [
    {
     "name": "stdout",
     "output_type": "stream",
     "text": [
      ", sorry guys | sorry guys\n",
      ", he was soooo friendly. | he was soooo friendly.\n",
      "! I`m scared of him | I`m scared of him\n",
      ". Tomorrow will be tough! | Tomorrow will be tough!\n",
      ". Sorry | Sorry\n",
      ". Okay kool... I might be touring all summer long but we can make it happen! | Okay kool... I might be touring all summer long but we can make it happen!\n",
      "! Gonna scare Rachel with Quarantine tonight, this shall be fun | Gonna scare Rachel with Quarantine tonight, this shall be fun\n",
      ". He gives Twitter tips. Hope this helps | He gives Twitter tips. Hope this helps\n",
      ". I hope Avalina isn`t a dud! | I hope Avalina isn`t a dud!\n",
      ", Thx | Thx\n",
      ": I ADMIRE YOU! you`re amazing! you inspire me to write <3 | I ADMIRE YOU! you`re amazing! you inspire me to write <3\n",
      ", enjoy | enjoy\n",
      ". It wasn`t all that great but Channing Tatum is amazing! | It wasn`t all that great but Channing Tatum is amazing!\n",
      "! sadly | sadly\n",
      "? American Pie FOREVER. I`m watching it right now. They`re running naked around on the Streets! Would you do that? I would [ NOT ] | American Pie FOREVER. I`m watching it right now. They`re running naked around on the Streets! Would you do that? I would [ NOT ]\n",
      ", pains been part of my life for a long time now I hope you feel a bit better soon. | pains been part of my life for a long time now I hope you feel a bit better soon.\n",
      ". this SUCKS | this SUCKS\n",
      ". it should be recoverable. | it should be recoverable.\n",
      ", so sad | so sad\n",
      "? not good enough | not good enough\n",
      ": Out to dinner for the fam and Grandma for Mother`s Day. | Out to dinner for the fam and Grandma for Mother`s Day.\n",
      ", awfully | awfully\n",
      ". Apologies to all my supporters. | Apologies to all my supporters.\n",
      ", sorry | sorry\n",
      "? made me jealous | made me jealous\n",
      ", I feel bad for everyone in NKorea. | I feel bad for everyone in NKorea.\n",
      ": You MUST watch Grey`s. It was their 100th episode. Let me know once you do. I don`t want to give out any more details | You MUST watch Grey`s. It was their 100th episode. Let me know once you do. I don`t want to give out any more details\n",
      ", Heeeey dear! Finally found! | Heeeey dear! Finally found!\n",
      ", i think or very late 2009! its just wrong | i think or very late 2009! its just wrong\n",
      ", to think their wives are nuts. | to think their wives are nuts.\n",
      ". love them | love them\n",
      ". What a crazy summer it`s going to | What a crazy summer it`s going to\n",
      ", sorry I cant be there tonight | sorry I cant be there tonight\n",
      "! I like the beach, | I like the beach,\n",
      "! I can`t STAND that I cannot be there this summer! | I can`t STAND that I cannot be there this summer!\n",
      ". you were correct | you were correct\n",
      "! that looks incredible!!! | that looks incredible!!!\n",
      ". Not cool. | Not cool.\n",
      ", finally, someone spreading the Hayley Love via Twitter. Welcome to the club, Taylor. | finally, someone spreading the Hayley Love via Twitter. Welcome to the club, Taylor.\n",
      "! Please | Please\n",
      "? did ya have fun? love ya girly! | did ya have fun? love ya girly!\n",
      ", sounds even enough to me | sounds even enough to me\n",
      ". I want all the soldiers to come home so we don`t have to hear about anymore being killed. | I want all the soldiers to come home so we don`t have to hear about anymore being killed.\n",
      "? It is very sad | It is very sad\n",
      ": Oh its begun long before this! | Oh its begun long before this!\n",
      ": to triste | to triste\n",
      ", i have a really sore knee cant walk | i have a really sore knee cant walk\n",
      ". I don`t like the indentation | I don`t like the indentation\n",
      "! Can`t wait! | Can`t wait!\n",
      ". he`s in bed sick. Heavy fever. Went to dr`s. Part of the reason i`m watching Aladdin 2 now and still haven`t been fed | he`s in bed sick. Heavy fever. Went to dr`s. Part of the reason i`m watching Aladdin 2 now and still haven`t been fed\n",
      ". FX are nice. I like Windows 7 1000x better than Vista so far. To me Vista is Win ME reborn | FX are nice. I like Windows 7 1000x better than Vista so far. To me Vista is Win ME reborn\n",
      ", I`d love it if you haven`t had any takers yet | I`d love it if you haven`t had any takers yet\n",
      ", awe, me in work, no BBQ for moi this weekend | awe, me in work, no BBQ for moi this weekend\n",
      ". im learning my quotess | im learning my quotess\n",
      ". All my bits are sore today - but life is still grand Tomorrow is a new day! Sleep well, Friend | All my bits are sore today - but life is still grand Tomorrow is a new day! Sleep well, Friend\n",
      ". its no fun | its no fun\n",
      "! it was amazing. | it was amazing.\n",
      ": Happy | Happy\n",
      ". Careless | Careless\n",
      ", Just read an article that buying IP`s doesn`t necessary mean to get developement teams . Does that mean | Just read an article that buying IP`s doesn`t necessary mean to get developement teams . Does that mean\n",
      ": wait till the vacation ends! u shud be cycling a lot then! | wait till the vacation ends! u shud be cycling a lot then!\n",
      ". Too bad! | Too bad!\n",
      "? I miss yo | I miss yo\n",
      "! dummyhead. | dummyhead.\n",
      ": no i`m not going. | no i`m not going.\n",
      "! I guess it`s worth the wait! | I guess it`s worth the wait!\n",
      ", dammit | dammit\n",
      "! i called and called. I think you should answer more. haha | i called and called. I think you should answer more. haha\n",
      ". Happy | Happy\n",
      ", In pre-Twitter days, I`d need to wait for a formal invitation to speak on edu2.0 from | In pre-Twitter days, I`d need to wait for a formal invitation to speak on edu2.0 from\n",
      ", like your new pix! | like your new pix!\n",
      "! You`re good people | You`re good people\n",
      ": You must rest, don`t work hard How abt Cr-chan ? | You must rest, don`t work hard How abt Cr-chan ?\n",
      "! So proud of him! | So proud of him!\n",
      ", I had a suspicion about that!! | I had a suspicion about that!!\n",
      "; it`s not bad. Never seen any real appeal to last.fm is all. Bad quality audio from **** artists | it`s not bad. Never seen any real appeal to last.fm is all. Bad quality audio from **** artists\n",
      "? No luck | No luck\n",
      ". LOL, having way too much fun being bored. i miss him | LOL, having way too much fun being bored. i miss him\n",
      ". i kinda lost respect | i kinda lost respect\n",
      ". He never got in trouble, I did | He never got in trouble, I did\n",
      ". It`s going to get worse now that the girls r home for summer. It stinks. | It`s going to get worse now that the girls r home for summer. It stinks.\n",
      ": eww. dislike | eww. dislike\n",
      ". Sorrie | Sorrie\n",
      ", im going to bleed to death | im going to bleed to death\n",
      ", you`re a bad sister. | you`re a bad sister.\n",
      ": yes! | yes!\n",
      ", - muji yipee. is anybody coming here? i can send them over hahaha. but can somebody bring JT`s BSG disks? haha | - muji yipee. is anybody coming here? i can send them over hahaha. but can somebody bring JT`s BSG disks? haha\n",
      ". Not an easy problem | Not an easy problem\n",
      "! How exciting! | How exciting!\n",
      ": get into terminal and kill -9 it. which is really what force quit should do | get into terminal and kill -9 it. which is really what force quit should do\n",
      ". I love Providence | I love Providence\n",
      "? I like jackets. | I like jackets.\n",
      ". hope ur lookin 4ward | hope ur lookin 4ward\n",
      ". Boring | Boring\n",
      ". thats cool. | thats cool.\n",
      ", seriously The crazier the topic, the better | seriously The crazier the topic, the better\n",
      "? Too busy | Too busy\n",
      ". it sucks | it sucks\n",
      ": Geez, a cool man like him be the villains. Too bad | Geez, a cool man like him be the villains. Too bad\n",
      ". I know its hard | I know its hard\n",
      ": I live in germany, it costs a lot too! I wish you could follow me anyway.. | I live in germany, it costs a lot too! I wish you could follow me anyway..\n",
      "! wow ur page is awesom | wow ur page is awesom\n",
      ". all in good fun. | all in good fun.\n",
      "! HE HAS A FAVOURITE! You`re his favourite ;) OMGAAH. sorry for creepering? ..not really lo | HE HAS A FAVOURITE! You`re his favourite ;) OMGAAH. sorry for creepering? ..not really lo\n",
      ". lamee. | lamee.\n",
      ": I sent you an other call me back message x | I sent you an other call me back message x\n",
      "? its really good! | its really good!\n",
      ". At least he`s happy I came. | At least he`s happy I came.\n",
      ", i love | i love\n",
      ": yes she got all lovey with him&he returned the love&1thing led2 another& also wants2 know y ur mad at her | yes she got all lovey with him&he returned the love&1thing led2 another& also wants2 know y ur mad at her\n",
      ", i`m sorry. | i`m sorry.\n",
      ". Best lookin | Best lookin\n",
      ": yes and ily | yes and ily\n",
      "! Mine is one of te few surviving 'good' system.. | Mine is one of te few surviving 'good' system..\n",
      ". too bad | too bad\n",
      ". The red cars hopefully | The red cars hopefully\n",
      ", you are an incredibly wealthy man | you are an incredibly wealthy man\n",
      "? Sorry that your computer is not cooperating | Sorry that your computer is not cooperating\n",
      "! You always leave me behind | You always leave me behind\n",
      ". Pleasant surprise | Pleasant surprise\n",
      "! it makes me wanna cry | it makes me wanna cry\n",
      "? oh and beautiful sunny | oh and beautiful sunny\n",
      ": Where are you? | Where are you?\n",
      ". Its tuff | Its tuff\n",
      ". It`s hard to find good wallpapers. | It`s hard to find good wallpapers.\n",
      ". Thanks | Thanks\n",
      "! Love ya guys and cab wait to see another awesome show soon | Love ya guys and cab wait to see another awesome show soon\n",
      "? ? ? You can`t be 29...on Sugar Mountain...(or so people tell me...) ? ? ? | ? ? You can`t be 29...on Sugar Mountain...(or so people tell me...) ? ? ?\n",
      ": Oh. The voting is over! But don`t worry, I already voted for you about 100000000000000000000000000000000000 times earlier!!! | Oh. The voting is over! But don`t worry, I already voted for you about 100000000000000000000000000000000000 times earlier!!!\n",
      "; pretty cool! | pretty cool!\n",
      "? What`s wrong | What`s wrong\n",
      ". Tickets, i need my tickets, where are my tickets. i want my ticketttttss | Tickets, i need my tickets, where are my tickets. i want my ticketttttss\n",
      ", youre welcome to come hang! | youre welcome to come hang!\n",
      "! LUV YA | LUV YA\n",
      ". i am now sad. someone sing to me. on or off key works! | i am now sad. someone sing to me. on or off key works!\n",
      ". omgg im sooo gonna fail | omgg im sooo gonna fail\n",
      ". Whatthefuck | Whatthefuck\n",
      ", sorry been out | sorry been out\n",
      ". Yayy | Yayy\n",
      ". So, I don`t think our birthday date is going to happen. :`( | So, I don`t think our birthday date is going to happen. :`(\n",
      "! I`m totally bored! | I`m totally bored!\n",
      ". great stuff AND Florence and The Machine. Great, great music | great stuff AND Florence and The Machine. Great, great music\n",
      ": I`m real | I`m real\n",
      ", oh noooo! if i blow a tire you`re reaaaally going to have to send up some batman smoke. | oh noooo! if i blow a tire you`re reaaaally going to have to send up some batman smoke.\n",
      ". Love it. | Love it.\n",
      "! sorry | sorry\n",
      ", hope | hope\n",
      ". bummer. ne | bummer. ne\n",
      ", Pride and Prejudice & Emma are gr | Pride and Prejudice & Emma are gr\n",
      ". Boooo | Boooo\n",
      ". nicely done, | nicely done,\n",
      ". ugh | ugh\n",
      ". Well gotdamn girl!!! I dont know what else!!!! I`m sleepy again! Grrr | Well gotdamn girl!!! I dont know what else!!!! I`m sleepy again! Grrr\n",
      ". That song is EPIC, | That song is EPIC,\n",
      ": woot please post a pic, I won`t recognize you without it | woot please post a pic, I won`t recognize you without it\n",
      ". He looks nice today thoughh. | He looks nice today thoughh.\n",
      ". I still can`t believe they won`t renew TSCC | I still can`t believe they won`t renew TSCC\n",
      ". Looking forward | Looking forward\n",
      "! my hair is f`in fried! | my hair is f`in fried!\n",
      ": Started using the branch | Started using the branch\n",
      ". That`s sad. | That`s sad.\n",
      ". Phone issues | Phone issues\n",
      "! heheee hope you get some decently priced breakfast real quick, David | heheee hope you get some decently priced breakfast real quick, David\n",
      ", , and i think you should come home now | , and i think you should come home now\n",
      ". Thank you | Thank you\n",
      "? I`m so sorry I hate those kinda times. | I`m so sorry I hate those kinda times.\n",
      ", i`m really gonna mess this uuuup | i`m really gonna mess this uuuup\n",
      ". Thanks for saving me the money | Thanks for saving me the money\n",
      "! looks yummy | looks yummy\n",
      ", are a true fan | are a true fan\n",
      "? enjoy it though. | enjoy it though.\n",
      ". Lazy shiit. | Lazy shiit.\n",
      ", hope | hope\n",
      ". Oh I`m so happ | Oh I`m so happ\n",
      ". Glad you mentioned it last night, watched it again | Glad you mentioned it last night, watched it again\n",
      ". Delicious | Delicious\n",
      ". hopefull | hopefull\n",
      ", my tummy is not happy. Boo. | my tummy is not happy. Boo.\n",
      ". i wonder what he will come up with | i wonder what he will come up with\n",
      "? It doesn`t sound goo | It doesn`t sound goo\n",
      ". Pleaseeeeeeeeeeeeee Im Bored. | Pleaseeeeeeeeeeeeee Im Bored.\n",
      ". Have a good night | Have a good night\n",
      "? Sorry | Sorry\n",
      "! I`m soo excited for 6th June, as its my bday aswell! | I`m soo excited for 6th June, as its my bday aswell!\n",
      ". you left me first .. and left your bed here for me to look at | you left me first .. and left your bed here for me to look at\n",
      "? I LOVE YOU | I LOVE YOU\n",
      ". I`m sorry, that`s really sucky. | I`m sorry, that`s really sucky.\n",
      ", a 74 is not 'quite alright'! on the plus side, I ate cinnamin toast crunch for breakfast, and am now eating strawberries. | a 74 is not 'quite alright'! on the plus side, I ate cinnamin toast crunch for breakfast, and am now eating strawberries.\n",
      ": I`ll be in Heerlen on Sunday but you won`t be there, right? | I`ll be in Heerlen on Sunday but you won`t be there, right?\n",
      ", we need u on the show! | we need u on the show!\n",
      ": They R sending TW business ppl 2 the mainland 2 return the favor - Re: Chinese police representatives in TW | They R sending TW business ppl 2 the mainland 2 return the favor - Re: Chinese police representatives in TW\n",
      ". Really I look like a boy!!! I need someone to do my hair! | Really I look like a boy!!! I need someone to do my hair!\n",
      ". Hope all is well Just thinking of you and wishing you the best! Lots of love from over here in New York | Hope all is well Just thinking of you and wishing you the best! Lots of love from over here in New York\n",
      "! so sa | so sa\n",
      "? there`s big money to be paid | there`s big money to be paid\n",
      ". I Love YOU | I Love YOU\n",
      ". STUPID MOM FOR MAKING ME GO UP | STUPID MOM FOR MAKING ME GO UP\n",
      ". bad day not good | bad day not good\n",
      "; why is the font so huge?! small fonts rock socks | why is the font so huge?! small fonts rock socks\n",
      "? You`re making poor | You`re making poor\n",
      ": ''UB40-'Bring Me Your Cup''' ? http://blip.fm/~7af72 | ''UB40-'Bring Me Your Cup''' ? http://blip.fm/~7af72\n",
      ". Haha I want another bagel. I have all this blueberry cream cheese left and no more bagel | Haha I want another bagel. I have all this blueberry cream cheese left and no more bagel\n",
      ", rather | rather\n",
      ", i thank u | i thank u\n",
      ", I don`t like the movie line, | I don`t like the movie line,\n",
      ". Kind | Kind\n",
      "! I use to love that show | I use to love that show\n",
      ", just drank too much. | just drank too much.\n",
      ", i know bad me | i know bad me\n",
      "! So BEAUTIFUL!! You looked so good! Glad to see the wonderful turnout! | So BEAUTIFUL!! You looked so good! Glad to see the wonderful turnout!\n",
      ", I really really love | I really really love\n",
      ". it hurts sooo bad right now | it hurts sooo bad right now\n",
      ". Not too concerned abt apps. Batt life is important | Not too concerned abt apps. Batt life is important\n",
      "! Very sweet! | Very sweet!\n",
      "? Have a great day!! | Have a great day!!\n",
      ". I`m so scared. I`m so addicted to this show. I love it | I`m so scared. I`m so addicted to this show. I love it\n",
      ": `Bring it on: In it to win it` is the BEST movie ever!! U are the best actress, singer, dancer and role model ever<33 xoxo | `Bring it on: In it to win it` is the BEST movie ever!! U are the best actress, singer, dancer and role model ever<33 xoxo\n",
      ". so a trip sounds like fun | so a trip sounds like fun\n",
      ". It will be breath taking | It will be breath taking\n",
      ". Wooowww | Wooowww\n",
      "! Sorry to hear that. | Sorry to hear that.\n",
      ". They are the big cheese | They are the big cheese\n",
      ". *sadness* | *sadness*\n",
      ". im messing around | im messing around\n",
      ". Sorr | Sorr\n",
      "! ur hurting my feelings | ur hurting my feelings\n",
      "? I`m afraid I missed | I`m afraid I missed\n",
      ": why is it so cold!?!?! | why is it so cold!?!?!\n",
      ", sorry | sorry\n",
      "! Have a very Happy Mother`s Da | Have a very Happy Mother`s Da\n",
      ": and this year I have summer school. | and this year I have summer school.\n",
      ", got a video tape with fungus badluck | got a video tape with fungus badluck\n",
      "! enjoy | enjoy\n",
      ": 3 hrs to go pa ako | 3 hrs to go pa ako\n",
      "! NOT GO | NOT GO\n",
      ": psh...didn`t even pay for me though | psh...didn`t even pay for me though\n",
      ". Can`t be a victim like your people. | Can`t be a victim like your people.\n",
      "! I`m Awesome | I`m Awesome\n",
      ". Thank | Thank\n",
      ". You`re a fantastic actor | You`re a fantastic actor\n",
      "? i like | i like\n",
      ", I`m so thankful I can count on you, love ya boo | I`m so thankful I can count on you, love ya boo\n",
      ", is pray for you.... | is pray for you....\n",
      ": i know i*m late but i didn`t had internet. so happy bithday to you and pierre! | i know i*m late but i didn`t had internet. so happy bithday to you and pierre!\n",
      "! I Think I Re-Ripped something !!! Yeah THAT !! | I Think I Re-Ripped something !!! Yeah THAT !!\n",
      ", Best Holy Day wishes to you all | Best Holy Day wishes to you all\n",
      "! They are all amazing peopl | They are all amazing peopl\n",
      ". r.i.p. | r.i.p.\n",
      ", sorry | sorry\n",
      ". Nice people up there. | Nice people up there.\n",
      "! glad | glad\n",
      "! Nic | Nic\n",
      ". I`m sitting here with this girl that urk my nerves damm yo | I`m sitting here with this girl that urk my nerves damm yo\n",
      ", thats really cute. i love you guys | thats really cute. i love you guys\n",
      "? you will be missed. I wish my ruby boys would represent | you will be missed. I wish my ruby boys would represent\n",
      "! very entertaining, lots of fun and interesting too!! next please.. | very entertaining, lots of fun and interesting too!! next please..\n",
      ". I LOVE! you. | I LOVE! you.\n",
      ", sorry | sorry\n",
      ". Sorry | Sorry\n",
      ": any kimbeommie updates? | any kimbeommie updates?\n",
      ": i have a crush... | i have a crush...\n",
      ". Now I smell like clorox | Now I smell like clorox\n",
      ", word!? | word!?\n",
      ". Sad day..... | Sad day.....\n",
      "! ROCK | ROCK\n",
      ". I love you! | I love you!\n",
      "? on wednesday green day will perform their new single 'Know Your Enemy' at TvTotal http://tr.im/kpDX | on wednesday green day will perform their new single 'Know Your Enemy' at TvTotal http://tr.im/kpDX\n",
      ". LOL | LOL\n",
      "? Happy | Happy\n",
      ", I didn`t which should probly mean I won`t get it | I didn`t which should probly mean I won`t get it\n",
      ". Good | Good\n",
      "! never mind | never mind\n",
      ". haha | haha\n",
      ", i was disappointed | i was disappointed\n",
      ". he`s mad at us. | he`s mad at us.\n",
      ". I MISS GIRLFRIENDS!! | I MISS GIRLFRIENDS!!\n",
      "! I approve whole heartedly. | I approve whole heartedly.\n",
      ". Hope | Hope\n",
      "! come pick up your gift ;) | come pick up your gift ;)\n",
      ", love to you | love to you\n",
      "? ALREADY FINISHED CHATTING . HAHA .. ? | ALREADY FINISHED CHATTING . HAHA .. ?\n",
      "? A good distraction | A good distraction\n",
      ", you will love tonight`s DC | you will love tonight`s DC\n",
      ". Thank god for YouTube. | Thank god for YouTube.\n",
      "! gosh poor two heartbreaks | gosh poor two heartbreaks\n",
      "? Haha too early. | Haha too early.\n",
      ". That guy put in a ton of sweat and bruises for the team. He will be missed. | That guy put in a ton of sweat and bruises for the team. He will be missed.\n",
      ". Watching everyone else act a fool is much better the not remembering acting a fool yoursel | Watching everyone else act a fool is much better the not remembering acting a fool yoursel\n",
      ". Sorry | Sorry\n",
      "? I CAN`T TALK! | I CAN`T TALK!\n",
      "! I`m just glad | I`m just glad\n",
      ", just dont understand what`s it got to do with me. I`m just a nice girl | just dont understand what`s it got to do with me. I`m just a nice girl\n",
      ". Some good, some baaaaaaaad | Some good, some baaaaaaaad\n",
      "? what is this? is everyone abandoning me? | what is this? is everyone abandoning me?\n",
      ": thats if u go on a weekend. | thats if u go on a weekend.\n",
      ". So I like to keep it my little secret | So I like to keep it my little secret\n",
      "! haha | haha\n",
      ". Wish | Wish\n",
      "? Thanks | Thanks\n",
      ": thanks! | thanks!\n",
      "? Missing you SADS | Missing you SADS\n",
      "? sorr | sorr\n",
      ". you are correct to say that. | you are correct to say that.\n",
      "! That`s awesome | That`s awesome\n",
      ", bad | bad\n",
      "! tear | tear\n",
      ", that`s unfortunate to hear Thanks you both for the head`s | that`s unfortunate to hear Thanks you both for the head`s\n",
      ". hopefully | hopefully\n",
      "? Glad | Glad\n",
      ". Too bad | Too bad\n",
      ". Lover | Lover\n",
      ", **** off! I`m stuck in | **** off! I`m stuck in\n",
      ": just the dinner | just the dinner\n",
      ". I love him | I love him\n",
      "! good luck | good luck\n",
      "! I love reviewing free apps | I love reviewing free apps\n",
      ". No cuties for me | No cuties for me\n",
      "? i dontlike the fact | i dontlike the fact\n",
      ". Thnx for asking lol I will be fine | Thnx for asking lol I will be fine\n",
      ". Hopefully | Hopefully\n",
      ". Probably spelt it wrong lol. | Probably spelt it wrong lol.\n",
      ". I don`t want to be left in our home by myself | I don`t want to be left in our home by myself\n",
      ". we were the final stage guinea pigs it seriously is a waste of tim | we were the final stage guinea pigs it seriously is a waste of tim\n",
      "! love ya | love ya\n",
      ": whatcha reading? | whatcha reading?\n",
      ". Very sad | Very sad\n",
      ", is there a serial card fraudster on the loose? | is there a serial card fraudster on the loose?\n",
      "? Must be hard | Must be hard\n",
      "! whoop!!! | whoop!!!\n",
      ". I felt bad not sending him | I felt bad not sending him\n",
      ". happy | happy\n",
      ". I envy your productivity | I envy your productivity\n",
      ". It`ll be fun | It`ll be fun\n",
      ". thats upsetting sorry | thats upsetting sorry\n",
      ". I wish we were there now! | I wish we were there now!\n",
      "! That`s sad | That`s sad\n",
      ". It`s worse than I thought it would be. | It`s worse than I thought it would be.\n",
      ". I better get to see you. <3 | I better get to see you. <3\n",
      ". Woo! | Woo!\n",
      ". I think mine`s the best, but I`m biased | I think mine`s the best, but I`m biased\n",
      ": re 'pot meet kettle' not so sure of that equation. | re 'pot meet kettle' not so sure of that equation.\n",
      ". Haha. Rite. Im freeeeeeee. Britneys spears listenin time. | Haha. Rite. Im freeeeeeee. Britneys spears listenin time.\n",
      ". The detalis can get a bit gruesome | The detalis can get a bit gruesome\n",
      ", thanks | thanks\n",
      ". My feet are killing me | My feet are killing me\n",
      "? Nice! | Nice!\n",
      ". i have phone calls like that often .. different subject - same result of feeling beaten to pulp and left for dead | i have phone calls like that often .. different subject - same result of feeling beaten to pulp and left for dead\n",
      "? <---- I`m going to post this EVERYWHERE now. | <---- I`m going to post this EVERYWHERE now.\n",
      ". Sorr | Sorr\n",
      ". Congrat | Congrat\n",
      "! it was really good. | it was really good.\n",
      "! too bad | too bad\n",
      ". Sad | Sad\n",
      ". don`t blame me | don`t blame me\n",
      ", its hard to tell | its hard to tell\n",
      "? I liked your interviews with her. | I liked your interviews with her.\n",
      ": Hi, there! I`m sorry for not telling you Let`s meet up! With _meirizka too. You promised to treat us! XD | Hi, there! I`m sorry for not telling you Let`s meet up! With _meirizka too. You promised to treat us! XD\n",
      "? I have such a lead foot | I have such a lead foot\n",
      "! Happ | Happ\n",
      ". Life is | Life is\n",
      "? Was I not cool | Was I not cool\n",
      ": Yes, that`s what I was implying. Was a bit too subtle, as usual, I suppose. | Yes, that`s what I was implying. Was a bit too subtle, as usual, I suppose.\n",
      ". thank yo | thank yo\n",
      ". It`s not awful, but pretty icky | It`s not awful, but pretty icky\n",
      ". you will win! love you | you will win! love you\n",
      ". that was so sweet | that was so sweet\n",
      ": I`ve been! | I`ve been!\n",
      "? i can`t move eithe | i can`t move eithe\n",
      "! beautiful | beautiful\n",
      "? That seems totally out of line | That seems totally out of line\n",
      ", don`t force | don`t force\n"
     ]
    }
   ],
   "source": [
    "train['selected_text'] = train['selected_text'].apply(lambda x: clean(x))"
   ]
  },
  {
   "cell_type": "code",
   "execution_count": 14,
   "metadata": {
    "ExecuteTime": {
     "end_time": "2020-04-18T10:48:01.123268Z",
     "start_time": "2020-04-18T10:48:00.500535Z"
    }
   },
   "outputs": [],
   "source": [
    "train['start_pos'] = train.apply(lambda x: x['text'].find(x['selected_text']), axis=1)\n",
    "train['end_pos'] = train.apply(lambda x: x['start_pos']+len(x['selected_text']), axis=1)"
   ]
  },
  {
   "cell_type": "code",
   "execution_count": 15,
   "metadata": {
    "ExecuteTime": {
     "end_time": "2020-04-18T10:48:01.980845Z",
     "start_time": "2020-04-18T10:48:01.978163Z"
    }
   },
   "outputs": [],
   "source": [
    "def contains(a, b):\n",
    "    for i in range(0, len(a)-len(b)+1):\n",
    "        flag = True\n",
    "        for j in range(0, len(b)):\n",
    "            if a[i+j]!=b[j]:\n",
    "                flag = False\n",
    "                break\n",
    "        if flag:\n",
    "            return True, i\n",
    "    return False, -1"
   ]
  },
  {
   "cell_type": "code",
   "execution_count": 16,
   "metadata": {
    "ExecuteTime": {
     "end_time": "2020-04-18T10:48:15.689084Z",
     "start_time": "2020-04-18T10:48:02.684126Z"
    }
   },
   "outputs": [],
   "source": [
    "data = []\n",
    "improve_count = 0\n",
    "for text, sp, ep, st in zip(train['text'].tolist(), train['start_pos'].tolist(), train['end_pos'].tolist(),\n",
    "                           train['selected_text'].tolist()):\n",
    "    split_text = text.split()\n",
    "    tokens, labels, invert_map, first_token, in_st = [], [], [], [], []\n",
    "    st_tokens = tokenizer.tokenize(' '+st)\n",
    "    cur_length = 0\n",
    "    \n",
    "    # token in selected_tokens\n",
    "    temp = np.zeros(len(text))\n",
    "    temp[sp:ep]=1\n",
    "    for idx, w in enumerate(split_text):\n",
    "        if sum(temp[cur_length+idx:cur_length+idx+len(w)])>0:\n",
    "            started = True# space\n",
    "        else:\n",
    "            started = False\n",
    "        for idx2, token in enumerate(tokenizer.tokenize(w)):\n",
    "            first_token.append(True if idx2==0 else False)\n",
    "            tokens.append(token)\n",
    "            invert_map.append(idx)\n",
    "            if started:\n",
    "                labels.append(len(tokens)-1)\n",
    "                if token in st_tokens:\n",
    "                    in_st.append(1)\n",
    "                else:\n",
    "                    in_st.append(0)\n",
    "            else:\n",
    "                in_st.append(-100)\n",
    "        cur_length+=len(w)\n",
    "    start_token_idx = min(labels)\n",
    "    end_token_idx = max(labels)\n",
    "    start_token_idx, end_token_idx = _improve_answer_span(tokens, start_token_idx, end_token_idx,\n",
    "                                                         tokenizer, st)\n",
    "    \n",
    "    token_contain, token_sp = contains(tokens, st_tokens)\n",
    "    if token_contain:\n",
    "        start_token_idx = token_sp\n",
    "        end_token_idx = token_sp+len(st_tokens)-1\n",
    "    \n",
    "    start_word_idx = invert_map[start_token_idx]\n",
    "    end_word_idx = invert_map[end_token_idx]+1\n",
    "    assert ' '.join(split_text[start_word_idx:end_word_idx]).lower().find(st.lower())>=0\n",
    "    \n",
    "    data.append((tokens, start_token_idx, end_token_idx, invert_map, first_token, in_st))"
   ]
  },
  {
   "cell_type": "code",
   "execution_count": 17,
   "metadata": {
    "ExecuteTime": {
     "end_time": "2020-04-18T10:48:15.760033Z",
     "start_time": "2020-04-18T10:48:15.690212Z"
    }
   },
   "outputs": [],
   "source": [
    "tokens, start, end, invert_map, first_token, in_st = zip(*data)"
   ]
  },
  {
   "cell_type": "code",
   "execution_count": 18,
   "metadata": {
    "ExecuteTime": {
     "end_time": "2020-04-18T10:48:15.763452Z",
     "start_time": "2020-04-18T10:48:15.760944Z"
    }
   },
   "outputs": [
    {
     "data": {
      "text/plain": [
       "27480"
      ]
     },
     "execution_count": 18,
     "metadata": {},
     "output_type": "execute_result"
    }
   ],
   "source": [
    "len(tokens)"
   ]
  },
  {
   "cell_type": "code",
   "execution_count": 19,
   "metadata": {
    "ExecuteTime": {
     "end_time": "2020-04-18T10:48:15.782964Z",
     "start_time": "2020-04-18T10:48:15.764436Z"
    }
   },
   "outputs": [],
   "source": [
    "train['tokens'] = tokens"
   ]
  },
  {
   "cell_type": "code",
   "execution_count": 20,
   "metadata": {
    "ExecuteTime": {
     "end_time": "2020-04-18T10:48:15.819964Z",
     "start_time": "2020-04-18T10:48:15.784505Z"
    }
   },
   "outputs": [],
   "source": [
    "train['start'] = start\n",
    "train['end'] = end\n",
    "train['invert_map'] = invert_map\n",
    "train['first_token'] = first_token\n",
    "train['in_st'] = in_st"
   ]
  },
  {
   "cell_type": "code",
   "execution_count": 21,
   "metadata": {
    "ExecuteTime": {
     "end_time": "2020-04-18T10:48:15.828355Z",
     "start_time": "2020-04-18T10:48:15.820995Z"
    }
   },
   "outputs": [],
   "source": [
    "senti2label = {\n",
    "    'positive':2,\n",
    "    'negative':0,\n",
    "    'neutral':1\n",
    "}\n",
    "train['senti_label']=train['sentiment'].apply(lambda x: senti2label[x])"
   ]
  },
  {
   "cell_type": "code",
   "execution_count": 22,
   "metadata": {
    "ExecuteTime": {
     "end_time": "2020-04-18T10:48:15.834049Z",
     "start_time": "2020-04-18T10:48:15.832276Z"
    }
   },
   "outputs": [],
   "source": [
    "train.reset_index(drop=True, inplace=True)"
   ]
  },
  {
   "cell_type": "code",
   "execution_count": 23,
   "metadata": {
    "ExecuteTime": {
     "end_time": "2020-04-18T10:48:15.845581Z",
     "start_time": "2020-04-18T10:48:15.835146Z"
    }
   },
   "outputs": [
    {
     "data": {
      "text/html": [
       "<div>\n",
       "<style scoped>\n",
       "    .dataframe tbody tr th:only-of-type {\n",
       "        vertical-align: middle;\n",
       "    }\n",
       "\n",
       "    .dataframe tbody tr th {\n",
       "        vertical-align: top;\n",
       "    }\n",
       "\n",
       "    .dataframe thead th {\n",
       "        text-align: right;\n",
       "    }\n",
       "</style>\n",
       "<table border=\"1\" class=\"dataframe\">\n",
       "  <thead>\n",
       "    <tr style=\"text-align: right;\">\n",
       "      <th></th>\n",
       "      <th>textID</th>\n",
       "      <th>text</th>\n",
       "      <th>selected_text</th>\n",
       "      <th>sentiment</th>\n",
       "      <th>start_pos</th>\n",
       "      <th>end_pos</th>\n",
       "      <th>tokens</th>\n",
       "      <th>start</th>\n",
       "      <th>end</th>\n",
       "      <th>invert_map</th>\n",
       "      <th>first_token</th>\n",
       "      <th>in_st</th>\n",
       "      <th>senti_label</th>\n",
       "    </tr>\n",
       "  </thead>\n",
       "  <tbody>\n",
       "    <tr>\n",
       "      <th>0</th>\n",
       "      <td>cb774db0d1</td>\n",
       "      <td>I`d have responded, if I were going</td>\n",
       "      <td>I`d have responded, if I were going</td>\n",
       "      <td>neutral</td>\n",
       "      <td>0</td>\n",
       "      <td>35</td>\n",
       "      <td>[i, `, d, have, responded, ,, if, i, were, going]</td>\n",
       "      <td>0</td>\n",
       "      <td>9</td>\n",
       "      <td>[0, 0, 0, 1, 2, 2, 3, 4, 5, 6]</td>\n",
       "      <td>[True, False, False, True, True, False, True, ...</td>\n",
       "      <td>[1, 1, 1, 1, 1, 1, 1, 1, 1, 1]</td>\n",
       "      <td>1</td>\n",
       "    </tr>\n",
       "    <tr>\n",
       "      <th>1</th>\n",
       "      <td>549e992a42</td>\n",
       "      <td>Sooo SAD I will miss you here in San Diego!!!</td>\n",
       "      <td>Sooo SAD</td>\n",
       "      <td>negative</td>\n",
       "      <td>0</td>\n",
       "      <td>8</td>\n",
       "      <td>[soo, ##o, sad, i, will, miss, you, here, in, ...</td>\n",
       "      <td>0</td>\n",
       "      <td>2</td>\n",
       "      <td>[0, 0, 1, 2, 3, 4, 5, 6, 7, 8, 9, 9, 9, 9]</td>\n",
       "      <td>[True, False, True, True, True, True, True, Tr...</td>\n",
       "      <td>[1, 1, 1, -100, -100, -100, -100, -100, -100, ...</td>\n",
       "      <td>0</td>\n",
       "    </tr>\n",
       "    <tr>\n",
       "      <th>2</th>\n",
       "      <td>088c60f138</td>\n",
       "      <td>my boss is bullying me...</td>\n",
       "      <td>bullying me</td>\n",
       "      <td>negative</td>\n",
       "      <td>11</td>\n",
       "      <td>22</td>\n",
       "      <td>[my, boss, is, bullying, me, ., ., .]</td>\n",
       "      <td>3</td>\n",
       "      <td>4</td>\n",
       "      <td>[0, 1, 2, 3, 4, 4, 4, 4]</td>\n",
       "      <td>[True, True, True, True, True, False, False, F...</td>\n",
       "      <td>[-100, -100, -100, 1, 1, 0, 0, 0]</td>\n",
       "      <td>0</td>\n",
       "    </tr>\n",
       "    <tr>\n",
       "      <th>3</th>\n",
       "      <td>9642c003ef</td>\n",
       "      <td>what interview! leave me alone</td>\n",
       "      <td>leave me alone</td>\n",
       "      <td>negative</td>\n",
       "      <td>16</td>\n",
       "      <td>30</td>\n",
       "      <td>[what, interview, !, leave, me, alone]</td>\n",
       "      <td>3</td>\n",
       "      <td>5</td>\n",
       "      <td>[0, 1, 1, 2, 3, 4]</td>\n",
       "      <td>[True, True, False, True, True, True]</td>\n",
       "      <td>[-100, -100, -100, 1, 1, 1]</td>\n",
       "      <td>0</td>\n",
       "    </tr>\n",
       "    <tr>\n",
       "      <th>4</th>\n",
       "      <td>358bd9e861</td>\n",
       "      <td>Sons of ****, why couldn`t they put them on th...</td>\n",
       "      <td>Sons of ****,</td>\n",
       "      <td>negative</td>\n",
       "      <td>0</td>\n",
       "      <td>13</td>\n",
       "      <td>[sons, of, *, *, *, *, ,, why, couldn, `, t, t...</td>\n",
       "      <td>0</td>\n",
       "      <td>6</td>\n",
       "      <td>[0, 1, 2, 2, 2, 2, 2, 3, 4, 4, 4, 5, 6, 7, 8, ...</td>\n",
       "      <td>[True, True, True, False, False, False, False,...</td>\n",
       "      <td>[1, 1, 1, 1, 1, 1, 1, -100, -100, -100, -100, ...</td>\n",
       "      <td>0</td>\n",
       "    </tr>\n",
       "  </tbody>\n",
       "</table>\n",
       "</div>"
      ],
      "text/plain": [
       "       textID                                               text  \\\n",
       "0  cb774db0d1                I`d have responded, if I were going   \n",
       "1  549e992a42      Sooo SAD I will miss you here in San Diego!!!   \n",
       "2  088c60f138                          my boss is bullying me...   \n",
       "3  9642c003ef                     what interview! leave me alone   \n",
       "4  358bd9e861  Sons of ****, why couldn`t they put them on th...   \n",
       "\n",
       "                         selected_text sentiment  start_pos  end_pos  \\\n",
       "0  I`d have responded, if I were going   neutral          0       35   \n",
       "1                             Sooo SAD  negative          0        8   \n",
       "2                          bullying me  negative         11       22   \n",
       "3                       leave me alone  negative         16       30   \n",
       "4                        Sons of ****,  negative          0       13   \n",
       "\n",
       "                                              tokens  start  end  \\\n",
       "0  [i, `, d, have, responded, ,, if, i, were, going]      0    9   \n",
       "1  [soo, ##o, sad, i, will, miss, you, here, in, ...      0    2   \n",
       "2              [my, boss, is, bullying, me, ., ., .]      3    4   \n",
       "3             [what, interview, !, leave, me, alone]      3    5   \n",
       "4  [sons, of, *, *, *, *, ,, why, couldn, `, t, t...      0    6   \n",
       "\n",
       "                                          invert_map  \\\n",
       "0                     [0, 0, 0, 1, 2, 2, 3, 4, 5, 6]   \n",
       "1         [0, 0, 1, 2, 3, 4, 5, 6, 7, 8, 9, 9, 9, 9]   \n",
       "2                           [0, 1, 2, 3, 4, 4, 4, 4]   \n",
       "3                                 [0, 1, 1, 2, 3, 4]   \n",
       "4  [0, 1, 2, 2, 2, 2, 2, 3, 4, 4, 4, 5, 6, 7, 8, ...   \n",
       "\n",
       "                                         first_token  \\\n",
       "0  [True, False, False, True, True, False, True, ...   \n",
       "1  [True, False, True, True, True, True, True, Tr...   \n",
       "2  [True, True, True, True, True, False, False, F...   \n",
       "3              [True, True, False, True, True, True]   \n",
       "4  [True, True, True, False, False, False, False,...   \n",
       "\n",
       "                                               in_st  senti_label  \n",
       "0                     [1, 1, 1, 1, 1, 1, 1, 1, 1, 1]            1  \n",
       "1  [1, 1, 1, -100, -100, -100, -100, -100, -100, ...            0  \n",
       "2                  [-100, -100, -100, 1, 1, 0, 0, 0]            0  \n",
       "3                        [-100, -100, -100, 1, 1, 1]            0  \n",
       "4  [1, 1, 1, 1, 1, 1, 1, -100, -100, -100, -100, ...            0  "
      ]
     },
     "execution_count": 23,
     "metadata": {},
     "output_type": "execute_result"
    }
   ],
   "source": [
    "train.head()"
   ]
  },
  {
   "cell_type": "code",
   "execution_count": 24,
   "metadata": {
    "ExecuteTime": {
     "end_time": "2020-04-18T10:48:15.853875Z",
     "start_time": "2020-04-18T10:48:15.846470Z"
    }
   },
   "outputs": [],
   "source": [
    "from sklearn.model_selection import StratifiedKFold"
   ]
  },
  {
   "cell_type": "code",
   "execution_count": 25,
   "metadata": {},
   "outputs": [
    {
     "data": {
      "text/plain": [
       "(27480, 13)"
      ]
     },
     "execution_count": 25,
     "metadata": {},
     "output_type": "execute_result"
    }
   ],
   "source": [
    "train.shape"
   ]
  },
  {
   "cell_type": "code",
   "execution_count": 26,
   "metadata": {},
   "outputs": [],
   "source": [
    "roberta_localtest = pd.read_pickle('../input/localtest_roberta.pkl')"
   ]
  },
  {
   "cell_type": "code",
   "execution_count": 27,
   "metadata": {},
   "outputs": [],
   "source": [
    "local_test = train[train['textID'].isin(roberta_localtest['textID'].tolist())]"
   ]
  },
  {
   "cell_type": "code",
   "execution_count": 28,
   "metadata": {},
   "outputs": [],
   "source": [
    "local_train = train[~train['textID'].isin(roberta_localtest['textID'].tolist())]\n",
    "local_train.reset_index(drop=True, inplace=True)"
   ]
  },
  {
   "cell_type": "code",
   "execution_count": 29,
   "metadata": {
    "ExecuteTime": {
     "end_time": "2020-04-18T10:48:15.856300Z",
     "start_time": "2020-04-18T10:48:15.854777Z"
    }
   },
   "outputs": [],
   "source": [
    "kf = StratifiedKFold(n_splits=5)"
   ]
  },
  {
   "cell_type": "code",
   "execution_count": 30,
   "metadata": {
    "ExecuteTime": {
     "end_time": "2020-04-18T10:48:15.883851Z",
     "start_time": "2020-04-18T10:48:15.856937Z"
    }
   },
   "outputs": [
    {
     "name": "stderr",
     "output_type": "stream",
     "text": [
      "/home/yuanhao/anaconda3/lib/python3.7/site-packages/ipykernel_launcher.py:1: SettingWithCopyWarning: \n",
      "A value is trying to be set on a copy of a slice from a DataFrame.\n",
      "Try using .loc[row_indexer,col_indexer] = value instead\n",
      "\n",
      "See the caveats in the documentation: http://pandas.pydata.org/pandas-docs/stable/indexing.html#indexing-view-versus-copy\n",
      "  \"\"\"Entry point for launching an IPython kernel.\n",
      "/home/yuanhao/anaconda3/lib/python3.7/site-packages/pandas/core/indexing.py:543: SettingWithCopyWarning: \n",
      "A value is trying to be set on a copy of a slice from a DataFrame.\n",
      "Try using .loc[row_indexer,col_indexer] = value instead\n",
      "\n",
      "See the caveats in the documentation: http://pandas.pydata.org/pandas-docs/stable/indexing.html#indexing-view-versus-copy\n",
      "  self.obj[item] = s\n"
     ]
    }
   ],
   "source": [
    "local_train['fold'] = 0\n",
    "for fold, (train_idx, valid_idx) in enumerate(kf.split(local_train, local_train['senti_label'])):\n",
    "    local_train.loc[valid_idx, 'fold'] = fold"
   ]
  },
  {
   "cell_type": "code",
   "execution_count": 31,
   "metadata": {
    "ExecuteTime": {
     "end_time": "2020-04-18T10:48:15.888305Z",
     "start_time": "2020-04-18T10:48:15.884778Z"
    }
   },
   "outputs": [
    {
     "data": {
      "text/plain": [
       "0    4801\n",
       "3    4800\n",
       "2    4800\n",
       "1    4800\n",
       "4    4799\n",
       "Name: fold, dtype: int64"
      ]
     },
     "execution_count": 31,
     "metadata": {},
     "output_type": "execute_result"
    }
   ],
   "source": [
    "local_train['fold'].value_counts()"
   ]
  },
  {
   "cell_type": "code",
   "execution_count": 32,
   "metadata": {
    "ExecuteTime": {
     "end_time": "2020-04-18T10:48:15.974531Z",
     "start_time": "2020-04-18T10:48:15.889107Z"
    }
   },
   "outputs": [],
   "source": [
    "local_train.to_pickle('../input/train_bert.pkl')"
   ]
  },
  {
   "cell_type": "code",
   "execution_count": 33,
   "metadata": {},
   "outputs": [],
   "source": [
    "local_test.to_pickle('../input/localtest_bert.pkl')"
   ]
  },
  {
   "cell_type": "code",
   "execution_count": null,
   "metadata": {},
   "outputs": [],
   "source": []
  }
 ],
 "metadata": {
  "kernelspec": {
   "display_name": "Python 3",
   "language": "python",
   "name": "python3"
  },
  "language_info": {
   "codemirror_mode": {
    "name": "ipython",
    "version": 3
   },
   "file_extension": ".py",
   "mimetype": "text/x-python",
   "name": "python",
   "nbconvert_exporter": "python",
   "pygments_lexer": "ipython3",
   "version": "3.7.1"
  }
 },
 "nbformat": 4,
 "nbformat_minor": 2
}
