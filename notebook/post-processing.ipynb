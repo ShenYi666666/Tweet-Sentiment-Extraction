{
 "cells": [
  {
   "cell_type": "code",
   "execution_count": 2,
   "metadata": {
    "ExecuteTime": {
     "end_time": "2020-06-07T05:05:57.892113Z",
     "start_time": "2020-06-07T05:05:57.712079Z"
    }
   },
   "outputs": [],
   "source": [
    "import pandas as pd"
   ]
  },
  {
   "cell_type": "code",
   "execution_count": 11,
   "metadata": {
    "ExecuteTime": {
     "end_time": "2020-06-07T05:09:24.023606Z",
     "start_time": "2020-06-07T05:09:24.002689Z"
    }
   },
   "outputs": [],
   "source": [
    "train = pd.read_pickle('../input/tweet-sentiment-extraction/preds.pkl')"
   ]
  },
  {
   "cell_type": "code",
   "execution_count": 23,
   "metadata": {
    "ExecuteTime": {
     "end_time": "2020-06-07T05:11:22.820494Z",
     "start_time": "2020-06-07T05:11:22.813726Z"
    }
   },
   "outputs": [],
   "source": [
    "def get_pos(x, y):\n",
    "    return x.find(y)\n",
    "\n",
    "def jaccard_list(l1, l2):\n",
    "    a = set(l1)\n",
    "    b = set(l2)\n",
    "    c = a.intersection(b)\n",
    "    return float(len(c)) / (len(a) + len(b) - len(c))\n",
    "\n",
    "def get_jaccard(x, y):\n",
    "#     label = x['selected_text'].split()\n",
    "#     label2 = x['pred'].split()\n",
    "    return jaccard_list(x.split(), y.split())\n",
    "\n",
    "def broken_start(x, y):\n",
    "    \n",
    "    if y>0 and x[y-1].isalpha():\n",
    "        return True\n",
    "    return False\n",
    "\n",
    "def broken_end(x, y):\n",
    "    if y<len(x) and x[y]!=' ':\n",
    "        return True\n",
    "    return False"
   ]
  },
  {
   "cell_type": "code",
   "execution_count": 24,
   "metadata": {
    "ExecuteTime": {
     "end_time": "2020-06-07T05:11:34.750075Z",
     "start_time": "2020-06-07T05:11:34.333692Z"
    }
   },
   "outputs": [],
   "source": [
    "train['jaccard'] = train.apply(lambda x: get_jaccard(x['selected_text'], x['pred']), axis=1)"
   ]
  },
  {
   "cell_type": "code",
   "execution_count": 64,
   "metadata": {
    "ExecuteTime": {
     "end_time": "2020-06-07T05:40:07.758455Z",
     "start_time": "2020-06-07T05:40:07.747920Z"
    }
   },
   "outputs": [
    {
     "data": {
      "text/html": [
       "<div>\n",
       "<style scoped>\n",
       "    .dataframe tbody tr th:only-of-type {\n",
       "        vertical-align: middle;\n",
       "    }\n",
       "\n",
       "    .dataframe tbody tr th {\n",
       "        vertical-align: top;\n",
       "    }\n",
       "\n",
       "    .dataframe thead th {\n",
       "        text-align: right;\n",
       "    }\n",
       "</style>\n",
       "<table border=\"1\" class=\"dataframe\">\n",
       "  <thead>\n",
       "    <tr style=\"text-align: right;\">\n",
       "      <th></th>\n",
       "      <th>text</th>\n",
       "      <th>sentiment</th>\n",
       "      <th>selected_text</th>\n",
       "      <th>pred</th>\n",
       "      <th>new_st</th>\n",
       "    </tr>\n",
       "  </thead>\n",
       "  <tbody>\n",
       "    <tr>\n",
       "      <th>17972</th>\n",
       "      <td>Can`t beat all time low.. (: I soooooo want to...</td>\n",
       "      <td>negative</td>\n",
       "      <td>Can`t beat</td>\n",
       "      <td>Can`t beat all time low.. (: I soooooo want to...</td>\n",
       "      <td>Can`t beat</td>\n",
       "    </tr>\n",
       "    <tr>\n",
       "      <th>5427</th>\n",
       "      <td>(blinks fast) its better now ... Lol thanks :-*</td>\n",
       "      <td>positive</td>\n",
       "      <td>thanks</td>\n",
       "      <td>its better now ... Lol thanks</td>\n",
       "      <td>thanks</td>\n",
       "    </tr>\n",
       "    <tr>\n",
       "      <th>2205</th>\n",
       "      <td>Hey Honey  Bunny here  big bunny hugs</td>\n",
       "      <td>positive</td>\n",
       "      <td>unny</td>\n",
       "      <td>big bunny hugs</td>\n",
       "      <td>her</td>\n",
       "    </tr>\n",
       "    <tr>\n",
       "      <th>18546</th>\n",
       "      <td>morning darlin`  Hope you`re feelin` tip-top  ...</td>\n",
       "      <td>positive</td>\n",
       "      <td>morning darlin`  Hope you`re feelin` tip-top</td>\n",
       "      <td>Hope</td>\n",
       "      <td>morning darlin` Hope you`re feelin` tip-top</td>\n",
       "    </tr>\n",
       "    <tr>\n",
       "      <th>25826</th>\n",
       "      <td>Go Canada they made Nikkie Payne #1 comic well...</td>\n",
       "      <td>positive</td>\n",
       "      <td>Go Canada they made Nikkie Payne #1 comic well...</td>\n",
       "      <td>funny</td>\n",
       "      <td>Go Canada they made Nikkie Payne #1 comic well...</td>\n",
       "    </tr>\n",
       "  </tbody>\n",
       "</table>\n",
       "</div>"
      ],
      "text/plain": [
       "                                                    text sentiment  \\\n",
       "17972  Can`t beat all time low.. (: I soooooo want to...  negative   \n",
       "5427     (blinks fast) its better now ... Lol thanks :-*  positive   \n",
       "2205               Hey Honey  Bunny here  big bunny hugs  positive   \n",
       "18546  morning darlin`  Hope you`re feelin` tip-top  ...  positive   \n",
       "25826  Go Canada they made Nikkie Payne #1 comic well...  positive   \n",
       "\n",
       "                                           selected_text  \\\n",
       "17972                                         Can`t beat   \n",
       "5427                                              thanks   \n",
       "2205                                                unny   \n",
       "18546       morning darlin`  Hope you`re feelin` tip-top   \n",
       "25826  Go Canada they made Nikkie Payne #1 comic well...   \n",
       "\n",
       "                                                    pred  \\\n",
       "17972  Can`t beat all time low.. (: I soooooo want to...   \n",
       "5427                       its better now ... Lol thanks   \n",
       "2205                                      big bunny hugs   \n",
       "18546                                               Hope   \n",
       "25826                                              funny   \n",
       "\n",
       "                                                  new_st  \n",
       "17972                                         Can`t beat  \n",
       "5427                                              thanks  \n",
       "2205                                                 her  \n",
       "18546        morning darlin` Hope you`re feelin` tip-top  \n",
       "25826  Go Canada they made Nikkie Payne #1 comic well...  "
      ]
     },
     "execution_count": 64,
     "metadata": {},
     "output_type": "execute_result"
    }
   ],
   "source": [
    "train[train['jaccard']<0.2][['text','sentiment','selected_text','pred','new_st']].sample(n=5)"
   ]
  },
  {
   "cell_type": "code",
   "execution_count": 17,
   "metadata": {
    "ExecuteTime": {
     "end_time": "2020-06-07T05:09:48.081291Z",
     "start_time": "2020-06-07T05:09:47.370653Z"
    }
   },
   "outputs": [],
   "source": [
    "train['clean_text'] = train['text'].apply(lambda x: ' '.join(x.strip().split()))\n",
    "train['clean_st'] = train['selected_text'].apply(lambda x: ' '.join(x.strip().split()))\n",
    "train['start_pos_origin'] = train.apply(lambda x: get_pos(x['text'], x['selected_text']), axis=1)\n",
    "train['end_pos_origin'] = train['start_pos_origin']+train['selected_text'].str.len()\n",
    "train['start_pos_clean'] = train.apply(lambda x: get_pos(x['clean_text'], x['clean_st']), axis=1)\n",
    "train['end_pos_clean'] = train['start_pos_clean']+train['clean_st'].str.len()"
   ]
  },
  {
   "cell_type": "code",
   "execution_count": 20,
   "metadata": {
    "ExecuteTime": {
     "end_time": "2020-06-07T05:10:16.314969Z",
     "start_time": "2020-06-07T05:10:15.652143Z"
    }
   },
   "outputs": [],
   "source": [
    "train['broken_start'] = train.apply(lambda x: broken_start(x['clean_text'], x['start_pos_clean']), axis=1)\n",
    "train['broken_end'] = train.apply(lambda x: broken_end(x['clean_text'], x['end_pos_clean']), axis=1)"
   ]
  },
  {
   "cell_type": "code",
   "execution_count": 21,
   "metadata": {
    "ExecuteTime": {
     "end_time": "2020-06-07T05:10:35.770721Z",
     "start_time": "2020-06-07T05:10:35.764430Z"
    }
   },
   "outputs": [],
   "source": [
    "def get_clean_label(x):\n",
    "    if x['start_pos_clean']==0 or not x['broken_start']:\n",
    "        return x['clean_st']\n",
    "    clean_text = x['clean_text']\n",
    "    start = x['start_pos_origin']\n",
    "    length = len(' '.join(x['selected_text'].split()))\n",
    "    new_st = clean_text[start:start+length]\n",
    "    # delete last char \n",
    "    new_st_words = new_st.split()\n",
    "    if len(new_st_words)>1 and len(new_st_words[-1])==1 and start+length<len(clean_text) and clean_text[start+length].isalpha():\n",
    "#         print(x['clean_st'])\n",
    "#         print(new_st)\n",
    "        new_st = ' '.join(new_st_words[:-1])\n",
    "#         print(new_st)\n",
    "#         print('-'*20)\n",
    "    return new_st"
   ]
  },
  {
   "cell_type": "code",
   "execution_count": 22,
   "metadata": {
    "ExecuteTime": {
     "end_time": "2020-06-07T05:10:43.685843Z",
     "start_time": "2020-06-07T05:10:43.303469Z"
    }
   },
   "outputs": [],
   "source": [
    "train['new_st'] = train.apply(lambda x: get_clean_label(x), axis=1)"
   ]
  },
  {
   "cell_type": "code",
   "execution_count": 25,
   "metadata": {
    "ExecuteTime": {
     "end_time": "2020-06-07T05:11:44.840462Z",
     "start_time": "2020-06-07T05:11:44.435808Z"
    }
   },
   "outputs": [],
   "source": [
    "train['jaccard2'] = train.apply(lambda x: get_jaccard(x['new_st'], x['pred']), axis=1)"
   ]
  },
  {
   "cell_type": "code",
   "execution_count": 27,
   "metadata": {
    "ExecuteTime": {
     "end_time": "2020-06-07T05:11:51.552276Z",
     "start_time": "2020-06-07T05:11:51.546592Z"
    }
   },
   "outputs": [
    {
     "data": {
      "text/plain": [
       "0.714660893295629"
      ]
     },
     "execution_count": 27,
     "metadata": {},
     "output_type": "execute_result"
    }
   ],
   "source": [
    "train['jaccard'].mean()"
   ]
  },
  {
   "cell_type": "code",
   "execution_count": 28,
   "metadata": {
    "ExecuteTime": {
     "end_time": "2020-06-07T05:11:56.032336Z",
     "start_time": "2020-06-07T05:11:56.022374Z"
    }
   },
   "outputs": [
    {
     "data": {
      "text/plain": [
       "0.723684122394082"
      ]
     },
     "execution_count": 28,
     "metadata": {},
     "output_type": "execute_result"
    }
   ],
   "source": [
    "train['jaccard2'].mean()"
   ]
  },
  {
   "cell_type": "code",
   "execution_count": 49,
   "metadata": {
    "ExecuteTime": {
     "end_time": "2020-06-07T05:21:02.466412Z",
     "start_time": "2020-06-07T05:21:02.460679Z"
    }
   },
   "outputs": [],
   "source": [
    "def post_processing(x):\n",
    "    start = x['clean_text'].find(x['pred'])\n",
    "    length = len(x['pred'])\n",
    "    if len(x['pred'])/len(x['clean_text'])>0.9:\n",
    "        return x['pred']\n",
    "    shift = max(0, len(x['text'])-len(x['clean_text'])-1)\n",
    "    return x['clean_text'][start-shift:start+length-shift]"
   ]
  },
  {
   "cell_type": "code",
   "execution_count": 50,
   "metadata": {
    "ExecuteTime": {
     "end_time": "2020-06-07T05:21:04.234332Z",
     "start_time": "2020-06-07T05:21:03.334261Z"
    }
   },
   "outputs": [],
   "source": [
    "train['pred2'] = train.apply(lambda x: post_processing(x), axis=1)"
   ]
  },
  {
   "cell_type": "code",
   "execution_count": 51,
   "metadata": {
    "ExecuteTime": {
     "end_time": "2020-06-07T05:21:04.241539Z",
     "start_time": "2020-06-07T05:21:04.235505Z"
    }
   },
   "outputs": [
    {
     "data": {
      "text/html": [
       "<div>\n",
       "<style scoped>\n",
       "    .dataframe tbody tr th:only-of-type {\n",
       "        vertical-align: middle;\n",
       "    }\n",
       "\n",
       "    .dataframe tbody tr th {\n",
       "        vertical-align: top;\n",
       "    }\n",
       "\n",
       "    .dataframe thead th {\n",
       "        text-align: right;\n",
       "    }\n",
       "</style>\n",
       "<table border=\"1\" class=\"dataframe\">\n",
       "  <thead>\n",
       "    <tr style=\"text-align: right;\">\n",
       "      <th></th>\n",
       "      <th>text</th>\n",
       "      <th>pred</th>\n",
       "      <th>pred2</th>\n",
       "    </tr>\n",
       "  </thead>\n",
       "  <tbody>\n",
       "    <tr>\n",
       "      <th>0</th>\n",
       "      <td>i`m so bored i can barely even tweet. i have n...</td>\n",
       "      <td>bored</td>\n",
       "      <td>bored</td>\n",
       "    </tr>\n",
       "    <tr>\n",
       "      <th>1</th>\n",
       "      <td>awwwwwwwwww  thats jus...awwwww.did she get t...</td>\n",
       "      <td>awwwwwwwwww thats jus...awwwww.did she get to ...</td>\n",
       "      <td>awwwwwwwwww thats jus...awwwww.did she get to ...</td>\n",
       "    </tr>\n",
       "    <tr>\n",
       "      <th>2</th>\n",
       "      <td>I did not twitt yesterday cause it was a very ...</td>\n",
       "      <td>I can not sleep</td>\n",
       "      <td>I can not slee</td>\n",
       "    </tr>\n",
       "    <tr>\n",
       "      <th>3</th>\n",
       "      <td>Congratulation`s to phil packer on completing ...</td>\n",
       "      <td>Congratulation`s</td>\n",
       "      <td>Congratulation`s</td>\n",
       "    </tr>\n",
       "    <tr>\n",
       "      <th>4</th>\n",
       "      <td>O`Charleys? Pretty good. Especially when its f...</td>\n",
       "      <td>Pretty good.</td>\n",
       "      <td>Pretty good.</td>\n",
       "    </tr>\n",
       "  </tbody>\n",
       "</table>\n",
       "</div>"
      ],
      "text/plain": [
       "                                                text  \\\n",
       "0  i`m so bored i can barely even tweet. i have n...   \n",
       "1   awwwwwwwwww  thats jus...awwwww.did she get t...   \n",
       "2  I did not twitt yesterday cause it was a very ...   \n",
       "3  Congratulation`s to phil packer on completing ...   \n",
       "4  O`Charleys? Pretty good. Especially when its f...   \n",
       "\n",
       "                                                pred  \\\n",
       "0                                              bored   \n",
       "1  awwwwwwwwww thats jus...awwwww.did she get to ...   \n",
       "2                                    I can not sleep   \n",
       "3                                   Congratulation`s   \n",
       "4                                       Pretty good.   \n",
       "\n",
       "                                               pred2  \n",
       "0                                              bored  \n",
       "1  awwwwwwwwww thats jus...awwwww.did she get to ...  \n",
       "2                                     I can not slee  \n",
       "3                                   Congratulation`s  \n",
       "4                                       Pretty good.  "
      ]
     },
     "execution_count": 51,
     "metadata": {},
     "output_type": "execute_result"
    }
   ],
   "source": [
    "train[['text','pred','pred2']].head()"
   ]
  },
  {
   "cell_type": "code",
   "execution_count": 52,
   "metadata": {
    "ExecuteTime": {
     "end_time": "2020-06-07T05:21:04.665231Z",
     "start_time": "2020-06-07T05:21:04.242606Z"
    }
   },
   "outputs": [],
   "source": [
    "train['jaccard3'] = train.apply(lambda x: get_jaccard(x['selected_text'], x['pred2']), axis=1)"
   ]
  },
  {
   "cell_type": "code",
   "execution_count": 53,
   "metadata": {
    "ExecuteTime": {
     "end_time": "2020-06-07T05:21:04.814626Z",
     "start_time": "2020-06-07T05:21:04.804147Z"
    }
   },
   "outputs": [
    {
     "data": {
      "text/plain": [
       "0.6752573494814437"
      ]
     },
     "execution_count": 53,
     "metadata": {},
     "output_type": "execute_result"
    }
   ],
   "source": [
    "train['jaccard3'].mean()"
   ]
  },
  {
   "cell_type": "code",
   "execution_count": null,
   "metadata": {},
   "outputs": [],
   "source": []
  }
 ],
 "metadata": {
  "kernelspec": {
   "display_name": "Python 3",
   "language": "python",
   "name": "python3"
  },
  "language_info": {
   "codemirror_mode": {
    "name": "ipython",
    "version": 3
   },
   "file_extension": ".py",
   "mimetype": "text/x-python",
   "name": "python",
   "nbconvert_exporter": "python",
   "pygments_lexer": "ipython3",
   "version": "3.7.1"
  }
 },
 "nbformat": 4,
 "nbformat_minor": 2
}
