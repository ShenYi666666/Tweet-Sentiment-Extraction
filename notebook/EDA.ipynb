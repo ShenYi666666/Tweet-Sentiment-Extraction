{
 "cells": [
  {
   "cell_type": "code",
   "execution_count": 16,
   "metadata": {
    "ExecuteTime": {
     "end_time": "2020-03-28T07:53:23.384338Z",
     "start_time": "2020-03-28T07:53:23.382583Z"
    }
   },
   "outputs": [],
   "source": [
    "import pandas as pd\n",
    "from transformers import BertTokenizer"
   ]
  },
  {
   "cell_type": "code",
   "execution_count": 2,
   "metadata": {
    "ExecuteTime": {
     "end_time": "2020-03-28T07:44:04.804716Z",
     "start_time": "2020-03-28T07:44:04.763958Z"
    }
   },
   "outputs": [],
   "source": [
    "train = pd.read_csv('../data/tweet-sentiment-extraction/train.csv')"
   ]
  },
  {
   "cell_type": "code",
   "execution_count": 18,
   "metadata": {
    "ExecuteTime": {
     "end_time": "2020-03-28T07:54:04.183992Z",
     "start_time": "2020-03-28T07:54:04.092659Z"
    }
   },
   "outputs": [],
   "source": [
    "tokenizer = BertTokenizer.from_pretrained('../../bert_models/large_uncased_wwm/vocab.txt')"
   ]
  },
  {
   "cell_type": "code",
   "execution_count": 3,
   "metadata": {
    "ExecuteTime": {
     "end_time": "2020-03-28T07:44:07.495402Z",
     "start_time": "2020-03-28T07:44:07.486865Z"
    }
   },
   "outputs": [
    {
     "data": {
      "text/plain": [
       "(27486, 4)"
      ]
     },
     "execution_count": 3,
     "metadata": {},
     "output_type": "execute_result"
    }
   ],
   "source": [
    "train.shape"
   ]
  },
  {
   "cell_type": "code",
   "execution_count": 9,
   "metadata": {
    "ExecuteTime": {
     "end_time": "2020-03-28T07:46:21.198696Z",
     "start_time": "2020-03-28T07:46:21.190792Z"
    }
   },
   "outputs": [],
   "source": [
    "train.dropna(subset=['text','selected_text'], how='any', inplace=True)"
   ]
  },
  {
   "cell_type": "code",
   "execution_count": 10,
   "metadata": {
    "ExecuteTime": {
     "end_time": "2020-03-28T07:46:24.967814Z",
     "start_time": "2020-03-28T07:46:24.965198Z"
    }
   },
   "outputs": [
    {
     "data": {
      "text/plain": [
       "(27485, 4)"
      ]
     },
     "execution_count": 10,
     "metadata": {},
     "output_type": "execute_result"
    }
   ],
   "source": [
    "train.shape"
   ]
  },
  {
   "cell_type": "code",
   "execution_count": 60,
   "metadata": {
    "ExecuteTime": {
     "end_time": "2020-03-28T08:18:25.718505Z",
     "start_time": "2020-03-28T08:18:25.708621Z"
    }
   },
   "outputs": [
    {
     "data": {
      "text/html": [
       "<div>\n",
       "<style scoped>\n",
       "    .dataframe tbody tr th:only-of-type {\n",
       "        vertical-align: middle;\n",
       "    }\n",
       "\n",
       "    .dataframe tbody tr th {\n",
       "        vertical-align: top;\n",
       "    }\n",
       "\n",
       "    .dataframe thead th {\n",
       "        text-align: right;\n",
       "    }\n",
       "</style>\n",
       "<table border=\"1\" class=\"dataframe\">\n",
       "  <thead>\n",
       "    <tr style=\"text-align: right;\">\n",
       "      <th></th>\n",
       "      <th>textID</th>\n",
       "      <th>text</th>\n",
       "      <th>selected_text</th>\n",
       "      <th>sentiment</th>\n",
       "      <th>start_pos</th>\n",
       "      <th>end_pos</th>\n",
       "      <th>tokens</th>\n",
       "      <th>start</th>\n",
       "      <th>end</th>\n",
       "      <th>invert_map</th>\n",
       "    </tr>\n",
       "  </thead>\n",
       "  <tbody>\n",
       "    <tr>\n",
       "      <th>0</th>\n",
       "      <td>a3d0a7d5ad</td>\n",
       "      <td>Spent the entire morning in a meeting w/ a ven...</td>\n",
       "      <td>my boss was not happy w/ them. Lots of fun.</td>\n",
       "      <td>neutral</td>\n",
       "      <td>55</td>\n",
       "      <td>98</td>\n",
       "      <td>[spent, the, entire, morning, in, a, meeting, ...</td>\n",
       "      <td>13</td>\n",
       "      <td>25</td>\n",
       "      <td>[0, 1, 2, 3, 4, 5, 6, 7, 7, 8, 9, 9, 10, 11, 1...</td>\n",
       "    </tr>\n",
       "    <tr>\n",
       "      <th>1</th>\n",
       "      <td>251b6a6766</td>\n",
       "      <td>Oh! Good idea about putting them on ice cream</td>\n",
       "      <td>Good</td>\n",
       "      <td>positive</td>\n",
       "      <td>4</td>\n",
       "      <td>8</td>\n",
       "      <td>[oh, !, good, idea, about, putting, them, on, ...</td>\n",
       "      <td>2</td>\n",
       "      <td>2</td>\n",
       "      <td>[0, 0, 1, 2, 3, 4, 5, 6, 7, 8]</td>\n",
       "    </tr>\n",
       "    <tr>\n",
       "      <th>2</th>\n",
       "      <td>c9e8d1ef1c</td>\n",
       "      <td>says good (or should i say bad?) afternoon!  h...</td>\n",
       "      <td>says good (or should i say bad?) afternoon!</td>\n",
       "      <td>neutral</td>\n",
       "      <td>0</td>\n",
       "      <td>43</td>\n",
       "      <td>[says, good, (, or, should, i, say, bad, ?, ),...</td>\n",
       "      <td>0</td>\n",
       "      <td>11</td>\n",
       "      <td>[0, 1, 2, 2, 3, 4, 5, 6, 6, 6, 7, 7, 8, 8, 8, ...</td>\n",
       "    </tr>\n",
       "    <tr>\n",
       "      <th>3</th>\n",
       "      <td>f14f087215</td>\n",
       "      <td>i dont think you can vote anymore! i tried</td>\n",
       "      <td>i dont think you can vote anymore!</td>\n",
       "      <td>negative</td>\n",
       "      <td>0</td>\n",
       "      <td>34</td>\n",
       "      <td>[i, don, ##t, think, you, can, vote, anymore, ...</td>\n",
       "      <td>0</td>\n",
       "      <td>8</td>\n",
       "      <td>[0, 1, 1, 2, 3, 4, 5, 6, 6, 7, 8]</td>\n",
       "    </tr>\n",
       "    <tr>\n",
       "      <th>4</th>\n",
       "      <td>bf7473b12d</td>\n",
       "      <td>haha better drunken tweeting you mean?</td>\n",
       "      <td>better</td>\n",
       "      <td>positive</td>\n",
       "      <td>5</td>\n",
       "      <td>11</td>\n",
       "      <td>[ha, ##ha, better, drunken, t, ##wee, ##ting, ...</td>\n",
       "      <td>2</td>\n",
       "      <td>2</td>\n",
       "      <td>[0, 0, 1, 2, 3, 3, 3, 4, 5, 5]</td>\n",
       "    </tr>\n",
       "  </tbody>\n",
       "</table>\n",
       "</div>"
      ],
      "text/plain": [
       "       textID                                               text  \\\n",
       "0  a3d0a7d5ad  Spent the entire morning in a meeting w/ a ven...   \n",
       "1  251b6a6766      Oh! Good idea about putting them on ice cream   \n",
       "2  c9e8d1ef1c  says good (or should i say bad?) afternoon!  h...   \n",
       "3  f14f087215         i dont think you can vote anymore! i tried   \n",
       "4  bf7473b12d             haha better drunken tweeting you mean?   \n",
       "\n",
       "                                 selected_text sentiment  start_pos  end_pos  \\\n",
       "0  my boss was not happy w/ them. Lots of fun.   neutral         55       98   \n",
       "1                                         Good  positive          4        8   \n",
       "2  says good (or should i say bad?) afternoon!   neutral          0       43   \n",
       "3           i dont think you can vote anymore!  negative          0       34   \n",
       "4                                       better  positive          5       11   \n",
       "\n",
       "                                              tokens  start  end  \\\n",
       "0  [spent, the, entire, morning, in, a, meeting, ...     13   25   \n",
       "1  [oh, !, good, idea, about, putting, them, on, ...      2    2   \n",
       "2  [says, good, (, or, should, i, say, bad, ?, ),...      0   11   \n",
       "3  [i, don, ##t, think, you, can, vote, anymore, ...      0    8   \n",
       "4  [ha, ##ha, better, drunken, t, ##wee, ##ting, ...      2    2   \n",
       "\n",
       "                                          invert_map  \n",
       "0  [0, 1, 2, 3, 4, 5, 6, 7, 7, 8, 9, 9, 10, 11, 1...  \n",
       "1                     [0, 0, 1, 2, 3, 4, 5, 6, 7, 8]  \n",
       "2  [0, 1, 2, 2, 3, 4, 5, 6, 6, 6, 7, 7, 8, 8, 8, ...  \n",
       "3                  [0, 1, 1, 2, 3, 4, 5, 6, 6, 7, 8]  \n",
       "4                     [0, 0, 1, 2, 3, 3, 3, 4, 5, 5]  "
      ]
     },
     "execution_count": 60,
     "metadata": {},
     "output_type": "execute_result"
    }
   ],
   "source": [
    "train.head()"
   ]
  },
  {
   "cell_type": "code",
   "execution_count": 47,
   "metadata": {
    "ExecuteTime": {
     "end_time": "2020-03-28T08:13:47.288871Z",
     "start_time": "2020-03-28T08:13:47.279955Z"
    }
   },
   "outputs": [],
   "source": [
    "train['text'] = train['text'].apply(lambda x: x.strip())"
   ]
  },
  {
   "cell_type": "code",
   "execution_count": 48,
   "metadata": {
    "ExecuteTime": {
     "end_time": "2020-03-28T08:13:49.550372Z",
     "start_time": "2020-03-28T08:13:48.910626Z"
    }
   },
   "outputs": [],
   "source": [
    "train['start_pos'] = train.apply(lambda x: x['text'].find(x['selected_text']), axis=1)\n",
    "train['end_pos'] = train.apply(lambda x: x['start_pos']+len(x['selected_text']), axis=1)"
   ]
  },
  {
   "cell_type": "code",
   "execution_count": 49,
   "metadata": {
    "ExecuteTime": {
     "end_time": "2020-03-28T08:13:50.969775Z",
     "start_time": "2020-03-28T08:13:50.964795Z"
    }
   },
   "outputs": [
    {
     "data": {
      "text/plain": [
       "count    27485.000000\n",
       "mean        15.604839\n",
       "std         26.179125\n",
       "min          0.000000\n",
       "25%          0.000000\n",
       "50%          0.000000\n",
       "75%         23.000000\n",
       "max        134.000000\n",
       "Name: start_pos, dtype: float64"
      ]
     },
     "execution_count": 49,
     "metadata": {},
     "output_type": "execute_result"
    }
   ],
   "source": [
    "train['start_pos'].describe()"
   ]
  },
  {
   "cell_type": "code",
   "execution_count": 1,
   "metadata": {
    "ExecuteTime": {
     "end_time": "2020-04-11T12:50:05.629683Z",
     "start_time": "2020-04-11T12:50:05.599433Z"
    }
   },
   "outputs": [
    {
     "ename": "NameError",
     "evalue": "name 'train' is not defined",
     "output_type": "error",
     "traceback": [
      "\u001b[0;31m---------------------------------------------------------------------------\u001b[0m",
      "\u001b[0;31mNameError\u001b[0m                                 Traceback (most recent call last)",
      "\u001b[0;32m<ipython-input-1-aab76b218e33>\u001b[0m in \u001b[0;36m<module>\u001b[0;34m\u001b[0m\n\u001b[1;32m      1\u001b[0m \u001b[0mdata\u001b[0m \u001b[0;34m=\u001b[0m \u001b[0;34m[\u001b[0m\u001b[0;34m]\u001b[0m\u001b[0;34m\u001b[0m\u001b[0;34m\u001b[0m\u001b[0m\n\u001b[0;32m----> 2\u001b[0;31m \u001b[0;32mfor\u001b[0m \u001b[0mtext\u001b[0m\u001b[0;34m,\u001b[0m \u001b[0msp\u001b[0m\u001b[0;34m,\u001b[0m \u001b[0mep\u001b[0m \u001b[0;32min\u001b[0m \u001b[0mzip\u001b[0m\u001b[0;34m(\u001b[0m\u001b[0mtrain\u001b[0m\u001b[0;34m[\u001b[0m\u001b[0;34m'text'\u001b[0m\u001b[0;34m]\u001b[0m\u001b[0;34m.\u001b[0m\u001b[0mtolist\u001b[0m\u001b[0;34m(\u001b[0m\u001b[0;34m)\u001b[0m\u001b[0;34m,\u001b[0m \u001b[0mtrain\u001b[0m\u001b[0;34m[\u001b[0m\u001b[0;34m'start_pos'\u001b[0m\u001b[0;34m]\u001b[0m\u001b[0;34m.\u001b[0m\u001b[0mtolist\u001b[0m\u001b[0;34m(\u001b[0m\u001b[0;34m)\u001b[0m\u001b[0;34m,\u001b[0m \u001b[0mtrain\u001b[0m\u001b[0;34m[\u001b[0m\u001b[0;34m'end_pos'\u001b[0m\u001b[0;34m]\u001b[0m\u001b[0;34m.\u001b[0m\u001b[0mtolist\u001b[0m\u001b[0;34m(\u001b[0m\u001b[0;34m)\u001b[0m\u001b[0;34m)\u001b[0m\u001b[0;34m:\u001b[0m\u001b[0;34m\u001b[0m\u001b[0;34m\u001b[0m\u001b[0m\n\u001b[0m\u001b[1;32m      3\u001b[0m     \u001b[0msplit_text\u001b[0m \u001b[0;34m=\u001b[0m \u001b[0mtext\u001b[0m\u001b[0;34m.\u001b[0m\u001b[0msplit\u001b[0m\u001b[0;34m(\u001b[0m\u001b[0;34m)\u001b[0m\u001b[0;34m\u001b[0m\u001b[0;34m\u001b[0m\u001b[0m\n\u001b[1;32m      4\u001b[0m     \u001b[0mtokens\u001b[0m\u001b[0;34m,\u001b[0m \u001b[0mlabels\u001b[0m\u001b[0;34m,\u001b[0m \u001b[0minvert_map\u001b[0m \u001b[0;34m=\u001b[0m \u001b[0;34m[\u001b[0m\u001b[0;34m]\u001b[0m\u001b[0;34m,\u001b[0m \u001b[0;34m[\u001b[0m\u001b[0;34m]\u001b[0m\u001b[0;34m,\u001b[0m \u001b[0;34m[\u001b[0m\u001b[0;34m]\u001b[0m\u001b[0;34m\u001b[0m\u001b[0;34m\u001b[0m\u001b[0m\n\u001b[1;32m      5\u001b[0m     \u001b[0mcur_length\u001b[0m \u001b[0;34m=\u001b[0m \u001b[0;36m0\u001b[0m\u001b[0;34m\u001b[0m\u001b[0;34m\u001b[0m\u001b[0m\n",
      "\u001b[0;31mNameError\u001b[0m: name 'train' is not defined"
     ]
    }
   ],
   "source": [
    "data = []\n",
    "for text, sp, ep in zip(train['text'].tolist(), train['start_pos'].tolist(), train['end_pos'].tolist()):\n",
    "    split_text = text.split()\n",
    "    tokens, labels, invert_map = [], [], []\n",
    "    cur_length = 0\n",
    "    for idx, w in enumerate(split_text):\n",
    "        if cur_length+idx+len(w)>=sp and cur_length+idx<ep:\n",
    "            started = True# space\n",
    "        else:\n",
    "            started = False\n",
    "        for token in tokenizer.tokenize(w):\n",
    "            tokens.append(token)\n",
    "            invert_map.append(idx)\n",
    "            if started:\n",
    "                labels.append(len(tokens)-1)\n",
    "        cur_length+=len(w)\n",
    "    data.append((tokens, min(labels), max(labels), invert_map, tokens[min(labels)],tokens[max(labels)]))\n",
    "#     if len(data)>5:\n",
    "#         break"
   ]
  },
  {
   "cell_type": "code",
   "execution_count": 55,
   "metadata": {
    "ExecuteTime": {
     "end_time": "2020-03-28T08:17:20.714643Z",
     "start_time": "2020-03-28T08:17:20.706311Z"
    }
   },
   "outputs": [
    {
     "data": {
      "text/plain": [
       "'fun.'"
      ]
     },
     "execution_count": 55,
     "metadata": {},
     "output_type": "execute_result"
    }
   ],
   "source": [
    "train.loc[0, 'text'].split()[data[0][3][25]]"
   ]
  },
  {
   "cell_type": "code",
   "execution_count": 53,
   "metadata": {
    "ExecuteTime": {
     "end_time": "2020-03-28T08:16:01.738684Z",
     "start_time": "2020-03-28T08:16:01.734634Z"
    }
   },
   "outputs": [
    {
     "data": {
      "text/plain": [
       "[(['spent',\n",
       "   'the',\n",
       "   'entire',\n",
       "   'morning',\n",
       "   'in',\n",
       "   'a',\n",
       "   'meeting',\n",
       "   'w',\n",
       "   '/',\n",
       "   'a',\n",
       "   'vendor',\n",
       "   ',',\n",
       "   'and',\n",
       "   'my',\n",
       "   'boss',\n",
       "   'was',\n",
       "   'not',\n",
       "   'happy',\n",
       "   'w',\n",
       "   '/',\n",
       "   'them',\n",
       "   '.',\n",
       "   'lots',\n",
       "   'of',\n",
       "   'fun',\n",
       "   '.',\n",
       "   'i',\n",
       "   'had',\n",
       "   'other',\n",
       "   'plans',\n",
       "   'for',\n",
       "   'my',\n",
       "   'morning'],\n",
       "  13,\n",
       "  25,\n",
       "  [0,\n",
       "   1,\n",
       "   2,\n",
       "   3,\n",
       "   4,\n",
       "   5,\n",
       "   6,\n",
       "   7,\n",
       "   7,\n",
       "   8,\n",
       "   9,\n",
       "   9,\n",
       "   10,\n",
       "   11,\n",
       "   12,\n",
       "   13,\n",
       "   14,\n",
       "   15,\n",
       "   16,\n",
       "   16,\n",
       "   17,\n",
       "   17,\n",
       "   18,\n",
       "   19,\n",
       "   20,\n",
       "   20,\n",
       "   21,\n",
       "   22,\n",
       "   23,\n",
       "   24,\n",
       "   25,\n",
       "   26,\n",
       "   27],\n",
       "  'my',\n",
       "  '.'),\n",
       " (['oh',\n",
       "   '!',\n",
       "   'good',\n",
       "   'idea',\n",
       "   'about',\n",
       "   'putting',\n",
       "   'them',\n",
       "   'on',\n",
       "   'ice',\n",
       "   'cream'],\n",
       "  2,\n",
       "  2,\n",
       "  [0, 0, 1, 2, 3, 4, 5, 6, 7, 8],\n",
       "  'good',\n",
       "  'good'),\n",
       " (['says',\n",
       "   'good',\n",
       "   '(',\n",
       "   'or',\n",
       "   'should',\n",
       "   'i',\n",
       "   'say',\n",
       "   'bad',\n",
       "   '?',\n",
       "   ')',\n",
       "   'afternoon',\n",
       "   '!',\n",
       "   'http',\n",
       "   ':',\n",
       "   '/',\n",
       "   '/',\n",
       "   'pl',\n",
       "   '##ur',\n",
       "   '##k',\n",
       "   '.',\n",
       "   'com',\n",
       "   '/',\n",
       "   'p',\n",
       "   '/',\n",
       "   'w',\n",
       "   '##x',\n",
       "   '##pd',\n",
       "   '##j'],\n",
       "  0,\n",
       "  11,\n",
       "  [0,\n",
       "   1,\n",
       "   2,\n",
       "   2,\n",
       "   3,\n",
       "   4,\n",
       "   5,\n",
       "   6,\n",
       "   6,\n",
       "   6,\n",
       "   7,\n",
       "   7,\n",
       "   8,\n",
       "   8,\n",
       "   8,\n",
       "   8,\n",
       "   8,\n",
       "   8,\n",
       "   8,\n",
       "   8,\n",
       "   8,\n",
       "   8,\n",
       "   8,\n",
       "   8,\n",
       "   8,\n",
       "   8,\n",
       "   8,\n",
       "   8],\n",
       "  'says',\n",
       "  '!'),\n",
       " (['i',\n",
       "   'don',\n",
       "   '##t',\n",
       "   'think',\n",
       "   'you',\n",
       "   'can',\n",
       "   'vote',\n",
       "   'anymore',\n",
       "   '!',\n",
       "   'i',\n",
       "   'tried'],\n",
       "  0,\n",
       "  8,\n",
       "  [0, 1, 1, 2, 3, 4, 5, 6, 6, 7, 8],\n",
       "  'i',\n",
       "  '!'),\n",
       " (['ha',\n",
       "   '##ha',\n",
       "   'better',\n",
       "   'drunken',\n",
       "   't',\n",
       "   '##wee',\n",
       "   '##ting',\n",
       "   'you',\n",
       "   'mean',\n",
       "   '?'],\n",
       "  2,\n",
       "  2,\n",
       "  [0, 0, 1, 2, 3, 3, 3, 4, 5, 5],\n",
       "  'better',\n",
       "  'better')]"
      ]
     },
     "execution_count": 53,
     "metadata": {},
     "output_type": "execute_result"
    }
   ],
   "source": [
    "data[:5]"
   ]
  },
  {
   "cell_type": "code",
   "execution_count": 56,
   "metadata": {
    "ExecuteTime": {
     "end_time": "2020-03-28T08:17:33.924407Z",
     "start_time": "2020-03-28T08:17:33.916760Z"
    }
   },
   "outputs": [],
   "source": [
    "tokens, start, end, invert_map, _, _ = zip(*data)"
   ]
  },
  {
   "cell_type": "code",
   "execution_count": 57,
   "metadata": {
    "ExecuteTime": {
     "end_time": "2020-03-28T08:17:35.493102Z",
     "start_time": "2020-03-28T08:17:35.490567Z"
    }
   },
   "outputs": [
    {
     "data": {
      "text/plain": [
       "27485"
      ]
     },
     "execution_count": 57,
     "metadata": {},
     "output_type": "execute_result"
    }
   ],
   "source": [
    "len(tokens)"
   ]
  },
  {
   "cell_type": "code",
   "execution_count": 58,
   "metadata": {
    "ExecuteTime": {
     "end_time": "2020-03-28T08:17:51.897166Z",
     "start_time": "2020-03-28T08:17:51.873858Z"
    }
   },
   "outputs": [],
   "source": [
    "train['tokens'] = tokens"
   ]
  },
  {
   "cell_type": "code",
   "execution_count": 59,
   "metadata": {
    "ExecuteTime": {
     "end_time": "2020-03-28T08:18:19.949686Z",
     "start_time": "2020-03-28T08:18:19.930742Z"
    }
   },
   "outputs": [],
   "source": [
    "train['start'] = start\n",
    "train['end'] = end\n",
    "train['invert_map'] = invert_map"
   ]
  },
  {
   "cell_type": "code",
   "execution_count": 73,
   "metadata": {
    "ExecuteTime": {
     "end_time": "2020-03-28T11:24:22.058156Z",
     "start_time": "2020-03-28T11:24:22.048603Z"
    }
   },
   "outputs": [],
   "source": [
    "senti2label = {\n",
    "    'positive':2,\n",
    "    'negative':0,\n",
    "    'neutral':1\n",
    "}\n",
    "train['senti_label']=train['sentiment'].apply(lambda x: senti2label[x])"
   ]
  },
  {
   "cell_type": "code",
   "execution_count": 74,
   "metadata": {
    "ExecuteTime": {
     "end_time": "2020-03-28T11:24:24.554770Z",
     "start_time": "2020-03-28T11:24:24.552879Z"
    }
   },
   "outputs": [],
   "source": [
    "train.reset_index(drop=True, inplace=True)"
   ]
  },
  {
   "cell_type": "code",
   "execution_count": 75,
   "metadata": {
    "ExecuteTime": {
     "end_time": "2020-03-28T11:24:24.952441Z",
     "start_time": "2020-03-28T11:24:24.936169Z"
    }
   },
   "outputs": [
    {
     "data": {
      "text/html": [
       "<div>\n",
       "<style scoped>\n",
       "    .dataframe tbody tr th:only-of-type {\n",
       "        vertical-align: middle;\n",
       "    }\n",
       "\n",
       "    .dataframe tbody tr th {\n",
       "        vertical-align: top;\n",
       "    }\n",
       "\n",
       "    .dataframe thead th {\n",
       "        text-align: right;\n",
       "    }\n",
       "</style>\n",
       "<table border=\"1\" class=\"dataframe\">\n",
       "  <thead>\n",
       "    <tr style=\"text-align: right;\">\n",
       "      <th></th>\n",
       "      <th>textID</th>\n",
       "      <th>text</th>\n",
       "      <th>selected_text</th>\n",
       "      <th>sentiment</th>\n",
       "      <th>start_pos</th>\n",
       "      <th>end_pos</th>\n",
       "      <th>tokens</th>\n",
       "      <th>start</th>\n",
       "      <th>end</th>\n",
       "      <th>invert_map</th>\n",
       "      <th>senti_label</th>\n",
       "      <th>fold</th>\n",
       "    </tr>\n",
       "  </thead>\n",
       "  <tbody>\n",
       "    <tr>\n",
       "      <th>0</th>\n",
       "      <td>a3d0a7d5ad</td>\n",
       "      <td>Spent the entire morning in a meeting w/ a ven...</td>\n",
       "      <td>my boss was not happy w/ them. Lots of fun.</td>\n",
       "      <td>neutral</td>\n",
       "      <td>55</td>\n",
       "      <td>98</td>\n",
       "      <td>[spent, the, entire, morning, in, a, meeting, ...</td>\n",
       "      <td>13</td>\n",
       "      <td>25</td>\n",
       "      <td>[0, 1, 2, 3, 4, 5, 6, 7, 7, 8, 9, 9, 10, 11, 1...</td>\n",
       "      <td>1</td>\n",
       "      <td>0</td>\n",
       "    </tr>\n",
       "    <tr>\n",
       "      <th>1</th>\n",
       "      <td>251b6a6766</td>\n",
       "      <td>Oh! Good idea about putting them on ice cream</td>\n",
       "      <td>Good</td>\n",
       "      <td>positive</td>\n",
       "      <td>4</td>\n",
       "      <td>8</td>\n",
       "      <td>[oh, !, good, idea, about, putting, them, on, ...</td>\n",
       "      <td>2</td>\n",
       "      <td>2</td>\n",
       "      <td>[0, 0, 1, 2, 3, 4, 5, 6, 7, 8]</td>\n",
       "      <td>2</td>\n",
       "      <td>0</td>\n",
       "    </tr>\n",
       "    <tr>\n",
       "      <th>2</th>\n",
       "      <td>c9e8d1ef1c</td>\n",
       "      <td>says good (or should i say bad?) afternoon!  h...</td>\n",
       "      <td>says good (or should i say bad?) afternoon!</td>\n",
       "      <td>neutral</td>\n",
       "      <td>0</td>\n",
       "      <td>43</td>\n",
       "      <td>[says, good, (, or, should, i, say, bad, ?, ),...</td>\n",
       "      <td>0</td>\n",
       "      <td>11</td>\n",
       "      <td>[0, 1, 2, 2, 3, 4, 5, 6, 6, 6, 7, 7, 8, 8, 8, ...</td>\n",
       "      <td>1</td>\n",
       "      <td>0</td>\n",
       "    </tr>\n",
       "    <tr>\n",
       "      <th>3</th>\n",
       "      <td>f14f087215</td>\n",
       "      <td>i dont think you can vote anymore! i tried</td>\n",
       "      <td>i dont think you can vote anymore!</td>\n",
       "      <td>negative</td>\n",
       "      <td>0</td>\n",
       "      <td>34</td>\n",
       "      <td>[i, don, ##t, think, you, can, vote, anymore, ...</td>\n",
       "      <td>0</td>\n",
       "      <td>8</td>\n",
       "      <td>[0, 1, 1, 2, 3, 4, 5, 6, 6, 7, 8]</td>\n",
       "      <td>0</td>\n",
       "      <td>0</td>\n",
       "    </tr>\n",
       "    <tr>\n",
       "      <th>4</th>\n",
       "      <td>bf7473b12d</td>\n",
       "      <td>haha better drunken tweeting you mean?</td>\n",
       "      <td>better</td>\n",
       "      <td>positive</td>\n",
       "      <td>5</td>\n",
       "      <td>11</td>\n",
       "      <td>[ha, ##ha, better, drunken, t, ##wee, ##ting, ...</td>\n",
       "      <td>2</td>\n",
       "      <td>2</td>\n",
       "      <td>[0, 0, 1, 2, 3, 3, 3, 4, 5, 5]</td>\n",
       "      <td>2</td>\n",
       "      <td>0</td>\n",
       "    </tr>\n",
       "  </tbody>\n",
       "</table>\n",
       "</div>"
      ],
      "text/plain": [
       "       textID                                               text  \\\n",
       "0  a3d0a7d5ad  Spent the entire morning in a meeting w/ a ven...   \n",
       "1  251b6a6766      Oh! Good idea about putting them on ice cream   \n",
       "2  c9e8d1ef1c  says good (or should i say bad?) afternoon!  h...   \n",
       "3  f14f087215         i dont think you can vote anymore! i tried   \n",
       "4  bf7473b12d             haha better drunken tweeting you mean?   \n",
       "\n",
       "                                 selected_text sentiment  start_pos  end_pos  \\\n",
       "0  my boss was not happy w/ them. Lots of fun.   neutral         55       98   \n",
       "1                                         Good  positive          4        8   \n",
       "2  says good (or should i say bad?) afternoon!   neutral          0       43   \n",
       "3           i dont think you can vote anymore!  negative          0       34   \n",
       "4                                       better  positive          5       11   \n",
       "\n",
       "                                              tokens  start  end  \\\n",
       "0  [spent, the, entire, morning, in, a, meeting, ...     13   25   \n",
       "1  [oh, !, good, idea, about, putting, them, on, ...      2    2   \n",
       "2  [says, good, (, or, should, i, say, bad, ?, ),...      0   11   \n",
       "3  [i, don, ##t, think, you, can, vote, anymore, ...      0    8   \n",
       "4  [ha, ##ha, better, drunken, t, ##wee, ##ting, ...      2    2   \n",
       "\n",
       "                                          invert_map  senti_label  fold  \n",
       "0  [0, 1, 2, 3, 4, 5, 6, 7, 7, 8, 9, 9, 10, 11, 1...            1     0  \n",
       "1                     [0, 0, 1, 2, 3, 4, 5, 6, 7, 8]            2     0  \n",
       "2  [0, 1, 2, 2, 3, 4, 5, 6, 6, 6, 7, 7, 8, 8, 8, ...            1     0  \n",
       "3                  [0, 1, 1, 2, 3, 4, 5, 6, 6, 7, 8]            0     0  \n",
       "4                     [0, 0, 1, 2, 3, 3, 3, 4, 5, 5]            2     0  "
      ]
     },
     "execution_count": 75,
     "metadata": {},
     "output_type": "execute_result"
    }
   ],
   "source": [
    "train.head()"
   ]
  },
  {
   "cell_type": "code",
   "execution_count": 76,
   "metadata": {
    "ExecuteTime": {
     "end_time": "2020-03-28T11:24:32.862299Z",
     "start_time": "2020-03-28T11:24:32.860544Z"
    }
   },
   "outputs": [],
   "source": [
    "from sklearn.model_selection import StratifiedKFold"
   ]
  },
  {
   "cell_type": "code",
   "execution_count": 77,
   "metadata": {
    "ExecuteTime": {
     "end_time": "2020-03-28T11:24:33.273954Z",
     "start_time": "2020-03-28T11:24:33.268687Z"
    }
   },
   "outputs": [],
   "source": [
    "kf = StratifiedKFold(n_splits=5)"
   ]
  },
  {
   "cell_type": "code",
   "execution_count": 78,
   "metadata": {
    "ExecuteTime": {
     "end_time": "2020-03-28T11:24:33.575384Z",
     "start_time": "2020-03-28T11:24:33.529929Z"
    }
   },
   "outputs": [],
   "source": [
    "train['fold'] = 0\n",
    "for fold, (train_idx, valid_idx) in enumerate(kf.split(train, train['senti_label'])):\n",
    "    train.loc[valid_idx, 'fold'] = fold"
   ]
  },
  {
   "cell_type": "code",
   "execution_count": 79,
   "metadata": {
    "ExecuteTime": {
     "end_time": "2020-03-28T11:24:33.769187Z",
     "start_time": "2020-03-28T11:24:33.756445Z"
    }
   },
   "outputs": [
    {
     "data": {
      "text/plain": [
       "0    5499\n",
       "1    5498\n",
       "4    5496\n",
       "3    5496\n",
       "2    5496\n",
       "Name: fold, dtype: int64"
      ]
     },
     "execution_count": 79,
     "metadata": {},
     "output_type": "execute_result"
    }
   ],
   "source": [
    "train['fold'].value_counts()"
   ]
  },
  {
   "cell_type": "code",
   "execution_count": 80,
   "metadata": {
    "ExecuteTime": {
     "end_time": "2020-03-28T11:24:34.839218Z",
     "start_time": "2020-03-28T11:24:34.749467Z"
    }
   },
   "outputs": [],
   "source": [
    "train.to_pickle('../data/train.pkl')"
   ]
  },
  {
   "cell_type": "code",
   "execution_count": 83,
   "metadata": {
    "ExecuteTime": {
     "end_time": "2020-03-28T13:58:53.026104Z",
     "start_time": "2020-03-28T13:58:53.023385Z"
    }
   },
   "outputs": [
    {
     "data": {
      "text/plain": [
       "['neutral']"
      ]
     },
     "execution_count": 83,
     "metadata": {},
     "output_type": "execute_result"
    }
   ],
   "source": [
    "tokenizer.tokenize('neutral')"
   ]
  },
  {
   "cell_type": "code",
   "execution_count": null,
   "metadata": {},
   "outputs": [],
   "source": []
  }
 ],
 "metadata": {
  "kernelspec": {
   "display_name": "Python 3",
   "language": "python",
   "name": "python3"
  },
  "language_info": {
   "codemirror_mode": {
    "name": "ipython",
    "version": 3
   },
   "file_extension": ".py",
   "mimetype": "text/x-python",
   "name": "python",
   "nbconvert_exporter": "python",
   "pygments_lexer": "ipython3",
   "version": "3.7.1"
  }
 },
 "nbformat": 4,
 "nbformat_minor": 2
}
