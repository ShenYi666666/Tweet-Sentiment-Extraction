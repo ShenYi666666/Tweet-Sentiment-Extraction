{
 "cells": [
  {
   "cell_type": "code",
   "execution_count": 1,
   "metadata": {
    "ExecuteTime": {
     "end_time": "2020-06-01T00:35:28.528870Z",
     "start_time": "2020-06-01T00:35:27.140569Z"
    }
   },
   "outputs": [],
   "source": [
    "import pandas as pd\n",
    "\n",
    "import numpy as np\n",
    "from transformers import BertTokenizer\n",
    "from transformers import RobertaTokenizer\n",
    "from transformers import RobertaTokenizerFast"
   ]
  },
  {
   "cell_type": "code",
   "execution_count": 2,
   "metadata": {
    "ExecuteTime": {
     "end_time": "2020-06-01T00:35:28.532709Z",
     "start_time": "2020-06-01T00:35:28.530102Z"
    }
   },
   "outputs": [],
   "source": [
    "def clean(x):\n",
    "    sp_x = x.split()\n",
    "    if len(sp_x[0]) == 1 and len(sp_x) > 1 and sp_x[0].lower() not in ['i', 'a', 'u'] and not sp_x[0].isdigit():\n",
    "        return ' '.join(sp_x[1:])\n",
    "    return x"
   ]
  },
  {
   "cell_type": "code",
   "execution_count": 3,
   "metadata": {
    "ExecuteTime": {
     "end_time": "2020-06-01T00:35:28.564181Z",
     "start_time": "2020-06-01T00:35:28.533641Z"
    }
   },
   "outputs": [],
   "source": [
    "pred = pd.read_pickle('../input/tweet-sentiment-extraction/preds.pkl')"
   ]
  },
  {
   "cell_type": "code",
   "execution_count": 4,
   "metadata": {
    "ExecuteTime": {
     "end_time": "2020-06-01T00:35:28.620488Z",
     "start_time": "2020-06-01T00:35:28.565114Z"
    }
   },
   "outputs": [],
   "source": [
    "pred['text'] = pred['text'].apply(lambda x: ' '.join(x.strip().split()))\n",
    "pred['selected_text'] = pred['selected_text'].apply(\n",
    "                lambda x: ' '.join(x.strip().split()))\n",
    "pred['selected_text'] = pred['selected_text'].apply(lambda x: clean(x))"
   ]
  },
  {
   "cell_type": "code",
   "execution_count": 5,
   "metadata": {
    "ExecuteTime": {
     "end_time": "2020-06-01T00:35:28.950670Z",
     "start_time": "2020-06-01T00:35:28.621868Z"
    }
   },
   "outputs": [],
   "source": [
    "pred['whole'] = pred.apply(lambda x: len(x['selected_text'])/len(x['text'])>0.99, axis=1)"
   ]
  },
  {
   "cell_type": "code",
   "execution_count": 6,
   "metadata": {
    "ExecuteTime": {
     "end_time": "2020-06-01T00:35:28.959496Z",
     "start_time": "2020-06-01T00:35:28.951757Z"
    }
   },
   "outputs": [
    {
     "data": {
      "text/plain": [
       "sentiment\n",
       "negative    0.145997\n",
       "neutral     0.892147\n",
       "positive    0.129807\n",
       "Name: whole, dtype: float64"
      ]
     },
     "execution_count": 6,
     "metadata": {},
     "output_type": "execute_result"
    }
   ],
   "source": [
    "pred.groupby('sentiment')['whole'].mean()"
   ]
  },
  {
   "cell_type": "code",
   "execution_count": 7,
   "metadata": {
    "ExecuteTime": {
     "end_time": "2020-06-01T00:35:28.963488Z",
     "start_time": "2020-06-01T00:35:28.960553Z"
    }
   },
   "outputs": [
    {
     "data": {
      "text/plain": [
       "(27480, 11)"
      ]
     },
     "execution_count": 7,
     "metadata": {},
     "output_type": "execute_result"
    }
   ],
   "source": [
    "pred.shape"
   ]
  },
  {
   "cell_type": "code",
   "execution_count": 8,
   "metadata": {
    "ExecuteTime": {
     "end_time": "2020-06-01T00:35:28.971160Z",
     "start_time": "2020-06-01T00:35:28.965123Z"
    }
   },
   "outputs": [
    {
     "data": {
      "text/plain": [
       "9918"
      ]
     },
     "execution_count": 8,
     "metadata": {},
     "output_type": "execute_result"
    }
   ],
   "source": [
    "pred[(pred['sentiment']=='neutral')]['whole'].sum()"
   ]
  },
  {
   "cell_type": "code",
   "execution_count": 9,
   "metadata": {
    "ExecuteTime": {
     "end_time": "2020-06-01T00:35:28.978505Z",
     "start_time": "2020-06-01T00:35:28.972181Z"
    }
   },
   "outputs": [
    {
     "data": {
      "text/plain": [
       "11117"
      ]
     },
     "execution_count": 9,
     "metadata": {},
     "output_type": "execute_result"
    }
   ],
   "source": [
    "pred[(pred['sentiment']=='neutral')]['whole'].count()"
   ]
  },
  {
   "cell_type": "code",
   "execution_count": 10,
   "metadata": {
    "ExecuteTime": {
     "end_time": "2020-06-01T00:35:28.985253Z",
     "start_time": "2020-06-01T00:35:28.979359Z"
    }
   },
   "outputs": [
    {
     "data": {
      "text/plain": [
       "0.12980657189466324"
      ]
     },
     "execution_count": 10,
     "metadata": {},
     "output_type": "execute_result"
    }
   ],
   "source": [
    "pred[(pred['sentiment']=='positive')]['whole'].mean()"
   ]
  },
  {
   "cell_type": "code",
   "execution_count": 11,
   "metadata": {
    "ExecuteTime": {
     "end_time": "2020-06-01T00:35:28.991212Z",
     "start_time": "2020-06-01T00:35:28.986209Z"
    }
   },
   "outputs": [],
   "source": [
    "def prepare(text):\n",
    "    words = text.split()\n",
    "    retval, first_char, invert_map = [], [], []\n",
    "    current_pos = 0\n",
    "    for w in words:\n",
    "        word_ret = [\"\"]\n",
    "        word_invert = [current_pos]\n",
    "        for p, c in enumerate(w):\n",
    "            if c in ['.',',','!','?','(',')',';',':','-','=',\"/\",\"<\",\"`\"]:\n",
    "                if word_ret[-1]==\"\":\n",
    "                    word_ret[-1]+=c\n",
    "                    word_invert[-1]=current_pos+p\n",
    "                else:\n",
    "                    word_ret.append(c)\n",
    "                    word_invert.append(current_pos+p)\n",
    "                word_ret.append(\"\")\n",
    "                word_invert.append(current_pos+p+1)\n",
    "            else:\n",
    "                word_ret[-1]+=c\n",
    "        if len(word_ret[-1])==0:\n",
    "            word_ret.pop(-1)\n",
    "            word_invert.pop(-1)\n",
    "        word_first = [False if i>0 else True for i in range(len(word_ret)) ]\n",
    "        retval.extend(word_ret)\n",
    "        first_char.extend(word_first)\n",
    "        invert_map.extend(word_invert)\n",
    "        current_pos+=len(w)+1\n",
    "    assert len(retval)==len(first_char)\n",
    "    return retval, first_char, invert_map"
   ]
  },
  {
   "cell_type": "code",
   "execution_count": 12,
   "metadata": {
    "ExecuteTime": {
     "end_time": "2020-06-01T00:35:29.038111Z",
     "start_time": "2020-06-01T00:35:28.992137Z"
    }
   },
   "outputs": [],
   "source": [
    "texts = pred['text'].tolist()\n",
    "sts = pred['selected_text'].tolist()\n",
    "tokenizer = RobertaTokenizer.from_pretrained('../../bert_models/roberta_base/')"
   ]
  },
  {
   "cell_type": "code",
   "execution_count": 13,
   "metadata": {
    "ExecuteTime": {
     "end_time": "2020-06-01T00:35:40.684724Z",
     "start_time": "2020-06-01T00:35:29.253688Z"
    }
   },
   "outputs": [],
   "source": [
    "data = []\n",
    "for text in texts:\n",
    "    words, first_char, invert_map = prepare(text)\n",
    "\n",
    "    tokens, token_invert_map = [], []\n",
    "    for idx, w in enumerate(words):\n",
    "        # get tokens\n",
    "        w = w.replace(\"'\", \"\\\"\")\n",
    "        w = w.replace(\"`\", \"'\")\n",
    "        w = w.replace(\"ï¿½\", \"\")\n",
    "        if first_char[idx]:\n",
    "            prefix = \" \"\n",
    "        else:\n",
    "            prefix = \"\"\n",
    "        for token in tokenizer.tokenize(prefix+w):\n",
    "            tokens.append(token)\n",
    "            token_invert_map.append(idx)\n",
    "    data.append((words, first_char, tokens,\n",
    "                 token_invert_map, invert_map))\n",
    "words, first_chars, tokens, invert_maps, word_invert_maps = zip(*data)\n",
    "pred['words'] = words\n",
    "\n",
    "pred['first_char'] = first_chars\n",
    "pred['invert_map'] = invert_maps  # token id to word id\n",
    "# word to pos in sentence\n",
    "pred['word_invert_map'] = word_invert_maps"
   ]
  },
  {
   "cell_type": "code",
   "execution_count": 14,
   "metadata": {
    "ExecuteTime": {
     "end_time": "2020-06-01T00:35:41.490131Z",
     "start_time": "2020-06-01T00:35:40.685861Z"
    }
   },
   "outputs": [],
   "source": [
    "start_word_idx = []\n",
    "end_word_idx = []\n",
    "whole_sentence = []\n",
    "for idx in range(len(pred)):\n",
    "    text = texts[idx]\n",
    "    st = sts[idx]\n",
    "    word = words[idx]\n",
    "    invert_map = word_invert_maps[idx]\n",
    "\n",
    "    temp = np.zeros(len(text))\n",
    "\n",
    "    end_pos = 0\n",
    "    start_pos = text.find(st, end_pos)\n",
    "    first_end = start_pos+len(st)\n",
    "    temp[start_pos:first_end] = 1\n",
    "\n",
    "    label = []\n",
    "    for word_idx, w in enumerate(word):\n",
    "        if sum(temp[invert_map[word_idx]:invert_map[word_idx]+len(w)]) > 0:\n",
    "            label.append(word_idx)\n",
    "    cur_start_word_idx = min(label)\n",
    "    cur_end_word_idx = max(label)\n",
    "\n",
    "    start_word_idx.append(cur_start_word_idx)\n",
    "    end_word_idx.append(cur_end_word_idx)\n",
    "\n",
    "pred['start'] = start_word_idx\n",
    "pred['end'] = end_word_idx\n"
   ]
  },
  {
   "cell_type": "code",
   "execution_count": 15,
   "metadata": {
    "ExecuteTime": {
     "end_time": "2020-06-01T00:35:41.493901Z",
     "start_time": "2020-06-01T00:35:41.491335Z"
    }
   },
   "outputs": [],
   "source": [
    "def decode(tokens, first_char, start, end):\n",
    "    retval = \"\"\n",
    "    for i in range(start, end+1):\n",
    "        if first_char[i]:\n",
    "            retval+= (\" \"+tokens[i])\n",
    "        else:\n",
    "            retval += tokens[i]\n",
    "    return \" \".join(retval.split())"
   ]
  },
  {
   "cell_type": "code",
   "execution_count": 16,
   "metadata": {
    "ExecuteTime": {
     "end_time": "2020-06-01T00:35:41.497022Z",
     "start_time": "2020-06-01T00:35:41.494867Z"
    }
   },
   "outputs": [],
   "source": [
    "def jaccard_list(l1, l2):\n",
    "    a = set(l1)\n",
    "    b = set(l2)\n",
    "    c = a.intersection(b)\n",
    "    return float(len(c)) / (len(a) + len(b) - len(c))"
   ]
  },
  {
   "cell_type": "code",
   "execution_count": 17,
   "metadata": {
    "ExecuteTime": {
     "end_time": "2020-06-01T00:35:42.734736Z",
     "start_time": "2020-06-01T00:35:41.498256Z"
    }
   },
   "outputs": [],
   "source": [
    "def get_clean_label(x):\n",
    "    \n",
    "    words = x['words']\n",
    "    start = x['start']\n",
    "    end = x['end']\n",
    "    label2 = decode(words, x['first_char'], start, end)\n",
    "    return label2\n",
    "    \n",
    "def get_jaccard(x):\n",
    "    label = x['selected_text'].split()\n",
    "    label2 = x['label2'].split()\n",
    "    return jaccard_list(label, label2)\n",
    "pred['label2'] = pred.apply(lambda x: get_clean_label(x), axis=1)\n",
    "pred['label_jaccard'] = pred.apply(lambda x: get_jaccard(x), axis=1)"
   ]
  },
  {
   "cell_type": "code",
   "execution_count": 18,
   "metadata": {
    "ExecuteTime": {
     "end_time": "2020-06-01T00:35:42.738125Z",
     "start_time": "2020-06-01T00:35:42.735657Z"
    }
   },
   "outputs": [],
   "source": [
    "def jaccard_string(s1, s2):\n",
    "    a = set(s1.lower().split())\n",
    "    b = set(s2.lower().split())\n",
    "    c = a.intersection(b)\n",
    "    return float(len(c)) / (len(a) + len(b) - len(c))"
   ]
  },
  {
   "cell_type": "code",
   "execution_count": 20,
   "metadata": {
    "ExecuteTime": {
     "end_time": "2020-06-01T00:35:51.228677Z",
     "start_time": "2020-06-01T00:35:51.212560Z"
    }
   },
   "outputs": [
    {
     "data": {
      "text/html": [
       "<div>\n",
       "<style scoped>\n",
       "    .dataframe tbody tr th:only-of-type {\n",
       "        vertical-align: middle;\n",
       "    }\n",
       "\n",
       "    .dataframe tbody tr th {\n",
       "        vertical-align: top;\n",
       "    }\n",
       "\n",
       "    .dataframe thead th {\n",
       "        text-align: right;\n",
       "    }\n",
       "</style>\n",
       "<table border=\"1\" class=\"dataframe\">\n",
       "  <thead>\n",
       "    <tr style=\"text-align: right;\">\n",
       "      <th></th>\n",
       "      <th>textID</th>\n",
       "      <th>text</th>\n",
       "      <th>selected_text</th>\n",
       "      <th>sentiment</th>\n",
       "      <th>kfold</th>\n",
       "      <th>start_pred</th>\n",
       "      <th>end_pred</th>\n",
       "      <th>pred</th>\n",
       "      <th>score</th>\n",
       "      <th>whole_pred</th>\n",
       "      <th>whole</th>\n",
       "      <th>words</th>\n",
       "      <th>first_char</th>\n",
       "      <th>invert_map</th>\n",
       "      <th>word_invert_map</th>\n",
       "      <th>start</th>\n",
       "      <th>end</th>\n",
       "      <th>label2</th>\n",
       "      <th>label_jaccard</th>\n",
       "    </tr>\n",
       "  </thead>\n",
       "  <tbody>\n",
       "    <tr>\n",
       "      <th>0</th>\n",
       "      <td>f7fdea625a</td>\n",
       "      <td>i`m so bored i can barely even tweet. i have n...</td>\n",
       "      <td>bored</td>\n",
       "      <td>negative</td>\n",
       "      <td>0</td>\n",
       "      <td>NaN</td>\n",
       "      <td>NaN</td>\n",
       "      <td>NaN</td>\n",
       "      <td>NaN</td>\n",
       "      <td>NaN</td>\n",
       "      <td>False</td>\n",
       "      <td>[i, `, m, so, bored, i, can, barely, even, twe...</td>\n",
       "      <td>[True, False, False, True, True, True, True, T...</td>\n",
       "      <td>[0, 1, 2, 3, 4, 5, 6, 7, 8, 9, 10, 11, 12, 13,...</td>\n",
       "      <td>[0, 1, 2, 4, 7, 13, 15, 19, 26, 31, 36, 38, 40...</td>\n",
       "      <td>4</td>\n",
       "      <td>4</td>\n",
       "      <td>bored</td>\n",
       "      <td>1.0</td>\n",
       "    </tr>\n",
       "    <tr>\n",
       "      <th>1</th>\n",
       "      <td>c19de2c75b</td>\n",
       "      <td>awwwwwwwwww thats jus...awwwww.did she get to ...</td>\n",
       "      <td>awwwwwwwwww thats jus...awwwww.did she get to ...</td>\n",
       "      <td>neutral</td>\n",
       "      <td>0</td>\n",
       "      <td>NaN</td>\n",
       "      <td>NaN</td>\n",
       "      <td>NaN</td>\n",
       "      <td>NaN</td>\n",
       "      <td>NaN</td>\n",
       "      <td>True</td>\n",
       "      <td>[awwwwwwwwww, thats, jus, ., ., ., awwwww, ., ...</td>\n",
       "      <td>[True, True, True, False, False, False, False,...</td>\n",
       "      <td>[0, 0, 0, 0, 0, 0, 1, 2, 2, 3, 4, 5, 6, 6, 6, ...</td>\n",
       "      <td>[0, 12, 18, 21, 22, 23, 24, 30, 31, 35, 39, 43...</td>\n",
       "      <td>0</td>\n",
       "      <td>15</td>\n",
       "      <td>awwwwwwwwww thats jus...awwwww.did she get to ...</td>\n",
       "      <td>1.0</td>\n",
       "    </tr>\n",
       "    <tr>\n",
       "      <th>2</th>\n",
       "      <td>0f963af18f</td>\n",
       "      <td>I did not twitt yesterday cause it was a very ...</td>\n",
       "      <td>I can not sleep</td>\n",
       "      <td>negative</td>\n",
       "      <td>0</td>\n",
       "      <td>NaN</td>\n",
       "      <td>NaN</td>\n",
       "      <td>NaN</td>\n",
       "      <td>NaN</td>\n",
       "      <td>NaN</td>\n",
       "      <td>False</td>\n",
       "      <td>[I, did, not, twitt, yesterday, cause, it, was...</td>\n",
       "      <td>[True, True, True, True, True, True, True, Tru...</td>\n",
       "      <td>[0, 1, 2, 3, 3, 4, 5, 6, 7, 8, 9, 10, 11, 12, ...</td>\n",
       "      <td>[0, 2, 6, 10, 16, 26, 32, 35, 39, 41, 46, 51, ...</td>\n",
       "      <td>20</td>\n",
       "      <td>23</td>\n",
       "      <td>I can not sleep</td>\n",
       "      <td>1.0</td>\n",
       "    </tr>\n",
       "    <tr>\n",
       "      <th>3</th>\n",
       "      <td>0583c78cc1</td>\n",
       "      <td>Congratulation`s to phil packer on completing ...</td>\n",
       "      <td>Congratulation`s</td>\n",
       "      <td>positive</td>\n",
       "      <td>0</td>\n",
       "      <td>NaN</td>\n",
       "      <td>NaN</td>\n",
       "      <td>NaN</td>\n",
       "      <td>NaN</td>\n",
       "      <td>NaN</td>\n",
       "      <td>False</td>\n",
       "      <td>[Congratulation, `, s, to, phil, packer, on, c...</td>\n",
       "      <td>[True, False, False, True, True, True, True, T...</td>\n",
       "      <td>[0, 0, 0, 1, 2, 3, 4, 5, 5, 6, 7, 8, 9, 9, 10,...</td>\n",
       "      <td>[0, 14, 15, 17, 20, 25, 32, 35, 46, 50, 57, 66...</td>\n",
       "      <td>0</td>\n",
       "      <td>2</td>\n",
       "      <td>Congratulation`s</td>\n",
       "      <td>1.0</td>\n",
       "    </tr>\n",
       "    <tr>\n",
       "      <th>4</th>\n",
       "      <td>1cdb444ea5</td>\n",
       "      <td>O`Charleys? Pretty good. Especially when its f...</td>\n",
       "      <td>Pretty good.</td>\n",
       "      <td>positive</td>\n",
       "      <td>0</td>\n",
       "      <td>NaN</td>\n",
       "      <td>NaN</td>\n",
       "      <td>NaN</td>\n",
       "      <td>NaN</td>\n",
       "      <td>NaN</td>\n",
       "      <td>False</td>\n",
       "      <td>[O, `, Charleys, ?, Pretty, good, ., Especiall...</td>\n",
       "      <td>[True, False, False, False, True, True, False,...</td>\n",
       "      <td>[0, 1, 2, 2, 3, 4, 5, 6, 7, 8, 9, 10, 11, 12, ...</td>\n",
       "      <td>[0, 1, 2, 10, 12, 19, 23, 25, 36, 41, 45, 49, ...</td>\n",
       "      <td>4</td>\n",
       "      <td>6</td>\n",
       "      <td>Pretty good.</td>\n",
       "      <td>1.0</td>\n",
       "    </tr>\n",
       "  </tbody>\n",
       "</table>\n",
       "</div>"
      ],
      "text/plain": [
       "       textID                                               text  \\\n",
       "0  f7fdea625a  i`m so bored i can barely even tweet. i have n...   \n",
       "1  c19de2c75b  awwwwwwwwww thats jus...awwwww.did she get to ...   \n",
       "2  0f963af18f  I did not twitt yesterday cause it was a very ...   \n",
       "3  0583c78cc1  Congratulation`s to phil packer on completing ...   \n",
       "4  1cdb444ea5  O`Charleys? Pretty good. Especially when its f...   \n",
       "\n",
       "                                       selected_text sentiment  kfold  \\\n",
       "0                                              bored  negative      0   \n",
       "1  awwwwwwwwww thats jus...awwwww.did she get to ...   neutral      0   \n",
       "2                                    I can not sleep  negative      0   \n",
       "3                                   Congratulation`s  positive      0   \n",
       "4                                       Pretty good.  positive      0   \n",
       "\n",
       "  start_pred end_pred pred  score  whole_pred  whole  \\\n",
       "0        NaN      NaN  NaN    NaN         NaN  False   \n",
       "1        NaN      NaN  NaN    NaN         NaN   True   \n",
       "2        NaN      NaN  NaN    NaN         NaN  False   \n",
       "3        NaN      NaN  NaN    NaN         NaN  False   \n",
       "4        NaN      NaN  NaN    NaN         NaN  False   \n",
       "\n",
       "                                               words  \\\n",
       "0  [i, `, m, so, bored, i, can, barely, even, twe...   \n",
       "1  [awwwwwwwwww, thats, jus, ., ., ., awwwww, ., ...   \n",
       "2  [I, did, not, twitt, yesterday, cause, it, was...   \n",
       "3  [Congratulation, `, s, to, phil, packer, on, c...   \n",
       "4  [O, `, Charleys, ?, Pretty, good, ., Especiall...   \n",
       "\n",
       "                                          first_char  \\\n",
       "0  [True, False, False, True, True, True, True, T...   \n",
       "1  [True, True, True, False, False, False, False,...   \n",
       "2  [True, True, True, True, True, True, True, Tru...   \n",
       "3  [True, False, False, True, True, True, True, T...   \n",
       "4  [True, False, False, False, True, True, False,...   \n",
       "\n",
       "                                          invert_map  \\\n",
       "0  [0, 1, 2, 3, 4, 5, 6, 7, 8, 9, 10, 11, 12, 13,...   \n",
       "1  [0, 0, 0, 0, 0, 0, 1, 2, 2, 3, 4, 5, 6, 6, 6, ...   \n",
       "2  [0, 1, 2, 3, 3, 4, 5, 6, 7, 8, 9, 10, 11, 12, ...   \n",
       "3  [0, 0, 0, 1, 2, 3, 4, 5, 5, 6, 7, 8, 9, 9, 10,...   \n",
       "4  [0, 1, 2, 2, 3, 4, 5, 6, 7, 8, 9, 10, 11, 12, ...   \n",
       "\n",
       "                                     word_invert_map  start  end  \\\n",
       "0  [0, 1, 2, 4, 7, 13, 15, 19, 26, 31, 36, 38, 40...      4    4   \n",
       "1  [0, 12, 18, 21, 22, 23, 24, 30, 31, 35, 39, 43...      0   15   \n",
       "2  [0, 2, 6, 10, 16, 26, 32, 35, 39, 41, 46, 51, ...     20   23   \n",
       "3  [0, 14, 15, 17, 20, 25, 32, 35, 46, 50, 57, 66...      0    2   \n",
       "4  [0, 1, 2, 10, 12, 19, 23, 25, 36, 41, 45, 49, ...      4    6   \n",
       "\n",
       "                                              label2  label_jaccard  \n",
       "0                                              bored            1.0  \n",
       "1  awwwwwwwwww thats jus...awwwww.did she get to ...            1.0  \n",
       "2                                    I can not sleep            1.0  \n",
       "3                                   Congratulation`s            1.0  \n",
       "4                                       Pretty good.            1.0  "
      ]
     },
     "execution_count": 20,
     "metadata": {},
     "output_type": "execute_result"
    }
   ],
   "source": [
    "pred.head()"
   ]
  },
  {
   "cell_type": "code",
   "execution_count": 19,
   "metadata": {
    "ExecuteTime": {
     "end_time": "2020-06-01T00:35:42.969206Z",
     "start_time": "2020-06-01T00:35:42.739120Z"
    }
   },
   "outputs": [
    {
     "ename": "AttributeError",
     "evalue": "(\"'float' object has no attribute 'lower'\", 'occurred at index 0')",
     "output_type": "error",
     "traceback": [
      "\u001b[0;31m---------------------------------------------------------------------------\u001b[0m",
      "\u001b[0;31mAttributeError\u001b[0m                            Traceback (most recent call last)",
      "\u001b[0;32m<ipython-input-19-22e823181d48>\u001b[0m in \u001b[0;36m<module>\u001b[0;34m\u001b[0m\n\u001b[0;32m----> 1\u001b[0;31m \u001b[0mpred\u001b[0m\u001b[0;34m[\u001b[0m\u001b[0;34m'jaccard'\u001b[0m\u001b[0;34m]\u001b[0m \u001b[0;34m=\u001b[0m \u001b[0mpred\u001b[0m\u001b[0;34m.\u001b[0m\u001b[0mapply\u001b[0m\u001b[0;34m(\u001b[0m\u001b[0;32mlambda\u001b[0m \u001b[0mx\u001b[0m\u001b[0;34m:\u001b[0m \u001b[0mjaccard_string\u001b[0m\u001b[0;34m(\u001b[0m\u001b[0mx\u001b[0m\u001b[0;34m[\u001b[0m\u001b[0;34m'selected_text'\u001b[0m\u001b[0;34m]\u001b[0m\u001b[0;34m,\u001b[0m \u001b[0mx\u001b[0m\u001b[0;34m[\u001b[0m\u001b[0;34m'pred'\u001b[0m\u001b[0;34m]\u001b[0m\u001b[0;34m)\u001b[0m\u001b[0;34m,\u001b[0m \u001b[0maxis\u001b[0m\u001b[0;34m=\u001b[0m\u001b[0;36m1\u001b[0m\u001b[0;34m)\u001b[0m\u001b[0;34m\u001b[0m\u001b[0;34m\u001b[0m\u001b[0m\n\u001b[0m",
      "\u001b[0;32m~/anaconda3/lib/python3.7/site-packages/pandas/core/frame.py\u001b[0m in \u001b[0;36mapply\u001b[0;34m(self, func, axis, broadcast, raw, reduce, result_type, args, **kwds)\u001b[0m\n\u001b[1;32m   6926\u001b[0m             \u001b[0mkwds\u001b[0m\u001b[0;34m=\u001b[0m\u001b[0mkwds\u001b[0m\u001b[0;34m,\u001b[0m\u001b[0;34m\u001b[0m\u001b[0;34m\u001b[0m\u001b[0m\n\u001b[1;32m   6927\u001b[0m         )\n\u001b[0;32m-> 6928\u001b[0;31m         \u001b[0;32mreturn\u001b[0m \u001b[0mop\u001b[0m\u001b[0;34m.\u001b[0m\u001b[0mget_result\u001b[0m\u001b[0;34m(\u001b[0m\u001b[0;34m)\u001b[0m\u001b[0;34m\u001b[0m\u001b[0;34m\u001b[0m\u001b[0m\n\u001b[0m\u001b[1;32m   6929\u001b[0m \u001b[0;34m\u001b[0m\u001b[0m\n\u001b[1;32m   6930\u001b[0m     \u001b[0;32mdef\u001b[0m \u001b[0mapplymap\u001b[0m\u001b[0;34m(\u001b[0m\u001b[0mself\u001b[0m\u001b[0;34m,\u001b[0m \u001b[0mfunc\u001b[0m\u001b[0;34m)\u001b[0m\u001b[0;34m:\u001b[0m\u001b[0;34m\u001b[0m\u001b[0;34m\u001b[0m\u001b[0m\n",
      "\u001b[0;32m~/anaconda3/lib/python3.7/site-packages/pandas/core/apply.py\u001b[0m in \u001b[0;36mget_result\u001b[0;34m(self)\u001b[0m\n\u001b[1;32m    184\u001b[0m             \u001b[0;32mreturn\u001b[0m \u001b[0mself\u001b[0m\u001b[0;34m.\u001b[0m\u001b[0mapply_raw\u001b[0m\u001b[0;34m(\u001b[0m\u001b[0;34m)\u001b[0m\u001b[0;34m\u001b[0m\u001b[0;34m\u001b[0m\u001b[0m\n\u001b[1;32m    185\u001b[0m \u001b[0;34m\u001b[0m\u001b[0m\n\u001b[0;32m--> 186\u001b[0;31m         \u001b[0;32mreturn\u001b[0m \u001b[0mself\u001b[0m\u001b[0;34m.\u001b[0m\u001b[0mapply_standard\u001b[0m\u001b[0;34m(\u001b[0m\u001b[0;34m)\u001b[0m\u001b[0;34m\u001b[0m\u001b[0;34m\u001b[0m\u001b[0m\n\u001b[0m\u001b[1;32m    187\u001b[0m \u001b[0;34m\u001b[0m\u001b[0m\n\u001b[1;32m    188\u001b[0m     \u001b[0;32mdef\u001b[0m \u001b[0mapply_empty_result\u001b[0m\u001b[0;34m(\u001b[0m\u001b[0mself\u001b[0m\u001b[0;34m)\u001b[0m\u001b[0;34m:\u001b[0m\u001b[0;34m\u001b[0m\u001b[0;34m\u001b[0m\u001b[0m\n",
      "\u001b[0;32m~/anaconda3/lib/python3.7/site-packages/pandas/core/apply.py\u001b[0m in \u001b[0;36mapply_standard\u001b[0;34m(self)\u001b[0m\n\u001b[1;32m    290\u001b[0m \u001b[0;34m\u001b[0m\u001b[0m\n\u001b[1;32m    291\u001b[0m         \u001b[0;31m# compute the result using the series generator\u001b[0m\u001b[0;34m\u001b[0m\u001b[0;34m\u001b[0m\u001b[0;34m\u001b[0m\u001b[0m\n\u001b[0;32m--> 292\u001b[0;31m         \u001b[0mself\u001b[0m\u001b[0;34m.\u001b[0m\u001b[0mapply_series_generator\u001b[0m\u001b[0;34m(\u001b[0m\u001b[0;34m)\u001b[0m\u001b[0;34m\u001b[0m\u001b[0;34m\u001b[0m\u001b[0m\n\u001b[0m\u001b[1;32m    293\u001b[0m \u001b[0;34m\u001b[0m\u001b[0m\n\u001b[1;32m    294\u001b[0m         \u001b[0;31m# wrap results\u001b[0m\u001b[0;34m\u001b[0m\u001b[0;34m\u001b[0m\u001b[0;34m\u001b[0m\u001b[0m\n",
      "\u001b[0;32m~/anaconda3/lib/python3.7/site-packages/pandas/core/apply.py\u001b[0m in \u001b[0;36mapply_series_generator\u001b[0;34m(self)\u001b[0m\n\u001b[1;32m    319\u001b[0m             \u001b[0;32mtry\u001b[0m\u001b[0;34m:\u001b[0m\u001b[0;34m\u001b[0m\u001b[0;34m\u001b[0m\u001b[0m\n\u001b[1;32m    320\u001b[0m                 \u001b[0;32mfor\u001b[0m \u001b[0mi\u001b[0m\u001b[0;34m,\u001b[0m \u001b[0mv\u001b[0m \u001b[0;32min\u001b[0m \u001b[0menumerate\u001b[0m\u001b[0;34m(\u001b[0m\u001b[0mseries_gen\u001b[0m\u001b[0;34m)\u001b[0m\u001b[0;34m:\u001b[0m\u001b[0;34m\u001b[0m\u001b[0;34m\u001b[0m\u001b[0m\n\u001b[0;32m--> 321\u001b[0;31m                     \u001b[0mresults\u001b[0m\u001b[0;34m[\u001b[0m\u001b[0mi\u001b[0m\u001b[0;34m]\u001b[0m \u001b[0;34m=\u001b[0m \u001b[0mself\u001b[0m\u001b[0;34m.\u001b[0m\u001b[0mf\u001b[0m\u001b[0;34m(\u001b[0m\u001b[0mv\u001b[0m\u001b[0;34m)\u001b[0m\u001b[0;34m\u001b[0m\u001b[0;34m\u001b[0m\u001b[0m\n\u001b[0m\u001b[1;32m    322\u001b[0m                     \u001b[0mkeys\u001b[0m\u001b[0;34m.\u001b[0m\u001b[0mappend\u001b[0m\u001b[0;34m(\u001b[0m\u001b[0mv\u001b[0m\u001b[0;34m.\u001b[0m\u001b[0mname\u001b[0m\u001b[0;34m)\u001b[0m\u001b[0;34m\u001b[0m\u001b[0;34m\u001b[0m\u001b[0m\n\u001b[1;32m    323\u001b[0m             \u001b[0;32mexcept\u001b[0m \u001b[0mException\u001b[0m \u001b[0;32mas\u001b[0m \u001b[0me\u001b[0m\u001b[0;34m:\u001b[0m\u001b[0;34m\u001b[0m\u001b[0;34m\u001b[0m\u001b[0m\n",
      "\u001b[0;32m<ipython-input-19-22e823181d48>\u001b[0m in \u001b[0;36m<lambda>\u001b[0;34m(x)\u001b[0m\n\u001b[0;32m----> 1\u001b[0;31m \u001b[0mpred\u001b[0m\u001b[0;34m[\u001b[0m\u001b[0;34m'jaccard'\u001b[0m\u001b[0;34m]\u001b[0m \u001b[0;34m=\u001b[0m \u001b[0mpred\u001b[0m\u001b[0;34m.\u001b[0m\u001b[0mapply\u001b[0m\u001b[0;34m(\u001b[0m\u001b[0;32mlambda\u001b[0m \u001b[0mx\u001b[0m\u001b[0;34m:\u001b[0m \u001b[0mjaccard_string\u001b[0m\u001b[0;34m(\u001b[0m\u001b[0mx\u001b[0m\u001b[0;34m[\u001b[0m\u001b[0;34m'selected_text'\u001b[0m\u001b[0;34m]\u001b[0m\u001b[0;34m,\u001b[0m \u001b[0mx\u001b[0m\u001b[0;34m[\u001b[0m\u001b[0;34m'pred'\u001b[0m\u001b[0;34m]\u001b[0m\u001b[0;34m)\u001b[0m\u001b[0;34m,\u001b[0m \u001b[0maxis\u001b[0m\u001b[0;34m=\u001b[0m\u001b[0;36m1\u001b[0m\u001b[0;34m)\u001b[0m\u001b[0;34m\u001b[0m\u001b[0;34m\u001b[0m\u001b[0m\n\u001b[0m",
      "\u001b[0;32m<ipython-input-18-6f42f098378c>\u001b[0m in \u001b[0;36mjaccard_string\u001b[0;34m(s1, s2)\u001b[0m\n\u001b[1;32m      1\u001b[0m \u001b[0;32mdef\u001b[0m \u001b[0mjaccard_string\u001b[0m\u001b[0;34m(\u001b[0m\u001b[0ms1\u001b[0m\u001b[0;34m,\u001b[0m \u001b[0ms2\u001b[0m\u001b[0;34m)\u001b[0m\u001b[0;34m:\u001b[0m\u001b[0;34m\u001b[0m\u001b[0;34m\u001b[0m\u001b[0m\n\u001b[1;32m      2\u001b[0m     \u001b[0ma\u001b[0m \u001b[0;34m=\u001b[0m \u001b[0mset\u001b[0m\u001b[0;34m(\u001b[0m\u001b[0ms1\u001b[0m\u001b[0;34m.\u001b[0m\u001b[0mlower\u001b[0m\u001b[0;34m(\u001b[0m\u001b[0;34m)\u001b[0m\u001b[0;34m.\u001b[0m\u001b[0msplit\u001b[0m\u001b[0;34m(\u001b[0m\u001b[0;34m)\u001b[0m\u001b[0;34m)\u001b[0m\u001b[0;34m\u001b[0m\u001b[0;34m\u001b[0m\u001b[0m\n\u001b[0;32m----> 3\u001b[0;31m     \u001b[0mb\u001b[0m \u001b[0;34m=\u001b[0m \u001b[0mset\u001b[0m\u001b[0;34m(\u001b[0m\u001b[0ms2\u001b[0m\u001b[0;34m.\u001b[0m\u001b[0mlower\u001b[0m\u001b[0;34m(\u001b[0m\u001b[0;34m)\u001b[0m\u001b[0;34m.\u001b[0m\u001b[0msplit\u001b[0m\u001b[0;34m(\u001b[0m\u001b[0;34m)\u001b[0m\u001b[0;34m)\u001b[0m\u001b[0;34m\u001b[0m\u001b[0;34m\u001b[0m\u001b[0m\n\u001b[0m\u001b[1;32m      4\u001b[0m     \u001b[0mc\u001b[0m \u001b[0;34m=\u001b[0m \u001b[0ma\u001b[0m\u001b[0;34m.\u001b[0m\u001b[0mintersection\u001b[0m\u001b[0;34m(\u001b[0m\u001b[0mb\u001b[0m\u001b[0;34m)\u001b[0m\u001b[0;34m\u001b[0m\u001b[0;34m\u001b[0m\u001b[0m\n\u001b[1;32m      5\u001b[0m     \u001b[0;32mreturn\u001b[0m \u001b[0mfloat\u001b[0m\u001b[0;34m(\u001b[0m\u001b[0mlen\u001b[0m\u001b[0;34m(\u001b[0m\u001b[0mc\u001b[0m\u001b[0;34m)\u001b[0m\u001b[0;34m)\u001b[0m \u001b[0;34m/\u001b[0m \u001b[0;34m(\u001b[0m\u001b[0mlen\u001b[0m\u001b[0;34m(\u001b[0m\u001b[0ma\u001b[0m\u001b[0;34m)\u001b[0m \u001b[0;34m+\u001b[0m \u001b[0mlen\u001b[0m\u001b[0;34m(\u001b[0m\u001b[0mb\u001b[0m\u001b[0;34m)\u001b[0m \u001b[0;34m-\u001b[0m \u001b[0mlen\u001b[0m\u001b[0;34m(\u001b[0m\u001b[0mc\u001b[0m\u001b[0;34m)\u001b[0m\u001b[0;34m)\u001b[0m\u001b[0;34m\u001b[0m\u001b[0;34m\u001b[0m\u001b[0m\n",
      "\u001b[0;31mAttributeError\u001b[0m: (\"'float' object has no attribute 'lower'\", 'occurred at index 0')"
     ]
    }
   ],
   "source": [
    "pred['jaccard'] = pred.apply(lambda x: jaccard_string(x['selected_text'], x['pred']), axis=1)"
   ]
  },
  {
   "cell_type": "code",
   "execution_count": null,
   "metadata": {
    "ExecuteTime": {
     "end_time": "2020-06-01T00:35:42.970098Z",
     "start_time": "2020-06-01T00:35:31.257Z"
    }
   },
   "outputs": [],
   "source": [
    "pred.groupby('sentiment')['jaccard'].mean()"
   ]
  },
  {
   "cell_type": "code",
   "execution_count": null,
   "metadata": {
    "ExecuteTime": {
     "end_time": "2020-06-01T00:35:42.970610Z",
     "start_time": "2020-06-01T00:35:31.880Z"
    }
   },
   "outputs": [],
   "source": [
    "pred.groupby('sentiment')['jaccard'].mean()"
   ]
  },
  {
   "cell_type": "code",
   "execution_count": null,
   "metadata": {
    "ExecuteTime": {
     "end_time": "2020-06-01T00:35:42.971217Z",
     "start_time": "2020-06-01T00:35:32.166Z"
    }
   },
   "outputs": [],
   "source": [
    "pred['delta_jaccard'] = pred['label_jaccard']-pred['jaccard']"
   ]
  },
  {
   "cell_type": "code",
   "execution_count": null,
   "metadata": {},
   "outputs": [],
   "source": []
  },
  {
   "cell_type": "code",
   "execution_count": 86,
   "metadata": {
    "ExecuteTime": {
     "end_time": "2020-05-30T07:56:30.663575Z",
     "start_time": "2020-05-30T07:56:30.654757Z"
    }
   },
   "outputs": [
    {
     "data": {
      "text/html": [
       "<div>\n",
       "<style scoped>\n",
       "    .dataframe tbody tr th:only-of-type {\n",
       "        vertical-align: middle;\n",
       "    }\n",
       "\n",
       "    .dataframe tbody tr th {\n",
       "        vertical-align: top;\n",
       "    }\n",
       "\n",
       "    .dataframe thead th {\n",
       "        text-align: right;\n",
       "    }\n",
       "</style>\n",
       "<table border=\"1\" class=\"dataframe\">\n",
       "  <thead>\n",
       "    <tr style=\"text-align: right;\">\n",
       "      <th></th>\n",
       "      <th>text</th>\n",
       "      <th>selected_text</th>\n",
       "      <th>sentiment</th>\n",
       "      <th>label2</th>\n",
       "      <th>pred</th>\n",
       "      <th>label_jaccard</th>\n",
       "    </tr>\n",
       "  </thead>\n",
       "  <tbody>\n",
       "    <tr>\n",
       "      <th>21540</th>\n",
       "      <td>Good Morning! It`s been a while since I`ve 'ta...</td>\n",
       "      <td>he awesome</td>\n",
       "      <td>positive</td>\n",
       "      <td>the awesome</td>\n",
       "      <td>Good Morning! It`s been a while since I`ve 'ta...</td>\n",
       "      <td>0.333333</td>\n",
       "    </tr>\n",
       "    <tr>\n",
       "      <th>9769</th>\n",
       "      <td>watching a youtube vid of sing paranoid live i...</td>\n",
       "      <td>so cut</td>\n",
       "      <td>positive</td>\n",
       "      <td>so cute</td>\n",
       "      <td>cute</td>\n",
       "      <td>0.333333</td>\n",
       "    </tr>\n",
       "    <tr>\n",
       "      <th>27314</th>\n",
       "      <td>that would mean me babe! but **** it my name i...</td>\n",
       "      <td>IN COO</td>\n",
       "      <td>positive</td>\n",
       "      <td>FREAKIN COOL</td>\n",
       "      <td>COOL!</td>\n",
       "      <td>0.000000</td>\n",
       "    </tr>\n",
       "    <tr>\n",
       "      <th>9260</th>\n",
       "      <td>_de_B You have to email her - she only gets wh...</td>\n",
       "      <td>Shame ab</td>\n",
       "      <td>negative</td>\n",
       "      <td>Shame about</td>\n",
       "      <td>Shame</td>\n",
       "      <td>0.333333</td>\n",
       "    </tr>\n",
       "    <tr>\n",
       "      <th>10153</th>\n",
       "      <td>Had a crazy night, lost keys, walked home, mis...</td>\n",
       "      <td>I`m sa</td>\n",
       "      <td>negative</td>\n",
       "      <td>I`m sad</td>\n",
       "      <td>I`m sad</td>\n",
       "      <td>0.333333</td>\n",
       "    </tr>\n",
       "    <tr>\n",
       "      <th>23698</th>\n",
       "      <td>_babsi there`s a manual process... but it`s ta...</td>\n",
       "      <td>crappy ms</td>\n",
       "      <td>negative</td>\n",
       "      <td>crappy msft</td>\n",
       "      <td>crappy msft product</td>\n",
       "      <td>0.333333</td>\n",
       "    </tr>\n",
       "    <tr>\n",
       "      <th>7932</th>\n",
       "      <td>moving back home today. pro: obnoxiously close...</td>\n",
       "      <td>obnoxiously cl</td>\n",
       "      <td>negative</td>\n",
       "      <td>obnoxiously closer</td>\n",
       "      <td>obnoxiously</td>\n",
       "      <td>0.333333</td>\n",
       "    </tr>\n",
       "    <tr>\n",
       "      <th>4146</th>\n",
       "      <td>I`m Kinda sleepy.. I Was up too late texting a...</td>\n",
       "      <td>nice bo</td>\n",
       "      <td>positive</td>\n",
       "      <td>nice boy</td>\n",
       "      <td>nice</td>\n",
       "      <td>0.333333</td>\n",
       "    </tr>\n",
       "    <tr>\n",
       "      <th>4997</th>\n",
       "      <td>oooh...I wish I could`ve gone there today, too...</td>\n",
       "      <td>as looking forwar</td>\n",
       "      <td>positive</td>\n",
       "      <td>was looking forward</td>\n",
       "      <td>wish</td>\n",
       "      <td>0.200000</td>\n",
       "    </tr>\n",
       "    <tr>\n",
       "      <th>23860</th>\n",
       "      <td>We`re idiots. Ok mostly I was skint but hell I...</td>\n",
       "      <td>re idiot</td>\n",
       "      <td>negative</td>\n",
       "      <td>re idiots</td>\n",
       "      <td>We`re idiots.</td>\n",
       "      <td>0.333333</td>\n",
       "    </tr>\n",
       "  </tbody>\n",
       "</table>\n",
       "</div>"
      ],
      "text/plain": [
       "                                                    text      selected_text  \\\n",
       "21540  Good Morning! It`s been a while since I`ve 'ta...         he awesome   \n",
       "9769   watching a youtube vid of sing paranoid live i...             so cut   \n",
       "27314  that would mean me babe! but **** it my name i...             IN COO   \n",
       "9260   _de_B You have to email her - she only gets wh...           Shame ab   \n",
       "10153  Had a crazy night, lost keys, walked home, mis...             I`m sa   \n",
       "23698  _babsi there`s a manual process... but it`s ta...          crappy ms   \n",
       "7932   moving back home today. pro: obnoxiously close...     obnoxiously cl   \n",
       "4146   I`m Kinda sleepy.. I Was up too late texting a...            nice bo   \n",
       "4997   oooh...I wish I could`ve gone there today, too...  as looking forwar   \n",
       "23860  We`re idiots. Ok mostly I was skint but hell I...           re idiot   \n",
       "\n",
       "      sentiment               label2  \\\n",
       "21540  positive          the awesome   \n",
       "9769   positive              so cute   \n",
       "27314  positive         FREAKIN COOL   \n",
       "9260   negative          Shame about   \n",
       "10153  negative              I`m sad   \n",
       "23698  negative          crappy msft   \n",
       "7932   negative   obnoxiously closer   \n",
       "4146   positive             nice boy   \n",
       "4997   positive  was looking forward   \n",
       "23860  negative            re idiots   \n",
       "\n",
       "                                                    pred  label_jaccard  \n",
       "21540  Good Morning! It`s been a while since I`ve 'ta...       0.333333  \n",
       "9769                                                cute       0.333333  \n",
       "27314                                              COOL!       0.000000  \n",
       "9260                                               Shame       0.333333  \n",
       "10153                                            I`m sad       0.333333  \n",
       "23698                                crappy msft product       0.333333  \n",
       "7932                                         obnoxiously       0.333333  \n",
       "4146                                                nice       0.333333  \n",
       "4997                                                wish       0.200000  \n",
       "23860                                      We`re idiots.       0.333333  "
      ]
     },
     "execution_count": 86,
     "metadata": {},
     "output_type": "execute_result"
    }
   ],
   "source": [
    "pred[pred['label_jaccard']<0.5][['text','selected_text','sentiment','label2','pred','label_jaccard']].sample(n=10)"
   ]
  },
  {
   "cell_type": "code",
   "execution_count": 87,
   "metadata": {
    "ExecuteTime": {
     "end_time": "2020-05-30T07:56:30.680231Z",
     "start_time": "2020-05-30T07:56:30.664485Z"
    }
   },
   "outputs": [
    {
     "name": "stdout",
     "output_type": "stream",
     "text": [
      "(7350, 21)\n"
     ]
    },
    {
     "data": {
      "text/html": [
       "<div>\n",
       "<style scoped>\n",
       "    .dataframe tbody tr th:only-of-type {\n",
       "        vertical-align: middle;\n",
       "    }\n",
       "\n",
       "    .dataframe tbody tr th {\n",
       "        vertical-align: top;\n",
       "    }\n",
       "\n",
       "    .dataframe thead th {\n",
       "        text-align: right;\n",
       "    }\n",
       "</style>\n",
       "<table border=\"1\" class=\"dataframe\">\n",
       "  <thead>\n",
       "    <tr style=\"text-align: right;\">\n",
       "      <th></th>\n",
       "      <th>text</th>\n",
       "      <th>selected_text</th>\n",
       "      <th>sentiment</th>\n",
       "      <th>label2</th>\n",
       "      <th>pred</th>\n",
       "      <th>label_jaccard</th>\n",
       "    </tr>\n",
       "  </thead>\n",
       "  <tbody>\n",
       "    <tr>\n",
       "      <th>1575</th>\n",
       "      <td>Everyone on the eastcoast... the rain hates us...</td>\n",
       "      <td>the rain hates us</td>\n",
       "      <td>negative</td>\n",
       "      <td>the rain hates us</td>\n",
       "      <td>hates</td>\n",
       "      <td>1.0</td>\n",
       "    </tr>\n",
       "    <tr>\n",
       "      <th>10558</th>\n",
       "      <td>Once again, I`m dealing with cancer in my dire...</td>\n",
       "      <td>Bugger Cancel sucks!</td>\n",
       "      <td>negative</td>\n",
       "      <td>Bugger Cancel sucks!</td>\n",
       "      <td>sucks!</td>\n",
       "      <td>1.0</td>\n",
       "    </tr>\n",
       "    <tr>\n",
       "      <th>857</th>\n",
       "      <td>Ouuchh! I hurt my index finger!! ahhhh</td>\n",
       "      <td>I hurt my index finger!! ahhhh</td>\n",
       "      <td>negative</td>\n",
       "      <td>I hurt my index finger!! ahhhh</td>\n",
       "      <td>hurt</td>\n",
       "      <td>1.0</td>\n",
       "    </tr>\n",
       "    <tr>\n",
       "      <th>26594</th>\n",
       "      <td>Goodmorning twitter, oh my gosh, i woke up soo...</td>\n",
       "      <td>Goodmorning twitter, oh my gosh, i woke up soo...</td>\n",
       "      <td>positive</td>\n",
       "      <td>Goodmorning twitter, oh my gosh, i woke up soo...</td>\n",
       "      <td>Happy</td>\n",
       "      <td>1.0</td>\n",
       "    </tr>\n",
       "    <tr>\n",
       "      <th>3366</th>\n",
       "      <td>good luck with you finals!!!</td>\n",
       "      <td>good luck with you finals!!!</td>\n",
       "      <td>positive</td>\n",
       "      <td>good luck with you finals!!!</td>\n",
       "      <td>good luck</td>\n",
       "      <td>1.0</td>\n",
       "    </tr>\n",
       "    <tr>\n",
       "      <th>14707</th>\n",
       "      <td>This will be the worst day ever....graduation</td>\n",
       "      <td>worst day ever...</td>\n",
       "      <td>negative</td>\n",
       "      <td>worst day ever...</td>\n",
       "      <td>worst</td>\n",
       "      <td>1.0</td>\n",
       "    </tr>\n",
       "    <tr>\n",
       "      <th>559</th>\n",
       "      <td>it`s not sooo noticable it depends on how you ...</td>\n",
       "      <td>isn`t perfect</td>\n",
       "      <td>negative</td>\n",
       "      <td>isn`t perfect</td>\n",
       "      <td>it`s not sooo noticable it depends on how you ...</td>\n",
       "      <td>1.0</td>\n",
       "    </tr>\n",
       "    <tr>\n",
       "      <th>3785</th>\n",
       "      <td>_Nicole wow you are lucky happy birthday!</td>\n",
       "      <td>wow you are lucky</td>\n",
       "      <td>positive</td>\n",
       "      <td>wow you are lucky</td>\n",
       "      <td>lucky happy birthday!</td>\n",
       "      <td>1.0</td>\n",
       "    </tr>\n",
       "    <tr>\n",
       "      <th>17465</th>\n",
       "      <td>...hey danny .. did u run already ??? hope you...</td>\n",
       "      <td>?? hope you have a good day ;) i love</td>\n",
       "      <td>positive</td>\n",
       "      <td>?? hope you have a good day ;) i love</td>\n",
       "      <td>i love you</td>\n",
       "      <td>1.0</td>\n",
       "    </tr>\n",
       "    <tr>\n",
       "      <th>6622</th>\n",
       "      <td>yea just fun dive..a bit scary sometimes but f...</td>\n",
       "      <td>.a bit scary sometimes but fun.</td>\n",
       "      <td>neutral</td>\n",
       "      <td>.a bit scary sometimes but fun.</td>\n",
       "      <td>yea just fun dive..a bit scary sometimes but f...</td>\n",
       "      <td>1.0</td>\n",
       "    </tr>\n",
       "  </tbody>\n",
       "</table>\n",
       "</div>"
      ],
      "text/plain": [
       "                                                    text  \\\n",
       "1575   Everyone on the eastcoast... the rain hates us...   \n",
       "10558  Once again, I`m dealing with cancer in my dire...   \n",
       "857               Ouuchh! I hurt my index finger!! ahhhh   \n",
       "26594  Goodmorning twitter, oh my gosh, i woke up soo...   \n",
       "3366                        good luck with you finals!!!   \n",
       "14707      This will be the worst day ever....graduation   \n",
       "559    it`s not sooo noticable it depends on how you ...   \n",
       "3785           _Nicole wow you are lucky happy birthday!   \n",
       "17465  ...hey danny .. did u run already ??? hope you...   \n",
       "6622   yea just fun dive..a bit scary sometimes but f...   \n",
       "\n",
       "                                           selected_text sentiment  \\\n",
       "1575                                   the rain hates us  negative   \n",
       "10558                               Bugger Cancel sucks!  negative   \n",
       "857                       I hurt my index finger!! ahhhh  negative   \n",
       "26594  Goodmorning twitter, oh my gosh, i woke up soo...  positive   \n",
       "3366                        good luck with you finals!!!  positive   \n",
       "14707                                  worst day ever...  negative   \n",
       "559                                        isn`t perfect  negative   \n",
       "3785                                   wow you are lucky  positive   \n",
       "17465              ?? hope you have a good day ;) i love  positive   \n",
       "6622                     .a bit scary sometimes but fun.   neutral   \n",
       "\n",
       "                                                  label2  \\\n",
       "1575                                   the rain hates us   \n",
       "10558                               Bugger Cancel sucks!   \n",
       "857                       I hurt my index finger!! ahhhh   \n",
       "26594  Goodmorning twitter, oh my gosh, i woke up soo...   \n",
       "3366                        good luck with you finals!!!   \n",
       "14707                                  worst day ever...   \n",
       "559                                        isn`t perfect   \n",
       "3785                                   wow you are lucky   \n",
       "17465              ?? hope you have a good day ;) i love   \n",
       "6622                     .a bit scary sometimes but fun.   \n",
       "\n",
       "                                                    pred  label_jaccard  \n",
       "1575                                               hates            1.0  \n",
       "10558                                             sucks!            1.0  \n",
       "857                                                 hurt            1.0  \n",
       "26594                                              Happy            1.0  \n",
       "3366                                           good luck            1.0  \n",
       "14707                                              worst            1.0  \n",
       "559    it`s not sooo noticable it depends on how you ...            1.0  \n",
       "3785                               lucky happy birthday!            1.0  \n",
       "17465                                         i love you            1.0  \n",
       "6622   yea just fun dive..a bit scary sometimes but f...            1.0  "
      ]
     },
     "execution_count": 87,
     "metadata": {},
     "output_type": "execute_result"
    }
   ],
   "source": [
    "print(pred[(pred['label_jaccard']>0.5)&(pred['jaccard']<0.5)].shape)\n",
    "pred[(pred['label_jaccard']>0.5)&(pred['jaccard']<0.5)][['text','selected_text','sentiment','label2','pred','label_jaccard']].sample(n=10)"
   ]
  },
  {
   "cell_type": "code",
   "execution_count": 119,
   "metadata": {
    "ExecuteTime": {
     "end_time": "2020-05-30T09:11:14.308747Z",
     "start_time": "2020-05-30T09:11:14.298000Z"
    }
   },
   "outputs": [
    {
     "data": {
      "text/html": [
       "<div>\n",
       "<style scoped>\n",
       "    .dataframe tbody tr th:only-of-type {\n",
       "        vertical-align: middle;\n",
       "    }\n",
       "\n",
       "    .dataframe tbody tr th {\n",
       "        vertical-align: top;\n",
       "    }\n",
       "\n",
       "    .dataframe thead th {\n",
       "        text-align: right;\n",
       "    }\n",
       "</style>\n",
       "<table border=\"1\" class=\"dataframe\">\n",
       "  <thead>\n",
       "    <tr style=\"text-align: right;\">\n",
       "      <th></th>\n",
       "      <th>text</th>\n",
       "      <th>selected_text</th>\n",
       "      <th>sentiment</th>\n",
       "      <th>label2</th>\n",
       "      <th>pred</th>\n",
       "      <th>whole_pred</th>\n",
       "    </tr>\n",
       "  </thead>\n",
       "  <tbody>\n",
       "    <tr>\n",
       "      <th>6773</th>\n",
       "      <td>omg me 2 !! Haha i was half an hour late 4 wor...</td>\n",
       "      <td>whoops</td>\n",
       "      <td>negative</td>\n",
       "      <td>whoops</td>\n",
       "      <td>omg me 2 !! Haha i was half an hour late</td>\n",
       "      <td>0.068344</td>\n",
       "    </tr>\n",
       "    <tr>\n",
       "      <th>24104</th>\n",
       "      <td>._.; Thanxxx ! Now with that message I just wa...</td>\n",
       "      <td>Thanxxx</td>\n",
       "      <td>positive</td>\n",
       "      <td>Thanxxx</td>\n",
       "      <td>Thanxxx ! Now with that message I just wanna l...</td>\n",
       "      <td>0.092494</td>\n",
       "    </tr>\n",
       "    <tr>\n",
       "      <th>15121</th>\n",
       "      <td>wishing I were somewhere else besides here!! D...</td>\n",
       "      <td>Don`t worry this won`t dampen my day and neith...</td>\n",
       "      <td>positive</td>\n",
       "      <td>Don`t worry this won`t dampen my day and neith...</td>\n",
       "      <td>wishing</td>\n",
       "      <td>0.160372</td>\n",
       "    </tr>\n",
       "    <tr>\n",
       "      <th>21717</th>\n",
       "      <td>thats it, rub it in that ur seeing morrissey! ...</td>\n",
       "      <td>thats it, rub it in that ur seeing morrissey! ...</td>\n",
       "      <td>negative</td>\n",
       "      <td>thats it, rub it in that ur seeing morrissey! ...</td>\n",
       "      <td>cry</td>\n",
       "      <td>0.045176</td>\n",
       "    </tr>\n",
       "    <tr>\n",
       "      <th>23605</th>\n",
       "      <td>Congrats Hughesy to you and Holly on the safe ...</td>\n",
       "      <td>Congrats Hughesy to you and Holly on the safe ...</td>\n",
       "      <td>positive</td>\n",
       "      <td>Congrats Hughesy to you and Holly on the safe ...</td>\n",
       "      <td>Congrats</td>\n",
       "      <td>0.091529</td>\n",
       "    </tr>\n",
       "    <tr>\n",
       "      <th>20280</th>\n",
       "      <td>boo! I must`ve deleted it from my phone! can`t...</td>\n",
       "      <td>can`t find it in my emails either!</td>\n",
       "      <td>negative</td>\n",
       "      <td>can`t find it in my emails either!</td>\n",
       "      <td>boo!</td>\n",
       "      <td>0.180488</td>\n",
       "    </tr>\n",
       "    <tr>\n",
       "      <th>8521</th>\n",
       "      <td>jungle book 2 is sooooo cute.. i have nothing ...</td>\n",
       "      <td>cute..</td>\n",
       "      <td>positive</td>\n",
       "      <td>cute..</td>\n",
       "      <td>cute.</td>\n",
       "      <td>0.052669</td>\n",
       "    </tr>\n",
       "    <tr>\n",
       "      <th>2605</th>\n",
       "      <td>nothings better then going out for chinese at ...</td>\n",
       "      <td>with ma fave cousins at</td>\n",
       "      <td>positive</td>\n",
       "      <td>with ma fave cousins at</td>\n",
       "      <td>nothings better</td>\n",
       "      <td>0.055982</td>\n",
       "    </tr>\n",
       "    <tr>\n",
       "      <th>21960</th>\n",
       "      <td>think you should catch up on your sleep befor ...</td>\n",
       "      <td>haha goodnight</td>\n",
       "      <td>positive</td>\n",
       "      <td>haha goodnight</td>\n",
       "      <td>goodnight&lt;3</td>\n",
       "      <td>0.040349</td>\n",
       "    </tr>\n",
       "    <tr>\n",
       "      <th>8617</th>\n",
       "      <td>Chowder is the ****!!!!!!</td>\n",
       "      <td>****!</td>\n",
       "      <td>negative</td>\n",
       "      <td>****!</td>\n",
       "      <td>****!!!!!!</td>\n",
       "      <td>0.185898</td>\n",
       "    </tr>\n",
       "  </tbody>\n",
       "</table>\n",
       "</div>"
      ],
      "text/plain": [
       "                                                    text  \\\n",
       "6773   omg me 2 !! Haha i was half an hour late 4 wor...   \n",
       "24104  ._.; Thanxxx ! Now with that message I just wa...   \n",
       "15121  wishing I were somewhere else besides here!! D...   \n",
       "21717  thats it, rub it in that ur seeing morrissey! ...   \n",
       "23605  Congrats Hughesy to you and Holly on the safe ...   \n",
       "20280  boo! I must`ve deleted it from my phone! can`t...   \n",
       "8521   jungle book 2 is sooooo cute.. i have nothing ...   \n",
       "2605   nothings better then going out for chinese at ...   \n",
       "21960  think you should catch up on your sleep befor ...   \n",
       "8617                           Chowder is the ****!!!!!!   \n",
       "\n",
       "                                           selected_text sentiment  \\\n",
       "6773                                              whoops  negative   \n",
       "24104                                            Thanxxx  positive   \n",
       "15121  Don`t worry this won`t dampen my day and neith...  positive   \n",
       "21717  thats it, rub it in that ur seeing morrissey! ...  negative   \n",
       "23605  Congrats Hughesy to you and Holly on the safe ...  positive   \n",
       "20280                 can`t find it in my emails either!  negative   \n",
       "8521                                              cute..  positive   \n",
       "2605                             with ma fave cousins at  positive   \n",
       "21960                                     haha goodnight  positive   \n",
       "8617                                               ****!  negative   \n",
       "\n",
       "                                                  label2  \\\n",
       "6773                                              whoops   \n",
       "24104                                            Thanxxx   \n",
       "15121  Don`t worry this won`t dampen my day and neith...   \n",
       "21717  thats it, rub it in that ur seeing morrissey! ...   \n",
       "23605  Congrats Hughesy to you and Holly on the safe ...   \n",
       "20280                 can`t find it in my emails either!   \n",
       "8521                                              cute..   \n",
       "2605                             with ma fave cousins at   \n",
       "21960                                     haha goodnight   \n",
       "8617                                               ****!   \n",
       "\n",
       "                                                    pred  whole_pred  \n",
       "6773            omg me 2 !! Haha i was half an hour late    0.068344  \n",
       "24104  Thanxxx ! Now with that message I just wanna l...    0.092494  \n",
       "15121                                            wishing    0.160372  \n",
       "21717                                                cry    0.045176  \n",
       "23605                                           Congrats    0.091529  \n",
       "20280                                               boo!    0.180488  \n",
       "8521                                               cute.    0.052669  \n",
       "2605                                     nothings better    0.055982  \n",
       "21960                                        goodnight<3    0.040349  \n",
       "8617                                          ****!!!!!!    0.185898  "
      ]
     },
     "execution_count": 119,
     "metadata": {},
     "output_type": "execute_result"
    }
   ],
   "source": [
    "pred[(pred['label_jaccard']>0.5)&(pred['jaccard']<0.1)][['text','selected_text','sentiment','label2','pred','whole_pred']].sample(n=10)"
   ]
  },
  {
   "cell_type": "code",
   "execution_count": 89,
   "metadata": {
    "ExecuteTime": {
     "end_time": "2020-05-30T07:56:30.694778Z",
     "start_time": "2020-05-30T07:56:30.692437Z"
    }
   },
   "outputs": [
    {
     "name": "stdout",
     "output_type": "stream",
     "text": [
      "mom just woke me u[p and i am so mad i was dreaming about shoes she whants me to go to the river it is so stupid\n"
     ]
    }
   ],
   "source": [
    "print(pred.loc[27089]['text'])"
   ]
  },
  {
   "cell_type": "code",
   "execution_count": 90,
   "metadata": {
    "ExecuteTime": {
     "end_time": "2020-05-30T07:56:30.711383Z",
     "start_time": "2020-05-30T07:56:30.695754Z"
    }
   },
   "outputs": [
    {
     "data": {
      "text/html": [
       "<div>\n",
       "<style scoped>\n",
       "    .dataframe tbody tr th:only-of-type {\n",
       "        vertical-align: middle;\n",
       "    }\n",
       "\n",
       "    .dataframe tbody tr th {\n",
       "        vertical-align: top;\n",
       "    }\n",
       "\n",
       "    .dataframe thead th {\n",
       "        text-align: right;\n",
       "    }\n",
       "</style>\n",
       "<table border=\"1\" class=\"dataframe\">\n",
       "  <thead>\n",
       "    <tr style=\"text-align: right;\">\n",
       "      <th></th>\n",
       "      <th>text</th>\n",
       "      <th>sentiment</th>\n",
       "      <th>selected_text</th>\n",
       "      <th>pred</th>\n",
       "      <th>jaccard</th>\n",
       "      <th>label_jaccard</th>\n",
       "      <th>whole_pred</th>\n",
       "    </tr>\n",
       "  </thead>\n",
       "  <tbody>\n",
       "    <tr>\n",
       "      <th>23632</th>\n",
       "      <td>your the voice i hear inside my head, the reas...</td>\n",
       "      <td>neutral</td>\n",
       "      <td>your the voice i hear inside my head, the reas...</td>\n",
       "      <td>your the voice i hear inside my head, the reas...</td>\n",
       "      <td>1.0</td>\n",
       "      <td>1.0</td>\n",
       "      <td>0.996764</td>\n",
       "    </tr>\n",
       "    <tr>\n",
       "      <th>6495</th>\n",
       "      <td>Reading through today`s paper along with some ...</td>\n",
       "      <td>neutral</td>\n",
       "      <td>Reading through today`s paper along with some ...</td>\n",
       "      <td>Reading through today`s paper along with some ...</td>\n",
       "      <td>1.0</td>\n",
       "      <td>1.0</td>\n",
       "      <td>0.985243</td>\n",
       "    </tr>\n",
       "    <tr>\n",
       "      <th>12568</th>\n",
       "      <td>that is definitely an easier way of saying it,...</td>\n",
       "      <td>positive</td>\n",
       "      <td>easier</td>\n",
       "      <td>easier</td>\n",
       "      <td>1.0</td>\n",
       "      <td>1.0</td>\n",
       "      <td>0.178897</td>\n",
       "    </tr>\n",
       "    <tr>\n",
       "      <th>21215</th>\n",
       "      <td>is drawing a picture for her bubba</td>\n",
       "      <td>neutral</td>\n",
       "      <td>is drawing a picture for her bubba</td>\n",
       "      <td>is drawing a picture for her bubba</td>\n",
       "      <td>1.0</td>\n",
       "      <td>1.0</td>\n",
       "      <td>0.997497</td>\n",
       "    </tr>\n",
       "    <tr>\n",
       "      <th>2823</th>\n",
       "      <td>macbook dying. switching to iphone.</td>\n",
       "      <td>negative</td>\n",
       "      <td>dying.</td>\n",
       "      <td>dying.</td>\n",
       "      <td>1.0</td>\n",
       "      <td>1.0</td>\n",
       "      <td>0.069340</td>\n",
       "    </tr>\n",
       "    <tr>\n",
       "      <th>7961</th>\n",
       "      <td>I`m getting more and more followers... look ou...</td>\n",
       "      <td>neutral</td>\n",
       "      <td>I`m getting more and more followers... look ou...</td>\n",
       "      <td>I`m getting more and more followers... look ou...</td>\n",
       "      <td>1.0</td>\n",
       "      <td>1.0</td>\n",
       "      <td>0.996389</td>\n",
       "    </tr>\n",
       "    <tr>\n",
       "      <th>18410</th>\n",
       "      <td>Had to cancel subscriptions today to NZZ and E...</td>\n",
       "      <td>neutral</td>\n",
       "      <td>Had to cancel subscriptions today to NZZ and E...</td>\n",
       "      <td>Had to cancel subscriptions today to NZZ and E...</td>\n",
       "      <td>1.0</td>\n",
       "      <td>1.0</td>\n",
       "      <td>0.978450</td>\n",
       "    </tr>\n",
       "    <tr>\n",
       "      <th>26303</th>\n",
       "      <td>back,had a great MAD monday meeting tomorrow</td>\n",
       "      <td>positive</td>\n",
       "      <td>great</td>\n",
       "      <td>great</td>\n",
       "      <td>1.0</td>\n",
       "      <td>1.0</td>\n",
       "      <td>0.116820</td>\n",
       "    </tr>\n",
       "    <tr>\n",
       "      <th>20911</th>\n",
       "      <td>- me and my mom`s cars were broken into. I fee...</td>\n",
       "      <td>negative</td>\n",
       "      <td>I feel violated.</td>\n",
       "      <td>I feel violated.</td>\n",
       "      <td>1.0</td>\n",
       "      <td>1.0</td>\n",
       "      <td>0.082451</td>\n",
       "    </tr>\n",
       "    <tr>\n",
       "      <th>199</th>\n",
       "      <td>Going to miss my roomie ... We will no longer ...</td>\n",
       "      <td>negative</td>\n",
       "      <td>miss</td>\n",
       "      <td>miss</td>\n",
       "      <td>1.0</td>\n",
       "      <td>1.0</td>\n",
       "      <td>0.068783</td>\n",
       "    </tr>\n",
       "  </tbody>\n",
       "</table>\n",
       "</div>"
      ],
      "text/plain": [
       "                                                    text sentiment  \\\n",
       "23632  your the voice i hear inside my head, the reas...   neutral   \n",
       "6495   Reading through today`s paper along with some ...   neutral   \n",
       "12568  that is definitely an easier way of saying it,...  positive   \n",
       "21215                 is drawing a picture for her bubba   neutral   \n",
       "2823                 macbook dying. switching to iphone.  negative   \n",
       "7961   I`m getting more and more followers... look ou...   neutral   \n",
       "18410  Had to cancel subscriptions today to NZZ and E...   neutral   \n",
       "26303       back,had a great MAD monday meeting tomorrow  positive   \n",
       "20911  - me and my mom`s cars were broken into. I fee...  negative   \n",
       "199    Going to miss my roomie ... We will no longer ...  negative   \n",
       "\n",
       "                                           selected_text  \\\n",
       "23632  your the voice i hear inside my head, the reas...   \n",
       "6495   Reading through today`s paper along with some ...   \n",
       "12568                                             easier   \n",
       "21215                 is drawing a picture for her bubba   \n",
       "2823                                              dying.   \n",
       "7961   I`m getting more and more followers... look ou...   \n",
       "18410  Had to cancel subscriptions today to NZZ and E...   \n",
       "26303                                              great   \n",
       "20911                                   I feel violated.   \n",
       "199                                                 miss   \n",
       "\n",
       "                                                    pred  jaccard  \\\n",
       "23632  your the voice i hear inside my head, the reas...      1.0   \n",
       "6495   Reading through today`s paper along with some ...      1.0   \n",
       "12568                                             easier      1.0   \n",
       "21215                 is drawing a picture for her bubba      1.0   \n",
       "2823                                              dying.      1.0   \n",
       "7961   I`m getting more and more followers... look ou...      1.0   \n",
       "18410  Had to cancel subscriptions today to NZZ and E...      1.0   \n",
       "26303                                              great      1.0   \n",
       "20911                                   I feel violated.      1.0   \n",
       "199                                                 miss      1.0   \n",
       "\n",
       "       label_jaccard  whole_pred  \n",
       "23632            1.0    0.996764  \n",
       "6495             1.0    0.985243  \n",
       "12568            1.0    0.178897  \n",
       "21215            1.0    0.997497  \n",
       "2823             1.0    0.069340  \n",
       "7961             1.0    0.996389  \n",
       "18410            1.0    0.978450  \n",
       "26303            1.0    0.116820  \n",
       "20911            1.0    0.082451  \n",
       "199              1.0    0.068783  "
      ]
     },
     "execution_count": 90,
     "metadata": {},
     "output_type": "execute_result"
    }
   ],
   "source": [
    "pred[pred['delta_jaccard']<0.2][['text','sentiment','selected_text','pred','jaccard','label_jaccard','whole_pred']].sample(n=10)"
   ]
  },
  {
   "cell_type": "code",
   "execution_count": 18,
   "metadata": {
    "ExecuteTime": {
     "end_time": "2020-05-30T02:50:53.921871Z",
     "start_time": "2020-05-30T02:50:53.911702Z"
    }
   },
   "outputs": [
    {
     "data": {
      "text/html": [
       "<div>\n",
       "<style scoped>\n",
       "    .dataframe tbody tr th:only-of-type {\n",
       "        vertical-align: middle;\n",
       "    }\n",
       "\n",
       "    .dataframe tbody tr th {\n",
       "        vertical-align: top;\n",
       "    }\n",
       "\n",
       "    .dataframe thead th {\n",
       "        text-align: right;\n",
       "    }\n",
       "</style>\n",
       "<table border=\"1\" class=\"dataframe\">\n",
       "  <thead>\n",
       "    <tr style=\"text-align: right;\">\n",
       "      <th></th>\n",
       "      <th>text</th>\n",
       "      <th>sentiment</th>\n",
       "      <th>selected_text</th>\n",
       "      <th>pred</th>\n",
       "      <th>jaccard</th>\n",
       "      <th>label_jaccard</th>\n",
       "      <th>score</th>\n",
       "    </tr>\n",
       "  </thead>\n",
       "  <tbody>\n",
       "    <tr>\n",
       "      <th>9720</th>\n",
       "      <td>I really hope you see my tweets. Sent you so m...</td>\n",
       "      <td>positive</td>\n",
       "      <td>please? *prays*</td>\n",
       "      <td>I really hope</td>\n",
       "      <td>0.000000</td>\n",
       "      <td>1.0</td>\n",
       "      <td>0.781391</td>\n",
       "    </tr>\n",
       "    <tr>\n",
       "      <th>20678</th>\n",
       "      <td>Date Like A Man So You Dont Get Played Like A ...</td>\n",
       "      <td>negative</td>\n",
       "      <td>Date Like A Man So You Dont Get Played Like A ...</td>\n",
       "      <td>****</td>\n",
       "      <td>0.100000</td>\n",
       "      <td>1.0</td>\n",
       "      <td>1.211964</td>\n",
       "    </tr>\n",
       "    <tr>\n",
       "      <th>25347</th>\n",
       "      <td>is not feelin well... i feel sooooo weak....i ...</td>\n",
       "      <td>negative</td>\n",
       "      <td>weak..</td>\n",
       "      <td>i feel sooooo weak....i hate bein sick in the ...</td>\n",
       "      <td>0.000000</td>\n",
       "      <td>1.0</td>\n",
       "      <td>0.733103</td>\n",
       "    </tr>\n",
       "    <tr>\n",
       "      <th>8721</th>\n",
       "      <td>Chem wasn`t better than physics. And now I`m s...</td>\n",
       "      <td>negative</td>\n",
       "      <td>Chem wasn`t better than physics. And now I`m s...</td>\n",
       "      <td>tired.</td>\n",
       "      <td>0.100000</td>\n",
       "      <td>1.0</td>\n",
       "      <td>0.886198</td>\n",
       "    </tr>\n",
       "    <tr>\n",
       "      <th>17204</th>\n",
       "      <td>lol. When I went to buy my new laptop in Feb.,...</td>\n",
       "      <td>negative</td>\n",
       "      <td>sadfaced</td>\n",
       "      <td>sadfaced.</td>\n",
       "      <td>0.000000</td>\n",
       "      <td>1.0</td>\n",
       "      <td>1.404858</td>\n",
       "    </tr>\n",
       "    <tr>\n",
       "      <th>10831</th>\n",
       "      <td>I am up and feeling pretty **** gud! I dont ev...</td>\n",
       "      <td>positive</td>\n",
       "      <td>I am up and feeling pretty **** gud! I dont ev...</td>\n",
       "      <td>nice feeling</td>\n",
       "      <td>0.133333</td>\n",
       "      <td>1.0</td>\n",
       "      <td>0.976072</td>\n",
       "    </tr>\n",
       "    <tr>\n",
       "      <th>1839</th>\n",
       "      <td>its Monday and all is good</td>\n",
       "      <td>positive</td>\n",
       "      <td>its Monday and all is good</td>\n",
       "      <td>good</td>\n",
       "      <td>0.166667</td>\n",
       "      <td>1.0</td>\n",
       "      <td>1.603872</td>\n",
       "    </tr>\n",
       "    <tr>\n",
       "      <th>11246</th>\n",
       "      <td>I can`t believe how tired I am right now... I ...</td>\n",
       "      <td>negative</td>\n",
       "      <td>Exhaaaausted</td>\n",
       "      <td>tired I am right now... I don`t know if I can ...</td>\n",
       "      <td>0.000000</td>\n",
       "      <td>1.0</td>\n",
       "      <td>0.736420</td>\n",
       "    </tr>\n",
       "    <tr>\n",
       "      <th>4988</th>\n",
       "      <td>sadly awake. wondering about contact info for ...</td>\n",
       "      <td>negative</td>\n",
       "      <td>sadly awake.</td>\n",
       "      <td>sadly awake. wondering about contact info for ...</td>\n",
       "      <td>0.086957</td>\n",
       "      <td>1.0</td>\n",
       "      <td>0.952517</td>\n",
       "    </tr>\n",
       "    <tr>\n",
       "      <th>18027</th>\n",
       "      <td>I don`t like the possibility of the left side ...</td>\n",
       "      <td>negative</td>\n",
       "      <td>don`t like</td>\n",
       "      <td>I don`t like the possibility of the left side ...</td>\n",
       "      <td>0.181818</td>\n",
       "      <td>1.0</td>\n",
       "      <td>0.864112</td>\n",
       "    </tr>\n",
       "  </tbody>\n",
       "</table>\n",
       "</div>"
      ],
      "text/plain": [
       "                                                    text sentiment  \\\n",
       "9720   I really hope you see my tweets. Sent you so m...  positive   \n",
       "20678  Date Like A Man So You Dont Get Played Like A ...  negative   \n",
       "25347  is not feelin well... i feel sooooo weak....i ...  negative   \n",
       "8721   Chem wasn`t better than physics. And now I`m s...  negative   \n",
       "17204  lol. When I went to buy my new laptop in Feb.,...  negative   \n",
       "10831  I am up and feeling pretty **** gud! I dont ev...  positive   \n",
       "1839                          its Monday and all is good  positive   \n",
       "11246  I can`t believe how tired I am right now... I ...  negative   \n",
       "4988   sadly awake. wondering about contact info for ...  negative   \n",
       "18027  I don`t like the possibility of the left side ...  negative   \n",
       "\n",
       "                                           selected_text  \\\n",
       "9720                                     please? *prays*   \n",
       "20678  Date Like A Man So You Dont Get Played Like A ...   \n",
       "25347                                             weak..   \n",
       "8721   Chem wasn`t better than physics. And now I`m s...   \n",
       "17204                                           sadfaced   \n",
       "10831  I am up and feeling pretty **** gud! I dont ev...   \n",
       "1839                          its Monday and all is good   \n",
       "11246                                       Exhaaaausted   \n",
       "4988                                        sadly awake.   \n",
       "18027                                         don`t like   \n",
       "\n",
       "                                                    pred   jaccard  \\\n",
       "9720                                       I really hope  0.000000   \n",
       "20678                                               ****  0.100000   \n",
       "25347  i feel sooooo weak....i hate bein sick in the ...  0.000000   \n",
       "8721                                              tired.  0.100000   \n",
       "17204                                          sadfaced.  0.000000   \n",
       "10831                                       nice feeling  0.133333   \n",
       "1839                                                good  0.166667   \n",
       "11246  tired I am right now... I don`t know if I can ...  0.000000   \n",
       "4988   sadly awake. wondering about contact info for ...  0.086957   \n",
       "18027  I don`t like the possibility of the left side ...  0.181818   \n",
       "\n",
       "       label_jaccard     score  \n",
       "9720             1.0  0.781391  \n",
       "20678            1.0  1.211964  \n",
       "25347            1.0  0.733103  \n",
       "8721             1.0  0.886198  \n",
       "17204            1.0  1.404858  \n",
       "10831            1.0  0.976072  \n",
       "1839             1.0  1.603872  \n",
       "11246            1.0  0.736420  \n",
       "4988             1.0  0.952517  \n",
       "18027            1.0  0.864112  "
      ]
     },
     "execution_count": 18,
     "metadata": {},
     "output_type": "execute_result"
    }
   ],
   "source": [
    "pred[pred['delta_jaccard']>0.8][['text','sentiment','selected_text','pred','jaccard','label_jaccard','score']].sample(n=10)"
   ]
  },
  {
   "cell_type": "code",
   "execution_count": 18,
   "metadata": {
    "ExecuteTime": {
     "end_time": "2020-05-24T13:28:49.733709Z",
     "start_time": "2020-05-24T13:28:49.731373Z"
    }
   },
   "outputs": [
    {
     "data": {
      "text/plain": [
       "1.204892635345459"
      ]
     },
     "execution_count": 18,
     "metadata": {},
     "output_type": "execute_result"
    }
   ],
   "source": [
    "pred.loc[5121, 'score']"
   ]
  },
  {
   "cell_type": "code",
   "execution_count": 19,
   "metadata": {
    "ExecuteTime": {
     "end_time": "2020-05-24T13:28:49.737026Z",
     "start_time": "2020-05-24T13:28:49.734476Z"
    }
   },
   "outputs": [
    {
     "data": {
      "text/plain": [
       "['I',\n",
       " 'have',\n",
       " 'such',\n",
       " 'fantastic',\n",
       " 'friends',\n",
       " ',',\n",
       " 'including',\n",
       " 'several',\n",
       " 'ones',\n",
       " 'met',\n",
       " 'through',\n",
       " 'here',\n",
       " '!',\n",
       " 'thanks',\n",
       " 'for',\n",
       " 'being',\n",
       " 'in',\n",
       " 'my',\n",
       " 'life',\n",
       " '-',\n",
       " 'you',\n",
       " 'are',\n",
       " 'such',\n",
       " 'amazing',\n",
       " 'people',\n",
       " '!']"
      ]
     },
     "execution_count": 19,
     "metadata": {},
     "output_type": "execute_result"
    }
   ],
   "source": [
    "pred.loc[5121,'words']"
   ]
  },
  {
   "cell_type": "code",
   "execution_count": 22,
   "metadata": {
    "ExecuteTime": {
     "end_time": "2020-05-24T13:29:17.907275Z",
     "start_time": "2020-05-24T13:29:17.904437Z"
    }
   },
   "outputs": [
    {
     "data": {
      "text/plain": [
       "array([9.81185138e-02, 1.41678040e-03, 4.93733585e-03, 1.77191396e-03,\n",
       "       6.82277530e-02, 8.49719346e-03, 3.49782445e-02, 5.02023160e-01,\n",
       "       4.99137794e-04, 9.88097279e-04, 2.13963143e-03, 1.15508868e-04,\n",
       "       1.77697721e-03, 8.86982400e-03, 3.39606334e-03, 3.18561494e-03,\n",
       "       7.11473497e-03, 2.19332110e-02, 1.46088466e-01, 7.16459937e-04,\n",
       "       1.19606929e-03, 3.02357739e-03, 2.29963195e-03, 1.07984255e-04,\n",
       "       7.18443841e-03, 1.12657312e-04, 8.25565308e-03, 4.41139378e-03,\n",
       "       6.29264468e-05, 4.17986093e-03, 9.03637338e-05, 8.02920293e-03,\n",
       "       7.13601694e-05, 6.63818559e-03, 1.92632055e-04, 2.70112883e-04,\n",
       "       3.70642096e-02, 1.51517124e-05, 0.00000000e+00, 0.00000000e+00,\n",
       "       0.00000000e+00, 0.00000000e+00, 0.00000000e+00], dtype=float32)"
      ]
     },
     "execution_count": 22,
     "metadata": {},
     "output_type": "execute_result"
    }
   ],
   "source": [
    "pred.loc[5264,'start_pred']"
   ]
  },
  {
   "cell_type": "code",
   "execution_count": 23,
   "metadata": {
    "ExecuteTime": {
     "end_time": "2020-05-24T13:29:38.144635Z",
     "start_time": "2020-05-24T13:29:38.141586Z"
    }
   },
   "outputs": [
    {
     "data": {
      "text/plain": [
       "array([3.56165925e-04, 2.31539452e-04, 8.73471654e-05, 1.59801613e-03,\n",
       "       3.96914460e-04, 1.68386148e-04, 2.09067672e-04, 5.45909703e-01,\n",
       "       1.93442404e-02, 1.57455006e-03, 1.45811267e-04, 4.44929227e-02,\n",
       "       4.84313816e-03, 5.02101087e-04, 4.03384533e-04, 1.88563732e-04,\n",
       "       1.12367103e-04, 5.48380078e-04, 1.91551939e-01, 8.76957644e-03,\n",
       "       1.06053101e-03, 8.19328893e-03, 1.50607055e-04, 2.42818426e-02,\n",
       "       3.08785646e-04, 9.46327951e-03, 1.39125797e-03, 8.18730987e-05,\n",
       "       2.96283583e-03, 1.36234943e-04, 2.57435534e-03, 1.20302160e-04,\n",
       "       2.61232071e-03, 1.66190744e-04, 1.52182893e-03, 9.62494873e-03,\n",
       "       1.13905616e-01, 9.78956268e-06, 0.00000000e+00, 0.00000000e+00,\n",
       "       0.00000000e+00, 0.00000000e+00, 0.00000000e+00], dtype=float32)"
      ]
     },
     "execution_count": 23,
     "metadata": {},
     "output_type": "execute_result"
    }
   ],
   "source": [
    "pred.loc[5264,'end_pred']"
   ]
  },
  {
   "cell_type": "code",
   "execution_count": null,
   "metadata": {},
   "outputs": [],
   "source": []
  }
 ],
 "metadata": {
  "kernelspec": {
   "display_name": "Python 3",
   "language": "python",
   "name": "python3"
  },
  "language_info": {
   "codemirror_mode": {
    "name": "ipython",
    "version": 3
   },
   "file_extension": ".py",
   "mimetype": "text/x-python",
   "name": "python",
   "nbconvert_exporter": "python",
   "pygments_lexer": "ipython3",
   "version": "3.7.1"
  }
 },
 "nbformat": 4,
 "nbformat_minor": 2
}
