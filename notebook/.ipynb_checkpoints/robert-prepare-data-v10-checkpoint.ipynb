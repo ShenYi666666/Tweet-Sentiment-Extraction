{
 "cells": [
  {
   "cell_type": "code",
   "execution_count": 1,
   "metadata": {
    "ExecuteTime": {
     "end_time": "2020-06-14T13:07:58.224003Z",
     "start_time": "2020-06-14T13:07:56.851343Z"
    }
   },
   "outputs": [],
   "source": [
    "import pandas as pd\n",
    "import numpy as np\n",
    "from transformers import BertTokenizer\n",
    "from transformers import RobertaTokenizerFast, RobertaTokenizer"
   ]
  },
  {
   "cell_type": "code",
   "execution_count": 2,
   "metadata": {
    "ExecuteTime": {
     "end_time": "2020-06-14T13:07:58.266987Z",
     "start_time": "2020-06-14T13:07:58.225080Z"
    }
   },
   "outputs": [],
   "source": [
    "train = pd.read_csv('../input/tweet-sentiment-extraction/train.csv')"
   ]
  },
  {
   "cell_type": "code",
   "execution_count": 3,
   "metadata": {
    "ExecuteTime": {
     "end_time": "2020-06-14T13:07:58.311647Z",
     "start_time": "2020-06-14T13:07:58.267856Z"
    }
   },
   "outputs": [],
   "source": [
    "tokenizer = RobertaTokenizer.from_pretrained('../../bert_models/roberta_base/')"
   ]
  },
  {
   "cell_type": "code",
   "execution_count": 4,
   "metadata": {
    "ExecuteTime": {
     "end_time": "2020-06-14T13:08:00.662933Z",
     "start_time": "2020-06-14T13:08:00.656266Z"
    }
   },
   "outputs": [
    {
     "data": {
      "text/plain": [
       "['Ġ', 'Ġ', 'Ġ\"', 'hello', 'Ġ', 'Ġworld', '\"']"
      ]
     },
     "execution_count": 4,
     "metadata": {},
     "output_type": "execute_result"
    }
   ],
   "source": [
    "tokenizer.tokenize(\"   \\\"hello  world\\\"\")"
   ]
  },
  {
   "cell_type": "code",
   "execution_count": 8,
   "metadata": {
    "ExecuteTime": {
     "end_time": "2020-06-14T13:08:12.950243Z",
     "start_time": "2020-06-14T13:08:12.948183Z"
    }
   },
   "outputs": [],
   "source": [
    "token = tokenizer.tokenize(\"   hello  world\")"
   ]
  },
  {
   "cell_type": "code",
   "execution_count": 6,
   "metadata": {
    "ExecuteTime": {
     "end_time": "2020-06-14T13:08:02.371080Z",
     "start_time": "2020-06-14T13:08:02.368339Z"
    }
   },
   "outputs": [
    {
     "data": {
      "text/plain": [
       "['Ġ', 'Ġa']"
      ]
     },
     "execution_count": 6,
     "metadata": {},
     "output_type": "execute_result"
    }
   ],
   "source": [
    "tokenizer.tokenize(\"  a\")"
   ]
  },
  {
   "cell_type": "code",
   "execution_count": 11,
   "metadata": {
    "ExecuteTime": {
     "end_time": "2020-06-14T13:08:40.589290Z",
     "start_time": "2020-06-14T13:08:40.586919Z"
    }
   },
   "outputs": [
    {
     "data": {
      "text/plain": [
       "['Ġ', 'Ġ', 'Ġhello', 'Ġ', 'Ġworld']"
      ]
     },
     "execution_count": 11,
     "metadata": {},
     "output_type": "execute_result"
    }
   ],
   "source": [
    "token"
   ]
  },
  {
   "cell_type": "code",
   "execution_count": 16,
   "metadata": {
    "ExecuteTime": {
     "end_time": "2020-06-14T13:09:28.903643Z",
     "start_time": "2020-06-14T13:09:28.901557Z"
    }
   },
   "outputs": [],
   "source": [
    "sentiment2= ['neutral', 'sadness', 'worry', 'hate', 'happiness', 'empty',\n",
    "       'surprise', 'love', 'fun', 'relief', 'enthusiasm', 'boredom',\n",
    "       'anger']\n",
    "inputs = tokenizer.encode_plus('neutral'+' sadness', token, add_special_tokens=True)"
   ]
  },
  {
   "cell_type": "code",
   "execution_count": 17,
   "metadata": {
    "ExecuteTime": {
     "end_time": "2020-06-14T13:09:29.693175Z",
     "start_time": "2020-06-14T13:09:29.690461Z"
    }
   },
   "outputs": [
    {
     "data": {
      "text/plain": [
       "{'input_ids': [0, 7974, 17437, 2, 2, 1437, 1437, 20760, 1437, 232, 2], 'attention_mask': [1, 1, 1, 1, 1, 1, 1, 1, 1, 1, 1]}"
      ]
     },
     "execution_count": 17,
     "metadata": {},
     "output_type": "execute_result"
    }
   ],
   "source": [
    "inputs"
   ]
  },
  {
   "cell_type": "code",
   "execution_count": null,
   "metadata": {},
   "outputs": [],
   "source": []
  },
  {
   "cell_type": "code",
   "execution_count": 28,
   "metadata": {
    "ExecuteTime": {
     "end_time": "2020-06-08T06:00:09.492424Z",
     "start_time": "2020-06-08T06:00:09.485535Z"
    }
   },
   "outputs": [
    {
     "name": "stdout",
     "output_type": "stream",
     "text": [
      "[' ', ' ', ' ', 'hello', ',', ' ', ' ', 'world']\n",
      "[0, 1, 2, 3, 8, 9, 10, 11]\n"
     ]
    }
   ],
   "source": [
    "words = []\n",
    "offsets = []\n",
    "prev_punc = True\n",
    "text = \"   hello,  world\"\n",
    "for idx, c in enumerate(text):\n",
    "    \n",
    "    if c in [' ','.',',','!','?','(',')',';',':','-','=',\"/\",\"<\",\"`\"]:\n",
    "        prev_punc = True\n",
    "        words.append(c)\n",
    "        offsets.append(idx)\n",
    "    else:\n",
    "        if prev_punc:\n",
    "            words.append(c)\n",
    "            offsets.append(idx)\n",
    "            prev_punc = False\n",
    "        else:\n",
    "            words[-1]+=c\n",
    "            \n",
    "print(words)\n",
    "print(offsets)"
   ]
  },
  {
   "cell_type": "code",
   "execution_count": 30,
   "metadata": {
    "ExecuteTime": {
     "end_time": "2020-06-08T06:01:30.360040Z",
     "start_time": "2020-06-08T06:01:30.354016Z"
    }
   },
   "outputs": [
    {
     "name": "stdout",
     "output_type": "stream",
     "text": [
      "['Ġ', 'Ġ', 'Ġ', 'Ġhello', ',', 'Ġ', 'Ġ', 'Ġworld']\n"
     ]
    }
   ],
   "source": [
    "tokens = []\n",
    "for word_idx, word in enumerate(words):\n",
    "    if word_idx>0 and words[word_idx-1]==' ':\n",
    "        prefix = ' '\n",
    "    else:\n",
    "        prefix = ''\n",
    "    if word==' ':\n",
    "        tokens.append(\"Ġ\")\n",
    "    else:\n",
    "        for token in tokenizer.tokenize(prefix+word):\n",
    "            tokens.append(token)\n",
    "print(tokens)"
   ]
  },
  {
   "cell_type": "code",
   "execution_count": 14,
   "metadata": {
    "ExecuteTime": {
     "end_time": "2020-06-07T09:31:11.032665Z",
     "start_time": "2020-06-07T09:31:11.026798Z"
    }
   },
   "outputs": [],
   "source": [
    "def get_extra_space_count(x):\n",
    "    prev_space = True\n",
    "    space_counts = []\n",
    "    count = 0\n",
    "    for c in x:\n",
    "        if c==' ':\n",
    "            if prev_space:\n",
    "                count+=1\n",
    "            space_counts.append(count)\n",
    "            prev_space = True\n",
    "        else:\n",
    "            space_counts.append(count)\n",
    "            prev_space = False\n",
    "    return space_counts\n",
    "            "
   ]
  },
  {
   "cell_type": "code",
   "execution_count": 15,
   "metadata": {
    "ExecuteTime": {
     "end_time": "2020-06-07T09:31:24.170745Z",
     "start_time": "2020-06-07T09:31:24.163164Z"
    }
   },
   "outputs": [
    {
     "name": "stdout",
     "output_type": "stream",
     "text": [
      "[1, 2, 3, 3, 3, 3, 3, 3, 3, 4, 4, 4, 4, 4, 4]\n"
     ]
    }
   ],
   "source": [
    "print(get_extra_space_count('   hello  world'))"
   ]
  },
  {
   "cell_type": "code",
   "execution_count": null,
   "metadata": {},
   "outputs": [],
   "source": []
  }
 ],
 "metadata": {
  "kernelspec": {
   "display_name": "Python 3",
   "language": "python",
   "name": "python3"
  },
  "language_info": {
   "codemirror_mode": {
    "name": "ipython",
    "version": 3
   },
   "file_extension": ".py",
   "mimetype": "text/x-python",
   "name": "python",
   "nbconvert_exporter": "python",
   "pygments_lexer": "ipython3",
   "version": "3.7.1"
  }
 },
 "nbformat": 4,
 "nbformat_minor": 2
}
