{
 "cells": [
  {
   "cell_type": "code",
   "execution_count": 1,
   "metadata": {
    "ExecuteTime": {
     "end_time": "2020-05-07T13:19:14.218016Z",
     "start_time": "2020-05-07T13:19:11.693001Z"
    }
   },
   "outputs": [],
   "source": [
    "import pandas as pd\n",
    "import numpy as np\n",
    "from transformers import BertTokenizer\n",
    "from transformers import RobertaTokenizer"
   ]
  },
  {
   "cell_type": "code",
   "execution_count": 2,
   "metadata": {
    "ExecuteTime": {
     "end_time": "2020-05-07T13:19:14.222816Z",
     "start_time": "2020-05-07T13:19:14.219212Z"
    }
   },
   "outputs": [],
   "source": [
    "def _improve_answer_span(doc_tokens, input_start, input_end, tokenizer, orig_answer_text):\n",
    "    \"\"\"Returns tokenized answer spans that better match the annotated answer.\"\"\"\n",
    "    tok_answer_text = \" \".join(tokenizer.tokenize(orig_answer_text))\n",
    "\n",
    "    for new_start in range(input_start, input_end + 1):\n",
    "        for new_end in range(input_end, new_start - 1, -1):\n",
    "            text_span = \" \".join(doc_tokens[new_start : (new_end + 1)])\n",
    "            if text_span == tok_answer_text:\n",
    "                return (new_start, new_end)\n",
    "\n",
    "    return (input_start, input_end)"
   ]
  },
  {
   "cell_type": "code",
   "execution_count": 3,
   "metadata": {
    "ExecuteTime": {
     "end_time": "2020-05-07T13:19:14.272612Z",
     "start_time": "2020-05-07T13:19:14.223778Z"
    }
   },
   "outputs": [],
   "source": [
    "train = pd.read_csv('../input/tweet-sentiment-extraction/train.csv')"
   ]
  },
  {
   "cell_type": "code",
   "execution_count": 4,
   "metadata": {
    "ExecuteTime": {
     "end_time": "2020-05-07T13:19:14.317667Z",
     "start_time": "2020-05-07T13:19:14.273400Z"
    }
   },
   "outputs": [],
   "source": [
    "tokenizer = RobertaTokenizer.from_pretrained('../../bert_models/roberta_base/')"
   ]
  },
  {
   "cell_type": "code",
   "execution_count": 5,
   "metadata": {
    "ExecuteTime": {
     "end_time": "2020-05-07T13:19:14.323635Z",
     "start_time": "2020-05-07T13:19:14.318935Z"
    }
   },
   "outputs": [
    {
     "data": {
      "text/plain": [
       "(27481, 4)"
      ]
     },
     "execution_count": 5,
     "metadata": {},
     "output_type": "execute_result"
    }
   ],
   "source": [
    "train.shape"
   ]
  },
  {
   "cell_type": "code",
   "execution_count": 6,
   "metadata": {
    "ExecuteTime": {
     "end_time": "2020-05-07T13:19:14.332304Z",
     "start_time": "2020-05-07T13:19:14.324495Z"
    }
   },
   "outputs": [],
   "source": [
    "train.dropna(subset=['text','selected_text'], how='any', inplace=True)"
   ]
  },
  {
   "cell_type": "code",
   "execution_count": 7,
   "metadata": {
    "ExecuteTime": {
     "end_time": "2020-05-07T13:19:14.335099Z",
     "start_time": "2020-05-07T13:19:14.333195Z"
    }
   },
   "outputs": [
    {
     "data": {
      "text/plain": [
       "(27480, 4)"
      ]
     },
     "execution_count": 7,
     "metadata": {},
     "output_type": "execute_result"
    }
   ],
   "source": [
    "train.shape"
   ]
  },
  {
   "cell_type": "code",
   "execution_count": 8,
   "metadata": {
    "ExecuteTime": {
     "end_time": "2020-05-07T13:19:14.384192Z",
     "start_time": "2020-05-07T13:19:14.335802Z"
    }
   },
   "outputs": [],
   "source": [
    "train['text'] = train['text'].apply(lambda x: ' '.join(x.lower().strip().split()))\n",
    "train['selected_text'] = train['selected_text'].apply(lambda x: ' '.join(x.lower().strip().split()))"
   ]
  },
  {
   "cell_type": "code",
   "execution_count": 9,
   "metadata": {
    "ExecuteTime": {
     "end_time": "2020-05-07T13:19:14.391123Z",
     "start_time": "2020-05-07T13:19:14.385134Z"
    }
   },
   "outputs": [
    {
     "data": {
      "text/html": [
       "<div>\n",
       "<style scoped>\n",
       "    .dataframe tbody tr th:only-of-type {\n",
       "        vertical-align: middle;\n",
       "    }\n",
       "\n",
       "    .dataframe tbody tr th {\n",
       "        vertical-align: top;\n",
       "    }\n",
       "\n",
       "    .dataframe thead th {\n",
       "        text-align: right;\n",
       "    }\n",
       "</style>\n",
       "<table border=\"1\" class=\"dataframe\">\n",
       "  <thead>\n",
       "    <tr style=\"text-align: right;\">\n",
       "      <th></th>\n",
       "      <th>textID</th>\n",
       "      <th>text</th>\n",
       "      <th>selected_text</th>\n",
       "      <th>sentiment</th>\n",
       "    </tr>\n",
       "  </thead>\n",
       "  <tbody>\n",
       "    <tr>\n",
       "      <th>0</th>\n",
       "      <td>cb774db0d1</td>\n",
       "      <td>i`d have responded, if i were going</td>\n",
       "      <td>i`d have responded, if i were going</td>\n",
       "      <td>neutral</td>\n",
       "    </tr>\n",
       "    <tr>\n",
       "      <th>1</th>\n",
       "      <td>549e992a42</td>\n",
       "      <td>sooo sad i will miss you here in san diego!!!</td>\n",
       "      <td>sooo sad</td>\n",
       "      <td>negative</td>\n",
       "    </tr>\n",
       "    <tr>\n",
       "      <th>2</th>\n",
       "      <td>088c60f138</td>\n",
       "      <td>my boss is bullying me...</td>\n",
       "      <td>bullying me</td>\n",
       "      <td>negative</td>\n",
       "    </tr>\n",
       "    <tr>\n",
       "      <th>3</th>\n",
       "      <td>9642c003ef</td>\n",
       "      <td>what interview! leave me alone</td>\n",
       "      <td>leave me alone</td>\n",
       "      <td>negative</td>\n",
       "    </tr>\n",
       "    <tr>\n",
       "      <th>4</th>\n",
       "      <td>358bd9e861</td>\n",
       "      <td>sons of ****, why couldn`t they put them on th...</td>\n",
       "      <td>sons of ****,</td>\n",
       "      <td>negative</td>\n",
       "    </tr>\n",
       "  </tbody>\n",
       "</table>\n",
       "</div>"
      ],
      "text/plain": [
       "       textID                                               text  \\\n",
       "0  cb774db0d1                i`d have responded, if i were going   \n",
       "1  549e992a42      sooo sad i will miss you here in san diego!!!   \n",
       "2  088c60f138                          my boss is bullying me...   \n",
       "3  9642c003ef                     what interview! leave me alone   \n",
       "4  358bd9e861  sons of ****, why couldn`t they put them on th...   \n",
       "\n",
       "                         selected_text sentiment  \n",
       "0  i`d have responded, if i were going   neutral  \n",
       "1                             sooo sad  negative  \n",
       "2                          bullying me  negative  \n",
       "3                       leave me alone  negative  \n",
       "4                        sons of ****,  negative  "
      ]
     },
     "execution_count": 9,
     "metadata": {},
     "output_type": "execute_result"
    }
   ],
   "source": [
    "train.head()"
   ]
  },
  {
   "cell_type": "code",
   "execution_count": 10,
   "metadata": {
    "ExecuteTime": {
     "end_time": "2020-05-07T13:19:16.445194Z",
     "start_time": "2020-05-07T13:19:16.442174Z"
    }
   },
   "outputs": [],
   "source": [
    "def clean(x):\n",
    "    sp_x = x.split()\n",
    "    if len(sp_x[0])==1 and len(sp_x)>1 and sp_x[0].lower() not in ['i','a','u'] and not sp_x[0].isdigit():\n",
    "        print(x, '|', ' '.join(sp_x[1:]))\n",
    "        return ' '.join(sp_x[1:])\n",
    "    return x"
   ]
  },
  {
   "cell_type": "code",
   "execution_count": 11,
   "metadata": {
    "ExecuteTime": {
     "end_time": "2020-05-07T13:19:21.179331Z",
     "start_time": "2020-05-07T13:19:20.999859Z"
    }
   },
   "outputs": [],
   "source": [
    "# train['c_selected_text'] = train['selected_text'].apply(lambda x: clean(x))\n",
    "train['c_selected_text'] = train['selected_text']"
   ]
  },
  {
   "cell_type": "code",
   "execution_count": 12,
   "metadata": {
    "ExecuteTime": {
     "end_time": "2020-05-07T13:19:26.125745Z",
     "start_time": "2020-05-07T13:19:25.489209Z"
    }
   },
   "outputs": [],
   "source": [
    "train['start_pos'] = train.apply(lambda x: x['text'].find(x['c_selected_text']), axis=1)\n",
    "train['end_pos'] = train.apply(lambda x: x['start_pos']+len(x['c_selected_text']), axis=1)"
   ]
  },
  {
   "cell_type": "code",
   "execution_count": 13,
   "metadata": {
    "ExecuteTime": {
     "end_time": "2020-05-07T13:19:26.129539Z",
     "start_time": "2020-05-07T13:19:26.126812Z"
    }
   },
   "outputs": [],
   "source": [
    "def contains(a, b):\n",
    "    for i in range(0, len(a)-len(b)+1):\n",
    "        flag = True\n",
    "        for j in range(0, len(b)):\n",
    "            if a[i+j]!=b[j]:\n",
    "                flag = False\n",
    "                break\n",
    "        if flag:\n",
    "            return True, i\n",
    "    return False, -1"
   ]
  },
  {
   "cell_type": "code",
   "execution_count": 14,
   "metadata": {
    "ExecuteTime": {
     "end_time": "2020-05-07T13:19:39.203921Z",
     "start_time": "2020-05-07T13:19:26.717504Z"
    }
   },
   "outputs": [
    {
     "ename": "ValueError",
     "evalue": "min() arg is an empty sequence",
     "output_type": "error",
     "traceback": [
      "\u001b[0;31m---------------------------------------------------------------------------\u001b[0m",
      "\u001b[0;31mValueError\u001b[0m                                Traceback (most recent call last)",
      "\u001b[0;32m<ipython-input-14-436980db30cc>\u001b[0m in \u001b[0;36m<module>\u001b[0;34m\u001b[0m\n\u001b[1;32m     42\u001b[0m                 \u001b[0min_st\u001b[0m\u001b[0;34m.\u001b[0m\u001b[0mappend\u001b[0m\u001b[0;34m(\u001b[0m\u001b[0;36m0\u001b[0m\u001b[0;34m)\u001b[0m\u001b[0;34m\u001b[0m\u001b[0;34m\u001b[0m\u001b[0m\n\u001b[1;32m     43\u001b[0m         \u001b[0mcur_length\u001b[0m\u001b[0;34m+=\u001b[0m\u001b[0mlen\u001b[0m\u001b[0;34m(\u001b[0m\u001b[0mw\u001b[0m\u001b[0;34m)\u001b[0m\u001b[0;34m\u001b[0m\u001b[0;34m\u001b[0m\u001b[0m\n\u001b[0;32m---> 44\u001b[0;31m     \u001b[0mstart_token_idx\u001b[0m \u001b[0;34m=\u001b[0m \u001b[0mmin\u001b[0m\u001b[0;34m(\u001b[0m\u001b[0mlabels\u001b[0m\u001b[0;34m)\u001b[0m\u001b[0;34m\u001b[0m\u001b[0;34m\u001b[0m\u001b[0m\n\u001b[0m\u001b[1;32m     45\u001b[0m     \u001b[0mend_token_idx\u001b[0m \u001b[0;34m=\u001b[0m \u001b[0mmax\u001b[0m\u001b[0;34m(\u001b[0m\u001b[0mlabels\u001b[0m\u001b[0;34m)\u001b[0m\u001b[0;34m\u001b[0m\u001b[0;34m\u001b[0m\u001b[0m\n\u001b[1;32m     46\u001b[0m     start_token_idx, end_token_idx = _improve_answer_span(tokens, start_token_idx, end_token_idx,\n",
      "\u001b[0;31mValueError\u001b[0m: min() arg is an empty sequence"
     ]
    }
   ],
   "source": [
    "data = []\n",
    "improve_count = 0\n",
    "for text, sp, ep, st in zip(train['text'].tolist(), train['start_pos'].tolist(), train['end_pos'].tolist(),\n",
    "                           train['c_selected_text'].tolist()):\n",
    "    split_text = text.split()\n",
    "    tokens, labels, invert_map, first_token, in_st = [], [], [], [], []\n",
    "    \n",
    "    # token in selected_tokens\n",
    "    temp = np.zeros(len(text))\n",
    "    \n",
    "    end_pos = 0\n",
    "    start_pos = text.find(st, end_pos)\n",
    "    while start_pos>=0:\n",
    "        end_pos = start_pos+len(st)\n",
    "        temp[start_pos:end_pos]=1\n",
    "        start_pos = text.find(st, end_pos)\n",
    "    \n",
    "    st = st.replace(\"`\",\"'\")\n",
    "    st_words = st.split()\n",
    "    st_tokens = tokenizer.tokenize(' '+st)\n",
    "    if len(st_words)/len(split_text)>0.9:\n",
    "        all_sentence = 1\n",
    "    else:\n",
    "        all_sentence = 0\n",
    "    cur_length = 0\n",
    "    \n",
    "    \n",
    "    for idx, w in enumerate(split_text):\n",
    "        w = w.replace(\"`\",\"'\")\n",
    "        if sum(temp[cur_length+idx:cur_length+idx+len(w)])>0:\n",
    "            started = True# space\n",
    "        else:\n",
    "            started = False\n",
    "        for idx2, token in enumerate(tokenizer.tokenize(' '+w)):\n",
    "            first_token.append(True if idx2==0 else False)\n",
    "            tokens.append(token)\n",
    "            invert_map.append(idx)\n",
    "            if started:\n",
    "                labels.append(len(tokens)-1)\n",
    "                in_st.append(1)\n",
    "            else:\n",
    "                in_st.append(0)\n",
    "        cur_length+=len(w)\n",
    "    start_token_idx = min(labels)\n",
    "    end_token_idx = max(labels)\n",
    "    start_token_idx, end_token_idx = _improve_answer_span(tokens, start_token_idx, end_token_idx,\n",
    "                                                         tokenizer, ' '+st)\n",
    "    start_token_idx, end_token_idx = _improve_answer_span(tokens, start_token_idx, end_token_idx,\n",
    "                                                         tokenizer, st)\n",
    "    \n",
    "    start_word_idx = invert_map[start_token_idx]\n",
    "    end_word_idx = invert_map[end_token_idx]+1\n",
    "    \n",
    "    data.append((tokens, start_token_idx, end_token_idx, invert_map, first_token, in_st, all_sentence))"
   ]
  },
  {
   "cell_type": "code",
   "execution_count": 15,
   "metadata": {},
   "outputs": [
    {
     "data": {
      "text/plain": [
       "'oww'"
      ]
     },
     "execution_count": 15,
     "metadata": {},
     "output_type": "execute_result"
    }
   ],
   "source": [
    "st"
   ]
  },
  {
   "cell_type": "code",
   "execution_count": 16,
   "metadata": {},
   "outputs": [
    {
     "data": {
      "text/plain": [
       "'lost my tooth 2day whilst i was eating gum...oww'"
      ]
     },
     "execution_count": 16,
     "metadata": {},
     "output_type": "execute_result"
    }
   ],
   "source": [
    "text"
   ]
  },
  {
   "cell_type": "code",
   "execution_count": 17,
   "metadata": {},
   "outputs": [
    {
     "data": {
      "text/plain": [
       "['Ġgum', '...', 'ow', 'w']"
      ]
     },
     "execution_count": 17,
     "metadata": {},
     "output_type": "execute_result"
    }
   ],
   "source": [
    "tokenizer.tokenize(' gum...oww')"
   ]
  },
  {
   "cell_type": "code",
   "execution_count": 15,
   "metadata": {
    "ExecuteTime": {
     "end_time": "2020-05-07T13:19:39.272930Z",
     "start_time": "2020-05-07T13:19:39.205009Z"
    }
   },
   "outputs": [],
   "source": [
    "tokens, start, end, invert_map, first_token, in_st, all_sentence = zip(*data)"
   ]
  },
  {
   "cell_type": "code",
   "execution_count": 16,
   "metadata": {
    "ExecuteTime": {
     "end_time": "2020-05-07T13:19:39.275914Z",
     "start_time": "2020-05-07T13:19:39.273772Z"
    }
   },
   "outputs": [
    {
     "data": {
      "text/plain": [
       "27480"
      ]
     },
     "execution_count": 16,
     "metadata": {},
     "output_type": "execute_result"
    }
   ],
   "source": [
    "len(tokens)"
   ]
  },
  {
   "cell_type": "code",
   "execution_count": 17,
   "metadata": {
    "ExecuteTime": {
     "end_time": "2020-05-07T13:19:39.294450Z",
     "start_time": "2020-05-07T13:19:39.276738Z"
    }
   },
   "outputs": [],
   "source": [
    "train['tokens'] = tokens"
   ]
  },
  {
   "cell_type": "code",
   "execution_count": 18,
   "metadata": {
    "ExecuteTime": {
     "end_time": "2020-05-07T13:19:39.332412Z",
     "start_time": "2020-05-07T13:19:39.296578Z"
    }
   },
   "outputs": [],
   "source": [
    "train['start'] = start\n",
    "train['end'] = end\n",
    "train['invert_map'] = invert_map\n",
    "train['first_token'] = first_token\n",
    "train['in_st'] = in_st\n",
    "train['all_sentence'] = all_sentence"
   ]
  },
  {
   "cell_type": "code",
   "execution_count": 19,
   "metadata": {
    "ExecuteTime": {
     "end_time": "2020-05-07T13:19:39.341011Z",
     "start_time": "2020-05-07T13:19:39.333361Z"
    }
   },
   "outputs": [],
   "source": [
    "senti2label = {\n",
    "    'positive':2,\n",
    "    'negative':0,\n",
    "    'neutral':1\n",
    "}\n",
    "train['senti_label']=train['sentiment'].apply(lambda x: senti2label[x])"
   ]
  },
  {
   "cell_type": "code",
   "execution_count": 20,
   "metadata": {
    "ExecuteTime": {
     "end_time": "2020-05-07T13:19:39.343837Z",
     "start_time": "2020-05-07T13:19:39.341922Z"
    }
   },
   "outputs": [],
   "source": [
    "train.reset_index(drop=True, inplace=True)"
   ]
  },
  {
   "cell_type": "code",
   "execution_count": 21,
   "metadata": {
    "ExecuteTime": {
     "end_time": "2020-05-07T13:19:39.356028Z",
     "start_time": "2020-05-07T13:19:39.344634Z"
    }
   },
   "outputs": [
    {
     "data": {
      "text/html": [
       "<div>\n",
       "<style scoped>\n",
       "    .dataframe tbody tr th:only-of-type {\n",
       "        vertical-align: middle;\n",
       "    }\n",
       "\n",
       "    .dataframe tbody tr th {\n",
       "        vertical-align: top;\n",
       "    }\n",
       "\n",
       "    .dataframe thead th {\n",
       "        text-align: right;\n",
       "    }\n",
       "</style>\n",
       "<table border=\"1\" class=\"dataframe\">\n",
       "  <thead>\n",
       "    <tr style=\"text-align: right;\">\n",
       "      <th></th>\n",
       "      <th>textID</th>\n",
       "      <th>text</th>\n",
       "      <th>selected_text</th>\n",
       "      <th>sentiment</th>\n",
       "      <th>c_selected_text</th>\n",
       "      <th>start_pos</th>\n",
       "      <th>end_pos</th>\n",
       "      <th>tokens</th>\n",
       "      <th>start</th>\n",
       "      <th>end</th>\n",
       "      <th>invert_map</th>\n",
       "      <th>first_token</th>\n",
       "      <th>in_st</th>\n",
       "      <th>all_sentence</th>\n",
       "      <th>senti_label</th>\n",
       "    </tr>\n",
       "  </thead>\n",
       "  <tbody>\n",
       "    <tr>\n",
       "      <th>0</th>\n",
       "      <td>cb774db0d1</td>\n",
       "      <td>i`d have responded, if i were going</td>\n",
       "      <td>i`d have responded, if i were going</td>\n",
       "      <td>neutral</td>\n",
       "      <td>i`d have responded, if i were going</td>\n",
       "      <td>0</td>\n",
       "      <td>35</td>\n",
       "      <td>[Ġi, 'd, Ġhave, Ġresponded, ,, Ġif, Ġi, Ġwere,...</td>\n",
       "      <td>0</td>\n",
       "      <td>8</td>\n",
       "      <td>[0, 0, 1, 2, 2, 3, 4, 5, 6]</td>\n",
       "      <td>[True, False, True, True, False, True, True, T...</td>\n",
       "      <td>[1, 1, 1, 1, 1, 1, 1, 1, 1]</td>\n",
       "      <td>1</td>\n",
       "      <td>1</td>\n",
       "    </tr>\n",
       "    <tr>\n",
       "      <th>1</th>\n",
       "      <td>549e992a42</td>\n",
       "      <td>sooo sad i will miss you here in san diego!!!</td>\n",
       "      <td>sooo sad</td>\n",
       "      <td>negative</td>\n",
       "      <td>sooo sad</td>\n",
       "      <td>0</td>\n",
       "      <td>8</td>\n",
       "      <td>[Ġso, oo, Ġsad, Ġi, Ġwill, Ġmiss, Ġyou, Ġhere,...</td>\n",
       "      <td>0</td>\n",
       "      <td>2</td>\n",
       "      <td>[0, 0, 1, 2, 3, 4, 5, 6, 7, 8, 9, 9, 9]</td>\n",
       "      <td>[True, False, True, True, True, True, True, Tr...</td>\n",
       "      <td>[1, 1, 1, 0, 0, 0, 0, 0, 0, 0, 0, 0, 0]</td>\n",
       "      <td>0</td>\n",
       "      <td>0</td>\n",
       "    </tr>\n",
       "    <tr>\n",
       "      <th>2</th>\n",
       "      <td>088c60f138</td>\n",
       "      <td>my boss is bullying me...</td>\n",
       "      <td>bullying me</td>\n",
       "      <td>negative</td>\n",
       "      <td>bullying me</td>\n",
       "      <td>11</td>\n",
       "      <td>22</td>\n",
       "      <td>[Ġmy, Ġboss, Ġis, Ġbullying, Ġme, ...]</td>\n",
       "      <td>3</td>\n",
       "      <td>4</td>\n",
       "      <td>[0, 1, 2, 3, 4, 4]</td>\n",
       "      <td>[True, True, True, True, True, False]</td>\n",
       "      <td>[0, 0, 0, 1, 1, 1]</td>\n",
       "      <td>0</td>\n",
       "      <td>0</td>\n",
       "    </tr>\n",
       "    <tr>\n",
       "      <th>3</th>\n",
       "      <td>9642c003ef</td>\n",
       "      <td>what interview! leave me alone</td>\n",
       "      <td>leave me alone</td>\n",
       "      <td>negative</td>\n",
       "      <td>leave me alone</td>\n",
       "      <td>16</td>\n",
       "      <td>30</td>\n",
       "      <td>[Ġwhat, Ġinterview, !, Ġleave, Ġme, Ġalone]</td>\n",
       "      <td>3</td>\n",
       "      <td>5</td>\n",
       "      <td>[0, 1, 1, 2, 3, 4]</td>\n",
       "      <td>[True, True, False, True, True, True]</td>\n",
       "      <td>[0, 0, 0, 1, 1, 1]</td>\n",
       "      <td>0</td>\n",
       "      <td>0</td>\n",
       "    </tr>\n",
       "    <tr>\n",
       "      <th>4</th>\n",
       "      <td>358bd9e861</td>\n",
       "      <td>sons of ****, why couldn`t they put them on th...</td>\n",
       "      <td>sons of ****,</td>\n",
       "      <td>negative</td>\n",
       "      <td>sons of ****,</td>\n",
       "      <td>0</td>\n",
       "      <td>13</td>\n",
       "      <td>[Ġsons, Ġof, Ġ****, ,, Ġwhy, Ġcouldn, 't, Ġthe...</td>\n",
       "      <td>0</td>\n",
       "      <td>3</td>\n",
       "      <td>[0, 1, 2, 2, 3, 4, 4, 5, 6, 7, 8, 9, 10, 11, 1...</td>\n",
       "      <td>[True, True, True, False, True, True, False, T...</td>\n",
       "      <td>[1, 1, 1, 1, 0, 0, 0, 0, 0, 0, 0, 0, 0, 0, 0, 0]</td>\n",
       "      <td>0</td>\n",
       "      <td>0</td>\n",
       "    </tr>\n",
       "  </tbody>\n",
       "</table>\n",
       "</div>"
      ],
      "text/plain": [
       "       textID                                               text  \\\n",
       "0  cb774db0d1                i`d have responded, if i were going   \n",
       "1  549e992a42      sooo sad i will miss you here in san diego!!!   \n",
       "2  088c60f138                          my boss is bullying me...   \n",
       "3  9642c003ef                     what interview! leave me alone   \n",
       "4  358bd9e861  sons of ****, why couldn`t they put them on th...   \n",
       "\n",
       "                         selected_text sentiment  \\\n",
       "0  i`d have responded, if i were going   neutral   \n",
       "1                             sooo sad  negative   \n",
       "2                          bullying me  negative   \n",
       "3                       leave me alone  negative   \n",
       "4                        sons of ****,  negative   \n",
       "\n",
       "                       c_selected_text  start_pos  end_pos  \\\n",
       "0  i`d have responded, if i were going          0       35   \n",
       "1                             sooo sad          0        8   \n",
       "2                          bullying me         11       22   \n",
       "3                       leave me alone         16       30   \n",
       "4                        sons of ****,          0       13   \n",
       "\n",
       "                                              tokens  start  end  \\\n",
       "0  [Ġi, 'd, Ġhave, Ġresponded, ,, Ġif, Ġi, Ġwere,...      0    8   \n",
       "1  [Ġso, oo, Ġsad, Ġi, Ġwill, Ġmiss, Ġyou, Ġhere,...      0    2   \n",
       "2             [Ġmy, Ġboss, Ġis, Ġbullying, Ġme, ...]      3    4   \n",
       "3        [Ġwhat, Ġinterview, !, Ġleave, Ġme, Ġalone]      3    5   \n",
       "4  [Ġsons, Ġof, Ġ****, ,, Ġwhy, Ġcouldn, 't, Ġthe...      0    3   \n",
       "\n",
       "                                          invert_map  \\\n",
       "0                        [0, 0, 1, 2, 2, 3, 4, 5, 6]   \n",
       "1            [0, 0, 1, 2, 3, 4, 5, 6, 7, 8, 9, 9, 9]   \n",
       "2                                 [0, 1, 2, 3, 4, 4]   \n",
       "3                                 [0, 1, 1, 2, 3, 4]   \n",
       "4  [0, 1, 2, 2, 3, 4, 4, 5, 6, 7, 8, 9, 10, 11, 1...   \n",
       "\n",
       "                                         first_token  \\\n",
       "0  [True, False, True, True, False, True, True, T...   \n",
       "1  [True, False, True, True, True, True, True, Tr...   \n",
       "2              [True, True, True, True, True, False]   \n",
       "3              [True, True, False, True, True, True]   \n",
       "4  [True, True, True, False, True, True, False, T...   \n",
       "\n",
       "                                              in_st  all_sentence  senti_label  \n",
       "0                       [1, 1, 1, 1, 1, 1, 1, 1, 1]             1            1  \n",
       "1           [1, 1, 1, 0, 0, 0, 0, 0, 0, 0, 0, 0, 0]             0            0  \n",
       "2                                [0, 0, 0, 1, 1, 1]             0            0  \n",
       "3                                [0, 0, 0, 1, 1, 1]             0            0  \n",
       "4  [1, 1, 1, 1, 0, 0, 0, 0, 0, 0, 0, 0, 0, 0, 0, 0]             0            0  "
      ]
     },
     "execution_count": 21,
     "metadata": {},
     "output_type": "execute_result"
    }
   ],
   "source": [
    "train.head()"
   ]
  },
  {
   "cell_type": "code",
   "execution_count": 22,
   "metadata": {
    "ExecuteTime": {
     "end_time": "2020-05-07T13:19:39.364077Z",
     "start_time": "2020-05-07T13:19:39.357010Z"
    }
   },
   "outputs": [],
   "source": [
    "from sklearn.model_selection import StratifiedKFold"
   ]
  },
  {
   "cell_type": "code",
   "execution_count": 23,
   "metadata": {
    "ExecuteTime": {
     "end_time": "2020-05-07T13:19:39.376937Z",
     "start_time": "2020-05-07T13:19:39.368690Z"
    }
   },
   "outputs": [
    {
     "data": {
      "text/plain": [
       "(27480, 15)"
      ]
     },
     "execution_count": 23,
     "metadata": {},
     "output_type": "execute_result"
    }
   ],
   "source": [
    "train.shape"
   ]
  },
  {
   "cell_type": "code",
   "execution_count": 24,
   "metadata": {
    "ExecuteTime": {
     "end_time": "2020-05-07T13:19:39.393072Z",
     "start_time": "2020-05-07T13:19:39.382024Z"
    }
   },
   "outputs": [],
   "source": [
    "local_test_id = pd.read_pickle('../input/localtest_ids.pkl')"
   ]
  },
  {
   "cell_type": "code",
   "execution_count": 25,
   "metadata": {
    "ExecuteTime": {
     "end_time": "2020-05-07T13:19:39.431413Z",
     "start_time": "2020-05-07T13:19:39.397950Z"
    }
   },
   "outputs": [],
   "source": [
    "local_test = train[train['textID'].isin(local_test_id['textID'].tolist())]"
   ]
  },
  {
   "cell_type": "code",
   "execution_count": 26,
   "metadata": {
    "ExecuteTime": {
     "end_time": "2020-05-07T13:19:39.445132Z",
     "start_time": "2020-05-07T13:19:39.432589Z"
    }
   },
   "outputs": [
    {
     "data": {
      "text/html": [
       "<div>\n",
       "<style scoped>\n",
       "    .dataframe tbody tr th:only-of-type {\n",
       "        vertical-align: middle;\n",
       "    }\n",
       "\n",
       "    .dataframe tbody tr th {\n",
       "        vertical-align: top;\n",
       "    }\n",
       "\n",
       "    .dataframe thead th {\n",
       "        text-align: right;\n",
       "    }\n",
       "</style>\n",
       "<table border=\"1\" class=\"dataframe\">\n",
       "  <thead>\n",
       "    <tr style=\"text-align: right;\">\n",
       "      <th></th>\n",
       "      <th>textID</th>\n",
       "      <th>text</th>\n",
       "      <th>selected_text</th>\n",
       "      <th>sentiment</th>\n",
       "      <th>c_selected_text</th>\n",
       "      <th>start_pos</th>\n",
       "      <th>end_pos</th>\n",
       "      <th>tokens</th>\n",
       "      <th>start</th>\n",
       "      <th>end</th>\n",
       "      <th>invert_map</th>\n",
       "      <th>first_token</th>\n",
       "      <th>in_st</th>\n",
       "      <th>all_sentence</th>\n",
       "      <th>senti_label</th>\n",
       "    </tr>\n",
       "  </thead>\n",
       "  <tbody>\n",
       "    <tr>\n",
       "      <th>3</th>\n",
       "      <td>9642c003ef</td>\n",
       "      <td>what interview! leave me alone</td>\n",
       "      <td>leave me alone</td>\n",
       "      <td>negative</td>\n",
       "      <td>leave me alone</td>\n",
       "      <td>16</td>\n",
       "      <td>30</td>\n",
       "      <td>[Ġwhat, Ġinterview, !, Ġleave, Ġme, Ġalone]</td>\n",
       "      <td>3</td>\n",
       "      <td>5</td>\n",
       "      <td>[0, 1, 1, 2, 3, 4]</td>\n",
       "      <td>[True, True, False, True, True, True]</td>\n",
       "      <td>[0, 0, 0, 1, 1, 1]</td>\n",
       "      <td>0</td>\n",
       "      <td>0</td>\n",
       "    </tr>\n",
       "    <tr>\n",
       "      <th>7</th>\n",
       "      <td>50e14c0bb8</td>\n",
       "      <td>soooo high</td>\n",
       "      <td>soooo high</td>\n",
       "      <td>neutral</td>\n",
       "      <td>soooo high</td>\n",
       "      <td>0</td>\n",
       "      <td>10</td>\n",
       "      <td>[Ġso, ooo, Ġhigh]</td>\n",
       "      <td>0</td>\n",
       "      <td>2</td>\n",
       "      <td>[0, 0, 1]</td>\n",
       "      <td>[True, False, True]</td>\n",
       "      <td>[1, 1, 1]</td>\n",
       "      <td>1</td>\n",
       "      <td>1</td>\n",
       "    </tr>\n",
       "    <tr>\n",
       "      <th>22</th>\n",
       "      <td>7de057cf40</td>\n",
       "      <td>is cleaning the house for her family who is co...</td>\n",
       "      <td>is cleaning the house for her family who is co...</td>\n",
       "      <td>neutral</td>\n",
       "      <td>is cleaning the house for her family who is co...</td>\n",
       "      <td>0</td>\n",
       "      <td>65</td>\n",
       "      <td>[Ġis, Ġcleaning, Ġthe, Ġhouse, Ġfor, Ġher, Ġfa...</td>\n",
       "      <td>0</td>\n",
       "      <td>13</td>\n",
       "      <td>[0, 1, 2, 3, 4, 5, 6, 7, 8, 9, 9, 10, 11, 11]</td>\n",
       "      <td>[True, True, True, True, True, True, True, Tru...</td>\n",
       "      <td>[1, 1, 1, 1, 1, 1, 1, 1, 1, 1, 1, 1, 1, 1]</td>\n",
       "      <td>1</td>\n",
       "      <td>1</td>\n",
       "    </tr>\n",
       "    <tr>\n",
       "      <th>24</th>\n",
       "      <td>0c8cc71c46</td>\n",
       "      <td>see wat i mean bout foll0w friidays... it`s ca...</td>\n",
       "      <td>see wat i mean bout foll0w friidays... it`s ca...</td>\n",
       "      <td>neutral</td>\n",
       "      <td>see wat i mean bout foll0w friidays... it`s ca...</td>\n",
       "      <td>0</td>\n",
       "      <td>79</td>\n",
       "      <td>[Ġsee, Ġwat, Ġi, Ġmean, Ġbout, Ġfoll, 0, w, Ġf...</td>\n",
       "      <td>0</td>\n",
       "      <td>23</td>\n",
       "      <td>[0, 1, 2, 3, 4, 5, 5, 5, 6, 6, 6, 7, 7, 8, 9, ...</td>\n",
       "      <td>[True, True, True, True, True, True, False, Fa...</td>\n",
       "      <td>[1, 1, 1, 1, 1, 1, 1, 1, 1, 1, 1, 1, 1, 1, 1, ...</td>\n",
       "      <td>1</td>\n",
       "      <td>1</td>\n",
       "    </tr>\n",
       "    <tr>\n",
       "      <th>30</th>\n",
       "      <td>d33f811375</td>\n",
       "      <td>i`m going home now. have you seen my new twitt...</td>\n",
       "      <td>quite....heavenly</td>\n",
       "      <td>positive</td>\n",
       "      <td>quite....heavenly</td>\n",
       "      <td>57</td>\n",
       "      <td>74</td>\n",
       "      <td>[Ġi, 'm, Ġgoing, Ġhome, Ġnow, ., Ġhave, Ġyou, ...</td>\n",
       "      <td>14</td>\n",
       "      <td>18</td>\n",
       "      <td>[0, 0, 1, 2, 3, 3, 4, 5, 6, 7, 8, 9, 10, 10, 1...</td>\n",
       "      <td>[True, False, True, True, True, False, True, T...</td>\n",
       "      <td>[0, 0, 0, 0, 0, 0, 0, 0, 0, 0, 0, 0, 0, 0, 1, ...</td>\n",
       "      <td>0</td>\n",
       "      <td>2</td>\n",
       "    </tr>\n",
       "  </tbody>\n",
       "</table>\n",
       "</div>"
      ],
      "text/plain": [
       "        textID                                               text  \\\n",
       "3   9642c003ef                     what interview! leave me alone   \n",
       "7   50e14c0bb8                                         soooo high   \n",
       "22  7de057cf40  is cleaning the house for her family who is co...   \n",
       "24  0c8cc71c46  see wat i mean bout foll0w friidays... it`s ca...   \n",
       "30  d33f811375  i`m going home now. have you seen my new twitt...   \n",
       "\n",
       "                                        selected_text sentiment  \\\n",
       "3                                      leave me alone  negative   \n",
       "7                                          soooo high   neutral   \n",
       "22  is cleaning the house for her family who is co...   neutral   \n",
       "24  see wat i mean bout foll0w friidays... it`s ca...   neutral   \n",
       "30                                  quite....heavenly  positive   \n",
       "\n",
       "                                      c_selected_text  start_pos  end_pos  \\\n",
       "3                                      leave me alone         16       30   \n",
       "7                                          soooo high          0       10   \n",
       "22  is cleaning the house for her family who is co...          0       65   \n",
       "24  see wat i mean bout foll0w friidays... it`s ca...          0       79   \n",
       "30                                  quite....heavenly         57       74   \n",
       "\n",
       "                                               tokens  start  end  \\\n",
       "3         [Ġwhat, Ġinterview, !, Ġleave, Ġme, Ġalone]      3    5   \n",
       "7                                   [Ġso, ooo, Ġhigh]      0    2   \n",
       "22  [Ġis, Ġcleaning, Ġthe, Ġhouse, Ġfor, Ġher, Ġfa...      0   13   \n",
       "24  [Ġsee, Ġwat, Ġi, Ġmean, Ġbout, Ġfoll, 0, w, Ġf...      0   23   \n",
       "30  [Ġi, 'm, Ġgoing, Ġhome, Ġnow, ., Ġhave, Ġyou, ...     14   18   \n",
       "\n",
       "                                           invert_map  \\\n",
       "3                                  [0, 1, 1, 2, 3, 4]   \n",
       "7                                           [0, 0, 1]   \n",
       "22      [0, 1, 2, 3, 4, 5, 6, 7, 8, 9, 9, 10, 11, 11]   \n",
       "24  [0, 1, 2, 3, 4, 5, 5, 5, 6, 6, 6, 7, 7, 8, 9, ...   \n",
       "30  [0, 0, 1, 2, 3, 3, 4, 5, 6, 7, 8, 9, 10, 10, 1...   \n",
       "\n",
       "                                          first_token  \\\n",
       "3               [True, True, False, True, True, True]   \n",
       "7                                 [True, False, True]   \n",
       "22  [True, True, True, True, True, True, True, Tru...   \n",
       "24  [True, True, True, True, True, True, False, Fa...   \n",
       "30  [True, False, True, True, True, False, True, T...   \n",
       "\n",
       "                                                in_st  all_sentence  \\\n",
       "3                                  [0, 0, 0, 1, 1, 1]             0   \n",
       "7                                           [1, 1, 1]             1   \n",
       "22         [1, 1, 1, 1, 1, 1, 1, 1, 1, 1, 1, 1, 1, 1]             1   \n",
       "24  [1, 1, 1, 1, 1, 1, 1, 1, 1, 1, 1, 1, 1, 1, 1, ...             1   \n",
       "30  [0, 0, 0, 0, 0, 0, 0, 0, 0, 0, 0, 0, 0, 0, 1, ...             0   \n",
       "\n",
       "    senti_label  \n",
       "3             0  \n",
       "7             1  \n",
       "22            1  \n",
       "24            1  \n",
       "30            2  "
      ]
     },
     "execution_count": 26,
     "metadata": {},
     "output_type": "execute_result"
    }
   ],
   "source": [
    "local_test.head()"
   ]
  },
  {
   "cell_type": "code",
   "execution_count": 27,
   "metadata": {
    "ExecuteTime": {
     "end_time": "2020-05-07T13:19:39.452719Z",
     "start_time": "2020-05-07T13:19:39.446033Z"
    }
   },
   "outputs": [],
   "source": [
    "local_train = train[~train['textID'].isin(local_test['textID'].tolist())]\n",
    "local_train.reset_index(drop=True, inplace=True)"
   ]
  },
  {
   "cell_type": "code",
   "execution_count": 28,
   "metadata": {
    "ExecuteTime": {
     "end_time": "2020-05-07T13:19:39.455376Z",
     "start_time": "2020-05-07T13:19:39.453696Z"
    }
   },
   "outputs": [],
   "source": [
    "kf = StratifiedKFold(n_splits=5, shuffle=True, random_state=1991)"
   ]
  },
  {
   "cell_type": "code",
   "execution_count": 29,
   "metadata": {
    "ExecuteTime": {
     "end_time": "2020-05-07T13:19:39.472980Z",
     "start_time": "2020-05-07T13:19:39.456189Z"
    }
   },
   "outputs": [
    {
     "name": "stderr",
     "output_type": "stream",
     "text": [
      "/home/yuanhao/anaconda3/lib/python3.7/site-packages/ipykernel_launcher.py:1: SettingWithCopyWarning: \n",
      "A value is trying to be set on a copy of a slice from a DataFrame.\n",
      "Try using .loc[row_indexer,col_indexer] = value instead\n",
      "\n",
      "See the caveats in the documentation: http://pandas.pydata.org/pandas-docs/stable/user_guide/indexing.html#returning-a-view-versus-a-copy\n",
      "  \"\"\"Entry point for launching an IPython kernel.\n",
      "/home/yuanhao/anaconda3/lib/python3.7/site-packages/pandas/core/indexing.py:494: SettingWithCopyWarning: \n",
      "A value is trying to be set on a copy of a slice from a DataFrame.\n",
      "Try using .loc[row_indexer,col_indexer] = value instead\n",
      "\n",
      "See the caveats in the documentation: http://pandas.pydata.org/pandas-docs/stable/user_guide/indexing.html#returning-a-view-versus-a-copy\n",
      "  self.obj[item] = s\n"
     ]
    }
   ],
   "source": [
    "local_train['fold'] = 0\n",
    "for fold, (train_idx, valid_idx) in enumerate(kf.split(local_train, local_train['senti_label'])):\n",
    "    local_train.loc[valid_idx, 'fold'] = fold"
   ]
  },
  {
   "cell_type": "code",
   "execution_count": 30,
   "metadata": {
    "ExecuteTime": {
     "end_time": "2020-05-07T13:19:39.477097Z",
     "start_time": "2020-05-07T13:19:39.473745Z"
    }
   },
   "outputs": [
    {
     "data": {
      "text/plain": [
       "0    4802\n",
       "1    4801\n",
       "4    4799\n",
       "3    4799\n",
       "2    4799\n",
       "Name: fold, dtype: int64"
      ]
     },
     "execution_count": 30,
     "metadata": {},
     "output_type": "execute_result"
    }
   ],
   "source": [
    "local_train['fold'].value_counts()"
   ]
  },
  {
   "cell_type": "code",
   "execution_count": 31,
   "metadata": {
    "ExecuteTime": {
     "end_time": "2020-05-07T13:19:39.553422Z",
     "start_time": "2020-05-07T13:19:39.478026Z"
    }
   },
   "outputs": [],
   "source": [
    "local_train.to_pickle('../input/train_roberta2.pkl')"
   ]
  },
  {
   "cell_type": "code",
   "execution_count": 32,
   "metadata": {
    "ExecuteTime": {
     "end_time": "2020-05-07T13:19:39.565989Z",
     "start_time": "2020-05-07T13:19:39.554300Z"
    }
   },
   "outputs": [],
   "source": [
    "local_test.to_pickle('../input/localtest_roberta2.pkl')"
   ]
  },
  {
   "cell_type": "code",
   "execution_count": null,
   "metadata": {},
   "outputs": [],
   "source": []
  }
 ],
 "metadata": {
  "kernelspec": {
   "display_name": "Python 3",
   "language": "python",
   "name": "python3"
  },
  "language_info": {
   "codemirror_mode": {
    "name": "ipython",
    "version": 3
   },
   "file_extension": ".py",
   "mimetype": "text/x-python",
   "name": "python",
   "nbconvert_exporter": "python",
   "pygments_lexer": "ipython3",
   "version": "3.7.3"
  }
 },
 "nbformat": 4,
 "nbformat_minor": 2
}
