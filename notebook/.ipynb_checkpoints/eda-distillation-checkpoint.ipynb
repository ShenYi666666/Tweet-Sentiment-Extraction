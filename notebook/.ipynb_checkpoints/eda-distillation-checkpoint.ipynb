{
 "cells": [
  {
   "cell_type": "code",
   "execution_count": 25,
   "metadata": {
    "ExecuteTime": {
     "end_time": "2020-05-24T12:27:10.712957Z",
     "start_time": "2020-05-24T12:27:09.537011Z"
    }
   },
   "outputs": [],
   "source": [
    "import pandas as pd\n",
    "\n",
    "import numpy as np\n",
    "from transformers import BertTokenizer\n",
    "from transformers import RobertaTokenizer\n",
    "from transformers import RobertaTokenizerFast"
   ]
  },
  {
   "cell_type": "code",
   "execution_count": 26,
   "metadata": {
    "ExecuteTime": {
     "end_time": "2020-05-24T12:27:10.792783Z",
     "start_time": "2020-05-24T12:27:10.714018Z"
    }
   },
   "outputs": [],
   "source": [
    "pred = pd.read_pickle('../input/tweet-sentiment-extraction/preds.pkl')"
   ]
  },
  {
   "cell_type": "code",
   "execution_count": 27,
   "metadata": {
    "ExecuteTime": {
     "end_time": "2020-05-24T12:27:10.799023Z",
     "start_time": "2020-05-24T12:27:10.793895Z"
    }
   },
   "outputs": [],
   "source": [
    "def prepare(text):\n",
    "    words = text.split()\n",
    "    retval, first_char, invert_map = [], [], []\n",
    "    current_pos = 0\n",
    "    for w in words:\n",
    "        word_ret = [\"\"]\n",
    "        word_invert = [current_pos]\n",
    "        for p, c in enumerate(w):\n",
    "            if c in ['.',',','!','?','(',')',';',':','-','=',\"/\",\"<\",\"`\"]:\n",
    "                if word_ret[-1]==\"\":\n",
    "                    word_ret[-1]+=c\n",
    "                    word_invert[-1]=current_pos+p\n",
    "                else:\n",
    "                    word_ret.append(c)\n",
    "                    word_invert.append(current_pos+p)\n",
    "                word_ret.append(\"\")\n",
    "                word_invert.append(current_pos+p+1)\n",
    "            else:\n",
    "                word_ret[-1]+=c\n",
    "        if len(word_ret[-1])==0:\n",
    "            word_ret.pop(-1)\n",
    "            word_invert.pop(-1)\n",
    "        word_first = [False if i>0 else True for i in range(len(word_ret)) ]\n",
    "        retval.extend(word_ret)\n",
    "        first_char.extend(word_first)\n",
    "        invert_map.extend(word_invert)\n",
    "        current_pos+=len(w)+1\n",
    "    assert len(retval)==len(first_char)\n",
    "    return retval, first_char, invert_map"
   ]
  },
  {
   "cell_type": "code",
   "execution_count": 28,
   "metadata": {
    "ExecuteTime": {
     "end_time": "2020-05-24T12:27:12.459955Z",
     "start_time": "2020-05-24T12:27:12.418362Z"
    }
   },
   "outputs": [],
   "source": [
    "texts = pred['text'].tolist()\n",
    "sts = pred['selected_text'].tolist()\n",
    "tokenizer = RobertaTokenizer.from_pretrained('../../bert_models/roberta_base/')"
   ]
  },
  {
   "cell_type": "code",
   "execution_count": 32,
   "metadata": {
    "ExecuteTime": {
     "end_time": "2020-05-24T12:29:16.958744Z",
     "start_time": "2020-05-24T12:29:05.790699Z"
    }
   },
   "outputs": [],
   "source": [
    "data = []\n",
    "for text in texts:\n",
    "    words, first_char, invert_map = prepare(text)\n",
    "\n",
    "    tokens, token_invert_map = [], []\n",
    "    for idx, w in enumerate(words):\n",
    "        # get tokens\n",
    "        w = w.replace(\"'\", \"\\\"\")\n",
    "        w = w.replace(\"`\", \"'\")\n",
    "        w = w.replace(\"ï¿½\", \"\")\n",
    "        if first_char[idx]:\n",
    "            prefix = \" \"\n",
    "        else:\n",
    "            prefix = \"\"\n",
    "        for token in tokenizer.tokenize(prefix+w):\n",
    "            tokens.append(token)\n",
    "            token_invert_map.append(idx)\n",
    "    data.append((words, first_char, tokens,\n",
    "                 token_invert_map, invert_map))\n",
    "words, first_chars, tokens, invert_maps, word_invert_maps = zip(*data)\n",
    "pred['words'] = words\n",
    "\n",
    "pred['first_char'] = first_chars\n",
    "pred['invert_map'] = invert_maps  # token id to word id\n",
    "# word to pos in sentence\n",
    "pred['word_invert_map'] = word_invert_maps"
   ]
  },
  {
   "cell_type": "code",
   "execution_count": 33,
   "metadata": {
    "ExecuteTime": {
     "end_time": "2020-05-24T12:30:08.078715Z",
     "start_time": "2020-05-24T12:30:08.058288Z"
    }
   },
   "outputs": [
    {
     "ename": "AttributeError",
     "evalue": "'int' object has no attribute 'append'",
     "output_type": "error",
     "traceback": [
      "\u001b[0;31m---------------------------------------------------------------------------\u001b[0m",
      "\u001b[0;31mAttributeError\u001b[0m                            Traceback (most recent call last)",
      "\u001b[0;32m<ipython-input-33-c51ce5d3451d>\u001b[0m in \u001b[0;36m<module>\u001b[0;34m\u001b[0m\n\u001b[1;32m     22\u001b[0m     \u001b[0mend_word_idx\u001b[0m \u001b[0;34m=\u001b[0m \u001b[0mmax\u001b[0m\u001b[0;34m(\u001b[0m\u001b[0mlabel\u001b[0m\u001b[0;34m)\u001b[0m\u001b[0;34m\u001b[0m\u001b[0;34m\u001b[0m\u001b[0m\n\u001b[1;32m     23\u001b[0m \u001b[0;34m\u001b[0m\u001b[0m\n\u001b[0;32m---> 24\u001b[0;31m     \u001b[0mstart_word_idx\u001b[0m\u001b[0;34m.\u001b[0m\u001b[0mappend\u001b[0m\u001b[0;34m(\u001b[0m\u001b[0mstart_word_idx\u001b[0m\u001b[0;34m)\u001b[0m\u001b[0;34m\u001b[0m\u001b[0;34m\u001b[0m\u001b[0m\n\u001b[0m\u001b[1;32m     25\u001b[0m     \u001b[0mend_word_idx\u001b[0m\u001b[0;34m.\u001b[0m\u001b[0mappend\u001b[0m\u001b[0;34m(\u001b[0m\u001b[0mend_word_idx\u001b[0m\u001b[0;34m)\u001b[0m\u001b[0;34m\u001b[0m\u001b[0;34m\u001b[0m\u001b[0m\n\u001b[1;32m     26\u001b[0m \u001b[0;34m\u001b[0m\u001b[0m\n",
      "\u001b[0;31mAttributeError\u001b[0m: 'int' object has no attribute 'append'"
     ]
    }
   ],
   "source": [
    "start_word_idx = []\n",
    "end_word_idx = []\n",
    "whole_sentence = []\n",
    "for idx in range(len(pred)):\n",
    "    text = texts[idx]\n",
    "    st = sts[idx]\n",
    "    word = words[idx]\n",
    "    invert_map = word_invert_maps[idx]\n",
    "\n",
    "    temp = np.zeros(len(text))\n",
    "\n",
    "    end_pos = 0\n",
    "    start_pos = text.find(st, end_pos)\n",
    "    first_end = start_pos+len(st)\n",
    "    temp[start_pos:first_end] = 1\n",
    "\n",
    "    label = []\n",
    "    for word_idx, w in enumerate(word):\n",
    "        if sum(temp[invert_map[word_idx]:invert_map[word_idx]+len(w)]) > 0:\n",
    "            label.append(word_idx)\n",
    "    cur_start_word_idx = min(label)\n",
    "    cur_end_word_idx = max(label)\n",
    "\n",
    "    start_word_idx.append(cur_start_word_idx)\n",
    "    end_word_idx.append(cur_end_word_idx)\n",
    "\n",
    "pred['start'] = start_word_idx\n",
    "pred['end'] = end_word_idx\n"
   ]
  },
  {
   "cell_type": "code",
   "execution_count": 23,
   "metadata": {
    "ExecuteTime": {
     "end_time": "2020-05-24T12:23:32.432665Z",
     "start_time": "2020-05-24T12:23:32.423661Z"
    }
   },
   "outputs": [
    {
     "data": {
      "text/html": [
       "<div>\n",
       "<style scoped>\n",
       "    .dataframe tbody tr th:only-of-type {\n",
       "        vertical-align: middle;\n",
       "    }\n",
       "\n",
       "    .dataframe tbody tr th {\n",
       "        vertical-align: top;\n",
       "    }\n",
       "\n",
       "    .dataframe thead th {\n",
       "        text-align: right;\n",
       "    }\n",
       "</style>\n",
       "<table border=\"1\" class=\"dataframe\">\n",
       "  <thead>\n",
       "    <tr style=\"text-align: right;\">\n",
       "      <th></th>\n",
       "      <th>textID</th>\n",
       "      <th>text</th>\n",
       "      <th>selected_text</th>\n",
       "      <th>sentiment</th>\n",
       "      <th>kfold</th>\n",
       "      <th>start_pred</th>\n",
       "      <th>end_pred</th>\n",
       "      <th>pred</th>\n",
       "    </tr>\n",
       "  </thead>\n",
       "  <tbody>\n",
       "    <tr>\n",
       "      <th>0</th>\n",
       "      <td>f7fdea625a</td>\n",
       "      <td>i`m so bored i can barely even tweet. i have n...</td>\n",
       "      <td>bored</td>\n",
       "      <td>negative</td>\n",
       "      <td>0</td>\n",
       "      <td>[0.06989926, 0.038469043, 0.04019037, 0.059797...</td>\n",
       "      <td>[0.030164227, 0.029768987, 0.036067713, 0.0364...</td>\n",
       "      <td>bored</td>\n",
       "    </tr>\n",
       "    <tr>\n",
       "      <th>1</th>\n",
       "      <td>c19de2c75b</td>\n",
       "      <td>awwwwwwwwww  thats jus...awwwww.did she get t...</td>\n",
       "      <td>awwwwwwwwww  thats jus...awwwww.did she get to...</td>\n",
       "      <td>neutral</td>\n",
       "      <td>0</td>\n",
       "      <td>[0.112396374, 0.048588723, 0.039393324, 0.0362...</td>\n",
       "      <td>[0.027592821, 0.027956642, 0.027795501, 0.0285...</td>\n",
       "      <td>awwwwwwwwww thats jus...awwwww.did she get to ...</td>\n",
       "    </tr>\n",
       "    <tr>\n",
       "      <th>2</th>\n",
       "      <td>0f963af18f</td>\n",
       "      <td>I did not twitt yesterday cause it was a very ...</td>\n",
       "      <td>I can not sleep</td>\n",
       "      <td>negative</td>\n",
       "      <td>0</td>\n",
       "      <td>[0.03660993, 0.026192702, 0.024951158, 0.02525...</td>\n",
       "      <td>[0.02210887, 0.022123395, 0.023376852, 0.01990...</td>\n",
       "      <td>I can not sleep</td>\n",
       "    </tr>\n",
       "    <tr>\n",
       "      <th>3</th>\n",
       "      <td>0583c78cc1</td>\n",
       "      <td>Congratulation`s to phil packer on completing ...</td>\n",
       "      <td>Congratulation`s</td>\n",
       "      <td>positive</td>\n",
       "      <td>0</td>\n",
       "      <td>[0.07636467, 0.039959252, 0.038429078, 0.03554...</td>\n",
       "      <td>[0.034544237, 0.041366864, 0.052093744, 0.0448...</td>\n",
       "      <td>Congratulation`s</td>\n",
       "    </tr>\n",
       "    <tr>\n",
       "      <th>4</th>\n",
       "      <td>1cdb444ea5</td>\n",
       "      <td>O`Charleys? Pretty good. Especially when its f...</td>\n",
       "      <td>Pretty good.</td>\n",
       "      <td>positive</td>\n",
       "      <td>0</td>\n",
       "      <td>[0.052261494, 0.029215418, 0.032536816, 0.0313...</td>\n",
       "      <td>[0.026940513, 0.027094726, 0.027689133, 0.0301...</td>\n",
       "      <td>Pretty good.</td>\n",
       "    </tr>\n",
       "  </tbody>\n",
       "</table>\n",
       "</div>"
      ],
      "text/plain": [
       "       textID                                               text  \\\n",
       "0  f7fdea625a  i`m so bored i can barely even tweet. i have n...   \n",
       "1  c19de2c75b   awwwwwwwwww  thats jus...awwwww.did she get t...   \n",
       "2  0f963af18f  I did not twitt yesterday cause it was a very ...   \n",
       "3  0583c78cc1  Congratulation`s to phil packer on completing ...   \n",
       "4  1cdb444ea5  O`Charleys? Pretty good. Especially when its f...   \n",
       "\n",
       "                                       selected_text sentiment  kfold  \\\n",
       "0                                              bored  negative      0   \n",
       "1  awwwwwwwwww  thats jus...awwwww.did she get to...   neutral      0   \n",
       "2                                    I can not sleep  negative      0   \n",
       "3                                   Congratulation`s  positive      0   \n",
       "4                                       Pretty good.  positive      0   \n",
       "\n",
       "                                          start_pred  \\\n",
       "0  [0.06989926, 0.038469043, 0.04019037, 0.059797...   \n",
       "1  [0.112396374, 0.048588723, 0.039393324, 0.0362...   \n",
       "2  [0.03660993, 0.026192702, 0.024951158, 0.02525...   \n",
       "3  [0.07636467, 0.039959252, 0.038429078, 0.03554...   \n",
       "4  [0.052261494, 0.029215418, 0.032536816, 0.0313...   \n",
       "\n",
       "                                            end_pred  \\\n",
       "0  [0.030164227, 0.029768987, 0.036067713, 0.0364...   \n",
       "1  [0.027592821, 0.027956642, 0.027795501, 0.0285...   \n",
       "2  [0.02210887, 0.022123395, 0.023376852, 0.01990...   \n",
       "3  [0.034544237, 0.041366864, 0.052093744, 0.0448...   \n",
       "4  [0.026940513, 0.027094726, 0.027689133, 0.0301...   \n",
       "\n",
       "                                                pred  \n",
       "0                                              bored  \n",
       "1  awwwwwwwwww thats jus...awwwww.did she get to ...  \n",
       "2                                    I can not sleep  \n",
       "3                                   Congratulation`s  \n",
       "4                                       Pretty good.  "
      ]
     },
     "execution_count": 23,
     "metadata": {},
     "output_type": "execute_result"
    }
   ],
   "source": [
    "pred.head()"
   ]
  },
  {
   "cell_type": "code",
   "execution_count": null,
   "metadata": {},
   "outputs": [],
   "source": []
  }
 ],
 "metadata": {
  "kernelspec": {
   "display_name": "Python 3",
   "language": "python",
   "name": "python3"
  },
  "language_info": {
   "codemirror_mode": {
    "name": "ipython",
    "version": 3
   },
   "file_extension": ".py",
   "mimetype": "text/x-python",
   "name": "python",
   "nbconvert_exporter": "python",
   "pygments_lexer": "ipython3",
   "version": "3.7.1"
  }
 },
 "nbformat": 4,
 "nbformat_minor": 2
}
