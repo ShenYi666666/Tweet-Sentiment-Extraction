{
 "cells": [
  {
   "cell_type": "code",
   "execution_count": 5,
   "metadata": {
    "ExecuteTime": {
     "end_time": "2020-04-05T10:11:34.923407Z",
     "start_time": "2020-04-05T10:11:34.921540Z"
    }
   },
   "outputs": [],
   "source": [
    "import pandas as pd\n",
    "from transformers import RobertaTokenizer"
   ]
  },
  {
   "cell_type": "code",
   "execution_count": 3,
   "metadata": {
    "ExecuteTime": {
     "end_time": "2020-04-05T10:11:08.640327Z",
     "start_time": "2020-04-05T10:11:08.596856Z"
    }
   },
   "outputs": [],
   "source": [
    "train = pd.read_csv('../input/tweet-sentiment-extraction/train.csv')"
   ]
  },
  {
   "cell_type": "code",
   "execution_count": 6,
   "metadata": {
    "ExecuteTime": {
     "end_time": "2020-04-05T10:11:38.693091Z",
     "start_time": "2020-04-05T10:11:38.576691Z"
    }
   },
   "outputs": [],
   "source": [
    "tokenizer = RobertaTokenizer.from_pretrained('../../bert_models/roberta_large/')"
   ]
  },
  {
   "cell_type": "code",
   "execution_count": 7,
   "metadata": {
    "ExecuteTime": {
     "end_time": "2020-04-05T10:11:39.675292Z",
     "start_time": "2020-04-05T10:11:39.670136Z"
    }
   },
   "outputs": [
    {
     "data": {
      "text/plain": [
       "(27486, 4)"
      ]
     },
     "execution_count": 7,
     "metadata": {},
     "output_type": "execute_result"
    }
   ],
   "source": [
    "train.shape"
   ]
  },
  {
   "cell_type": "code",
   "execution_count": 8,
   "metadata": {
    "ExecuteTime": {
     "end_time": "2020-04-05T10:11:41.355392Z",
     "start_time": "2020-04-05T10:11:41.347880Z"
    }
   },
   "outputs": [],
   "source": [
    "train.dropna(subset=['text','selected_text'], how='any', inplace=True)"
   ]
  },
  {
   "cell_type": "code",
   "execution_count": 9,
   "metadata": {
    "ExecuteTime": {
     "end_time": "2020-04-05T10:11:41.744983Z",
     "start_time": "2020-04-05T10:11:41.735419Z"
    }
   },
   "outputs": [
    {
     "data": {
      "text/plain": [
       "(27485, 4)"
      ]
     },
     "execution_count": 9,
     "metadata": {},
     "output_type": "execute_result"
    }
   ],
   "source": [
    "train.shape"
   ]
  },
  {
   "cell_type": "code",
   "execution_count": 10,
   "metadata": {
    "ExecuteTime": {
     "end_time": "2020-04-05T10:11:42.238912Z",
     "start_time": "2020-04-05T10:11:42.223800Z"
    }
   },
   "outputs": [
    {
     "data": {
      "text/html": [
       "<div>\n",
       "<style scoped>\n",
       "    .dataframe tbody tr th:only-of-type {\n",
       "        vertical-align: middle;\n",
       "    }\n",
       "\n",
       "    .dataframe tbody tr th {\n",
       "        vertical-align: top;\n",
       "    }\n",
       "\n",
       "    .dataframe thead th {\n",
       "        text-align: right;\n",
       "    }\n",
       "</style>\n",
       "<table border=\"1\" class=\"dataframe\">\n",
       "  <thead>\n",
       "    <tr style=\"text-align: right;\">\n",
       "      <th></th>\n",
       "      <th>textID</th>\n",
       "      <th>text</th>\n",
       "      <th>selected_text</th>\n",
       "      <th>sentiment</th>\n",
       "    </tr>\n",
       "  </thead>\n",
       "  <tbody>\n",
       "    <tr>\n",
       "      <th>0</th>\n",
       "      <td>a3d0a7d5ad</td>\n",
       "      <td>Spent the entire morning in a meeting w/ a ven...</td>\n",
       "      <td>my boss was not happy w/ them. Lots of fun.</td>\n",
       "      <td>neutral</td>\n",
       "    </tr>\n",
       "    <tr>\n",
       "      <th>1</th>\n",
       "      <td>251b6a6766</td>\n",
       "      <td>Oh! Good idea about putting them on ice cream</td>\n",
       "      <td>Good</td>\n",
       "      <td>positive</td>\n",
       "    </tr>\n",
       "    <tr>\n",
       "      <th>2</th>\n",
       "      <td>c9e8d1ef1c</td>\n",
       "      <td>says good (or should i say bad?) afternoon!  h...</td>\n",
       "      <td>says good (or should i say bad?) afternoon!</td>\n",
       "      <td>neutral</td>\n",
       "    </tr>\n",
       "    <tr>\n",
       "      <th>3</th>\n",
       "      <td>f14f087215</td>\n",
       "      <td>i dont think you can vote anymore! i tried</td>\n",
       "      <td>i dont think you can vote anymore!</td>\n",
       "      <td>negative</td>\n",
       "    </tr>\n",
       "    <tr>\n",
       "      <th>4</th>\n",
       "      <td>bf7473b12d</td>\n",
       "      <td>haha better drunken tweeting you mean?</td>\n",
       "      <td>better</td>\n",
       "      <td>positive</td>\n",
       "    </tr>\n",
       "  </tbody>\n",
       "</table>\n",
       "</div>"
      ],
      "text/plain": [
       "       textID  ... sentiment\n",
       "0  a3d0a7d5ad  ...   neutral\n",
       "1  251b6a6766  ...  positive\n",
       "2  c9e8d1ef1c  ...   neutral\n",
       "3  f14f087215  ...  negative\n",
       "4  bf7473b12d  ...  positive\n",
       "\n",
       "[5 rows x 4 columns]"
      ]
     },
     "execution_count": 10,
     "metadata": {},
     "output_type": "execute_result"
    }
   ],
   "source": [
    "train.head()"
   ]
  },
  {
   "cell_type": "code",
   "execution_count": 11,
   "metadata": {
    "ExecuteTime": {
     "end_time": "2020-04-05T10:11:45.248409Z",
     "start_time": "2020-04-05T10:11:45.240328Z"
    }
   },
   "outputs": [],
   "source": [
    "train['text'] = train['text'].apply(lambda x: x.strip())"
   ]
  },
  {
   "cell_type": "code",
   "execution_count": 12,
   "metadata": {
    "ExecuteTime": {
     "end_time": "2020-04-05T10:11:46.153803Z",
     "start_time": "2020-04-05T10:11:45.507895Z"
    }
   },
   "outputs": [],
   "source": [
    "train['start_pos'] = train.apply(lambda x: x['text'].find(x['selected_text']), axis=1)\n",
    "train['end_pos'] = train.apply(lambda x: x['start_pos']+len(x['selected_text']), axis=1)"
   ]
  },
  {
   "cell_type": "code",
   "execution_count": 13,
   "metadata": {
    "ExecuteTime": {
     "end_time": "2020-04-05T10:11:46.159755Z",
     "start_time": "2020-04-05T10:11:46.154822Z"
    }
   },
   "outputs": [
    {
     "data": {
      "text/plain": [
       "count    27485.000000\n",
       "mean        15.604839\n",
       "std         26.179125\n",
       "min          0.000000\n",
       "25%          0.000000\n",
       "50%          0.000000\n",
       "75%         23.000000\n",
       "max        134.000000\n",
       "Name: start_pos, dtype: float64"
      ]
     },
     "execution_count": 13,
     "metadata": {},
     "output_type": "execute_result"
    }
   ],
   "source": [
    "train['start_pos'].describe()"
   ]
  },
  {
   "cell_type": "code",
   "execution_count": 14,
   "metadata": {
    "ExecuteTime": {
     "end_time": "2020-04-05T10:12:00.510744Z",
     "start_time": "2020-04-05T10:11:52.101733Z"
    }
   },
   "outputs": [],
   "source": [
    "data = []\n",
    "for text, sp, ep in zip(train['text'].tolist(), train['start_pos'].tolist(), train['end_pos'].tolist()):\n",
    "    split_text = text.split()\n",
    "    tokens, labels, invert_map = [], [], []\n",
    "    cur_length = 0\n",
    "    for idx, w in enumerate(split_text):\n",
    "        if cur_length+idx+len(w)>=sp and cur_length+idx<ep:\n",
    "            started = True# space\n",
    "        else:\n",
    "            started = False\n",
    "        for token in tokenizer.tokenize(w):\n",
    "            tokens.append(token)\n",
    "            invert_map.append(idx)\n",
    "            if started:\n",
    "                labels.append(len(tokens)-1)\n",
    "        cur_length+=len(w)\n",
    "    data.append((tokens, min(labels), max(labels), invert_map, tokens[min(labels)],tokens[max(labels)]))\n",
    "#     if len(data)>5:\n",
    "#         break"
   ]
  },
  {
   "cell_type": "code",
   "execution_count": 15,
   "metadata": {
    "ExecuteTime": {
     "end_time": "2020-04-05T10:12:02.571622Z",
     "start_time": "2020-04-05T10:12:02.562289Z"
    }
   },
   "outputs": [
    {
     "data": {
      "text/plain": [
       "'them.'"
      ]
     },
     "execution_count": 15,
     "metadata": {},
     "output_type": "execute_result"
    }
   ],
   "source": [
    "train.loc[0, 'text'].split()[data[0][3][25]]"
   ]
  },
  {
   "cell_type": "code",
   "execution_count": 16,
   "metadata": {
    "ExecuteTime": {
     "end_time": "2020-04-05T10:12:06.926691Z",
     "start_time": "2020-04-05T10:12:06.919866Z"
    }
   },
   "outputs": [
    {
     "data": {
      "text/plain": [
       "[(['Sp',\n",
       "   'ent',\n",
       "   'the',\n",
       "   'ent',\n",
       "   'ire',\n",
       "   'morning',\n",
       "   'in',\n",
       "   'a',\n",
       "   'me',\n",
       "   'eting',\n",
       "   'w',\n",
       "   '/',\n",
       "   'a',\n",
       "   'v',\n",
       "   'endor',\n",
       "   ',',\n",
       "   'and',\n",
       "   'my',\n",
       "   'boss',\n",
       "   'was',\n",
       "   'not',\n",
       "   'happy',\n",
       "   'w',\n",
       "   '/',\n",
       "   'them',\n",
       "   '.',\n",
       "   'Lots',\n",
       "   'of',\n",
       "   'fun',\n",
       "   '.',\n",
       "   'I',\n",
       "   'had',\n",
       "   'other',\n",
       "   'pl',\n",
       "   'ans',\n",
       "   'for',\n",
       "   'my',\n",
       "   'morning'],\n",
       "  17,\n",
       "  29,\n",
       "  [0,\n",
       "   0,\n",
       "   1,\n",
       "   2,\n",
       "   2,\n",
       "   3,\n",
       "   4,\n",
       "   5,\n",
       "   6,\n",
       "   6,\n",
       "   7,\n",
       "   7,\n",
       "   8,\n",
       "   9,\n",
       "   9,\n",
       "   9,\n",
       "   10,\n",
       "   11,\n",
       "   12,\n",
       "   13,\n",
       "   14,\n",
       "   15,\n",
       "   16,\n",
       "   16,\n",
       "   17,\n",
       "   17,\n",
       "   18,\n",
       "   19,\n",
       "   20,\n",
       "   20,\n",
       "   21,\n",
       "   22,\n",
       "   23,\n",
       "   24,\n",
       "   24,\n",
       "   25,\n",
       "   26,\n",
       "   27],\n",
       "  'my',\n",
       "  '.'),\n",
       " (['Oh',\n",
       "   '!',\n",
       "   'Good',\n",
       "   'ide',\n",
       "   'a',\n",
       "   'about',\n",
       "   'put',\n",
       "   'ting',\n",
       "   'them',\n",
       "   'on',\n",
       "   'ice',\n",
       "   'cream'],\n",
       "  2,\n",
       "  2,\n",
       "  [0, 0, 1, 2, 2, 3, 4, 4, 5, 6, 7, 8],\n",
       "  'Good',\n",
       "  'Good'),\n",
       " (['s',\n",
       "   'ays',\n",
       "   'good',\n",
       "   '(',\n",
       "   'or',\n",
       "   'should',\n",
       "   'i',\n",
       "   'say',\n",
       "   'bad',\n",
       "   '?)',\n",
       "   'after',\n",
       "   'noon',\n",
       "   '!',\n",
       "   'http',\n",
       "   '://',\n",
       "   'pl',\n",
       "   'ur',\n",
       "   'k',\n",
       "   '.',\n",
       "   'com',\n",
       "   '/',\n",
       "   'p',\n",
       "   '/',\n",
       "   'w',\n",
       "   'xp',\n",
       "   'dj'],\n",
       "  0,\n",
       "  12,\n",
       "  [0,\n",
       "   0,\n",
       "   1,\n",
       "   2,\n",
       "   2,\n",
       "   3,\n",
       "   4,\n",
       "   5,\n",
       "   6,\n",
       "   6,\n",
       "   7,\n",
       "   7,\n",
       "   7,\n",
       "   8,\n",
       "   8,\n",
       "   8,\n",
       "   8,\n",
       "   8,\n",
       "   8,\n",
       "   8,\n",
       "   8,\n",
       "   8,\n",
       "   8,\n",
       "   8,\n",
       "   8,\n",
       "   8],\n",
       "  's',\n",
       "  '!'),\n",
       " (['i',\n",
       "   'd',\n",
       "   'ont',\n",
       "   'think',\n",
       "   'you',\n",
       "   'can',\n",
       "   'vote',\n",
       "   'any',\n",
       "   'more',\n",
       "   '!',\n",
       "   'i',\n",
       "   't',\n",
       "   'ried'],\n",
       "  0,\n",
       "  9,\n",
       "  [0, 1, 1, 2, 3, 4, 5, 6, 6, 6, 7, 8, 8],\n",
       "  'i',\n",
       "  '!'),\n",
       " (['h',\n",
       "   'aha',\n",
       "   'better',\n",
       "   'dr',\n",
       "   'unk',\n",
       "   'en',\n",
       "   't',\n",
       "   'weet',\n",
       "   'ing',\n",
       "   'you',\n",
       "   'mean',\n",
       "   '?'],\n",
       "  2,\n",
       "  2,\n",
       "  [0, 0, 1, 2, 2, 2, 3, 3, 3, 4, 5, 5],\n",
       "  'better',\n",
       "  'better')]"
      ]
     },
     "execution_count": 16,
     "metadata": {},
     "output_type": "execute_result"
    }
   ],
   "source": [
    "data[:5]"
   ]
  },
  {
   "cell_type": "code",
   "execution_count": 17,
   "metadata": {
    "ExecuteTime": {
     "end_time": "2020-04-05T10:12:18.407079Z",
     "start_time": "2020-04-05T10:12:18.320228Z"
    }
   },
   "outputs": [],
   "source": [
    "tokens, start, end, invert_map, _, _ = zip(*data)"
   ]
  },
  {
   "cell_type": "code",
   "execution_count": 18,
   "metadata": {
    "ExecuteTime": {
     "end_time": "2020-04-05T10:12:18.581233Z",
     "start_time": "2020-04-05T10:12:18.579117Z"
    }
   },
   "outputs": [
    {
     "data": {
      "text/plain": [
       "27485"
      ]
     },
     "execution_count": 18,
     "metadata": {},
     "output_type": "execute_result"
    }
   ],
   "source": [
    "len(tokens)"
   ]
  },
  {
   "cell_type": "code",
   "execution_count": 19,
   "metadata": {
    "ExecuteTime": {
     "end_time": "2020-04-05T10:12:20.558625Z",
     "start_time": "2020-04-05T10:12:20.537567Z"
    }
   },
   "outputs": [],
   "source": [
    "train['tokens'] = tokens"
   ]
  },
  {
   "cell_type": "code",
   "execution_count": 20,
   "metadata": {
    "ExecuteTime": {
     "end_time": "2020-04-05T10:12:20.843717Z",
     "start_time": "2020-04-05T10:12:20.800335Z"
    }
   },
   "outputs": [],
   "source": [
    "train['start'] = start\n",
    "train['end'] = end\n",
    "train['invert_map'] = invert_map"
   ]
  },
  {
   "cell_type": "code",
   "execution_count": 21,
   "metadata": {
    "ExecuteTime": {
     "end_time": "2020-04-05T10:12:21.375526Z",
     "start_time": "2020-04-05T10:12:21.343679Z"
    }
   },
   "outputs": [],
   "source": [
    "senti2label = {\n",
    "    'positive':2,\n",
    "    'negative':0,\n",
    "    'neutral':1\n",
    "}\n",
    "train['senti_label']=train['sentiment'].apply(lambda x: senti2label[x])"
   ]
  },
  {
   "cell_type": "code",
   "execution_count": 22,
   "metadata": {
    "ExecuteTime": {
     "end_time": "2020-04-05T10:12:21.714488Z",
     "start_time": "2020-04-05T10:12:21.708170Z"
    }
   },
   "outputs": [],
   "source": [
    "train.reset_index(drop=True, inplace=True)"
   ]
  },
  {
   "cell_type": "code",
   "execution_count": 23,
   "metadata": {
    "ExecuteTime": {
     "end_time": "2020-04-05T10:12:22.916635Z",
     "start_time": "2020-04-05T10:12:22.900436Z"
    }
   },
   "outputs": [
    {
     "data": {
      "text/html": [
       "<div>\n",
       "<style scoped>\n",
       "    .dataframe tbody tr th:only-of-type {\n",
       "        vertical-align: middle;\n",
       "    }\n",
       "\n",
       "    .dataframe tbody tr th {\n",
       "        vertical-align: top;\n",
       "    }\n",
       "\n",
       "    .dataframe thead th {\n",
       "        text-align: right;\n",
       "    }\n",
       "</style>\n",
       "<table border=\"1\" class=\"dataframe\">\n",
       "  <thead>\n",
       "    <tr style=\"text-align: right;\">\n",
       "      <th></th>\n",
       "      <th>textID</th>\n",
       "      <th>text</th>\n",
       "      <th>selected_text</th>\n",
       "      <th>sentiment</th>\n",
       "      <th>start_pos</th>\n",
       "      <th>end_pos</th>\n",
       "      <th>tokens</th>\n",
       "      <th>start</th>\n",
       "      <th>end</th>\n",
       "      <th>invert_map</th>\n",
       "      <th>senti_label</th>\n",
       "    </tr>\n",
       "  </thead>\n",
       "  <tbody>\n",
       "    <tr>\n",
       "      <th>0</th>\n",
       "      <td>a3d0a7d5ad</td>\n",
       "      <td>Spent the entire morning in a meeting w/ a ven...</td>\n",
       "      <td>my boss was not happy w/ them. Lots of fun.</td>\n",
       "      <td>neutral</td>\n",
       "      <td>55</td>\n",
       "      <td>98</td>\n",
       "      <td>[Sp, ent, the, ent, ire, morning, in, a, me, e...</td>\n",
       "      <td>17</td>\n",
       "      <td>29</td>\n",
       "      <td>[0, 0, 1, 2, 2, 3, 4, 5, 6, 6, 7, 7, 8, 9, 9, ...</td>\n",
       "      <td>1</td>\n",
       "    </tr>\n",
       "    <tr>\n",
       "      <th>1</th>\n",
       "      <td>251b6a6766</td>\n",
       "      <td>Oh! Good idea about putting them on ice cream</td>\n",
       "      <td>Good</td>\n",
       "      <td>positive</td>\n",
       "      <td>4</td>\n",
       "      <td>8</td>\n",
       "      <td>[Oh, !, Good, ide, a, about, put, ting, them, ...</td>\n",
       "      <td>2</td>\n",
       "      <td>2</td>\n",
       "      <td>[0, 0, 1, 2, 2, 3, 4, 4, 5, 6, 7, 8]</td>\n",
       "      <td>2</td>\n",
       "    </tr>\n",
       "    <tr>\n",
       "      <th>2</th>\n",
       "      <td>c9e8d1ef1c</td>\n",
       "      <td>says good (or should i say bad?) afternoon!  h...</td>\n",
       "      <td>says good (or should i say bad?) afternoon!</td>\n",
       "      <td>neutral</td>\n",
       "      <td>0</td>\n",
       "      <td>43</td>\n",
       "      <td>[s, ays, good, (, or, should, i, say, bad, ?),...</td>\n",
       "      <td>0</td>\n",
       "      <td>12</td>\n",
       "      <td>[0, 0, 1, 2, 2, 3, 4, 5, 6, 6, 7, 7, 7, 8, 8, ...</td>\n",
       "      <td>1</td>\n",
       "    </tr>\n",
       "    <tr>\n",
       "      <th>3</th>\n",
       "      <td>f14f087215</td>\n",
       "      <td>i dont think you can vote anymore! i tried</td>\n",
       "      <td>i dont think you can vote anymore!</td>\n",
       "      <td>negative</td>\n",
       "      <td>0</td>\n",
       "      <td>34</td>\n",
       "      <td>[i, d, ont, think, you, can, vote, any, more, ...</td>\n",
       "      <td>0</td>\n",
       "      <td>9</td>\n",
       "      <td>[0, 1, 1, 2, 3, 4, 5, 6, 6, 6, 7, 8, 8]</td>\n",
       "      <td>0</td>\n",
       "    </tr>\n",
       "    <tr>\n",
       "      <th>4</th>\n",
       "      <td>bf7473b12d</td>\n",
       "      <td>haha better drunken tweeting you mean?</td>\n",
       "      <td>better</td>\n",
       "      <td>positive</td>\n",
       "      <td>5</td>\n",
       "      <td>11</td>\n",
       "      <td>[h, aha, better, dr, unk, en, t, weet, ing, yo...</td>\n",
       "      <td>2</td>\n",
       "      <td>2</td>\n",
       "      <td>[0, 0, 1, 2, 2, 2, 3, 3, 3, 4, 5, 5]</td>\n",
       "      <td>2</td>\n",
       "    </tr>\n",
       "  </tbody>\n",
       "</table>\n",
       "</div>"
      ],
      "text/plain": [
       "       textID  ... senti_label\n",
       "0  a3d0a7d5ad  ...           1\n",
       "1  251b6a6766  ...           2\n",
       "2  c9e8d1ef1c  ...           1\n",
       "3  f14f087215  ...           0\n",
       "4  bf7473b12d  ...           2\n",
       "\n",
       "[5 rows x 11 columns]"
      ]
     },
     "execution_count": 23,
     "metadata": {},
     "output_type": "execute_result"
    }
   ],
   "source": [
    "train.head()"
   ]
  },
  {
   "cell_type": "code",
   "execution_count": 24,
   "metadata": {
    "ExecuteTime": {
     "end_time": "2020-04-05T10:12:23.766699Z",
     "start_time": "2020-04-05T10:12:23.760869Z"
    }
   },
   "outputs": [],
   "source": [
    "from sklearn.model_selection import StratifiedKFold"
   ]
  },
  {
   "cell_type": "code",
   "execution_count": 25,
   "metadata": {
    "ExecuteTime": {
     "end_time": "2020-04-05T10:12:25.648141Z",
     "start_time": "2020-04-05T10:12:25.646154Z"
    }
   },
   "outputs": [],
   "source": [
    "kf = StratifiedKFold(n_splits=5)"
   ]
  },
  {
   "cell_type": "code",
   "execution_count": 26,
   "metadata": {
    "ExecuteTime": {
     "end_time": "2020-04-05T10:12:26.770168Z",
     "start_time": "2020-04-05T10:12:26.746819Z"
    }
   },
   "outputs": [],
   "source": [
    "train['fold'] = 0\n",
    "for fold, (train_idx, valid_idx) in enumerate(kf.split(train, train['senti_label'])):\n",
    "    train.loc[valid_idx, 'fold'] = fold"
   ]
  },
  {
   "cell_type": "code",
   "execution_count": 27,
   "metadata": {
    "ExecuteTime": {
     "end_time": "2020-04-05T10:12:26.991003Z",
     "start_time": "2020-04-05T10:12:26.975669Z"
    }
   },
   "outputs": [
    {
     "data": {
      "text/plain": [
       "0    5499\n",
       "1    5498\n",
       "4    5496\n",
       "3    5496\n",
       "2    5496\n",
       "Name: fold, dtype: int64"
      ]
     },
     "execution_count": 27,
     "metadata": {},
     "output_type": "execute_result"
    }
   ],
   "source": [
    "train['fold'].value_counts()"
   ]
  },
  {
   "cell_type": "code",
   "execution_count": 29,
   "metadata": {
    "ExecuteTime": {
     "end_time": "2020-04-05T10:12:36.007337Z",
     "start_time": "2020-04-05T10:12:35.941710Z"
    }
   },
   "outputs": [],
   "source": [
    "train.to_pickle('../input/train_roberta.pkl')"
   ]
  },
  {
   "cell_type": "code",
   "execution_count": 32,
   "metadata": {
    "ExecuteTime": {
     "end_time": "2020-04-05T10:12:49.686759Z",
     "start_time": "2020-04-05T10:12:49.681801Z"
    }
   },
   "outputs": [
    {
     "data": {
      "text/plain": [
       "['negative']"
      ]
     },
     "execution_count": 32,
     "metadata": {},
     "output_type": "execute_result"
    }
   ],
   "source": [
    "tokenizer.tokenize('negative')"
   ]
  },
  {
   "cell_type": "code",
   "execution_count": 35,
   "metadata": {
    "ExecuteTime": {
     "end_time": "2020-04-05T15:15:54.625800Z",
     "start_time": "2020-04-05T15:15:54.621756Z"
    }
   },
   "outputs": [
    {
     "data": {
      "text/plain": [
       "{'input_ids': [0,\n",
       "  1313,\n",
       "  2,\n",
       "  2,\n",
       "  2649,\n",
       "  47,\n",
       "  127,\n",
       "  14880,\n",
       "  2,\n",
       "  1,\n",
       "  1,\n",
       "  1,\n",
       "  1,\n",
       "  1,\n",
       "  1,\n",
       "  1,\n",
       "  1,\n",
       "  1,\n",
       "  1,\n",
       "  1],\n",
       " 'token_type_ids': [0,\n",
       "  0,\n",
       "  0,\n",
       "  0,\n",
       "  0,\n",
       "  0,\n",
       "  0,\n",
       "  0,\n",
       "  0,\n",
       "  0,\n",
       "  0,\n",
       "  0,\n",
       "  0,\n",
       "  0,\n",
       "  0,\n",
       "  0,\n",
       "  0,\n",
       "  0,\n",
       "  0,\n",
       "  0],\n",
       " 'attention_mask': [1,\n",
       "  1,\n",
       "  1,\n",
       "  1,\n",
       "  1,\n",
       "  1,\n",
       "  1,\n",
       "  1,\n",
       "  1,\n",
       "  0,\n",
       "  0,\n",
       "  0,\n",
       "  0,\n",
       "  0,\n",
       "  0,\n",
       "  0,\n",
       "  0,\n",
       "  0,\n",
       "  0,\n",
       "  0]}"
      ]
     },
     "execution_count": 35,
     "metadata": {},
     "output_type": "execute_result"
    }
   ],
   "source": [
    "tokenizer.encode_plus('positive', 'miss you my dear', max_length=20, pad_to_max_length=True)"
   ]
  },
  {
   "cell_type": "code",
   "execution_count": null,
   "metadata": {},
   "outputs": [],
   "source": []
  }
 ],
 "metadata": {
  "kernelspec": {
   "display_name": "Python 3",
   "language": "python",
   "name": "python3"
  },
  "language_info": {
   "codemirror_mode": {
    "name": "ipython",
    "version": 3
   },
   "file_extension": ".py",
   "mimetype": "text/x-python",
   "name": "python",
   "nbconvert_exporter": "python",
   "pygments_lexer": "ipython3",
   "version": "3.7.1"
  }
 },
 "nbformat": 4,
 "nbformat_minor": 2
}
