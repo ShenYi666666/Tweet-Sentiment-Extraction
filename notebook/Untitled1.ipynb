{
 "cells": [
  {
   "cell_type": "code",
   "execution_count": 1,
   "metadata": {
    "ExecuteTime": {
     "end_time": "2020-06-15T01:48:38.320079Z",
     "start_time": "2020-06-15T01:48:38.144108Z"
    }
   },
   "outputs": [],
   "source": [
    "import pandas as pd"
   ]
  },
  {
   "cell_type": "code",
   "execution_count": 2,
   "metadata": {
    "ExecuteTime": {
     "end_time": "2020-06-15T01:48:59.248938Z",
     "start_time": "2020-06-15T01:48:59.046876Z"
    }
   },
   "outputs": [],
   "source": [
    "df = pd.read_pickle('../experiments/v10_10/preds_10_2.pkl')"
   ]
  },
  {
   "cell_type": "code",
   "execution_count": 3,
   "metadata": {
    "ExecuteTime": {
     "end_time": "2020-06-15T01:49:02.588982Z",
     "start_time": "2020-06-15T01:49:02.570450Z"
    }
   },
   "outputs": [
    {
     "data": {
      "text/html": [
       "<div>\n",
       "<style scoped>\n",
       "    .dataframe tbody tr th:only-of-type {\n",
       "        vertical-align: middle;\n",
       "    }\n",
       "\n",
       "    .dataframe tbody tr th {\n",
       "        vertical-align: top;\n",
       "    }\n",
       "\n",
       "    .dataframe thead th {\n",
       "        text-align: right;\n",
       "    }\n",
       "</style>\n",
       "<table border=\"1\" class=\"dataframe\">\n",
       "  <thead>\n",
       "    <tr style=\"text-align: right;\">\n",
       "      <th></th>\n",
       "      <th>textID</th>\n",
       "      <th>text</th>\n",
       "      <th>selected_text</th>\n",
       "      <th>sentiment</th>\n",
       "      <th>kfold</th>\n",
       "      <th>pred</th>\n",
       "      <th>raw_pred</th>\n",
       "      <th>start_char_prob</th>\n",
       "      <th>end_char_prob</th>\n",
       "      <th>start_char_prob2</th>\n",
       "      <th>end_char_prob2</th>\n",
       "    </tr>\n",
       "  </thead>\n",
       "  <tbody>\n",
       "    <tr>\n",
       "      <th>0</th>\n",
       "      <td>cb774db0d1</td>\n",
       "      <td>I`d have responded, if I were going</td>\n",
       "      <td>I`d have responded, if I were going</td>\n",
       "      <td>neutral</td>\n",
       "      <td>1</td>\n",
       "      <td>I`d have responded, if I were going</td>\n",
       "      <td>I`d have responded, if I were going</td>\n",
       "      <td>[1.4195052244758699e-05, 0.9998747110366821, 4...</td>\n",
       "      <td>[9.991838396672392e-07, 2.9739665478700772e-05...</td>\n",
       "      <td>[0.9998747110366821, 0.9998747110366821, 4.918...</td>\n",
       "      <td>[9.991838396672392e-07, 2.9739665478700772e-05...</td>\n",
       "    </tr>\n",
       "    <tr>\n",
       "      <th>1</th>\n",
       "      <td>549e992a42</td>\n",
       "      <td>Sooo SAD I will miss you here in San Diego!!!</td>\n",
       "      <td>Sooo SAD</td>\n",
       "      <td>negative</td>\n",
       "      <td>3</td>\n",
       "      <td>Sooo SAD</td>\n",
       "      <td>Sooo SAD</td>\n",
       "      <td>[6.095983917475678e-05, 0.5823206901550293, 0....</td>\n",
       "      <td>[1.4333424758206093e-07, 0.0005510093760676682...</td>\n",
       "      <td>[0.5823206901550293, 0.5823206901550293, 0.582...</td>\n",
       "      <td>[1.4333424758206093e-07, 0.0005510093760676682...</td>\n",
       "    </tr>\n",
       "    <tr>\n",
       "      <th>2</th>\n",
       "      <td>088c60f138</td>\n",
       "      <td>my boss is bullying me...</td>\n",
       "      <td>bullying me</td>\n",
       "      <td>negative</td>\n",
       "      <td>4</td>\n",
       "      <td>bullying me...</td>\n",
       "      <td>bullying me...</td>\n",
       "      <td>[0.29349878430366516, 0.29349878430366516, 4.0...</td>\n",
       "      <td>[0.0002840515226125717, 0.0002840515226125717,...</td>\n",
       "      <td>[0.29349878430366516, 0.29349878430366516, 0.0...</td>\n",
       "      <td>[0.0002840515226125717, 0.0002840515226125717,...</td>\n",
       "    </tr>\n",
       "    <tr>\n",
       "      <th>3</th>\n",
       "      <td>9642c003ef</td>\n",
       "      <td>what interview! leave me alone</td>\n",
       "      <td>leave me alone</td>\n",
       "      <td>negative</td>\n",
       "      <td>0</td>\n",
       "      <td>leave me alone</td>\n",
       "      <td>leave me alone</td>\n",
       "      <td>[1.7648064385866746e-05, 0.42214760184288025, ...</td>\n",
       "      <td>[5.549742922994483e-07, 0.009236179292201996, ...</td>\n",
       "      <td>[0.42214760184288025, 0.42214760184288025, 0.4...</td>\n",
       "      <td>[5.549742922994483e-07, 0.009236179292201996, ...</td>\n",
       "    </tr>\n",
       "    <tr>\n",
       "      <th>4</th>\n",
       "      <td>358bd9e861</td>\n",
       "      <td>Sons of ****, why couldn`t they put them on t...</td>\n",
       "      <td>Sons of ****,</td>\n",
       "      <td>negative</td>\n",
       "      <td>5</td>\n",
       "      <td>****,</td>\n",
       "      <td>****,</td>\n",
       "      <td>[7.111657760106027e-05, 0.47037774324417114, 0...</td>\n",
       "      <td>[2.906915312905767e-07, 0.0009326006402261555,...</td>\n",
       "      <td>[0.47037774324417114, 0.47037774324417114, 0.4...</td>\n",
       "      <td>[2.906915312905767e-07, 0.0009326006402261555,...</td>\n",
       "    </tr>\n",
       "  </tbody>\n",
       "</table>\n",
       "</div>"
      ],
      "text/plain": [
       "       textID                                               text  \\\n",
       "0  cb774db0d1                I`d have responded, if I were going   \n",
       "1  549e992a42      Sooo SAD I will miss you here in San Diego!!!   \n",
       "2  088c60f138                          my boss is bullying me...   \n",
       "3  9642c003ef                     what interview! leave me alone   \n",
       "4  358bd9e861   Sons of ****, why couldn`t they put them on t...   \n",
       "\n",
       "                         selected_text sentiment  kfold  \\\n",
       "0  I`d have responded, if I were going   neutral      1   \n",
       "1                             Sooo SAD  negative      3   \n",
       "2                          bullying me  negative      4   \n",
       "3                       leave me alone  negative      0   \n",
       "4                        Sons of ****,  negative      5   \n",
       "\n",
       "                                   pred                              raw_pred  \\\n",
       "0   I`d have responded, if I were going   I`d have responded, if I were going   \n",
       "1                              Sooo SAD                              Sooo SAD   \n",
       "2                        bullying me...                        bullying me...   \n",
       "3                        leave me alone                        leave me alone   \n",
       "4                                 ****,                                 ****,   \n",
       "\n",
       "                                     start_char_prob  \\\n",
       "0  [1.4195052244758699e-05, 0.9998747110366821, 4...   \n",
       "1  [6.095983917475678e-05, 0.5823206901550293, 0....   \n",
       "2  [0.29349878430366516, 0.29349878430366516, 4.0...   \n",
       "3  [1.7648064385866746e-05, 0.42214760184288025, ...   \n",
       "4  [7.111657760106027e-05, 0.47037774324417114, 0...   \n",
       "\n",
       "                                       end_char_prob  \\\n",
       "0  [9.991838396672392e-07, 2.9739665478700772e-05...   \n",
       "1  [1.4333424758206093e-07, 0.0005510093760676682...   \n",
       "2  [0.0002840515226125717, 0.0002840515226125717,...   \n",
       "3  [5.549742922994483e-07, 0.009236179292201996, ...   \n",
       "4  [2.906915312905767e-07, 0.0009326006402261555,...   \n",
       "\n",
       "                                    start_char_prob2  \\\n",
       "0  [0.9998747110366821, 0.9998747110366821, 4.918...   \n",
       "1  [0.5823206901550293, 0.5823206901550293, 0.582...   \n",
       "2  [0.29349878430366516, 0.29349878430366516, 0.0...   \n",
       "3  [0.42214760184288025, 0.42214760184288025, 0.4...   \n",
       "4  [0.47037774324417114, 0.47037774324417114, 0.4...   \n",
       "\n",
       "                                      end_char_prob2  \n",
       "0  [9.991838396672392e-07, 2.9739665478700772e-05...  \n",
       "1  [1.4333424758206093e-07, 0.0005510093760676682...  \n",
       "2  [0.0002840515226125717, 0.0002840515226125717,...  \n",
       "3  [5.549742922994483e-07, 0.009236179292201996, ...  \n",
       "4  [2.906915312905767e-07, 0.0009326006402261555,...  "
      ]
     },
     "execution_count": 3,
     "metadata": {},
     "output_type": "execute_result"
    }
   ],
   "source": [
    "df.head()"
   ]
  },
  {
   "cell_type": "code",
   "execution_count": 5,
   "metadata": {
    "ExecuteTime": {
     "end_time": "2020-06-15T01:49:40.516681Z",
     "start_time": "2020-06-15T01:49:40.510404Z"
    }
   },
   "outputs": [
    {
     "data": {
      "text/plain": [
       "array([9.99874711e-01, 9.99874711e-01, 4.91866922e-06, 1.95736520e-05,\n",
       "       1.16408737e-05, 1.16408737e-05, 1.16408737e-05, 1.16408737e-05,\n",
       "       1.16408737e-05, 7.63488333e-06, 7.63488333e-06, 7.63488333e-06,\n",
       "       7.63488333e-06, 7.63488333e-06, 7.63488333e-06, 7.63488333e-06,\n",
       "       7.63488333e-06, 7.63488333e-06, 7.63488333e-06, 2.97442602e-06,\n",
       "       5.26226977e-05, 5.26226977e-05, 5.26226977e-05, 4.37084327e-06,\n",
       "       4.37084327e-06, 2.00636873e-06, 2.00636873e-06, 2.00636873e-06,\n",
       "       2.00636873e-06, 2.00636873e-06, 3.27769635e-06, 3.27769635e-06,\n",
       "       3.27769635e-06, 3.27769635e-06, 3.27769635e-06, 3.27769635e-06])"
      ]
     },
     "execution_count": 5,
     "metadata": {},
     "output_type": "execute_result"
    }
   ],
   "source": [
    "df.loc[0, 'start_char_prob2']"
   ]
  },
  {
   "cell_type": "code",
   "execution_count": 6,
   "metadata": {
    "ExecuteTime": {
     "end_time": "2020-06-15T01:50:15.771728Z",
     "start_time": "2020-06-15T01:50:15.765930Z"
    }
   },
   "outputs": [
    {
     "data": {
      "text/plain": [
       "array([1.41950522e-05, 9.99874711e-01, 4.91866922e-06, 1.95736520e-05,\n",
       "       5.03310616e-07, 1.16408737e-05, 1.16408737e-05, 1.16408737e-05,\n",
       "       1.16408737e-05, 5.36410937e-07, 7.63488333e-06, 7.63488333e-06,\n",
       "       7.63488333e-06, 7.63488333e-06, 7.63488333e-06, 7.63488333e-06,\n",
       "       7.63488333e-06, 7.63488333e-06, 7.63488333e-06, 2.97442602e-06,\n",
       "       3.48900812e-07, 5.26226977e-05, 5.26226977e-05, 2.64277446e-07,\n",
       "       4.37084327e-06, 1.84440509e-07, 2.00636873e-06, 2.00636873e-06,\n",
       "       2.00636873e-06, 2.00636873e-06, 1.26334825e-07, 3.27769635e-06,\n",
       "       3.27769635e-06, 3.27769635e-06, 3.27769635e-06, 3.27769635e-06])"
      ]
     },
     "execution_count": 6,
     "metadata": {},
     "output_type": "execute_result"
    }
   ],
   "source": [
    "df.loc[0, 'start_char_prob']"
   ]
  },
  {
   "cell_type": "code",
   "execution_count": 2,
   "metadata": {
    "ExecuteTime": {
     "end_time": "2020-06-10T13:04:20.632786Z",
     "start_time": "2020-06-10T13:04:20.600520Z"
    }
   },
   "outputs": [],
   "source": [
    "sub_local = pd.read_csv('../src/submission.csv')"
   ]
  },
  {
   "cell_type": "code",
   "execution_count": 3,
   "metadata": {
    "ExecuteTime": {
     "end_time": "2020-06-10T13:04:30.624685Z",
     "start_time": "2020-06-10T13:04:30.604870Z"
    }
   },
   "outputs": [],
   "source": [
    "sub_kaggle = pd.read_csv('../submission717.csv')"
   ]
  },
  {
   "cell_type": "code",
   "execution_count": 10,
   "metadata": {
    "ExecuteTime": {
     "end_time": "2020-06-10T13:08:33.936012Z",
     "start_time": "2020-06-10T13:08:33.930322Z"
    }
   },
   "outputs": [],
   "source": [
    "sub2 = pd.read_csv('../submission_correct.csv')"
   ]
  },
  {
   "cell_type": "code",
   "execution_count": 4,
   "metadata": {
    "ExecuteTime": {
     "end_time": "2020-06-10T13:04:34.097564Z",
     "start_time": "2020-06-10T13:04:34.065736Z"
    }
   },
   "outputs": [
    {
     "data": {
      "text/html": [
       "<div>\n",
       "<style scoped>\n",
       "    .dataframe tbody tr th:only-of-type {\n",
       "        vertical-align: middle;\n",
       "    }\n",
       "\n",
       "    .dataframe tbody tr th {\n",
       "        vertical-align: top;\n",
       "    }\n",
       "\n",
       "    .dataframe thead th {\n",
       "        text-align: right;\n",
       "    }\n",
       "</style>\n",
       "<table border=\"1\" class=\"dataframe\">\n",
       "  <thead>\n",
       "    <tr style=\"text-align: right;\">\n",
       "      <th></th>\n",
       "      <th>textID</th>\n",
       "      <th>text</th>\n",
       "      <th>sentiment</th>\n",
       "      <th>clean_text</th>\n",
       "      <th>train_text</th>\n",
       "      <th>extra_space</th>\n",
       "      <th>senti_label</th>\n",
       "      <th>offsets</th>\n",
       "      <th>words</th>\n",
       "      <th>invert_map</th>\n",
       "      <th>whole_pred</th>\n",
       "      <th>selected_text</th>\n",
       "      <th>score</th>\n",
       "    </tr>\n",
       "  </thead>\n",
       "  <tbody>\n",
       "    <tr>\n",
       "      <th>0</th>\n",
       "      <td>f87dea47db</td>\n",
       "      <td>Last session of the day  http://twitpic.com/67ezh</td>\n",
       "      <td>neutral</td>\n",
       "      <td>Last session of the day http://twitpic.com/67ezh</td>\n",
       "      <td>Last session of the day  http://twitpic.com/67ezh</td>\n",
       "      <td>[0, 0, 0, 0, 0, 0, 0, 0, 0, 0, 0, 0, 0, 0, 0, ...</td>\n",
       "      <td>1</td>\n",
       "      <td>[(0, 4), (4, 5), (5, 12), (12, 13), (13, 15), ...</td>\n",
       "      <td>['Last', ' ', 'session', ' ', 'of', ' ', 'the'...</td>\n",
       "      <td>[0, 1, 2, 3, 4, 5, 6, 7, 8, 9, 10, 11, 12, 13,...</td>\n",
       "      <td>0.589832</td>\n",
       "      <td>Last session of the day  http://twitpic.com/67ezh</td>\n",
       "      <td>1.502438</td>\n",
       "    </tr>\n",
       "    <tr>\n",
       "      <th>1</th>\n",
       "      <td>96d74cb729</td>\n",
       "      <td>Shanghai is also really exciting (precisely -...</td>\n",
       "      <td>positive</td>\n",
       "      <td>Shanghai is also really exciting (precisely --...</td>\n",
       "      <td>Shanghai is also really exciting (precisely -...</td>\n",
       "      <td>[1, 1, 1, 1, 1, 1, 1, 1, 1, 1, 1, 1, 1, 1, 1, ...</td>\n",
       "      <td>2</td>\n",
       "      <td>[(0, 1), (1, 9), (9, 10), (10, 12), (12, 13), ...</td>\n",
       "      <td>[' ', 'Shanghai', ' ', 'is', ' ', 'also', ' ',...</td>\n",
       "      <td>[0, 1, 2, 3, 4, 5, 6, 7, 8, 9, 10, 11, 12, 12,...</td>\n",
       "      <td>0.033377</td>\n",
       "      <td>exciting</td>\n",
       "      <td>1.054914</td>\n",
       "    </tr>\n",
       "    <tr>\n",
       "      <th>2</th>\n",
       "      <td>eee518ae67</td>\n",
       "      <td>Recession hit Veronique Branquinho, she has to...</td>\n",
       "      <td>negative</td>\n",
       "      <td>Recession hit Veronique Branquinho, she has to...</td>\n",
       "      <td>Recession hit Veronique Branquinho, she has to...</td>\n",
       "      <td>[0, 0, 0, 0, 0, 0, 0, 0, 0, 0, 0, 0, 0, 0, 0, ...</td>\n",
       "      <td>0</td>\n",
       "      <td>[(0, 9), (9, 10), (10, 13), (13, 14), (14, 23)...</td>\n",
       "      <td>['Recession', ' ', 'hit', ' ', 'Veronique', ' ...</td>\n",
       "      <td>[0, 1, 2, 3, 4, 4, 4, 5, 6, 6, 6, 7, 8, 9, 10,...</td>\n",
       "      <td>0.083258</td>\n",
       "      <td>shame!</td>\n",
       "      <td>1.360383</td>\n",
       "    </tr>\n",
       "    <tr>\n",
       "      <th>3</th>\n",
       "      <td>01082688c6</td>\n",
       "      <td>happy bday!</td>\n",
       "      <td>positive</td>\n",
       "      <td>happy bday!</td>\n",
       "      <td>happy bday!</td>\n",
       "      <td>[1, 1, 1, 1, 1, 1, 1, 1, 1, 1, 1, 1]</td>\n",
       "      <td>2</td>\n",
       "      <td>[(0, 1), (1, 6), (6, 7), (7, 11), (11, 12)]</td>\n",
       "      <td>[' ', 'happy', ' ', 'bday', '!']</td>\n",
       "      <td>[0, 1, 2, 3, 3, 4]</td>\n",
       "      <td>0.105837</td>\n",
       "      <td>happy</td>\n",
       "      <td>1.609411</td>\n",
       "    </tr>\n",
       "    <tr>\n",
       "      <th>4</th>\n",
       "      <td>33987a8ee5</td>\n",
       "      <td>http://twitpic.com/4w75p - I like it!!</td>\n",
       "      <td>positive</td>\n",
       "      <td>http://twitpic.com/4w75p - I like it!!</td>\n",
       "      <td>http://twitpic.com/4w75p - I like it!!</td>\n",
       "      <td>[1, 1, 1, 1, 1, 1, 1, 1, 1, 1, 1, 1, 1, 1, 1, ...</td>\n",
       "      <td>2</td>\n",
       "      <td>[(0, 1), (1, 5), (5, 6), (6, 7), (7, 8), (8, 1...</td>\n",
       "      <td>[' ', 'http', ':', '/', '/', 'twitpic', '.', '...</td>\n",
       "      <td>[0, 1, 2, 3, 4, 5, 5, 5, 6, 7, 8, 9, 9, 9, 9, ...</td>\n",
       "      <td>0.005534</td>\n",
       "      <td>I like</td>\n",
       "      <td>1.062531</td>\n",
       "    </tr>\n",
       "  </tbody>\n",
       "</table>\n",
       "</div>"
      ],
      "text/plain": [
       "       textID                                               text sentiment  \\\n",
       "0  f87dea47db  Last session of the day  http://twitpic.com/67ezh   neutral   \n",
       "1  96d74cb729   Shanghai is also really exciting (precisely -...  positive   \n",
       "2  eee518ae67  Recession hit Veronique Branquinho, she has to...  negative   \n",
       "3  01082688c6                                        happy bday!  positive   \n",
       "4  33987a8ee5             http://twitpic.com/4w75p - I like it!!  positive   \n",
       "\n",
       "                                          clean_text  \\\n",
       "0   Last session of the day http://twitpic.com/67ezh   \n",
       "1  Shanghai is also really exciting (precisely --...   \n",
       "2  Recession hit Veronique Branquinho, she has to...   \n",
       "3                                        happy bday!   \n",
       "4             http://twitpic.com/4w75p - I like it!!   \n",
       "\n",
       "                                          train_text  \\\n",
       "0  Last session of the day  http://twitpic.com/67ezh   \n",
       "1   Shanghai is also really exciting (precisely -...   \n",
       "2  Recession hit Veronique Branquinho, she has to...   \n",
       "3                                        happy bday!   \n",
       "4             http://twitpic.com/4w75p - I like it!!   \n",
       "\n",
       "                                         extra_space  senti_label  \\\n",
       "0  [0, 0, 0, 0, 0, 0, 0, 0, 0, 0, 0, 0, 0, 0, 0, ...            1   \n",
       "1  [1, 1, 1, 1, 1, 1, 1, 1, 1, 1, 1, 1, 1, 1, 1, ...            2   \n",
       "2  [0, 0, 0, 0, 0, 0, 0, 0, 0, 0, 0, 0, 0, 0, 0, ...            0   \n",
       "3               [1, 1, 1, 1, 1, 1, 1, 1, 1, 1, 1, 1]            2   \n",
       "4  [1, 1, 1, 1, 1, 1, 1, 1, 1, 1, 1, 1, 1, 1, 1, ...            2   \n",
       "\n",
       "                                             offsets  \\\n",
       "0  [(0, 4), (4, 5), (5, 12), (12, 13), (13, 15), ...   \n",
       "1  [(0, 1), (1, 9), (9, 10), (10, 12), (12, 13), ...   \n",
       "2  [(0, 9), (9, 10), (10, 13), (13, 14), (14, 23)...   \n",
       "3        [(0, 1), (1, 6), (6, 7), (7, 11), (11, 12)]   \n",
       "4  [(0, 1), (1, 5), (5, 6), (6, 7), (7, 8), (8, 1...   \n",
       "\n",
       "                                               words  \\\n",
       "0  ['Last', ' ', 'session', ' ', 'of', ' ', 'the'...   \n",
       "1  [' ', 'Shanghai', ' ', 'is', ' ', 'also', ' ',...   \n",
       "2  ['Recession', ' ', 'hit', ' ', 'Veronique', ' ...   \n",
       "3                   [' ', 'happy', ' ', 'bday', '!']   \n",
       "4  [' ', 'http', ':', '/', '/', 'twitpic', '.', '...   \n",
       "\n",
       "                                          invert_map  whole_pred  \\\n",
       "0  [0, 1, 2, 3, 4, 5, 6, 7, 8, 9, 10, 11, 12, 13,...    0.589832   \n",
       "1  [0, 1, 2, 3, 4, 5, 6, 7, 8, 9, 10, 11, 12, 12,...    0.033377   \n",
       "2  [0, 1, 2, 3, 4, 4, 4, 5, 6, 6, 6, 7, 8, 9, 10,...    0.083258   \n",
       "3                                 [0, 1, 2, 3, 3, 4]    0.105837   \n",
       "4  [0, 1, 2, 3, 4, 5, 5, 5, 6, 7, 8, 9, 9, 9, 9, ...    0.005534   \n",
       "\n",
       "                                       selected_text     score  \n",
       "0  Last session of the day  http://twitpic.com/67ezh  1.502438  \n",
       "1                                           exciting  1.054914  \n",
       "2                                             shame!  1.360383  \n",
       "3                                              happy  1.609411  \n",
       "4                                             I like  1.062531  "
      ]
     },
     "execution_count": 4,
     "metadata": {},
     "output_type": "execute_result"
    }
   ],
   "source": [
    "sub_local.head()"
   ]
  },
  {
   "cell_type": "code",
   "execution_count": 9,
   "metadata": {
    "ExecuteTime": {
     "end_time": "2020-06-10T13:05:51.268211Z",
     "start_time": "2020-06-10T13:05:51.262238Z"
    }
   },
   "outputs": [
    {
     "data": {
      "text/html": [
       "<div>\n",
       "<style scoped>\n",
       "    .dataframe tbody tr th:only-of-type {\n",
       "        vertical-align: middle;\n",
       "    }\n",
       "\n",
       "    .dataframe tbody tr th {\n",
       "        vertical-align: top;\n",
       "    }\n",
       "\n",
       "    .dataframe thead th {\n",
       "        text-align: right;\n",
       "    }\n",
       "</style>\n",
       "<table border=\"1\" class=\"dataframe\">\n",
       "  <thead>\n",
       "    <tr style=\"text-align: right;\">\n",
       "      <th></th>\n",
       "      <th>textID</th>\n",
       "      <th>selected_text</th>\n",
       "      <th>s2</th>\n",
       "    </tr>\n",
       "  </thead>\n",
       "  <tbody>\n",
       "    <tr>\n",
       "      <th>0</th>\n",
       "      <td>f87dea47db</td>\n",
       "      <td>Last session of the day  http://twitpic.com/67ezh</td>\n",
       "      <td>Last session of the day  http://twitpic.com/67ezh</td>\n",
       "    </tr>\n",
       "    <tr>\n",
       "      <th>1</th>\n",
       "      <td>96d74cb729</td>\n",
       "      <td>exciting</td>\n",
       "      <td>exciting</td>\n",
       "    </tr>\n",
       "    <tr>\n",
       "      <th>2</th>\n",
       "      <td>eee518ae67</td>\n",
       "      <td>shame!</td>\n",
       "      <td>shame!</td>\n",
       "    </tr>\n",
       "    <tr>\n",
       "      <th>3</th>\n",
       "      <td>01082688c6</td>\n",
       "      <td>happy</td>\n",
       "      <td>happy</td>\n",
       "    </tr>\n",
       "    <tr>\n",
       "      <th>4</th>\n",
       "      <td>33987a8ee5</td>\n",
       "      <td>I like</td>\n",
       "      <td>I like</td>\n",
       "    </tr>\n",
       "    <tr>\n",
       "      <th>5</th>\n",
       "      <td>726e501993</td>\n",
       "      <td>that`s great!</td>\n",
       "      <td>that`s great!</td>\n",
       "    </tr>\n",
       "    <tr>\n",
       "      <th>6</th>\n",
       "      <td>261932614e</td>\n",
       "      <td>HATES</td>\n",
       "      <td>HATES</td>\n",
       "    </tr>\n",
       "    <tr>\n",
       "      <th>7</th>\n",
       "      <td>afa11da83f</td>\n",
       "      <td>blocked</td>\n",
       "      <td>blocked</td>\n",
       "    </tr>\n",
       "    <tr>\n",
       "      <th>8</th>\n",
       "      <td>e64208b4ef</td>\n",
       "      <td>and within a short time of the last clue all ...</td>\n",
       "      <td>and within a short time of the last clue all ...</td>\n",
       "    </tr>\n",
       "    <tr>\n",
       "      <th>9</th>\n",
       "      <td>37bcad24ca</td>\n",
       "      <td>What did you get?  My day is alright.. haven`...</td>\n",
       "      <td>What did you get?  My day is alright.. haven`...</td>\n",
       "    </tr>\n",
       "    <tr>\n",
       "      <th>10</th>\n",
       "      <td>24c92644a4</td>\n",
       "      <td>argh total bummer</td>\n",
       "      <td>argh total bummer</td>\n",
       "    </tr>\n",
       "    <tr>\n",
       "      <th>11</th>\n",
       "      <td>43b390b336</td>\n",
       "      <td>I checked.  We didn`t win</td>\n",
       "      <td>I checked.  We didn`t win</td>\n",
       "    </tr>\n",
       "    <tr>\n",
       "      <th>12</th>\n",
       "      <td>69d6b5d93e</td>\n",
       "      <td>.. and you`re on twitter! Did the tavern bore...</td>\n",
       "      <td>.. and you`re on twitter! Did the tavern bore...</td>\n",
       "    </tr>\n",
       "    <tr>\n",
       "      <th>13</th>\n",
       "      <td>5c1e0b61a1</td>\n",
       "      <td>sad,</td>\n",
       "      <td>sad,</td>\n",
       "    </tr>\n",
       "    <tr>\n",
       "      <th>14</th>\n",
       "      <td>504e45d9d9</td>\n",
       "      <td>loose</td>\n",
       "      <td>loose</td>\n",
       "    </tr>\n",
       "    <tr>\n",
       "      <th>15</th>\n",
       "      <td>ae93ad52a0</td>\n",
       "      <td>don`t like it and i hate my new timetable, hav...</td>\n",
       "      <td>don`t like it and i hate my new timetable, hav...</td>\n",
       "    </tr>\n",
       "    <tr>\n",
       "      <th>16</th>\n",
       "      <td>9fce30159a</td>\n",
       "      <td>Miss you</td>\n",
       "      <td>Miss you</td>\n",
       "    </tr>\n",
       "    <tr>\n",
       "      <th>17</th>\n",
       "      <td>00d5195223</td>\n",
       "      <td>Cramps</td>\n",
       "      <td>Cramps</td>\n",
       "    </tr>\n",
       "    <tr>\n",
       "      <th>18</th>\n",
       "      <td>33f19050cf</td>\n",
       "      <td>t nice</td>\n",
       "      <td>t nice</td>\n",
       "    </tr>\n",
       "    <tr>\n",
       "      <th>19</th>\n",
       "      <td>f7718b3c23</td>\n",
       "      <td>I`m going into a spiritual stagnentation, its ...</td>\n",
       "      <td>I`m going into a spiritual stagnentation, its ...</td>\n",
       "    </tr>\n",
       "  </tbody>\n",
       "</table>\n",
       "</div>"
      ],
      "text/plain": [
       "        textID                                      selected_text  \\\n",
       "0   f87dea47db  Last session of the day  http://twitpic.com/67ezh   \n",
       "1   96d74cb729                                           exciting   \n",
       "2   eee518ae67                                             shame!   \n",
       "3   01082688c6                                              happy   \n",
       "4   33987a8ee5                                             I like   \n",
       "5   726e501993                                      that`s great!   \n",
       "6   261932614e                                              HATES   \n",
       "7   afa11da83f                                            blocked   \n",
       "8   e64208b4ef   and within a short time of the last clue all ...   \n",
       "9   37bcad24ca   What did you get?  My day is alright.. haven`...   \n",
       "10  24c92644a4                                  argh total bummer   \n",
       "11  43b390b336                          I checked.  We didn`t win   \n",
       "12  69d6b5d93e   .. and you`re on twitter! Did the tavern bore...   \n",
       "13  5c1e0b61a1                                               sad,   \n",
       "14  504e45d9d9                                              loose   \n",
       "15  ae93ad52a0  don`t like it and i hate my new timetable, hav...   \n",
       "16  9fce30159a                                           Miss you   \n",
       "17  00d5195223                                             Cramps   \n",
       "18  33f19050cf                                             t nice   \n",
       "19  f7718b3c23  I`m going into a spiritual stagnentation, its ...   \n",
       "\n",
       "                                                   s2  \n",
       "0   Last session of the day  http://twitpic.com/67ezh  \n",
       "1                                            exciting  \n",
       "2                                              shame!  \n",
       "3                                               happy  \n",
       "4                                              I like  \n",
       "5                                       that`s great!  \n",
       "6                                               HATES  \n",
       "7                                             blocked  \n",
       "8    and within a short time of the last clue all ...  \n",
       "9    What did you get?  My day is alright.. haven`...  \n",
       "10                                  argh total bummer  \n",
       "11                          I checked.  We didn`t win  \n",
       "12   .. and you`re on twitter! Did the tavern bore...  \n",
       "13                                               sad,  \n",
       "14                                              loose  \n",
       "15  don`t like it and i hate my new timetable, hav...  \n",
       "16                                           Miss you  \n",
       "17                                             Cramps  \n",
       "18                                             t nice  \n",
       "19  I`m going into a spiritual stagnentation, its ...  "
      ]
     },
     "execution_count": 9,
     "metadata": {},
     "output_type": "execute_result"
    }
   ],
   "source": [
    "sub_kaggle.head(20)"
   ]
  },
  {
   "cell_type": "code",
   "execution_count": 6,
   "metadata": {
    "ExecuteTime": {
     "end_time": "2020-06-10T13:05:02.505201Z",
     "start_time": "2020-06-10T13:05:02.496133Z"
    }
   },
   "outputs": [],
   "source": [
    "sub_kaggle['s2'] = sub_local['selected_text'].values"
   ]
  },
  {
   "cell_type": "code",
   "execution_count": 11,
   "metadata": {
    "ExecuteTime": {
     "end_time": "2020-06-10T13:08:55.836627Z",
     "start_time": "2020-06-10T13:08:55.832442Z"
    }
   },
   "outputs": [],
   "source": [
    "sub_kaggle['s3'] = sub2['selected_text'].values"
   ]
  },
  {
   "cell_type": "code",
   "execution_count": 12,
   "metadata": {
    "ExecuteTime": {
     "end_time": "2020-06-10T13:09:02.379375Z",
     "start_time": "2020-06-10T13:09:02.372391Z"
    }
   },
   "outputs": [
    {
     "data": {
      "text/html": [
       "<div>\n",
       "<style scoped>\n",
       "    .dataframe tbody tr th:only-of-type {\n",
       "        vertical-align: middle;\n",
       "    }\n",
       "\n",
       "    .dataframe tbody tr th {\n",
       "        vertical-align: top;\n",
       "    }\n",
       "\n",
       "    .dataframe thead th {\n",
       "        text-align: right;\n",
       "    }\n",
       "</style>\n",
       "<table border=\"1\" class=\"dataframe\">\n",
       "  <thead>\n",
       "    <tr style=\"text-align: right;\">\n",
       "      <th></th>\n",
       "      <th>textID</th>\n",
       "      <th>selected_text</th>\n",
       "      <th>s2</th>\n",
       "      <th>s3</th>\n",
       "    </tr>\n",
       "  </thead>\n",
       "  <tbody>\n",
       "    <tr>\n",
       "      <th>2341</th>\n",
       "      <td>e10587e6de</td>\n",
       "      <td>I hate you.</td>\n",
       "      <td>hate you.</td>\n",
       "      <td>hate you.</td>\n",
       "    </tr>\n",
       "    <tr>\n",
       "      <th>2827</th>\n",
       "      <td>24747934b4</td>\n",
       "      <td>That won`t be for a while though. Wide awake.</td>\n",
       "      <td>Yeah, I`ll probably `stop` when ALL of my stor...</td>\n",
       "      <td>Yeah, I`ll probably `stop` when ALL of my stor...</td>\n",
       "    </tr>\n",
       "  </tbody>\n",
       "</table>\n",
       "</div>"
      ],
      "text/plain": [
       "          textID                                  selected_text  \\\n",
       "2341  e10587e6de                                    I hate you.   \n",
       "2827  24747934b4  That won`t be for a while though. Wide awake.   \n",
       "\n",
       "                                                     s2  \\\n",
       "2341                                          hate you.   \n",
       "2827  Yeah, I`ll probably `stop` when ALL of my stor...   \n",
       "\n",
       "                                                     s3  \n",
       "2341                                          hate you.  \n",
       "2827  Yeah, I`ll probably `stop` when ALL of my stor...  "
      ]
     },
     "execution_count": 12,
     "metadata": {},
     "output_type": "execute_result"
    }
   ],
   "source": [
    "sub_kaggle[sub_kaggle['s3']!=sub_kaggle['selected_text']]"
   ]
  },
  {
   "cell_type": "code",
   "execution_count": null,
   "metadata": {},
   "outputs": [],
   "source": []
  }
 ],
 "metadata": {
  "kernelspec": {
   "display_name": "Python 3",
   "language": "python",
   "name": "python3"
  },
  "language_info": {
   "codemirror_mode": {
    "name": "ipython",
    "version": 3
   },
   "file_extension": ".py",
   "mimetype": "text/x-python",
   "name": "python",
   "nbconvert_exporter": "python",
   "pygments_lexer": "ipython3",
   "version": "3.7.1"
  }
 },
 "nbformat": 4,
 "nbformat_minor": 2
}
