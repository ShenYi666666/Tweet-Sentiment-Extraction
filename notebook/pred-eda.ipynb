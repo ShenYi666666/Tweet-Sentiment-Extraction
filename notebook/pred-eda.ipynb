{
 "cells": [
  {
   "cell_type": "code",
   "execution_count": 1,
   "metadata": {
    "ExecuteTime": {
     "end_time": "2020-05-10T07:31:44.518734Z",
     "start_time": "2020-05-10T07:31:44.282191Z"
    }
   },
   "outputs": [],
   "source": [
    "import pandas as pd\n",
    "%matplotlib inline"
   ]
  },
  {
   "cell_type": "code",
   "execution_count": 2,
   "metadata": {
    "ExecuteTime": {
     "end_time": "2020-05-10T07:31:44.689174Z",
     "start_time": "2020-05-10T07:31:44.519724Z"
    }
   },
   "outputs": [],
   "source": [
    "preds = []\n",
    "for f in range(5):\n",
    "    df = pd.read_csv('../experiments/test3_roberta3/pred-%d.csv'%f, sep='\\t')\n",
    "    preds.append(df)\n",
    "df = pd.concat(preds)"
   ]
  },
  {
   "cell_type": "code",
   "execution_count": 3,
   "metadata": {
    "ExecuteTime": {
     "end_time": "2020-05-10T07:31:44.701000Z",
     "start_time": "2020-05-10T07:31:44.690211Z"
    }
   },
   "outputs": [
    {
     "data": {
      "text/html": [
       "<div>\n",
       "<style scoped>\n",
       "    .dataframe tbody tr th:only-of-type {\n",
       "        vertical-align: middle;\n",
       "    }\n",
       "\n",
       "    .dataframe tbody tr th {\n",
       "        vertical-align: top;\n",
       "    }\n",
       "\n",
       "    .dataframe thead th {\n",
       "        text-align: right;\n",
       "    }\n",
       "</style>\n",
       "<table border=\"1\" class=\"dataframe\">\n",
       "  <thead>\n",
       "    <tr style=\"text-align: right;\">\n",
       "      <th></th>\n",
       "      <th>textID</th>\n",
       "      <th>text</th>\n",
       "      <th>selected_text</th>\n",
       "      <th>sentiment</th>\n",
       "      <th>c_selected_text</th>\n",
       "      <th>start_pos</th>\n",
       "      <th>end_pos</th>\n",
       "      <th>tokens</th>\n",
       "      <th>start</th>\n",
       "      <th>end</th>\n",
       "      <th>invert_map</th>\n",
       "      <th>first_token</th>\n",
       "      <th>in_st</th>\n",
       "      <th>all_sentence</th>\n",
       "      <th>senti_label</th>\n",
       "      <th>fold</th>\n",
       "      <th>pred</th>\n",
       "    </tr>\n",
       "  </thead>\n",
       "  <tbody>\n",
       "    <tr>\n",
       "      <th>0</th>\n",
       "      <td>cb774db0d1</td>\n",
       "      <td>i`d have responded, if i were going</td>\n",
       "      <td>i`d have responded, if i were going</td>\n",
       "      <td>neutral</td>\n",
       "      <td>i`d have responded, if i were going</td>\n",
       "      <td>0</td>\n",
       "      <td>35</td>\n",
       "      <td>['Ġi', \"'d\", 'Ġhave', 'Ġresponded', ',', 'Ġif'...</td>\n",
       "      <td>0</td>\n",
       "      <td>8</td>\n",
       "      <td>[0, 0, 1, 2, 2, 3, 4, 5, 6]</td>\n",
       "      <td>[True, False, True, True, False, True, True, T...</td>\n",
       "      <td>[1, 1, 1, 1, 1, 1, 1, 1, 1]</td>\n",
       "      <td>1</td>\n",
       "      <td>1</td>\n",
       "      <td>0</td>\n",
       "      <td>i`d have responded, if i were going</td>\n",
       "    </tr>\n",
       "    <tr>\n",
       "      <th>1</th>\n",
       "      <td>088c60f138</td>\n",
       "      <td>my boss is bullying me...</td>\n",
       "      <td>bullying me</td>\n",
       "      <td>negative</td>\n",
       "      <td>bullying me</td>\n",
       "      <td>11</td>\n",
       "      <td>22</td>\n",
       "      <td>['Ġmy', 'Ġboss', 'Ġis', 'Ġbullying', 'Ġme', '....</td>\n",
       "      <td>3</td>\n",
       "      <td>4</td>\n",
       "      <td>[0, 1, 2, 3, 4, 4]</td>\n",
       "      <td>[True, True, True, True, True, False]</td>\n",
       "      <td>[0, 0, 0, 1, 1, 1]</td>\n",
       "      <td>0</td>\n",
       "      <td>0</td>\n",
       "      <td>0</td>\n",
       "      <td>bullying me...</td>\n",
       "    </tr>\n",
       "    <tr>\n",
       "      <th>2</th>\n",
       "      <td>6e0c6d75b1</td>\n",
       "      <td>2am feedings for the baby are fun when he is a...</td>\n",
       "      <td>fun</td>\n",
       "      <td>positive</td>\n",
       "      <td>fun</td>\n",
       "      <td>30</td>\n",
       "      <td>33</td>\n",
       "      <td>['Ġ2', 'am', 'Ġfeed', 'ings', 'Ġfor', 'Ġthe', ...</td>\n",
       "      <td>8</td>\n",
       "      <td>8</td>\n",
       "      <td>[0, 0, 1, 1, 2, 3, 4, 5, 6, 7, 8, 9, 10, 11, 1...</td>\n",
       "      <td>[True, False, True, False, True, True, True, T...</td>\n",
       "      <td>[0, 0, 0, 0, 0, 0, 0, 0, 1, 0, 0, 0, 0, 0, 0, ...</td>\n",
       "      <td>0</td>\n",
       "      <td>2</td>\n",
       "      <td>0</td>\n",
       "      <td>fun</td>\n",
       "    </tr>\n",
       "    <tr>\n",
       "      <th>3</th>\n",
       "      <td>2339a9b08b</td>\n",
       "      <td>as much as i love to be hopeful, i reckon the ...</td>\n",
       "      <td>as much as i love to be hopeful, i reckon the ...</td>\n",
       "      <td>neutral</td>\n",
       "      <td>as much as i love to be hopeful, i reckon the ...</td>\n",
       "      <td>0</td>\n",
       "      <td>106</td>\n",
       "      <td>['Ġas', 'Ġmuch', 'Ġas', 'Ġi', 'Ġlove', 'Ġto', ...</td>\n",
       "      <td>0</td>\n",
       "      <td>25</td>\n",
       "      <td>[0, 1, 2, 3, 4, 5, 6, 7, 7, 8, 9, 10, 11, 12, ...</td>\n",
       "      <td>[True, True, True, True, True, True, True, Tru...</td>\n",
       "      <td>[1, 1, 1, 1, 1, 1, 1, 1, 1, 1, 1, 1, 1, 1, 1, ...</td>\n",
       "      <td>1</td>\n",
       "      <td>1</td>\n",
       "      <td>0</td>\n",
       "      <td>as much as i love to be hopeful, i reckon the ...</td>\n",
       "    </tr>\n",
       "    <tr>\n",
       "      <th>4</th>\n",
       "      <td>8a939bfb59</td>\n",
       "      <td>uh oh, i am sunburned</td>\n",
       "      <td>uh oh, i am sunburned</td>\n",
       "      <td>negative</td>\n",
       "      <td>uh oh, i am sunburned</td>\n",
       "      <td>0</td>\n",
       "      <td>21</td>\n",
       "      <td>['Ġuh', 'Ġoh', ',', 'Ġi', 'Ġam', 'Ġsun', 'burn...</td>\n",
       "      <td>0</td>\n",
       "      <td>7</td>\n",
       "      <td>[0, 1, 1, 2, 3, 4, 4, 4]</td>\n",
       "      <td>[True, True, False, True, True, True, False, F...</td>\n",
       "      <td>[1, 1, 1, 1, 1, 1, 1, 1]</td>\n",
       "      <td>1</td>\n",
       "      <td>0</td>\n",
       "      <td>0</td>\n",
       "      <td>sunburned</td>\n",
       "    </tr>\n",
       "  </tbody>\n",
       "</table>\n",
       "</div>"
      ],
      "text/plain": [
       "       textID                                               text  \\\n",
       "0  cb774db0d1                i`d have responded, if i were going   \n",
       "1  088c60f138                          my boss is bullying me...   \n",
       "2  6e0c6d75b1  2am feedings for the baby are fun when he is a...   \n",
       "3  2339a9b08b  as much as i love to be hopeful, i reckon the ...   \n",
       "4  8a939bfb59                              uh oh, i am sunburned   \n",
       "\n",
       "                                       selected_text sentiment  \\\n",
       "0                i`d have responded, if i were going   neutral   \n",
       "1                                        bullying me  negative   \n",
       "2                                                fun  positive   \n",
       "3  as much as i love to be hopeful, i reckon the ...   neutral   \n",
       "4                              uh oh, i am sunburned  negative   \n",
       "\n",
       "                                     c_selected_text  start_pos  end_pos  \\\n",
       "0                i`d have responded, if i were going          0       35   \n",
       "1                                        bullying me         11       22   \n",
       "2                                                fun         30       33   \n",
       "3  as much as i love to be hopeful, i reckon the ...          0      106   \n",
       "4                              uh oh, i am sunburned          0       21   \n",
       "\n",
       "                                              tokens  start  end  \\\n",
       "0  ['Ġi', \"'d\", 'Ġhave', 'Ġresponded', ',', 'Ġif'...      0    8   \n",
       "1  ['Ġmy', 'Ġboss', 'Ġis', 'Ġbullying', 'Ġme', '....      3    4   \n",
       "2  ['Ġ2', 'am', 'Ġfeed', 'ings', 'Ġfor', 'Ġthe', ...      8    8   \n",
       "3  ['Ġas', 'Ġmuch', 'Ġas', 'Ġi', 'Ġlove', 'Ġto', ...      0   25   \n",
       "4  ['Ġuh', 'Ġoh', ',', 'Ġi', 'Ġam', 'Ġsun', 'burn...      0    7   \n",
       "\n",
       "                                          invert_map  \\\n",
       "0                        [0, 0, 1, 2, 2, 3, 4, 5, 6]   \n",
       "1                                 [0, 1, 2, 3, 4, 4]   \n",
       "2  [0, 0, 1, 1, 2, 3, 4, 5, 6, 7, 8, 9, 10, 11, 1...   \n",
       "3  [0, 1, 2, 3, 4, 5, 6, 7, 7, 8, 9, 10, 11, 12, ...   \n",
       "4                           [0, 1, 1, 2, 3, 4, 4, 4]   \n",
       "\n",
       "                                         first_token  \\\n",
       "0  [True, False, True, True, False, True, True, T...   \n",
       "1              [True, True, True, True, True, False]   \n",
       "2  [True, False, True, False, True, True, True, T...   \n",
       "3  [True, True, True, True, True, True, True, Tru...   \n",
       "4  [True, True, False, True, True, True, False, F...   \n",
       "\n",
       "                                               in_st  all_sentence  \\\n",
       "0                        [1, 1, 1, 1, 1, 1, 1, 1, 1]             1   \n",
       "1                                 [0, 0, 0, 1, 1, 1]             0   \n",
       "2  [0, 0, 0, 0, 0, 0, 0, 0, 1, 0, 0, 0, 0, 0, 0, ...             0   \n",
       "3  [1, 1, 1, 1, 1, 1, 1, 1, 1, 1, 1, 1, 1, 1, 1, ...             1   \n",
       "4                           [1, 1, 1, 1, 1, 1, 1, 1]             1   \n",
       "\n",
       "   senti_label  fold                                               pred  \n",
       "0            1     0                i`d have responded, if i were going  \n",
       "1            0     0                                     bullying me...  \n",
       "2            2     0                                               fun   \n",
       "3            1     0  as much as i love to be hopeful, i reckon the ...  \n",
       "4            0     0                                         sunburned   "
      ]
     },
     "execution_count": 3,
     "metadata": {},
     "output_type": "execute_result"
    }
   ],
   "source": [
    "df.head()"
   ]
  },
  {
   "cell_type": "code",
   "execution_count": 4,
   "metadata": {
    "ExecuteTime": {
     "end_time": "2020-05-10T07:31:44.808378Z",
     "start_time": "2020-05-10T07:31:44.785070Z"
    }
   },
   "outputs": [],
   "source": [
    "df = df[df['sentiment']!='neutral']"
   ]
  },
  {
   "cell_type": "code",
   "execution_count": 5,
   "metadata": {
    "ExecuteTime": {
     "end_time": "2020-05-10T07:31:44.971548Z",
     "start_time": "2020-05-10T07:31:44.967288Z"
    }
   },
   "outputs": [],
   "source": [
    "df.drop(['c_selected_text','start_pos','end_pos','tokens','first_token','invert_map','in_st','senti_label'], axis=1, inplace=True)"
   ]
  },
  {
   "cell_type": "code",
   "execution_count": 6,
   "metadata": {
    "ExecuteTime": {
     "end_time": "2020-05-10T07:31:45.251873Z",
     "start_time": "2020-05-10T07:31:45.249371Z"
    }
   },
   "outputs": [],
   "source": [
    "def jaccard_string(s1, s2):\n",
    "    a = set(s1.lower().split())\n",
    "    b = set(s2.lower().split())\n",
    "    c = a.intersection(b)\n",
    "    return float(len(c)) / (len(a) + len(b) - len(c))"
   ]
  },
  {
   "cell_type": "code",
   "execution_count": 7,
   "metadata": {
    "ExecuteTime": {
     "end_time": "2020-05-10T07:31:45.753237Z",
     "start_time": "2020-05-10T07:31:45.511493Z"
    }
   },
   "outputs": [],
   "source": [
    "df['jaccard'] = df.apply(lambda x: jaccard_string(x['selected_text'], x['pred']), axis=1)"
   ]
  },
  {
   "cell_type": "code",
   "execution_count": 8,
   "metadata": {
    "ExecuteTime": {
     "end_time": "2020-05-10T07:31:45.837763Z",
     "start_time": "2020-05-10T07:31:45.835105Z"
    }
   },
   "outputs": [
    {
     "data": {
      "text/plain": [
       "0.531250933215728"
      ]
     },
     "execution_count": 8,
     "metadata": {},
     "output_type": "execute_result"
    }
   ],
   "source": [
    "df['jaccard'].mean()"
   ]
  },
  {
   "cell_type": "code",
   "execution_count": 9,
   "metadata": {
    "ExecuteTime": {
     "end_time": "2020-05-10T07:31:46.119923Z",
     "start_time": "2020-05-10T07:31:46.115566Z"
    }
   },
   "outputs": [
    {
     "data": {
      "text/plain": [
       "sentiment\n",
       "negative    0.531198\n",
       "positive    0.531299\n",
       "Name: jaccard, dtype: float64"
      ]
     },
     "execution_count": 9,
     "metadata": {},
     "output_type": "execute_result"
    }
   ],
   "source": [
    "df.groupby('sentiment')['jaccard'].mean()"
   ]
  },
  {
   "cell_type": "code",
   "execution_count": 10,
   "metadata": {
    "ExecuteTime": {
     "end_time": "2020-05-10T07:31:46.280410Z",
     "start_time": "2020-05-10T07:31:46.275623Z"
    }
   },
   "outputs": [
    {
     "data": {
      "text/plain": [
       "(4044, 10)"
      ]
     },
     "execution_count": 10,
     "metadata": {},
     "output_type": "execute_result"
    }
   ],
   "source": [
    "df[df['jaccard']<0.2].shape"
   ]
  },
  {
   "cell_type": "code",
   "execution_count": 26,
   "metadata": {
    "ExecuteTime": {
     "end_time": "2020-05-10T07:43:36.347956Z",
     "start_time": "2020-05-10T07:43:36.337049Z"
    }
   },
   "outputs": [
    {
     "data": {
      "text/html": [
       "<div>\n",
       "<style scoped>\n",
       "    .dataframe tbody tr th:only-of-type {\n",
       "        vertical-align: middle;\n",
       "    }\n",
       "\n",
       "    .dataframe tbody tr th {\n",
       "        vertical-align: top;\n",
       "    }\n",
       "\n",
       "    .dataframe thead th {\n",
       "        text-align: right;\n",
       "    }\n",
       "</style>\n",
       "<table border=\"1\" class=\"dataframe\">\n",
       "  <thead>\n",
       "    <tr style=\"text-align: right;\">\n",
       "      <th></th>\n",
       "      <th>textID</th>\n",
       "      <th>text</th>\n",
       "      <th>selected_text</th>\n",
       "      <th>sentiment</th>\n",
       "      <th>start</th>\n",
       "      <th>end</th>\n",
       "      <th>all_sentence</th>\n",
       "      <th>fold</th>\n",
       "      <th>pred</th>\n",
       "      <th>jaccard</th>\n",
       "    </tr>\n",
       "  </thead>\n",
       "  <tbody>\n",
       "    <tr>\n",
       "      <th>1021</th>\n",
       "      <td>e7de0750f9</td>\n",
       "      <td>oops! ignore last post meant to be a direct me...</td>\n",
       "      <td>ignore</td>\n",
       "      <td>negative</td>\n",
       "      <td>3</td>\n",
       "      <td>3</td>\n",
       "      <td>0</td>\n",
       "      <td>1</td>\n",
       "      <td>oops!</td>\n",
       "      <td>0.000000</td>\n",
       "    </tr>\n",
       "    <tr>\n",
       "      <th>567</th>\n",
       "      <td>67d6007d7b</td>\n",
       "      <td>wish i could feel no pain (8) but it`s ok, at ...</td>\n",
       "      <td>like</td>\n",
       "      <td>positive</td>\n",
       "      <td>17</td>\n",
       "      <td>17</td>\n",
       "      <td>0</td>\n",
       "      <td>0</td>\n",
       "      <td>wish i could feel no pain (8) but it`s ok, at ...</td>\n",
       "      <td>0.066667</td>\n",
       "    </tr>\n",
       "    <tr>\n",
       "      <th>581</th>\n",
       "      <td>e2c9efe517</td>\n",
       "      <td>sick......and no it`s not the swine flu atleas...</td>\n",
       "      <td>sick..</td>\n",
       "      <td>negative</td>\n",
       "      <td>0</td>\n",
       "      <td>2</td>\n",
       "      <td>0</td>\n",
       "      <td>2</td>\n",
       "      <td>sick......and</td>\n",
       "      <td>0.000000</td>\n",
       "    </tr>\n",
       "    <tr>\n",
       "      <th>3818</th>\n",
       "      <td>3f3aa7802f</td>\n",
       "      <td>that is true. it`s up to their discretion. bei...</td>\n",
       "      <td>nice</td>\n",
       "      <td>positive</td>\n",
       "      <td>12</td>\n",
       "      <td>12</td>\n",
       "      <td>0</td>\n",
       "      <td>2</td>\n",
       "      <td>being nice to them also helps.</td>\n",
       "      <td>0.166667</td>\n",
       "    </tr>\n",
       "    <tr>\n",
       "      <th>387</th>\n",
       "      <td>31778724a1</td>\n",
       "      <td>greatings from planet shannan, we have laded o...</td>\n",
       "      <td>hopefull</td>\n",
       "      <td>positive</td>\n",
       "      <td>19</td>\n",
       "      <td>21</td>\n",
       "      <td>0</td>\n",
       "      <td>3</td>\n",
       "      <td>greatings</td>\n",
       "      <td>0.000000</td>\n",
       "    </tr>\n",
       "    <tr>\n",
       "      <th>21</th>\n",
       "      <td>4c41a35a2a</td>\n",
       "      <td>happy mothers day to all you mums out there</td>\n",
       "      <td>happy mothers day to all you mums out there</td>\n",
       "      <td>positive</td>\n",
       "      <td>0</td>\n",
       "      <td>9</td>\n",
       "      <td>1</td>\n",
       "      <td>1</td>\n",
       "      <td>happy</td>\n",
       "      <td>0.111111</td>\n",
       "    </tr>\n",
       "    <tr>\n",
       "      <th>4044</th>\n",
       "      <td>88048c4a8c</td>\n",
       "      <td>join the club dougie i have a cold too x</td>\n",
       "      <td>cold</td>\n",
       "      <td>negative</td>\n",
       "      <td>8</td>\n",
       "      <td>8</td>\n",
       "      <td>0</td>\n",
       "      <td>2</td>\n",
       "      <td>dougie i have a cold too</td>\n",
       "      <td>0.166667</td>\n",
       "    </tr>\n",
       "    <tr>\n",
       "      <th>1824</th>\n",
       "      <td>93258e4642</td>\n",
       "      <td>going to the chiro to see what is wrong with m...</td>\n",
       "      <td>what is wrong with my bum ankle.</td>\n",
       "      <td>negative</td>\n",
       "      <td>7</td>\n",
       "      <td>14</td>\n",
       "      <td>0</td>\n",
       "      <td>2</td>\n",
       "      <td>wrong</td>\n",
       "      <td>0.142857</td>\n",
       "    </tr>\n",
       "    <tr>\n",
       "      <th>1708</th>\n",
       "      <td>4079da5f1a</td>\n",
       "      <td>well...gotta grab at least an hour and a half ...</td>\n",
       "      <td>.gawd the life of multi-taskin` night/mornin`</td>\n",
       "      <td>negative</td>\n",
       "      <td>20</td>\n",
       "      <td>38</td>\n",
       "      <td>0</td>\n",
       "      <td>3</td>\n",
       "      <td>gawd</td>\n",
       "      <td>0.000000</td>\n",
       "    </tr>\n",
       "    <tr>\n",
       "      <th>2049</th>\n",
       "      <td>ada3d89b8d</td>\n",
       "      <td>great podcast! i wish you guys had more chi sh...</td>\n",
       "      <td>i wish</td>\n",
       "      <td>positive</td>\n",
       "      <td>3</td>\n",
       "      <td>4</td>\n",
       "      <td>0</td>\n",
       "      <td>2</td>\n",
       "      <td>great</td>\n",
       "      <td>0.000000</td>\n",
       "    </tr>\n",
       "    <tr>\n",
       "      <th>3888</th>\n",
       "      <td>b90a68e78d</td>\n",
       "      <td>hmm... it`s a miracle you`re using twitter, an...</td>\n",
       "      <td>it`s fun.</td>\n",
       "      <td>positive</td>\n",
       "      <td>13</td>\n",
       "      <td>16</td>\n",
       "      <td>0</td>\n",
       "      <td>0</td>\n",
       "      <td>miracle you`re using twitter, and it`s fun...</td>\n",
       "      <td>0.125000</td>\n",
       "    </tr>\n",
       "    <tr>\n",
       "      <th>3576</th>\n",
       "      <td>290a0ffa68</td>\n",
       "      <td>haha that`s because you also look amazing in i...</td>\n",
       "      <td>haha that`s because you also look amazing in i...</td>\n",
       "      <td>positive</td>\n",
       "      <td>0</td>\n",
       "      <td>13</td>\n",
       "      <td>1</td>\n",
       "      <td>2</td>\n",
       "      <td>have fun!</td>\n",
       "      <td>0.181818</td>\n",
       "    </tr>\n",
       "    <tr>\n",
       "      <th>1333</th>\n",
       "      <td>948841b0e3</td>\n",
       "      <td>today was eventful...</td>\n",
       "      <td>eventful..</td>\n",
       "      <td>positive</td>\n",
       "      <td>2</td>\n",
       "      <td>4</td>\n",
       "      <td>0</td>\n",
       "      <td>3</td>\n",
       "      <td>eventful...</td>\n",
       "      <td>0.000000</td>\n",
       "    </tr>\n",
       "    <tr>\n",
       "      <th>1060</th>\n",
       "      <td>a85eb567d6</td>\n",
       "      <td>checked out green day on demand &amp; saw the new ...</td>\n",
       "      <td>u were right, they did blow my mind i love u s...</td>\n",
       "      <td>positive</td>\n",
       "      <td>13</td>\n",
       "      <td>34</td>\n",
       "      <td>0</td>\n",
       "      <td>0</td>\n",
       "      <td>i love</td>\n",
       "      <td>0.117647</td>\n",
       "    </tr>\n",
       "    <tr>\n",
       "      <th>98</th>\n",
       "      <td>5fbd854b80</td>\n",
       "      <td>i have such a hard time talking to new people ...</td>\n",
       "      <td>hard</td>\n",
       "      <td>negative</td>\n",
       "      <td>4</td>\n",
       "      <td>4</td>\n",
       "      <td>0</td>\n",
       "      <td>0</td>\n",
       "      <td>hard time talking to new people - i am pretty ...</td>\n",
       "      <td>0.062500</td>\n",
       "    </tr>\n",
       "    <tr>\n",
       "      <th>3438</th>\n",
       "      <td>28cfbe48ad</td>\n",
       "      <td>hahaha thanks for clearing up the</td>\n",
       "      <td>hahaha thanks for clearing up the</td>\n",
       "      <td>positive</td>\n",
       "      <td>0</td>\n",
       "      <td>7</td>\n",
       "      <td>1</td>\n",
       "      <td>1</td>\n",
       "      <td>thanks</td>\n",
       "      <td>0.166667</td>\n",
       "    </tr>\n",
       "    <tr>\n",
       "      <th>2252</th>\n",
       "      <td>9b98c263cd</td>\n",
       "      <td>i want the rain to go away! there has been too...</td>\n",
       "      <td>there has been too much of it</td>\n",
       "      <td>negative</td>\n",
       "      <td>8</td>\n",
       "      <td>14</td>\n",
       "      <td>0</td>\n",
       "      <td>1</td>\n",
       "      <td>i want the rain to go away!</td>\n",
       "      <td>0.000000</td>\n",
       "    </tr>\n",
       "    <tr>\n",
       "      <th>4154</th>\n",
       "      <td>41e2147763</td>\n",
       "      <td>everything. *weeps*</td>\n",
       "      <td>*weeps</td>\n",
       "      <td>negative</td>\n",
       "      <td>2</td>\n",
       "      <td>4</td>\n",
       "      <td>0</td>\n",
       "      <td>0</td>\n",
       "      <td>*weeps*</td>\n",
       "      <td>0.000000</td>\n",
       "    </tr>\n",
       "    <tr>\n",
       "      <th>1342</th>\n",
       "      <td>7f19f30f44</td>\n",
       "      <td>: well that is just completely lame. i`m sorry...</td>\n",
       "      <td>just completely lame. i`m sorry dude.</td>\n",
       "      <td>negative</td>\n",
       "      <td>4</td>\n",
       "      <td>12</td>\n",
       "      <td>0</td>\n",
       "      <td>4</td>\n",
       "      <td>lame.</td>\n",
       "      <td>0.166667</td>\n",
       "    </tr>\n",
       "    <tr>\n",
       "      <th>804</th>\n",
       "      <td>2de29783f4</td>\n",
       "      <td>sometimes it hurts that pets cant talk back to...</td>\n",
       "      <td>it hurts that pets cant talk back to us. what ...</td>\n",
       "      <td>negative</td>\n",
       "      <td>1</td>\n",
       "      <td>18</td>\n",
       "      <td>0</td>\n",
       "      <td>2</td>\n",
       "      <td>hurts</td>\n",
       "      <td>0.062500</td>\n",
       "    </tr>\n",
       "  </tbody>\n",
       "</table>\n",
       "</div>"
      ],
      "text/plain": [
       "          textID                                               text  \\\n",
       "1021  e7de0750f9  oops! ignore last post meant to be a direct me...   \n",
       "567   67d6007d7b  wish i could feel no pain (8) but it`s ok, at ...   \n",
       "581   e2c9efe517  sick......and no it`s not the swine flu atleas...   \n",
       "3818  3f3aa7802f  that is true. it`s up to their discretion. bei...   \n",
       "387   31778724a1  greatings from planet shannan, we have laded o...   \n",
       "21    4c41a35a2a        happy mothers day to all you mums out there   \n",
       "4044  88048c4a8c           join the club dougie i have a cold too x   \n",
       "1824  93258e4642  going to the chiro to see what is wrong with m...   \n",
       "1708  4079da5f1a  well...gotta grab at least an hour and a half ...   \n",
       "2049  ada3d89b8d  great podcast! i wish you guys had more chi sh...   \n",
       "3888  b90a68e78d  hmm... it`s a miracle you`re using twitter, an...   \n",
       "3576  290a0ffa68  haha that`s because you also look amazing in i...   \n",
       "1333  948841b0e3                              today was eventful...   \n",
       "1060  a85eb567d6  checked out green day on demand & saw the new ...   \n",
       "98    5fbd854b80  i have such a hard time talking to new people ...   \n",
       "3438  28cfbe48ad                  hahaha thanks for clearing up the   \n",
       "2252  9b98c263cd  i want the rain to go away! there has been too...   \n",
       "4154  41e2147763                                everything. *weeps*   \n",
       "1342  7f19f30f44  : well that is just completely lame. i`m sorry...   \n",
       "804   2de29783f4  sometimes it hurts that pets cant talk back to...   \n",
       "\n",
       "                                          selected_text sentiment  start  end  \\\n",
       "1021                                             ignore  negative      3    3   \n",
       "567                                                like  positive     17   17   \n",
       "581                                              sick..  negative      0    2   \n",
       "3818                                               nice  positive     12   12   \n",
       "387                                            hopefull  positive     19   21   \n",
       "21          happy mothers day to all you mums out there  positive      0    9   \n",
       "4044                                               cold  negative      8    8   \n",
       "1824                   what is wrong with my bum ankle.  negative      7   14   \n",
       "1708      .gawd the life of multi-taskin` night/mornin`  negative     20   38   \n",
       "2049                                             i wish  positive      3    4   \n",
       "3888                                          it`s fun.  positive     13   16   \n",
       "3576  haha that`s because you also look amazing in i...  positive      0   13   \n",
       "1333                                         eventful..  positive      2    4   \n",
       "1060  u were right, they did blow my mind i love u s...  positive     13   34   \n",
       "98                                                 hard  negative      4    4   \n",
       "3438                  hahaha thanks for clearing up the  positive      0    7   \n",
       "2252                      there has been too much of it  negative      8   14   \n",
       "4154                                             *weeps  negative      2    4   \n",
       "1342              just completely lame. i`m sorry dude.  negative      4   12   \n",
       "804   it hurts that pets cant talk back to us. what ...  negative      1   18   \n",
       "\n",
       "      all_sentence  fold                                               pred  \\\n",
       "1021             0     1                                             oops!    \n",
       "567              0     0  wish i could feel no pain (8) but it`s ok, at ...   \n",
       "581              0     2                                     sick......and    \n",
       "3818             0     2                     being nice to them also helps.   \n",
       "387              0     3                                         greatings    \n",
       "21               1     1                                             happy    \n",
       "4044             0     2                           dougie i have a cold too   \n",
       "1824             0     2                                             wrong    \n",
       "1708             0     3                                              gawd    \n",
       "2049             0     2                                             great    \n",
       "3888             0     0      miracle you`re using twitter, and it`s fun...   \n",
       "3576             1     2                                          have fun!   \n",
       "1333             0     3                                       eventful...    \n",
       "1060             0     0                                             i love   \n",
       "98               0     0  hard time talking to new people - i am pretty ...   \n",
       "3438             1     1                                            thanks    \n",
       "2252             0     1                        i want the rain to go away!   \n",
       "4154             0     0                                           *weeps*    \n",
       "1342             0     4                                             lame.    \n",
       "804              0     2                                             hurts    \n",
       "\n",
       "       jaccard  \n",
       "1021  0.000000  \n",
       "567   0.066667  \n",
       "581   0.000000  \n",
       "3818  0.166667  \n",
       "387   0.000000  \n",
       "21    0.111111  \n",
       "4044  0.166667  \n",
       "1824  0.142857  \n",
       "1708  0.000000  \n",
       "2049  0.000000  \n",
       "3888  0.125000  \n",
       "3576  0.181818  \n",
       "1333  0.000000  \n",
       "1060  0.117647  \n",
       "98    0.062500  \n",
       "3438  0.166667  \n",
       "2252  0.000000  \n",
       "4154  0.000000  \n",
       "1342  0.166667  \n",
       "804   0.062500  "
      ]
     },
     "execution_count": 26,
     "metadata": {},
     "output_type": "execute_result"
    }
   ],
   "source": [
    "df[df['jaccard']<0.2].sample(n=20)"
   ]
  },
  {
   "cell_type": "code",
   "execution_count": 22,
   "metadata": {
    "ExecuteTime": {
     "end_time": "2020-05-10T07:39:44.913598Z",
     "start_time": "2020-05-10T07:39:44.910877Z"
    }
   },
   "outputs": [
    {
     "data": {
      "text/plain": [
       "0.1486891156878323"
      ]
     },
     "execution_count": 22,
     "metadata": {},
     "output_type": "execute_result"
    }
   ],
   "source": [
    "df['all_sentence'].mean()"
   ]
  },
  {
   "cell_type": "code",
   "execution_count": 23,
   "metadata": {
    "ExecuteTime": {
     "end_time": "2020-05-10T07:40:03.102250Z",
     "start_time": "2020-05-10T07:40:03.098414Z"
    }
   },
   "outputs": [
    {
     "data": {
      "text/plain": [
       "all_sentence\n",
       "0    0.539671\n",
       "1    0.483044\n",
       "Name: jaccard, dtype: float64"
      ]
     },
     "execution_count": 23,
     "metadata": {},
     "output_type": "execute_result"
    }
   ],
   "source": [
    "df.groupby('all_sentence')['jaccard'].mean()"
   ]
  },
  {
   "cell_type": "code",
   "execution_count": null,
   "metadata": {},
   "outputs": [],
   "source": []
  }
 ],
 "metadata": {
  "kernelspec": {
   "display_name": "Python 3",
   "language": "python",
   "name": "python3"
  },
  "language_info": {
   "codemirror_mode": {
    "name": "ipython",
    "version": 3
   },
   "file_extension": ".py",
   "mimetype": "text/x-python",
   "name": "python",
   "nbconvert_exporter": "python",
   "pygments_lexer": "ipython3",
   "version": "3.7.1"
  }
 },
 "nbformat": 4,
 "nbformat_minor": 2
}
