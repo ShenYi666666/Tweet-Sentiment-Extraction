{
 "cells": [
  {
   "cell_type": "code",
   "execution_count": 1,
   "metadata": {
    "ExecuteTime": {
     "end_time": "2020-05-24T12:27:01.637952Z",
     "start_time": "2020-05-24T12:27:00.244178Z"
    }
   },
   "outputs": [],
   "source": [
    "import pandas as pd\n",
    "\n",
    "\n",
    "%matplotlib inline"
   ]
  },
  {
   "cell_type": "code",
   "execution_count": 68,
   "metadata": {
    "ExecuteTime": {
     "end_time": "2020-05-10T07:31:44.689174Z",
     "start_time": "2020-05-10T07:31:44.519724Z"
    }
   },
   "outputs": [],
   "source": [
    "preds = []\n",
    "for f in range(5):\n",
    "    df = pd.read_csv('../experiments/v6/pred-%d.csv'%f, sep='\\t')\n",
    "    preds.append(df)\n",
    "df = pd.concat(preds)"
   ]
  },
  {
   "cell_type": "code",
   "execution_count": 69,
   "metadata": {
    "ExecuteTime": {
     "end_time": "2020-05-10T07:31:44.701000Z",
     "start_time": "2020-05-10T07:31:44.690211Z"
    }
   },
   "outputs": [
    {
     "data": {
      "text/html": [
       "<div>\n",
       "<style scoped>\n",
       "    .dataframe tbody tr th:only-of-type {\n",
       "        vertical-align: middle;\n",
       "    }\n",
       "\n",
       "    .dataframe tbody tr th {\n",
       "        vertical-align: top;\n",
       "    }\n",
       "\n",
       "    .dataframe thead th {\n",
       "        text-align: right;\n",
       "    }\n",
       "</style>\n",
       "<table border=\"1\" class=\"dataframe\">\n",
       "  <thead>\n",
       "    <tr style=\"text-align: right;\">\n",
       "      <th></th>\n",
       "      <th>Unnamed: 0</th>\n",
       "      <th>textID</th>\n",
       "      <th>text</th>\n",
       "      <th>selected_text</th>\n",
       "      <th>sentiment</th>\n",
       "      <th>kfold</th>\n",
       "      <th>old_sentiment</th>\n",
       "      <th>aux_id</th>\n",
       "      <th>c_selected_text</th>\n",
       "      <th>senti_label</th>\n",
       "      <th>first_char</th>\n",
       "      <th>words</th>\n",
       "      <th>invert_map</th>\n",
       "      <th>word_invert_map</th>\n",
       "      <th>pred</th>\n",
       "      <th>score</th>\n",
       "    </tr>\n",
       "  </thead>\n",
       "  <tbody>\n",
       "    <tr>\n",
       "      <th>0</th>\n",
       "      <td>0</td>\n",
       "      <td>f7fdea625a</td>\n",
       "      <td>i`m so bored i can barely even tweet. i have n...</td>\n",
       "      <td>bored</td>\n",
       "      <td>negative</td>\n",
       "      <td>0</td>\n",
       "      <td>sadness</td>\n",
       "      <td>f7fdea625a</td>\n",
       "      <td>bored</td>\n",
       "      <td>0</td>\n",
       "      <td>[True, False, False, True, True, True, True, T...</td>\n",
       "      <td>['i', '`', 'm', 'so', 'bored', 'i', 'can', 'ba...</td>\n",
       "      <td>[0, 1, 2, 3, 4, 5, 6, 7, 8, 9, 10, 11, 12, 13,...</td>\n",
       "      <td>[0, 1, 2, 4, 7, 13, 15, 19, 26, 31, 36, 38, 40...</td>\n",
       "      <td>i`m so bored</td>\n",
       "      <td>1.161503</td>\n",
       "    </tr>\n",
       "    <tr>\n",
       "      <th>1</th>\n",
       "      <td>1</td>\n",
       "      <td>c19de2c75b</td>\n",
       "      <td>awwwwwwwwww thats jus...awwwww.did she get to ...</td>\n",
       "      <td>awwwwwwwwww thats jus...awwwww.did she get to ...</td>\n",
       "      <td>neutral</td>\n",
       "      <td>0</td>\n",
       "      <td>surprise</td>\n",
       "      <td>c19de2c75b</td>\n",
       "      <td>awwwwwwwwww thats jus...awwwww.did she get to ...</td>\n",
       "      <td>1</td>\n",
       "      <td>[True, True, True, False, False, False, False,...</td>\n",
       "      <td>['awwwwwwwwww', 'thats', 'jus', '.', '.', '.',...</td>\n",
       "      <td>[0, 0, 0, 0, 0, 0, 1, 2, 2, 3, 4, 5, 6, 6, 6, ...</td>\n",
       "      <td>[0, 12, 18, 21, 22, 23, 24, 30, 31, 35, 39, 43...</td>\n",
       "      <td>awwwwwwwwww thats jus...awwwww.did she get to ...</td>\n",
       "      <td>1.957866</td>\n",
       "    </tr>\n",
       "    <tr>\n",
       "      <th>2</th>\n",
       "      <td>2</td>\n",
       "      <td>0f963af18f</td>\n",
       "      <td>I did not twitt yesterday cause it was a very ...</td>\n",
       "      <td>I can not sleep</td>\n",
       "      <td>negative</td>\n",
       "      <td>0</td>\n",
       "      <td>worry</td>\n",
       "      <td>0f963af18f</td>\n",
       "      <td>I can not sleep</td>\n",
       "      <td>0</td>\n",
       "      <td>[True, True, True, True, True, True, True, Tru...</td>\n",
       "      <td>['I', 'did', 'not', 'twitt', 'yesterday', 'cau...</td>\n",
       "      <td>[0, 1, 2, 3, 3, 4, 5, 6, 7, 8, 9, 10, 11, 12, ...</td>\n",
       "      <td>[0, 2, 6, 10, 16, 26, 32, 35, 39, 41, 46, 51, ...</td>\n",
       "      <td>I can not sleep</td>\n",
       "      <td>1.027961</td>\n",
       "    </tr>\n",
       "    <tr>\n",
       "      <th>3</th>\n",
       "      <td>3</td>\n",
       "      <td>0583c78cc1</td>\n",
       "      <td>Congratulation`s to phil packer on completing ...</td>\n",
       "      <td>Congratulation`s</td>\n",
       "      <td>positive</td>\n",
       "      <td>0</td>\n",
       "      <td>enthusiasm</td>\n",
       "      <td>0583c78cc1</td>\n",
       "      <td>Congratulation`s</td>\n",
       "      <td>2</td>\n",
       "      <td>[True, False, False, True, True, True, True, T...</td>\n",
       "      <td>['Congratulation', '`', 's', 'to', 'phil', 'pa...</td>\n",
       "      <td>[0, 0, 0, 1, 2, 3, 4, 5, 5, 6, 7, 8, 9, 9, 10,...</td>\n",
       "      <td>[0, 14, 15, 17, 20, 25, 32, 35, 46, 50, 57, 66...</td>\n",
       "      <td>Congratulation`s</td>\n",
       "      <td>1.086597</td>\n",
       "    </tr>\n",
       "    <tr>\n",
       "      <th>4</th>\n",
       "      <td>4</td>\n",
       "      <td>1cdb444ea5</td>\n",
       "      <td>O`Charleys? Pretty good. Especially when its f...</td>\n",
       "      <td>Pretty good.</td>\n",
       "      <td>positive</td>\n",
       "      <td>0</td>\n",
       "      <td>love</td>\n",
       "      <td>1cdb444ea5</td>\n",
       "      <td>Pretty good.</td>\n",
       "      <td>2</td>\n",
       "      <td>[True, False, False, False, True, True, False,...</td>\n",
       "      <td>['O', '`', 'Charleys', '?', 'Pretty', 'good', ...</td>\n",
       "      <td>[0, 1, 2, 2, 3, 4, 5, 6, 7, 8, 9, 10, 11, 12, ...</td>\n",
       "      <td>[0, 1, 2, 10, 12, 19, 23, 25, 36, 41, 45, 49, ...</td>\n",
       "      <td>Pretty good.</td>\n",
       "      <td>1.567651</td>\n",
       "    </tr>\n",
       "  </tbody>\n",
       "</table>\n",
       "</div>"
      ],
      "text/plain": [
       "   Unnamed: 0      textID                                               text  \\\n",
       "0           0  f7fdea625a  i`m so bored i can barely even tweet. i have n...   \n",
       "1           1  c19de2c75b  awwwwwwwwww thats jus...awwwww.did she get to ...   \n",
       "2           2  0f963af18f  I did not twitt yesterday cause it was a very ...   \n",
       "3           3  0583c78cc1  Congratulation`s to phil packer on completing ...   \n",
       "4           4  1cdb444ea5  O`Charleys? Pretty good. Especially when its f...   \n",
       "\n",
       "                                       selected_text sentiment  kfold  \\\n",
       "0                                              bored  negative      0   \n",
       "1  awwwwwwwwww thats jus...awwwww.did she get to ...   neutral      0   \n",
       "2                                    I can not sleep  negative      0   \n",
       "3                                   Congratulation`s  positive      0   \n",
       "4                                       Pretty good.  positive      0   \n",
       "\n",
       "  old_sentiment      aux_id  \\\n",
       "0       sadness  f7fdea625a   \n",
       "1      surprise  c19de2c75b   \n",
       "2         worry  0f963af18f   \n",
       "3    enthusiasm  0583c78cc1   \n",
       "4          love  1cdb444ea5   \n",
       "\n",
       "                                     c_selected_text  senti_label  \\\n",
       "0                                              bored            0   \n",
       "1  awwwwwwwwww thats jus...awwwww.did she get to ...            1   \n",
       "2                                    I can not sleep            0   \n",
       "3                                   Congratulation`s            2   \n",
       "4                                       Pretty good.            2   \n",
       "\n",
       "                                          first_char  \\\n",
       "0  [True, False, False, True, True, True, True, T...   \n",
       "1  [True, True, True, False, False, False, False,...   \n",
       "2  [True, True, True, True, True, True, True, Tru...   \n",
       "3  [True, False, False, True, True, True, True, T...   \n",
       "4  [True, False, False, False, True, True, False,...   \n",
       "\n",
       "                                               words  \\\n",
       "0  ['i', '`', 'm', 'so', 'bored', 'i', 'can', 'ba...   \n",
       "1  ['awwwwwwwwww', 'thats', 'jus', '.', '.', '.',...   \n",
       "2  ['I', 'did', 'not', 'twitt', 'yesterday', 'cau...   \n",
       "3  ['Congratulation', '`', 's', 'to', 'phil', 'pa...   \n",
       "4  ['O', '`', 'Charleys', '?', 'Pretty', 'good', ...   \n",
       "\n",
       "                                          invert_map  \\\n",
       "0  [0, 1, 2, 3, 4, 5, 6, 7, 8, 9, 10, 11, 12, 13,...   \n",
       "1  [0, 0, 0, 0, 0, 0, 1, 2, 2, 3, 4, 5, 6, 6, 6, ...   \n",
       "2  [0, 1, 2, 3, 3, 4, 5, 6, 7, 8, 9, 10, 11, 12, ...   \n",
       "3  [0, 0, 0, 1, 2, 3, 4, 5, 5, 6, 7, 8, 9, 9, 10,...   \n",
       "4  [0, 1, 2, 2, 3, 4, 5, 6, 7, 8, 9, 10, 11, 12, ...   \n",
       "\n",
       "                                     word_invert_map  \\\n",
       "0  [0, 1, 2, 4, 7, 13, 15, 19, 26, 31, 36, 38, 40...   \n",
       "1  [0, 12, 18, 21, 22, 23, 24, 30, 31, 35, 39, 43...   \n",
       "2  [0, 2, 6, 10, 16, 26, 32, 35, 39, 41, 46, 51, ...   \n",
       "3  [0, 14, 15, 17, 20, 25, 32, 35, 46, 50, 57, 66...   \n",
       "4  [0, 1, 2, 10, 12, 19, 23, 25, 36, 41, 45, 49, ...   \n",
       "\n",
       "                                                pred     score  \n",
       "0                                       i`m so bored  1.161503  \n",
       "1  awwwwwwwwww thats jus...awwwww.did she get to ...  1.957866  \n",
       "2                                    I can not sleep  1.027961  \n",
       "3                                   Congratulation`s  1.086597  \n",
       "4                                       Pretty good.  1.567651  "
      ]
     },
     "execution_count": 69,
     "metadata": {},
     "output_type": "execute_result"
    }
   ],
   "source": [
    "df.head()"
   ]
  },
  {
   "cell_type": "code",
   "execution_count": 70,
   "metadata": {
    "ExecuteTime": {
     "end_time": "2020-05-10T07:31:44.971548Z",
     "start_time": "2020-05-10T07:31:44.967288Z"
    }
   },
   "outputs": [],
   "source": [
    "df.drop(['c_selected_text','first_char','invert_map','word_invert_map'], axis=1, inplace=True)"
   ]
  },
  {
   "cell_type": "code",
   "execution_count": 71,
   "metadata": {
    "ExecuteTime": {
     "end_time": "2020-05-10T07:31:45.251873Z",
     "start_time": "2020-05-10T07:31:45.249371Z"
    }
   },
   "outputs": [],
   "source": [
    "def jaccard_string(s1, s2):\n",
    "    a = set(s1.lower().split())\n",
    "    b = set(s2.lower().split())\n",
    "    c = a.intersection(b)\n",
    "    return float(len(c)) / (len(a) + len(b) - len(c))"
   ]
  },
  {
   "cell_type": "code",
   "execution_count": 91,
   "metadata": {},
   "outputs": [],
   "source": [
    "def word_count(x):\n",
    "    return len(x.split())"
   ]
  },
  {
   "cell_type": "code",
   "execution_count": 92,
   "metadata": {},
   "outputs": [],
   "source": [
    "df['pred_word_count'] = df['pred'].apply(lambda x: word_count(x))"
   ]
  },
  {
   "cell_type": "code",
   "execution_count": 72,
   "metadata": {
    "ExecuteTime": {
     "end_time": "2020-05-10T07:31:45.753237Z",
     "start_time": "2020-05-10T07:31:45.511493Z"
    }
   },
   "outputs": [],
   "source": [
    "df['jaccard'] = df.apply(lambda x: jaccard_string(x['selected_text'], x['pred']), axis=1)"
   ]
  },
  {
   "cell_type": "code",
   "execution_count": 73,
   "metadata": {},
   "outputs": [
    {
     "data": {
      "text/plain": [
       "<matplotlib.axes._subplots.AxesSubplot at 0x7fe422bd4da0>"
      ]
     },
     "execution_count": 73,
     "metadata": {},
     "output_type": "execute_result"
    },
    {
     "data": {
      "image/png": "[encoded data removed]",
      "text/plain": [
       "<Figure size 432x288 with 1 Axes>"
      ]
     },
     "metadata": {
      "needs_background": "light"
     },
     "output_type": "display_data"
    }
   ],
   "source": [
    "df['score'].hist()"
   ]
  },
  {
   "cell_type": "code",
   "execution_count": 74,
   "metadata": {},
   "outputs": [],
   "source": [
    "df['jaccard2'] = df.apply(lambda x: jaccard_string(x['selected_text'], x['text']), axis=1)"
   ]
  },
  {
   "cell_type": "code",
   "execution_count": 96,
   "metadata": {},
   "outputs": [
    {
     "data": {
      "text/plain": [
       "0.3742146246094094"
      ]
     },
     "execution_count": 96,
     "metadata": {},
     "output_type": "execute_result"
    }
   ],
   "source": [
    "df[df['score']<1]['jaccard'].mean()"
   ]
  },
  {
   "cell_type": "code",
   "execution_count": 97,
   "metadata": {},
   "outputs": [
    {
     "data": {
      "text/plain": [
       "0.371049841298203"
      ]
     },
     "execution_count": 97,
     "metadata": {},
     "output_type": "execute_result"
    }
   ],
   "source": [
    "df[(df['score']<1)&(df['pred_word_count']==1)]['jaccard'].mean()"
   ]
  },
  {
   "cell_type": "code",
   "execution_count": 99,
   "metadata": {},
   "outputs": [
    {
     "data": {
      "text/html": [
       "<div>\n",
       "<style scoped>\n",
       "    .dataframe tbody tr th:only-of-type {\n",
       "        vertical-align: middle;\n",
       "    }\n",
       "\n",
       "    .dataframe tbody tr th {\n",
       "        vertical-align: top;\n",
       "    }\n",
       "\n",
       "    .dataframe thead th {\n",
       "        text-align: right;\n",
       "    }\n",
       "</style>\n",
       "<table border=\"1\" class=\"dataframe\">\n",
       "  <thead>\n",
       "    <tr style=\"text-align: right;\">\n",
       "      <th></th>\n",
       "      <th>Unnamed: 0</th>\n",
       "      <th>textID</th>\n",
       "      <th>text</th>\n",
       "      <th>selected_text</th>\n",
       "      <th>sentiment</th>\n",
       "      <th>kfold</th>\n",
       "      <th>old_sentiment</th>\n",
       "      <th>aux_id</th>\n",
       "      <th>senti_label</th>\n",
       "      <th>words</th>\n",
       "      <th>pred</th>\n",
       "      <th>score</th>\n",
       "      <th>jaccard</th>\n",
       "      <th>jaccard2</th>\n",
       "      <th>pred_word_count</th>\n",
       "    </tr>\n",
       "  </thead>\n",
       "  <tbody>\n",
       "    <tr>\n",
       "      <th>5021</th>\n",
       "      <td>16013</td>\n",
       "      <td>1d1e901b39</td>\n",
       "      <td>Looking for a show to turn my brain into mush ...</td>\n",
       "      <td>doesn`t hurt anymore</td>\n",
       "      <td>positive</td>\n",
       "      <td>2</td>\n",
       "      <td>neutral</td>\n",
       "      <td>1d1e901b39</td>\n",
       "      <td>2</td>\n",
       "      <td>['Looking', 'for', 'a', 'show', 'to', 'turn', ...</td>\n",
       "      <td>good</td>\n",
       "      <td>0.806726</td>\n",
       "      <td>0.000000</td>\n",
       "      <td>0.130435</td>\n",
       "      <td>1</td>\n",
       "    </tr>\n",
       "    <tr>\n",
       "      <th>819</th>\n",
       "      <td>22803</td>\n",
       "      <td>c244549c82</td>\n",
       "      <td>haha i like modern studies..... its my favouri...</td>\n",
       "      <td>haha i like modern studies..... its my favouri...</td>\n",
       "      <td>positive</td>\n",
       "      <td>4</td>\n",
       "      <td>neutral</td>\n",
       "      <td>c244549c82</td>\n",
       "      <td>2</td>\n",
       "      <td>['haha', 'i', 'like', 'modern', 'studies', '.'...</td>\n",
       "      <td>like</td>\n",
       "      <td>0.730661</td>\n",
       "      <td>0.066667</td>\n",
       "      <td>0.823529</td>\n",
       "      <td>1</td>\n",
       "    </tr>\n",
       "    <tr>\n",
       "      <th>1036</th>\n",
       "      <td>6532</td>\n",
       "      <td>0034cbc1c3</td>\n",
       "      <td>mmmm it all sounds tasty. i had some spiced ru...</td>\n",
       "      <td>mmmm it all sounds tasty. i had some spiced ru...</td>\n",
       "      <td>positive</td>\n",
       "      <td>1</td>\n",
       "      <td>worry</td>\n",
       "      <td>0034cbc1c3</td>\n",
       "      <td>2</td>\n",
       "      <td>['mmmm', 'it', 'all', 'sounds', 'tasty', '.', ...</td>\n",
       "      <td>tasty.</td>\n",
       "      <td>0.946810</td>\n",
       "      <td>0.047619</td>\n",
       "      <td>1.000000</td>\n",
       "      <td>1</td>\n",
       "    </tr>\n",
       "    <tr>\n",
       "      <th>1063</th>\n",
       "      <td>1063</td>\n",
       "      <td>bc1e4ea01c</td>\n",
       "      <td>Ahhh! I knowww! I saw it May 5th and 6th in Ne...</td>\n",
       "      <td>! I`m soo excited for 6th June, as its my bday...</td>\n",
       "      <td>positive</td>\n",
       "      <td>0</td>\n",
       "      <td>happiness</td>\n",
       "      <td>bc1e4ea01c</td>\n",
       "      <td>2</td>\n",
       "      <td>['Ahhh', '!', 'I', 'knowww', '!', 'I', 'saw', ...</td>\n",
       "      <td>good!!!</td>\n",
       "      <td>0.573089</td>\n",
       "      <td>0.000000</td>\n",
       "      <td>0.440000</td>\n",
       "      <td>1</td>\n",
       "    </tr>\n",
       "    <tr>\n",
       "      <th>3355</th>\n",
       "      <td>25339</td>\n",
       "      <td>2889cb3b49</td>\n",
       "      <td>o can`t work that one out pain in the **** the...</td>\n",
       "      <td>o can`t work that one out pain in the **** the...</td>\n",
       "      <td>negative</td>\n",
       "      <td>4</td>\n",
       "      <td>hate</td>\n",
       "      <td>2889cb3b49</td>\n",
       "      <td>0</td>\n",
       "      <td>['o', 'can', '`', 't', 'work', 'that', 'one', ...</td>\n",
       "      <td>pain</td>\n",
       "      <td>0.927107</td>\n",
       "      <td>0.083333</td>\n",
       "      <td>1.000000</td>\n",
       "      <td>1</td>\n",
       "    </tr>\n",
       "    <tr>\n",
       "      <th>1725</th>\n",
       "      <td>7221</td>\n",
       "      <td>d8ab6dfc33</td>\n",
       "      <td>doin fine relaxin at work... Hardly working</td>\n",
       "      <td>Hardly working</td>\n",
       "      <td>positive</td>\n",
       "      <td>1</td>\n",
       "      <td>neutral</td>\n",
       "      <td>d8ab6dfc33</td>\n",
       "      <td>2</td>\n",
       "      <td>['doin', 'fine', 'relaxin', 'at', 'work', '.',...</td>\n",
       "      <td>fine</td>\n",
       "      <td>0.897155</td>\n",
       "      <td>0.000000</td>\n",
       "      <td>0.285714</td>\n",
       "      <td>1</td>\n",
       "    </tr>\n",
       "    <tr>\n",
       "      <th>1841</th>\n",
       "      <td>23825</td>\n",
       "      <td>5b50cd74d1</td>\n",
       "      <td>You`re welcome! It`s been a wonderful day How ...</td>\n",
       "      <td>wonderful</td>\n",
       "      <td>positive</td>\n",
       "      <td>4</td>\n",
       "      <td>happiness</td>\n",
       "      <td>5b50cd74d1</td>\n",
       "      <td>2</td>\n",
       "      <td>['You', '`', 're', 'welcome', '!', 'It', '`', ...</td>\n",
       "      <td>wonderful</td>\n",
       "      <td>0.826697</td>\n",
       "      <td>1.000000</td>\n",
       "      <td>0.045455</td>\n",
       "      <td>1</td>\n",
       "    </tr>\n",
       "    <tr>\n",
       "      <th>4650</th>\n",
       "      <td>10146</td>\n",
       "      <td>bf8d6f642a</td>\n",
       "      <td>It`s beautiful outside. The sun is shining, th...</td>\n",
       "      <td>It`s beautiful outside.</td>\n",
       "      <td>positive</td>\n",
       "      <td>1</td>\n",
       "      <td>worry</td>\n",
       "      <td>bf8d6f642a</td>\n",
       "      <td>2</td>\n",
       "      <td>['It', '`', 's', 'beautiful', 'outside', '.', ...</td>\n",
       "      <td>beautiful</td>\n",
       "      <td>0.997112</td>\n",
       "      <td>0.333333</td>\n",
       "      <td>0.157895</td>\n",
       "      <td>1</td>\n",
       "    </tr>\n",
       "    <tr>\n",
       "      <th>3722</th>\n",
       "      <td>25706</td>\n",
       "      <td>b5c389e4cc</td>\n",
       "      <td>ohh and Coffee Break is my fave too! they rock...</td>\n",
       "      <td>they rock!</td>\n",
       "      <td>positive</td>\n",
       "      <td>4</td>\n",
       "      <td>surprise</td>\n",
       "      <td>b5c389e4cc</td>\n",
       "      <td>2</td>\n",
       "      <td>['ohh', 'and', 'Coffee', 'Break', 'is', 'my', ...</td>\n",
       "      <td>fave</td>\n",
       "      <td>0.875274</td>\n",
       "      <td>0.000000</td>\n",
       "      <td>0.083333</td>\n",
       "      <td>1</td>\n",
       "    </tr>\n",
       "    <tr>\n",
       "      <th>1686</th>\n",
       "      <td>18174</td>\n",
       "      <td>5a45a070ed</td>\n",
       "      <td>Cathylo-fran! I`m glad i can vent out to you a...</td>\n",
       "      <td>Cathylo-fran! I`m glad i can vent out to you a...</td>\n",
       "      <td>positive</td>\n",
       "      <td>3</td>\n",
       "      <td>love</td>\n",
       "      <td>5a45a070ed</td>\n",
       "      <td>2</td>\n",
       "      <td>['Cathylo', '-', 'fran', '!', 'I', '`', 'm', '...</td>\n",
       "      <td>glad</td>\n",
       "      <td>0.927156</td>\n",
       "      <td>0.058824</td>\n",
       "      <td>1.000000</td>\n",
       "      <td>1</td>\n",
       "    </tr>\n",
       "  </tbody>\n",
       "</table>\n",
       "</div>"
      ],
      "text/plain": [
       "      Unnamed: 0      textID  \\\n",
       "5021       16013  1d1e901b39   \n",
       "819        22803  c244549c82   \n",
       "1036        6532  0034cbc1c3   \n",
       "1063        1063  bc1e4ea01c   \n",
       "3355       25339  2889cb3b49   \n",
       "1725        7221  d8ab6dfc33   \n",
       "1841       23825  5b50cd74d1   \n",
       "4650       10146  bf8d6f642a   \n",
       "3722       25706  b5c389e4cc   \n",
       "1686       18174  5a45a070ed   \n",
       "\n",
       "                                                   text  \\\n",
       "5021  Looking for a show to turn my brain into mush ...   \n",
       "819   haha i like modern studies..... its my favouri...   \n",
       "1036  mmmm it all sounds tasty. i had some spiced ru...   \n",
       "1063  Ahhh! I knowww! I saw it May 5th and 6th in Ne...   \n",
       "3355  o can`t work that one out pain in the **** the...   \n",
       "1725        doin fine relaxin at work... Hardly working   \n",
       "1841  You`re welcome! It`s been a wonderful day How ...   \n",
       "4650  It`s beautiful outside. The sun is shining, th...   \n",
       "3722  ohh and Coffee Break is my fave too! they rock...   \n",
       "1686  Cathylo-fran! I`m glad i can vent out to you a...   \n",
       "\n",
       "                                          selected_text sentiment  kfold  \\\n",
       "5021                               doesn`t hurt anymore  positive      2   \n",
       "819   haha i like modern studies..... its my favouri...  positive      4   \n",
       "1036  mmmm it all sounds tasty. i had some spiced ru...  positive      1   \n",
       "1063  ! I`m soo excited for 6th June, as its my bday...  positive      0   \n",
       "3355  o can`t work that one out pain in the **** the...  negative      4   \n",
       "1725                                     Hardly working  positive      1   \n",
       "1841                                          wonderful  positive      4   \n",
       "4650                            It`s beautiful outside.  positive      1   \n",
       "3722                                         they rock!  positive      4   \n",
       "1686  Cathylo-fran! I`m glad i can vent out to you a...  positive      3   \n",
       "\n",
       "     old_sentiment      aux_id  senti_label  \\\n",
       "5021       neutral  1d1e901b39            2   \n",
       "819        neutral  c244549c82            2   \n",
       "1036         worry  0034cbc1c3            2   \n",
       "1063     happiness  bc1e4ea01c            2   \n",
       "3355          hate  2889cb3b49            0   \n",
       "1725       neutral  d8ab6dfc33            2   \n",
       "1841     happiness  5b50cd74d1            2   \n",
       "4650         worry  bf8d6f642a            2   \n",
       "3722      surprise  b5c389e4cc            2   \n",
       "1686          love  5a45a070ed            2   \n",
       "\n",
       "                                                  words       pred     score  \\\n",
       "5021  ['Looking', 'for', 'a', 'show', 'to', 'turn', ...       good  0.806726   \n",
       "819   ['haha', 'i', 'like', 'modern', 'studies', '.'...       like  0.730661   \n",
       "1036  ['mmmm', 'it', 'all', 'sounds', 'tasty', '.', ...     tasty.  0.946810   \n",
       "1063  ['Ahhh', '!', 'I', 'knowww', '!', 'I', 'saw', ...    good!!!  0.573089   \n",
       "3355  ['o', 'can', '`', 't', 'work', 'that', 'one', ...       pain  0.927107   \n",
       "1725  ['doin', 'fine', 'relaxin', 'at', 'work', '.',...       fine  0.897155   \n",
       "1841  ['You', '`', 're', 'welcome', '!', 'It', '`', ...  wonderful  0.826697   \n",
       "4650  ['It', '`', 's', 'beautiful', 'outside', '.', ...  beautiful  0.997112   \n",
       "3722  ['ohh', 'and', 'Coffee', 'Break', 'is', 'my', ...       fave  0.875274   \n",
       "1686  ['Cathylo', '-', 'fran', '!', 'I', '`', 'm', '...       glad  0.927156   \n",
       "\n",
       "       jaccard  jaccard2  pred_word_count  \n",
       "5021  0.000000  0.130435                1  \n",
       "819   0.066667  0.823529                1  \n",
       "1036  0.047619  1.000000                1  \n",
       "1063  0.000000  0.440000                1  \n",
       "3355  0.083333  1.000000                1  \n",
       "1725  0.000000  0.285714                1  \n",
       "1841  1.000000  0.045455                1  \n",
       "4650  0.333333  0.157895                1  \n",
       "3722  0.000000  0.083333                1  \n",
       "1686  0.058824  1.000000                1  "
      ]
     },
     "execution_count": 99,
     "metadata": {},
     "output_type": "execute_result"
    }
   ],
   "source": [
    "df[(df['score']<1)&(df['pred_word_count']==1)].sample(n=10)"
   ]
  },
  {
   "cell_type": "code",
   "execution_count": 94,
   "metadata": {},
   "outputs": [
    {
     "data": {
      "text/plain": [
       "0.2674867996083293"
      ]
     },
     "execution_count": 94,
     "metadata": {},
     "output_type": "execute_result"
    }
   ],
   "source": [
    "df[(df['score']<0.8)&(df['pred_word_count']==1)]['jaccard2'].mean()"
   ]
  },
  {
   "cell_type": "code",
   "execution_count": 83,
   "metadata": {},
   "outputs": [
    {
     "data": {
      "text/plain": [
       "0.29537895733219155"
      ]
     },
     "execution_count": 83,
     "metadata": {},
     "output_type": "execute_result"
    }
   ],
   "source": [
    "df[df['score']<0.5]['jaccard'].mean()"
   ]
  },
  {
   "cell_type": "code",
   "execution_count": 84,
   "metadata": {},
   "outputs": [
    {
     "data": {
      "text/plain": [
       "0.31341913630592605"
      ]
     },
     "execution_count": 84,
     "metadata": {},
     "output_type": "execute_result"
    }
   ],
   "source": [
    "df[df['score']<0.5]['jaccard2'].mean()"
   ]
  },
  {
   "cell_type": "code",
   "execution_count": 85,
   "metadata": {
    "ExecuteTime": {
     "end_time": "2020-05-10T07:31:45.837763Z",
     "start_time": "2020-05-10T07:31:45.835105Z"
    }
   },
   "outputs": [
    {
     "data": {
      "text/plain": [
       "0.7162659696115115"
      ]
     },
     "execution_count": 85,
     "metadata": {},
     "output_type": "execute_result"
    }
   ],
   "source": [
    "df['jaccard'].mean()"
   ]
  },
  {
   "cell_type": "code",
   "execution_count": 86,
   "metadata": {
    "ExecuteTime": {
     "end_time": "2020-05-10T07:31:46.119923Z",
     "start_time": "2020-05-10T07:31:46.115566Z"
    }
   },
   "outputs": [
    {
     "data": {
      "text/plain": [
       "sentiment\n",
       "negative    0.541878\n",
       "neutral     0.976445\n",
       "positive    0.537346\n",
       "Name: jaccard, dtype: float64"
      ]
     },
     "execution_count": 86,
     "metadata": {},
     "output_type": "execute_result"
    }
   ],
   "source": [
    "df.groupby('sentiment')['jaccard'].mean()"
   ]
  },
  {
   "cell_type": "code",
   "execution_count": 87,
   "metadata": {},
   "outputs": [
    {
     "data": {
      "text/plain": [
       "(39, 14)"
      ]
     },
     "execution_count": 87,
     "metadata": {},
     "output_type": "execute_result"
    }
   ],
   "source": [
    "df[df['score']<0.5].shape"
   ]
  },
  {
   "cell_type": "code",
   "execution_count": 88,
   "metadata": {
    "ExecuteTime": {
     "end_time": "2020-05-10T07:31:46.280410Z",
     "start_time": "2020-05-10T07:31:46.275623Z"
    }
   },
   "outputs": [
    {
     "data": {
      "text/plain": [
       "(3934, 14)"
      ]
     },
     "execution_count": 88,
     "metadata": {},
     "output_type": "execute_result"
    }
   ],
   "source": [
    "df[df['jaccard']<0.2].shape"
   ]
  },
  {
   "cell_type": "code",
   "execution_count": 90,
   "metadata": {},
   "outputs": [
    {
     "data": {
      "text/html": [
       "<div>\n",
       "<style scoped>\n",
       "    .dataframe tbody tr th:only-of-type {\n",
       "        vertical-align: middle;\n",
       "    }\n",
       "\n",
       "    .dataframe tbody tr th {\n",
       "        vertical-align: top;\n",
       "    }\n",
       "\n",
       "    .dataframe thead th {\n",
       "        text-align: right;\n",
       "    }\n",
       "</style>\n",
       "<table border=\"1\" class=\"dataframe\">\n",
       "  <thead>\n",
       "    <tr style=\"text-align: right;\">\n",
       "      <th></th>\n",
       "      <th>Unnamed: 0</th>\n",
       "      <th>textID</th>\n",
       "      <th>text</th>\n",
       "      <th>selected_text</th>\n",
       "      <th>sentiment</th>\n",
       "      <th>kfold</th>\n",
       "      <th>old_sentiment</th>\n",
       "      <th>aux_id</th>\n",
       "      <th>senti_label</th>\n",
       "      <th>words</th>\n",
       "      <th>pred</th>\n",
       "      <th>score</th>\n",
       "      <th>jaccard</th>\n",
       "      <th>jaccard2</th>\n",
       "    </tr>\n",
       "  </thead>\n",
       "  <tbody>\n",
       "    <tr>\n",
       "      <th>2047</th>\n",
       "      <td>13039</td>\n",
       "      <td>86c7e297b2</td>\n",
       "      <td>Another loser: ****. I have lost the game more...</td>\n",
       "      <td>Another loser: ****.</td>\n",
       "      <td>negative</td>\n",
       "      <td>2</td>\n",
       "      <td>worry</td>\n",
       "      <td>86c7e297b2</td>\n",
       "      <td>0</td>\n",
       "      <td>['Another', 'loser', ':', '****', '.', 'I', 'h...</td>\n",
       "      <td>Another loser: ****.</td>\n",
       "      <td>0.576418</td>\n",
       "      <td>1.000000</td>\n",
       "      <td>0.142857</td>\n",
       "    </tr>\n",
       "    <tr>\n",
       "      <th>1810</th>\n",
       "      <td>23794</td>\n",
       "      <td>b61b7c4098</td>\n",
       "      <td>oh ok good ... now i will jump for joy! M, you...</td>\n",
       "      <td>r joy!</td>\n",
       "      <td>positive</td>\n",
       "      <td>4</td>\n",
       "      <td>happiness</td>\n",
       "      <td>b61b7c4098</td>\n",
       "      <td>2</td>\n",
       "      <td>['oh', 'ok', 'good', '.', '.', '.', 'now', 'i'...</td>\n",
       "      <td>good</td>\n",
       "      <td>0.743420</td>\n",
       "      <td>0.000000</td>\n",
       "      <td>0.058824</td>\n",
       "    </tr>\n",
       "    <tr>\n",
       "      <th>4756</th>\n",
       "      <td>4756</td>\n",
       "      <td>17aeaef146</td>\n",
       "      <td>Going to be buckling down this week. So, relie...</td>\n",
       "      <td>Enjoy</td>\n",
       "      <td>positive</td>\n",
       "      <td>0</td>\n",
       "      <td>relief</td>\n",
       "      <td>17aeaef146</td>\n",
       "      <td>2</td>\n",
       "      <td>['Going', 'to', 'be', 'buckling', 'down', 'thi...</td>\n",
       "      <td>Enjoy my silence.</td>\n",
       "      <td>0.765416</td>\n",
       "      <td>0.333333</td>\n",
       "      <td>0.058824</td>\n",
       "    </tr>\n",
       "    <tr>\n",
       "      <th>2695</th>\n",
       "      <td>2695</td>\n",
       "      <td>de2ae9b43e</td>\n",
       "      <td>Hi Lisa, you have the most BEAUTIFUL pups! HAP...</td>\n",
       "      <td>Hi Lisa, you have the most BEAUTIFUL pups! HAP...</td>\n",
       "      <td>positive</td>\n",
       "      <td>0</td>\n",
       "      <td>love</td>\n",
       "      <td>de2ae9b43e</td>\n",
       "      <td>2</td>\n",
       "      <td>['Hi', 'Lisa', ',', 'you', 'have', 'the', 'mos...</td>\n",
       "      <td>BEAUTIFUL</td>\n",
       "      <td>0.713443</td>\n",
       "      <td>0.058824</td>\n",
       "      <td>1.000000</td>\n",
       "    </tr>\n",
       "    <tr>\n",
       "      <th>4300</th>\n",
       "      <td>4300</td>\n",
       "      <td>e587eeba94</td>\n",
       "      <td>hahaha tempting! but nvm la. i`m quite a klutz...</td>\n",
       "      <td>i actually fare better</td>\n",
       "      <td>positive</td>\n",
       "      <td>0</td>\n",
       "      <td>fun</td>\n",
       "      <td>e587eeba94</td>\n",
       "      <td>2</td>\n",
       "      <td>['hahaha', 'tempting', '!', 'but', 'nvm', 'la'...</td>\n",
       "      <td>hahaha tempting! but nvm la. i`m quite a klutz...</td>\n",
       "      <td>0.682747</td>\n",
       "      <td>0.307692</td>\n",
       "      <td>0.222222</td>\n",
       "    </tr>\n",
       "    <tr>\n",
       "      <th>3863</th>\n",
       "      <td>9359</td>\n",
       "      <td>0a2bce3efa</td>\n",
       "      <td>_Craig_G Hope your enjoying the money..it`s lo...</td>\n",
       "      <td>enjoying</td>\n",
       "      <td>positive</td>\n",
       "      <td>1</td>\n",
       "      <td>happiness</td>\n",
       "      <td>0a2bce3efa</td>\n",
       "      <td>2</td>\n",
       "      <td>['_Craig_G', 'Hope', 'your', 'enjoying', 'the'...</td>\n",
       "      <td>Hope your enjoying the money..it`s looking rea...</td>\n",
       "      <td>0.644287</td>\n",
       "      <td>0.125000</td>\n",
       "      <td>0.076923</td>\n",
       "    </tr>\n",
       "    <tr>\n",
       "      <th>41</th>\n",
       "      <td>5443</td>\n",
       "      <td>5c83af1147</td>\n",
       "      <td>Gourmet pizza = BLEH. Pizza is SUPPOSED to be ...</td>\n",
       "      <td>filthy.</td>\n",
       "      <td>negative</td>\n",
       "      <td>1</td>\n",
       "      <td>worry</td>\n",
       "      <td>5c83af1147</td>\n",
       "      <td>0</td>\n",
       "      <td>['Gourmet', 'pizza', '=', 'BLEH', '.', 'Pizza'...</td>\n",
       "      <td>BLEH. Pizza is SUPPOSED to be greasy and filthy.</td>\n",
       "      <td>0.781541</td>\n",
       "      <td>0.111111</td>\n",
       "      <td>0.050000</td>\n",
       "    </tr>\n",
       "    <tr>\n",
       "      <th>3934</th>\n",
       "      <td>3934</td>\n",
       "      <td>ba33e6afea</td>\n",
       "      <td>So, what`s so great bout your so called `wonde...</td>\n",
       "      <td>wonderful</td>\n",
       "      <td>positive</td>\n",
       "      <td>0</td>\n",
       "      <td>anger</td>\n",
       "      <td>ba33e6afea</td>\n",
       "      <td>2</td>\n",
       "      <td>['So', ',', 'what', '`', 's', 'so', 'great', '...</td>\n",
       "      <td>great</td>\n",
       "      <td>0.759594</td>\n",
       "      <td>0.000000</td>\n",
       "      <td>0.000000</td>\n",
       "    </tr>\n",
       "    <tr>\n",
       "      <th>3245</th>\n",
       "      <td>3245</td>\n",
       "      <td>a0216fc825</td>\n",
       "      <td>i get migranes.. so .. that leaves you to eith...</td>\n",
       "      <td>i get migranes</td>\n",
       "      <td>negative</td>\n",
       "      <td>0</td>\n",
       "      <td>sadness</td>\n",
       "      <td>a0216fc825</td>\n",
       "      <td>0</td>\n",
       "      <td>['i', 'get', 'migranes', '.', '.', 'so', '.', ...</td>\n",
       "      <td>i get migranes..</td>\n",
       "      <td>0.750292</td>\n",
       "      <td>0.500000</td>\n",
       "      <td>0.142857</td>\n",
       "    </tr>\n",
       "    <tr>\n",
       "      <th>1818</th>\n",
       "      <td>23802</td>\n",
       "      <td>80a43d94a8</td>\n",
       "      <td>Hey JK...Wish Evenlyn a Happy Mothers Day tomo...</td>\n",
       "      <td>Happy</td>\n",
       "      <td>positive</td>\n",
       "      <td>4</td>\n",
       "      <td>love</td>\n",
       "      <td>80a43d94a8</td>\n",
       "      <td>2</td>\n",
       "      <td>['Hey', 'JK', '.', '.', '.', 'Wish', 'Evenlyn'...</td>\n",
       "      <td>Happy Mothers Day tomora for me..I had a Great...</td>\n",
       "      <td>0.679296</td>\n",
       "      <td>0.100000</td>\n",
       "      <td>0.041667</td>\n",
       "    </tr>\n",
       "  </tbody>\n",
       "</table>\n",
       "</div>"
      ],
      "text/plain": [
       "      Unnamed: 0      textID  \\\n",
       "2047       13039  86c7e297b2   \n",
       "1810       23794  b61b7c4098   \n",
       "4756        4756  17aeaef146   \n",
       "2695        2695  de2ae9b43e   \n",
       "4300        4300  e587eeba94   \n",
       "3863        9359  0a2bce3efa   \n",
       "41          5443  5c83af1147   \n",
       "3934        3934  ba33e6afea   \n",
       "3245        3245  a0216fc825   \n",
       "1818       23802  80a43d94a8   \n",
       "\n",
       "                                                   text  \\\n",
       "2047  Another loser: ****. I have lost the game more...   \n",
       "1810  oh ok good ... now i will jump for joy! M, you...   \n",
       "4756  Going to be buckling down this week. So, relie...   \n",
       "2695  Hi Lisa, you have the most BEAUTIFUL pups! HAP...   \n",
       "4300  hahaha tempting! but nvm la. i`m quite a klutz...   \n",
       "3863  _Craig_G Hope your enjoying the money..it`s lo...   \n",
       "41    Gourmet pizza = BLEH. Pizza is SUPPOSED to be ...   \n",
       "3934  So, what`s so great bout your so called `wonde...   \n",
       "3245  i get migranes.. so .. that leaves you to eith...   \n",
       "1818  Hey JK...Wish Evenlyn a Happy Mothers Day tomo...   \n",
       "\n",
       "                                          selected_text sentiment  kfold  \\\n",
       "2047                               Another loser: ****.  negative      2   \n",
       "1810                                             r joy!  positive      4   \n",
       "4756                                              Enjoy  positive      0   \n",
       "2695  Hi Lisa, you have the most BEAUTIFUL pups! HAP...  positive      0   \n",
       "4300                             i actually fare better  positive      0   \n",
       "3863                                           enjoying  positive      1   \n",
       "41                                              filthy.  negative      1   \n",
       "3934                                          wonderful  positive      0   \n",
       "3245                                     i get migranes  negative      0   \n",
       "1818                                              Happy  positive      4   \n",
       "\n",
       "     old_sentiment      aux_id  senti_label  \\\n",
       "2047         worry  86c7e297b2            0   \n",
       "1810     happiness  b61b7c4098            2   \n",
       "4756        relief  17aeaef146            2   \n",
       "2695          love  de2ae9b43e            2   \n",
       "4300           fun  e587eeba94            2   \n",
       "3863     happiness  0a2bce3efa            2   \n",
       "41           worry  5c83af1147            0   \n",
       "3934         anger  ba33e6afea            2   \n",
       "3245       sadness  a0216fc825            0   \n",
       "1818          love  80a43d94a8            2   \n",
       "\n",
       "                                                  words  \\\n",
       "2047  ['Another', 'loser', ':', '****', '.', 'I', 'h...   \n",
       "1810  ['oh', 'ok', 'good', '.', '.', '.', 'now', 'i'...   \n",
       "4756  ['Going', 'to', 'be', 'buckling', 'down', 'thi...   \n",
       "2695  ['Hi', 'Lisa', ',', 'you', 'have', 'the', 'mos...   \n",
       "4300  ['hahaha', 'tempting', '!', 'but', 'nvm', 'la'...   \n",
       "3863  ['_Craig_G', 'Hope', 'your', 'enjoying', 'the'...   \n",
       "41    ['Gourmet', 'pizza', '=', 'BLEH', '.', 'Pizza'...   \n",
       "3934  ['So', ',', 'what', '`', 's', 'so', 'great', '...   \n",
       "3245  ['i', 'get', 'migranes', '.', '.', 'so', '.', ...   \n",
       "1818  ['Hey', 'JK', '.', '.', '.', 'Wish', 'Evenlyn'...   \n",
       "\n",
       "                                                   pred     score   jaccard  \\\n",
       "2047                               Another loser: ****.  0.576418  1.000000   \n",
       "1810                                               good  0.743420  0.000000   \n",
       "4756                                  Enjoy my silence.  0.765416  0.333333   \n",
       "2695                                          BEAUTIFUL  0.713443  0.058824   \n",
       "4300  hahaha tempting! but nvm la. i`m quite a klutz...  0.682747  0.307692   \n",
       "3863  Hope your enjoying the money..it`s looking rea...  0.644287  0.125000   \n",
       "41     BLEH. Pizza is SUPPOSED to be greasy and filthy.  0.781541  0.111111   \n",
       "3934                                              great  0.759594  0.000000   \n",
       "3245                                   i get migranes..  0.750292  0.500000   \n",
       "1818  Happy Mothers Day tomora for me..I had a Great...  0.679296  0.100000   \n",
       "\n",
       "      jaccard2  \n",
       "2047  0.142857  \n",
       "1810  0.058824  \n",
       "4756  0.058824  \n",
       "2695  1.000000  \n",
       "4300  0.222222  \n",
       "3863  0.076923  \n",
       "41    0.050000  \n",
       "3934  0.000000  \n",
       "3245  0.142857  \n",
       "1818  0.041667  "
      ]
     },
     "execution_count": 90,
     "metadata": {},
     "output_type": "execute_result"
    }
   ],
   "source": [
    "df[df['score']<0.8].sample(n=10)"
   ]
  },
  {
   "cell_type": "code",
   "execution_count": 38,
   "metadata": {},
   "outputs": [],
   "source": [
    "# df[df['jaccard']>0.8].sample(n=20)"
   ]
  },
  {
   "cell_type": "code",
   "execution_count": 39,
   "metadata": {
    "ExecuteTime": {
     "end_time": "2020-05-10T07:43:36.347956Z",
     "start_time": "2020-05-10T07:43:36.337049Z"
    }
   },
   "outputs": [],
   "source": [
    "# df[df['jaccard']<0.2].sample(n=20)"
   ]
  },
  {
   "cell_type": "code",
   "execution_count": 22,
   "metadata": {
    "ExecuteTime": {
     "end_time": "2020-05-10T07:39:44.913598Z",
     "start_time": "2020-05-10T07:39:44.910877Z"
    }
   },
   "outputs": [
    {
     "data": {
      "text/plain": [
       "0.1486891156878323"
      ]
     },
     "execution_count": 22,
     "metadata": {},
     "output_type": "execute_result"
    }
   ],
   "source": [
    "df['all_sentence'].mean()"
   ]
  },
  {
   "cell_type": "code",
   "execution_count": 23,
   "metadata": {
    "ExecuteTime": {
     "end_time": "2020-05-10T07:40:03.102250Z",
     "start_time": "2020-05-10T07:40:03.098414Z"
    }
   },
   "outputs": [
    {
     "data": {
      "text/plain": [
       "all_sentence\n",
       "0    0.539671\n",
       "1    0.483044\n",
       "Name: jaccard, dtype: float64"
      ]
     },
     "execution_count": 23,
     "metadata": {},
     "output_type": "execute_result"
    }
   ],
   "source": [
    "df.groupby('all_sentence')['jaccard'].mean()"
   ]
  },
  {
   "cell_type": "code",
   "execution_count": null,
   "metadata": {},
   "outputs": [],
   "source": []
  }
 ],
 "metadata": {
  "kernelspec": {
   "display_name": "Python 3",
   "language": "python",
   "name": "python3"
  },
  "language_info": {
   "codemirror_mode": {
    "name": "ipython",
    "version": 3
   },
   "file_extension": ".py",
   "mimetype": "text/x-python",
   "name": "python",
   "nbconvert_exporter": "python",
   "pygments_lexer": "ipython3",
   "version": "3.7.1"
  }
 },
 "nbformat": 4,
 "nbformat_minor": 2
}
