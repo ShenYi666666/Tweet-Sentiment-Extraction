{
 "cells": [
  {
   "cell_type": "code",
   "execution_count": 1,
   "metadata": {
    "ExecuteTime": {
     "end_time": "2020-05-24T13:28:36.392516Z",
     "start_time": "2020-05-24T13:28:35.018704Z"
    }
   },
   "outputs": [],
   "source": [
    "import pandas as pd\n",
    "\n",
    "import numpy as np\n",
    "from transformers import BertTokenizer\n",
    "from transformers import RobertaTokenizer\n",
    "from transformers import RobertaTokenizerFast"
   ]
  },
  {
   "cell_type": "code",
   "execution_count": 2,
   "metadata": {
    "ExecuteTime": {
     "end_time": "2020-05-24T13:28:36.396099Z",
     "start_time": "2020-05-24T13:28:36.393624Z"
    }
   },
   "outputs": [],
   "source": [
    "def clean(x):\n",
    "    sp_x = x.split()\n",
    "    if len(sp_x[0]) == 1 and len(sp_x) > 1 and sp_x[0].lower() not in ['i', 'a', 'u'] and not sp_x[0].isdigit():\n",
    "        return ' '.join(sp_x[1:])\n",
    "    return x"
   ]
  },
  {
   "cell_type": "code",
   "execution_count": 3,
   "metadata": {
    "ExecuteTime": {
     "end_time": "2020-05-24T13:28:36.476821Z",
     "start_time": "2020-05-24T13:28:36.397094Z"
    }
   },
   "outputs": [],
   "source": [
    "pred = pd.read_pickle('../input/tweet-sentiment-extraction/preds.pkl')"
   ]
  },
  {
   "cell_type": "code",
   "execution_count": 4,
   "metadata": {
    "ExecuteTime": {
     "end_time": "2020-05-24T13:28:36.533862Z",
     "start_time": "2020-05-24T13:28:36.477731Z"
    }
   },
   "outputs": [],
   "source": [
    "pred['text'] = pred['text'].apply(lambda x: ' '.join(x.strip().split()))\n",
    "pred['selected_text'] = pred['selected_text'].apply(\n",
    "                lambda x: ' '.join(x.strip().split()))\n",
    "pred['selected_text'] = pred['selected_text'].apply(lambda x: clean(x))"
   ]
  },
  {
   "cell_type": "code",
   "execution_count": 5,
   "metadata": {
    "ExecuteTime": {
     "end_time": "2020-05-24T13:28:36.539820Z",
     "start_time": "2020-05-24T13:28:36.535163Z"
    }
   },
   "outputs": [],
   "source": [
    "def prepare(text):\n",
    "    words = text.split()\n",
    "    retval, first_char, invert_map = [], [], []\n",
    "    current_pos = 0\n",
    "    for w in words:\n",
    "        word_ret = [\"\"]\n",
    "        word_invert = [current_pos]\n",
    "        for p, c in enumerate(w):\n",
    "            if c in ['.',',','!','?','(',')',';',':','-','=',\"/\",\"<\",\"`\"]:\n",
    "                if word_ret[-1]==\"\":\n",
    "                    word_ret[-1]+=c\n",
    "                    word_invert[-1]=current_pos+p\n",
    "                else:\n",
    "                    word_ret.append(c)\n",
    "                    word_invert.append(current_pos+p)\n",
    "                word_ret.append(\"\")\n",
    "                word_invert.append(current_pos+p+1)\n",
    "            else:\n",
    "                word_ret[-1]+=c\n",
    "        if len(word_ret[-1])==0:\n",
    "            word_ret.pop(-1)\n",
    "            word_invert.pop(-1)\n",
    "        word_first = [False if i>0 else True for i in range(len(word_ret)) ]\n",
    "        retval.extend(word_ret)\n",
    "        first_char.extend(word_first)\n",
    "        invert_map.extend(word_invert)\n",
    "        current_pos+=len(w)+1\n",
    "    assert len(retval)==len(first_char)\n",
    "    return retval, first_char, invert_map"
   ]
  },
  {
   "cell_type": "code",
   "execution_count": 6,
   "metadata": {
    "ExecuteTime": {
     "end_time": "2020-05-24T13:28:36.584098Z",
     "start_time": "2020-05-24T13:28:36.540863Z"
    }
   },
   "outputs": [],
   "source": [
    "texts = pred['text'].tolist()\n",
    "sts = pred['selected_text'].tolist()\n",
    "tokenizer = RobertaTokenizer.from_pretrained('../../bert_models/roberta_base/')"
   ]
  },
  {
   "cell_type": "code",
   "execution_count": 7,
   "metadata": {
    "ExecuteTime": {
     "end_time": "2020-05-24T13:28:47.493004Z",
     "start_time": "2020-05-24T13:28:36.584999Z"
    }
   },
   "outputs": [],
   "source": [
    "data = []\n",
    "for text in texts:\n",
    "    words, first_char, invert_map = prepare(text)\n",
    "\n",
    "    tokens, token_invert_map = [], []\n",
    "    for idx, w in enumerate(words):\n",
    "        # get tokens\n",
    "        w = w.replace(\"'\", \"\\\"\")\n",
    "        w = w.replace(\"`\", \"'\")\n",
    "        w = w.replace(\"ï¿½\", \"\")\n",
    "        if first_char[idx]:\n",
    "            prefix = \" \"\n",
    "        else:\n",
    "            prefix = \"\"\n",
    "        for token in tokenizer.tokenize(prefix+w):\n",
    "            tokens.append(token)\n",
    "            token_invert_map.append(idx)\n",
    "    data.append((words, first_char, tokens,\n",
    "                 token_invert_map, invert_map))\n",
    "words, first_chars, tokens, invert_maps, word_invert_maps = zip(*data)\n",
    "pred['words'] = words\n",
    "\n",
    "pred['first_char'] = first_chars\n",
    "pred['invert_map'] = invert_maps  # token id to word id\n",
    "# word to pos in sentence\n",
    "pred['word_invert_map'] = word_invert_maps"
   ]
  },
  {
   "cell_type": "code",
   "execution_count": 8,
   "metadata": {
    "ExecuteTime": {
     "end_time": "2020-05-24T13:28:48.255100Z",
     "start_time": "2020-05-24T13:28:47.494431Z"
    }
   },
   "outputs": [],
   "source": [
    "start_word_idx = []\n",
    "end_word_idx = []\n",
    "whole_sentence = []\n",
    "for idx in range(len(pred)):\n",
    "    text = texts[idx]\n",
    "    st = sts[idx]\n",
    "    word = words[idx]\n",
    "    invert_map = word_invert_maps[idx]\n",
    "\n",
    "    temp = np.zeros(len(text))\n",
    "\n",
    "    end_pos = 0\n",
    "    start_pos = text.find(st, end_pos)\n",
    "    first_end = start_pos+len(st)\n",
    "    temp[start_pos:first_end] = 1\n",
    "\n",
    "    label = []\n",
    "    for word_idx, w in enumerate(word):\n",
    "        if sum(temp[invert_map[word_idx]:invert_map[word_idx]+len(w)]) > 0:\n",
    "            label.append(word_idx)\n",
    "    cur_start_word_idx = min(label)\n",
    "    cur_end_word_idx = max(label)\n",
    "\n",
    "    start_word_idx.append(cur_start_word_idx)\n",
    "    end_word_idx.append(cur_end_word_idx)\n",
    "\n",
    "pred['start'] = start_word_idx\n",
    "pred['end'] = end_word_idx\n"
   ]
  },
  {
   "cell_type": "code",
   "execution_count": 9,
   "metadata": {
    "ExecuteTime": {
     "end_time": "2020-05-24T13:28:48.258843Z",
     "start_time": "2020-05-24T13:28:48.256271Z"
    }
   },
   "outputs": [],
   "source": [
    "def decode(tokens, first_char, start, end):\n",
    "    retval = \"\"\n",
    "    for i in range(start, end+1):\n",
    "        if first_char[i]:\n",
    "            retval+= (\" \"+tokens[i])\n",
    "        else:\n",
    "            retval += tokens[i]\n",
    "    return \" \".join(retval.split())"
   ]
  },
  {
   "cell_type": "code",
   "execution_count": 10,
   "metadata": {
    "ExecuteTime": {
     "end_time": "2020-05-24T13:28:48.262167Z",
     "start_time": "2020-05-24T13:28:48.259715Z"
    }
   },
   "outputs": [],
   "source": [
    "def jaccard_list(l1, l2):\n",
    "    a = set(l1)\n",
    "    b = set(l2)\n",
    "    c = a.intersection(b)\n",
    "    return float(len(c)) / (len(a) + len(b) - len(c))"
   ]
  },
  {
   "cell_type": "code",
   "execution_count": 11,
   "metadata": {
    "ExecuteTime": {
     "end_time": "2020-05-24T13:28:49.246146Z",
     "start_time": "2020-05-24T13:28:48.263181Z"
    }
   },
   "outputs": [],
   "source": [
    "def get_jaccard(x):\n",
    "    label = x['selected_text'].split()\n",
    "    words = x['words']\n",
    "    start = x['start']\n",
    "    end = x['end']\n",
    "    label2 = decode(words, x['first_char'], start, end).split()\n",
    "    return jaccard_list(label, label2)\n",
    "pred['label_jaccard'] = pred.apply(lambda x: get_jaccard(x), axis=1)"
   ]
  },
  {
   "cell_type": "code",
   "execution_count": 12,
   "metadata": {
    "ExecuteTime": {
     "end_time": "2020-05-24T13:28:49.249780Z",
     "start_time": "2020-05-24T13:28:49.247042Z"
    }
   },
   "outputs": [],
   "source": [
    "def jaccard_string(s1, s2):\n",
    "    a = set(s1.lower().split())\n",
    "    b = set(s2.lower().split())\n",
    "    c = a.intersection(b)\n",
    "    return float(len(c)) / (len(a) + len(b) - len(c))"
   ]
  },
  {
   "cell_type": "code",
   "execution_count": 13,
   "metadata": {
    "ExecuteTime": {
     "end_time": "2020-05-24T13:28:49.676932Z",
     "start_time": "2020-05-24T13:28:49.250586Z"
    }
   },
   "outputs": [],
   "source": [
    "pred['jaccard'] = pred.apply(lambda x: jaccard_string(x['selected_text'], x['pred']), axis=1)"
   ]
  },
  {
   "cell_type": "code",
   "execution_count": 14,
   "metadata": {
    "ExecuteTime": {
     "end_time": "2020-05-24T13:28:49.697584Z",
     "start_time": "2020-05-24T13:28:49.677691Z"
    }
   },
   "outputs": [
    {
     "data": {
      "text/html": [
       "<div>\n",
       "<style scoped>\n",
       "    .dataframe tbody tr th:only-of-type {\n",
       "        vertical-align: middle;\n",
       "    }\n",
       "\n",
       "    .dataframe tbody tr th {\n",
       "        vertical-align: top;\n",
       "    }\n",
       "\n",
       "    .dataframe thead th {\n",
       "        text-align: right;\n",
       "    }\n",
       "</style>\n",
       "<table border=\"1\" class=\"dataframe\">\n",
       "  <thead>\n",
       "    <tr style=\"text-align: right;\">\n",
       "      <th></th>\n",
       "      <th>textID</th>\n",
       "      <th>text</th>\n",
       "      <th>selected_text</th>\n",
       "      <th>sentiment</th>\n",
       "      <th>kfold</th>\n",
       "      <th>start_pred</th>\n",
       "      <th>end_pred</th>\n",
       "      <th>pred</th>\n",
       "      <th>score</th>\n",
       "      <th>words</th>\n",
       "      <th>first_char</th>\n",
       "      <th>invert_map</th>\n",
       "      <th>word_invert_map</th>\n",
       "      <th>start</th>\n",
       "      <th>end</th>\n",
       "      <th>label_jaccard</th>\n",
       "      <th>jaccard</th>\n",
       "    </tr>\n",
       "  </thead>\n",
       "  <tbody>\n",
       "    <tr>\n",
       "      <th>0</th>\n",
       "      <td>f7fdea625a</td>\n",
       "      <td>i`m so bored i can barely even tweet. i have n...</td>\n",
       "      <td>bored</td>\n",
       "      <td>negative</td>\n",
       "      <td>0</td>\n",
       "      <td>[0.347703, 0.000886331, 0.001373101, 0.0729962...</td>\n",
       "      <td>[7.24877e-05, 6.3530555e-05, 0.0004330402, 0.0...</td>\n",
       "      <td>bored</td>\n",
       "      <td>1.205407</td>\n",
       "      <td>[i, `, m, so, bored, i, can, barely, even, twe...</td>\n",
       "      <td>[True, False, False, True, True, True, True, T...</td>\n",
       "      <td>[0, 1, 2, 3, 4, 5, 6, 7, 8, 9, 10, 11, 12, 13,...</td>\n",
       "      <td>[0, 1, 2, 4, 7, 13, 15, 19, 26, 31, 36, 38, 40...</td>\n",
       "      <td>4</td>\n",
       "      <td>4</td>\n",
       "      <td>1.0</td>\n",
       "      <td>1.000000</td>\n",
       "    </tr>\n",
       "    <tr>\n",
       "      <th>1</th>\n",
       "      <td>c19de2c75b</td>\n",
       "      <td>awwwwwwwwww thats jus...awwwww.did she get to ...</td>\n",
       "      <td>awwwwwwwwww thats jus...awwwww.did she get to ...</td>\n",
       "      <td>neutral</td>\n",
       "      <td>0</td>\n",
       "      <td>[0.9957065, 0.00022696702, 2.7850607e-05, 1.21...</td>\n",
       "      <td>[4.615283e-06, 5.261232e-06, 4.9657247e-06, 6....</td>\n",
       "      <td>awwwwwwwwww thats jus...awwwww.did she get to ...</td>\n",
       "      <td>1.957682</td>\n",
       "      <td>[awwwwwwwwww, thats, jus, ., ., ., awwwww, ., ...</td>\n",
       "      <td>[True, True, True, False, False, False, False,...</td>\n",
       "      <td>[0, 0, 0, 0, 0, 0, 1, 2, 2, 3, 4, 5, 6, 6, 6, ...</td>\n",
       "      <td>[0, 12, 18, 21, 22, 23, 24, 30, 31, 35, 39, 43...</td>\n",
       "      <td>0</td>\n",
       "      <td>15</td>\n",
       "      <td>1.0</td>\n",
       "      <td>1.000000</td>\n",
       "    </tr>\n",
       "    <tr>\n",
       "      <th>2</th>\n",
       "      <td>0f963af18f</td>\n",
       "      <td>I did not twitt yesterday cause it was a very ...</td>\n",
       "      <td>I can not sleep</td>\n",
       "      <td>negative</td>\n",
       "      <td>0</td>\n",
       "      <td>[0.09947917, 0.0034957984, 0.0021510508, 0.002...</td>\n",
       "      <td>[0.00034915112, 0.0003514515, 0.0006098294, 0....</td>\n",
       "      <td>I can not sleep I can not sleep I`m like in z...</td>\n",
       "      <td>1.616367</td>\n",
       "      <td>[I, did, not, twitt, yesterday, cause, it, was...</td>\n",
       "      <td>[True, True, True, True, True, True, True, Tru...</td>\n",
       "      <td>[0, 1, 2, 3, 3, 4, 5, 6, 7, 8, 9, 10, 11, 12, ...</td>\n",
       "      <td>[0, 2, 6, 10, 16, 26, 32, 35, 39, 41, 46, 51, ...</td>\n",
       "      <td>20</td>\n",
       "      <td>23</td>\n",
       "      <td>1.0</td>\n",
       "      <td>0.444444</td>\n",
       "    </tr>\n",
       "    <tr>\n",
       "      <th>3</th>\n",
       "      <td>0583c78cc1</td>\n",
       "      <td>Congratulation`s to phil packer on completing ...</td>\n",
       "      <td>Congratulation`s</td>\n",
       "      <td>positive</td>\n",
       "      <td>0</td>\n",
       "      <td>[0.67805344, 0.0010435485, 0.0007062184, 0.000...</td>\n",
       "      <td>[0.0012406113, 0.0075232503, 0.07546322, 0.016...</td>\n",
       "      <td>Congratulation`s Congratulation`s to phil pac...</td>\n",
       "      <td>1.781777</td>\n",
       "      <td>[Congratulation, `, s, to, phil, packer, on, c...</td>\n",
       "      <td>[True, False, False, True, True, True, True, T...</td>\n",
       "      <td>[0, 0, 0, 1, 2, 3, 4, 5, 5, 6, 7, 8, 9, 9, 10,...</td>\n",
       "      <td>[0, 14, 15, 17, 20, 25, 32, 35, 46, 50, 57, 66...</td>\n",
       "      <td>0</td>\n",
       "      <td>2</td>\n",
       "      <td>1.0</td>\n",
       "      <td>0.083333</td>\n",
       "    </tr>\n",
       "    <tr>\n",
       "      <th>4</th>\n",
       "      <td>1cdb444ea5</td>\n",
       "      <td>O`Charleys? Pretty good. Especially when its f...</td>\n",
       "      <td>Pretty good.</td>\n",
       "      <td>positive</td>\n",
       "      <td>0</td>\n",
       "      <td>[0.046210214, 0.00013773396, 0.00040426903, 0....</td>\n",
       "      <td>[5.95386e-05, 6.303577e-05, 7.8312936e-05, 0.0...</td>\n",
       "      <td>Pretty good.</td>\n",
       "      <td>1.373376</td>\n",
       "      <td>[O, `, Charleys, ?, Pretty, good, ., Especiall...</td>\n",
       "      <td>[True, False, False, False, True, True, False,...</td>\n",
       "      <td>[0, 1, 2, 2, 3, 4, 5, 6, 7, 8, 9, 10, 11, 12, ...</td>\n",
       "      <td>[0, 1, 2, 10, 12, 19, 23, 25, 36, 41, 45, 49, ...</td>\n",
       "      <td>4</td>\n",
       "      <td>6</td>\n",
       "      <td>1.0</td>\n",
       "      <td>1.000000</td>\n",
       "    </tr>\n",
       "  </tbody>\n",
       "</table>\n",
       "</div>"
      ],
      "text/plain": [
       "       textID                                               text  \\\n",
       "0  f7fdea625a  i`m so bored i can barely even tweet. i have n...   \n",
       "1  c19de2c75b  awwwwwwwwww thats jus...awwwww.did she get to ...   \n",
       "2  0f963af18f  I did not twitt yesterday cause it was a very ...   \n",
       "3  0583c78cc1  Congratulation`s to phil packer on completing ...   \n",
       "4  1cdb444ea5  O`Charleys? Pretty good. Especially when its f...   \n",
       "\n",
       "                                       selected_text sentiment  kfold  \\\n",
       "0                                              bored  negative      0   \n",
       "1  awwwwwwwwww thats jus...awwwww.did she get to ...   neutral      0   \n",
       "2                                    I can not sleep  negative      0   \n",
       "3                                   Congratulation`s  positive      0   \n",
       "4                                       Pretty good.  positive      0   \n",
       "\n",
       "                                          start_pred  \\\n",
       "0  [0.347703, 0.000886331, 0.001373101, 0.0729962...   \n",
       "1  [0.9957065, 0.00022696702, 2.7850607e-05, 1.21...   \n",
       "2  [0.09947917, 0.0034957984, 0.0021510508, 0.002...   \n",
       "3  [0.67805344, 0.0010435485, 0.0007062184, 0.000...   \n",
       "4  [0.046210214, 0.00013773396, 0.00040426903, 0....   \n",
       "\n",
       "                                            end_pred  \\\n",
       "0  [7.24877e-05, 6.3530555e-05, 0.0004330402, 0.0...   \n",
       "1  [4.615283e-06, 5.261232e-06, 4.9657247e-06, 6....   \n",
       "2  [0.00034915112, 0.0003514515, 0.0006098294, 0....   \n",
       "3  [0.0012406113, 0.0075232503, 0.07546322, 0.016...   \n",
       "4  [5.95386e-05, 6.303577e-05, 7.8312936e-05, 0.0...   \n",
       "\n",
       "                                                pred     score  \\\n",
       "0                                              bored  1.205407   \n",
       "1  awwwwwwwwww thats jus...awwwww.did she get to ...  1.957682   \n",
       "2   I can not sleep I can not sleep I`m like in z...  1.616367   \n",
       "3   Congratulation`s Congratulation`s to phil pac...  1.781777   \n",
       "4                                       Pretty good.  1.373376   \n",
       "\n",
       "                                               words  \\\n",
       "0  [i, `, m, so, bored, i, can, barely, even, twe...   \n",
       "1  [awwwwwwwwww, thats, jus, ., ., ., awwwww, ., ...   \n",
       "2  [I, did, not, twitt, yesterday, cause, it, was...   \n",
       "3  [Congratulation, `, s, to, phil, packer, on, c...   \n",
       "4  [O, `, Charleys, ?, Pretty, good, ., Especiall...   \n",
       "\n",
       "                                          first_char  \\\n",
       "0  [True, False, False, True, True, True, True, T...   \n",
       "1  [True, True, True, False, False, False, False,...   \n",
       "2  [True, True, True, True, True, True, True, Tru...   \n",
       "3  [True, False, False, True, True, True, True, T...   \n",
       "4  [True, False, False, False, True, True, False,...   \n",
       "\n",
       "                                          invert_map  \\\n",
       "0  [0, 1, 2, 3, 4, 5, 6, 7, 8, 9, 10, 11, 12, 13,...   \n",
       "1  [0, 0, 0, 0, 0, 0, 1, 2, 2, 3, 4, 5, 6, 6, 6, ...   \n",
       "2  [0, 1, 2, 3, 3, 4, 5, 6, 7, 8, 9, 10, 11, 12, ...   \n",
       "3  [0, 0, 0, 1, 2, 3, 4, 5, 5, 6, 7, 8, 9, 9, 10,...   \n",
       "4  [0, 1, 2, 2, 3, 4, 5, 6, 7, 8, 9, 10, 11, 12, ...   \n",
       "\n",
       "                                     word_invert_map  start  end  \\\n",
       "0  [0, 1, 2, 4, 7, 13, 15, 19, 26, 31, 36, 38, 40...      4    4   \n",
       "1  [0, 12, 18, 21, 22, 23, 24, 30, 31, 35, 39, 43...      0   15   \n",
       "2  [0, 2, 6, 10, 16, 26, 32, 35, 39, 41, 46, 51, ...     20   23   \n",
       "3  [0, 14, 15, 17, 20, 25, 32, 35, 46, 50, 57, 66...      0    2   \n",
       "4  [0, 1, 2, 10, 12, 19, 23, 25, 36, 41, 45, 49, ...      4    6   \n",
       "\n",
       "   label_jaccard   jaccard  \n",
       "0            1.0  1.000000  \n",
       "1            1.0  1.000000  \n",
       "2            1.0  0.444444  \n",
       "3            1.0  0.083333  \n",
       "4            1.0  1.000000  "
      ]
     },
     "execution_count": 14,
     "metadata": {},
     "output_type": "execute_result"
    }
   ],
   "source": [
    "pred.head()"
   ]
  },
  {
   "cell_type": "code",
   "execution_count": 15,
   "metadata": {
    "ExecuteTime": {
     "end_time": "2020-05-24T13:28:49.703760Z",
     "start_time": "2020-05-24T13:28:49.698247Z"
    }
   },
   "outputs": [],
   "source": [
    "pred['delta_jaccard'] = pred['label_jaccard']-pred['jaccard']"
   ]
  },
  {
   "cell_type": "code",
   "execution_count": 16,
   "metadata": {
    "ExecuteTime": {
     "end_time": "2020-05-24T13:28:49.718925Z",
     "start_time": "2020-05-24T13:28:49.704623Z"
    }
   },
   "outputs": [
    {
     "data": {
      "text/html": [
       "<div>\n",
       "<style scoped>\n",
       "    .dataframe tbody tr th:only-of-type {\n",
       "        vertical-align: middle;\n",
       "    }\n",
       "\n",
       "    .dataframe tbody tr th {\n",
       "        vertical-align: top;\n",
       "    }\n",
       "\n",
       "    .dataframe thead th {\n",
       "        text-align: right;\n",
       "    }\n",
       "</style>\n",
       "<table border=\"1\" class=\"dataframe\">\n",
       "  <thead>\n",
       "    <tr style=\"text-align: right;\">\n",
       "      <th></th>\n",
       "      <th>text</th>\n",
       "      <th>sentiment</th>\n",
       "      <th>selected_text</th>\n",
       "      <th>pred</th>\n",
       "      <th>jaccard</th>\n",
       "      <th>label_jaccard</th>\n",
       "      <th>score</th>\n",
       "    </tr>\n",
       "  </thead>\n",
       "  <tbody>\n",
       "    <tr>\n",
       "      <th>24289</th>\n",
       "      <td>My wiki project is going to have to wait anoth...</td>\n",
       "      <td>neutral</td>\n",
       "      <td>My wiki project is going to have to wait anoth...</td>\n",
       "      <td>My wiki project is going to have to wait anoth...</td>\n",
       "      <td>1.0</td>\n",
       "      <td>1.0</td>\n",
       "      <td>1.962010</td>\n",
       "    </tr>\n",
       "    <tr>\n",
       "      <th>609</th>\n",
       "      <td>don`t wait on Red, could be ages. I know what ...</td>\n",
       "      <td>neutral</td>\n",
       "      <td>don`t wait on Red, could be ages. I know what ...</td>\n",
       "      <td>don`t wait on Red, could be ages. I know what ...</td>\n",
       "      <td>1.0</td>\n",
       "      <td>1.0</td>\n",
       "      <td>1.985270</td>\n",
       "    </tr>\n",
       "    <tr>\n",
       "      <th>18339</th>\n",
       "      <td>Sons of ****, why couldn`t they put them on th...</td>\n",
       "      <td>negative</td>\n",
       "      <td>Sons of ****,</td>\n",
       "      <td>Sons of ****,</td>\n",
       "      <td>1.0</td>\n",
       "      <td>1.0</td>\n",
       "      <td>1.336935</td>\n",
       "    </tr>\n",
       "    <tr>\n",
       "      <th>3886</th>\n",
       "      <td>sure ill follow you hun ohh thank you are you ...</td>\n",
       "      <td>positive</td>\n",
       "      <td>thank you</td>\n",
       "      <td>thank you</td>\n",
       "      <td>1.0</td>\n",
       "      <td>1.0</td>\n",
       "      <td>1.202010</td>\n",
       "    </tr>\n",
       "    <tr>\n",
       "      <th>8160</th>\n",
       "      <td>I have a great house to sell you! Comes comple...</td>\n",
       "      <td>positive</td>\n",
       "      <td>great</td>\n",
       "      <td>great</td>\n",
       "      <td>1.0</td>\n",
       "      <td>1.0</td>\n",
       "      <td>1.167444</td>\n",
       "    </tr>\n",
       "    <tr>\n",
       "      <th>18943</th>\n",
       "      <td>Sickkkk ....and I need 11/20--NOW.</td>\n",
       "      <td>negative</td>\n",
       "      <td>Sickkkk</td>\n",
       "      <td>Sickkkk</td>\n",
       "      <td>1.0</td>\n",
       "      <td>1.0</td>\n",
       "      <td>1.816747</td>\n",
       "    </tr>\n",
       "    <tr>\n",
       "      <th>19358</th>\n",
       "      <td>Preston stayed home and I don`t know why</td>\n",
       "      <td>neutral</td>\n",
       "      <td>Preston stayed home and I don`t know why</td>\n",
       "      <td>Preston stayed home and I don`t know why</td>\n",
       "      <td>1.0</td>\n",
       "      <td>1.0</td>\n",
       "      <td>1.997440</td>\n",
       "    </tr>\n",
       "    <tr>\n",
       "      <th>12300</th>\n",
       "      <td>Kicking Back In The Holidays No More School fo...</td>\n",
       "      <td>neutral</td>\n",
       "      <td>Kicking Back In The Holidays No More School fo...</td>\n",
       "      <td>Kicking Back In The Holidays No More School fo...</td>\n",
       "      <td>1.0</td>\n",
       "      <td>1.0</td>\n",
       "      <td>1.998184</td>\n",
       "    </tr>\n",
       "    <tr>\n",
       "      <th>23849</th>\n",
       "      <td>Itï¿½s a beautiful blog, but Iï¿½m not able to...</td>\n",
       "      <td>neutral</td>\n",
       "      <td>Itï¿½s a beautiful blog, but Iï¿½m not able to...</td>\n",
       "      <td>Itï¿½s a beautiful blog, but Iï¿½m not able to...</td>\n",
       "      <td>1.0</td>\n",
       "      <td>1.0</td>\n",
       "      <td>1.905221</td>\n",
       "    </tr>\n",
       "    <tr>\n",
       "      <th>26948</th>\n",
       "      <td>supposed to be great weather today &amp; 2moro; ju...</td>\n",
       "      <td>neutral</td>\n",
       "      <td>supposed to be great weather today &amp; 2moro; ju...</td>\n",
       "      <td>supposed to be great weather today &amp; 2moro; ju...</td>\n",
       "      <td>1.0</td>\n",
       "      <td>1.0</td>\n",
       "      <td>1.913535</td>\n",
       "    </tr>\n",
       "  </tbody>\n",
       "</table>\n",
       "</div>"
      ],
      "text/plain": [
       "                                                    text sentiment  \\\n",
       "24289  My wiki project is going to have to wait anoth...   neutral   \n",
       "609    don`t wait on Red, could be ages. I know what ...   neutral   \n",
       "18339  Sons of ****, why couldn`t they put them on th...  negative   \n",
       "3886   sure ill follow you hun ohh thank you are you ...  positive   \n",
       "8160   I have a great house to sell you! Comes comple...  positive   \n",
       "18943                 Sickkkk ....and I need 11/20--NOW.  negative   \n",
       "19358           Preston stayed home and I don`t know why   neutral   \n",
       "12300  Kicking Back In The Holidays No More School fo...   neutral   \n",
       "23849  Itï¿½s a beautiful blog, but Iï¿½m not able to...   neutral   \n",
       "26948  supposed to be great weather today & 2moro; ju...   neutral   \n",
       "\n",
       "                                           selected_text  \\\n",
       "24289  My wiki project is going to have to wait anoth...   \n",
       "609    don`t wait on Red, could be ages. I know what ...   \n",
       "18339                                      Sons of ****,   \n",
       "3886                                           thank you   \n",
       "8160                                               great   \n",
       "18943                                            Sickkkk   \n",
       "19358           Preston stayed home and I don`t know why   \n",
       "12300  Kicking Back In The Holidays No More School fo...   \n",
       "23849  Itï¿½s a beautiful blog, but Iï¿½m not able to...   \n",
       "26948  supposed to be great weather today & 2moro; ju...   \n",
       "\n",
       "                                                    pred  jaccard  \\\n",
       "24289  My wiki project is going to have to wait anoth...      1.0   \n",
       "609    don`t wait on Red, could be ages. I know what ...      1.0   \n",
       "18339                                      Sons of ****,      1.0   \n",
       "3886                                           thank you      1.0   \n",
       "8160                                               great      1.0   \n",
       "18943                                            Sickkkk      1.0   \n",
       "19358           Preston stayed home and I don`t know why      1.0   \n",
       "12300  Kicking Back In The Holidays No More School fo...      1.0   \n",
       "23849  Itï¿½s a beautiful blog, but Iï¿½m not able to...      1.0   \n",
       "26948  supposed to be great weather today & 2moro; ju...      1.0   \n",
       "\n",
       "       label_jaccard     score  \n",
       "24289            1.0  1.962010  \n",
       "609              1.0  1.985270  \n",
       "18339            1.0  1.336935  \n",
       "3886             1.0  1.202010  \n",
       "8160             1.0  1.167444  \n",
       "18943            1.0  1.816747  \n",
       "19358            1.0  1.997440  \n",
       "12300            1.0  1.998184  \n",
       "23849            1.0  1.905221  \n",
       "26948            1.0  1.913535  "
      ]
     },
     "execution_count": 16,
     "metadata": {},
     "output_type": "execute_result"
    }
   ],
   "source": [
    "pred[pred['delta_jaccard']<0.2][['text','sentiment','selected_text','pred','jaccard','label_jaccard','score']].sample(n=10)"
   ]
  },
  {
   "cell_type": "code",
   "execution_count": 17,
   "metadata": {
    "ExecuteTime": {
     "end_time": "2020-05-24T13:28:49.730647Z",
     "start_time": "2020-05-24T13:28:49.719977Z"
    }
   },
   "outputs": [
    {
     "data": {
      "text/html": [
       "<div>\n",
       "<style scoped>\n",
       "    .dataframe tbody tr th:only-of-type {\n",
       "        vertical-align: middle;\n",
       "    }\n",
       "\n",
       "    .dataframe tbody tr th {\n",
       "        vertical-align: top;\n",
       "    }\n",
       "\n",
       "    .dataframe thead th {\n",
       "        text-align: right;\n",
       "    }\n",
       "</style>\n",
       "<table border=\"1\" class=\"dataframe\">\n",
       "  <thead>\n",
       "    <tr style=\"text-align: right;\">\n",
       "      <th></th>\n",
       "      <th>text</th>\n",
       "      <th>sentiment</th>\n",
       "      <th>selected_text</th>\n",
       "      <th>pred</th>\n",
       "      <th>jaccard</th>\n",
       "      <th>label_jaccard</th>\n",
       "      <th>score</th>\n",
       "    </tr>\n",
       "  </thead>\n",
       "  <tbody>\n",
       "    <tr>\n",
       "      <th>2778</th>\n",
       "      <td>wow! that is an *awesome* review; carry it wit...</td>\n",
       "      <td>positive</td>\n",
       "      <td>*awesome*</td>\n",
       "      <td>*awesome* *awesome* review; carry it with you...</td>\n",
       "      <td>0.071429</td>\n",
       "      <td>1.0</td>\n",
       "      <td>1.440395</td>\n",
       "    </tr>\n",
       "    <tr>\n",
       "      <th>16995</th>\n",
       "      <td>start again... so now theres 6 people coming w...</td>\n",
       "      <td>negative</td>\n",
       "      <td>short stack.</td>\n",
       "      <td>but still only 3 for ss</td>\n",
       "      <td>0.000000</td>\n",
       "      <td>1.0</td>\n",
       "      <td>1.097829</td>\n",
       "    </tr>\n",
       "    <tr>\n",
       "      <th>994</th>\n",
       "      <td>is sooo stressed about everything I have to do</td>\n",
       "      <td>negative</td>\n",
       "      <td>is sooo stressed about everything I have to do</td>\n",
       "      <td>stressed</td>\n",
       "      <td>0.111111</td>\n",
       "      <td>1.0</td>\n",
       "      <td>1.458515</td>\n",
       "    </tr>\n",
       "    <tr>\n",
       "      <th>276</th>\n",
       "      <td>I know, It`s so crazy! I love using it too Hav...</td>\n",
       "      <td>positive</td>\n",
       "      <td>I know, It`s so crazy! I love using it too Hav...</td>\n",
       "      <td>I love</td>\n",
       "      <td>0.105263</td>\n",
       "      <td>1.0</td>\n",
       "      <td>1.036791</td>\n",
       "    </tr>\n",
       "    <tr>\n",
       "      <th>20499</th>\n",
       "      <td>Have $#@&amp;!!! Malware on my work PC! I miss hav...</td>\n",
       "      <td>negative</td>\n",
       "      <td>I miss having an IT dept</td>\n",
       "      <td>miss Malware on my work PC! I miss</td>\n",
       "      <td>0.181818</td>\n",
       "      <td>1.0</td>\n",
       "      <td>1.521760</td>\n",
       "    </tr>\n",
       "    <tr>\n",
       "      <th>26296</th>\n",
       "      <td>U no that little prob with ur twitter that hap...</td>\n",
       "      <td>positive</td>\n",
       "      <td>mayb this will help u fix it</td>\n",
       "      <td>help</td>\n",
       "      <td>0.142857</td>\n",
       "      <td>1.0</td>\n",
       "      <td>1.271648</td>\n",
       "    </tr>\n",
       "    <tr>\n",
       "      <th>5264</th>\n",
       "      <td>they are all over one is a fan with a vip and ...</td>\n",
       "      <td>positive</td>\n",
       "      <td>winner</td>\n",
       "      <td>fan</td>\n",
       "      <td>0.000000</td>\n",
       "      <td>1.0</td>\n",
       "      <td>1.047755</td>\n",
       "    </tr>\n",
       "    <tr>\n",
       "      <th>24183</th>\n",
       "      <td>Just started feeling bad again ugh. I hate it ...</td>\n",
       "      <td>negative</td>\n",
       "      <td>started feeling bad</td>\n",
       "      <td>bad again ugh. I hate it when I don`t feel go...</td>\n",
       "      <td>0.083333</td>\n",
       "      <td>1.0</td>\n",
       "      <td>1.081932</td>\n",
       "    </tr>\n",
       "    <tr>\n",
       "      <th>13181</th>\n",
       "      <td>thanks gail imma try this one day! looks yummy...</td>\n",
       "      <td>positive</td>\n",
       "      <td>looks yummy</td>\n",
       "      <td>thanks gail imma try this one day! looks yummy!</td>\n",
       "      <td>0.100000</td>\n",
       "      <td>1.0</td>\n",
       "      <td>1.056089</td>\n",
       "    </tr>\n",
       "    <tr>\n",
       "      <th>6130</th>\n",
       "      <td>give them my best!</td>\n",
       "      <td>positive</td>\n",
       "      <td>best</td>\n",
       "      <td>give them my best!</td>\n",
       "      <td>0.000000</td>\n",
       "      <td>1.0</td>\n",
       "      <td>1.425461</td>\n",
       "    </tr>\n",
       "  </tbody>\n",
       "</table>\n",
       "</div>"
      ],
      "text/plain": [
       "                                                    text sentiment  \\\n",
       "2778   wow! that is an *awesome* review; carry it wit...  positive   \n",
       "16995  start again... so now theres 6 people coming w...  negative   \n",
       "994       is sooo stressed about everything I have to do  negative   \n",
       "276    I know, It`s so crazy! I love using it too Hav...  positive   \n",
       "20499  Have $#@&!!! Malware on my work PC! I miss hav...  negative   \n",
       "26296  U no that little prob with ur twitter that hap...  positive   \n",
       "5264   they are all over one is a fan with a vip and ...  positive   \n",
       "24183  Just started feeling bad again ugh. I hate it ...  negative   \n",
       "13181  thanks gail imma try this one day! looks yummy...  positive   \n",
       "6130                                  give them my best!  positive   \n",
       "\n",
       "                                           selected_text  \\\n",
       "2778                                           *awesome*   \n",
       "16995                                       short stack.   \n",
       "994       is sooo stressed about everything I have to do   \n",
       "276    I know, It`s so crazy! I love using it too Hav...   \n",
       "20499                           I miss having an IT dept   \n",
       "26296                       mayb this will help u fix it   \n",
       "5264                                              winner   \n",
       "24183                                started feeling bad   \n",
       "13181                                        looks yummy   \n",
       "6130                                                best   \n",
       "\n",
       "                                                    pred   jaccard  \\\n",
       "2778    *awesome* *awesome* review; carry it with you...  0.071429   \n",
       "16995                            but still only 3 for ss  0.000000   \n",
       "994                                             stressed  0.111111   \n",
       "276                                               I love  0.105263   \n",
       "20499                 miss Malware on my work PC! I miss  0.181818   \n",
       "26296                                               help  0.142857   \n",
       "5264                                                 fan  0.000000   \n",
       "24183   bad again ugh. I hate it when I don`t feel go...  0.083333   \n",
       "13181    thanks gail imma try this one day! looks yummy!  0.100000   \n",
       "6130                                  give them my best!  0.000000   \n",
       "\n",
       "       label_jaccard     score  \n",
       "2778             1.0  1.440395  \n",
       "16995            1.0  1.097829  \n",
       "994              1.0  1.458515  \n",
       "276              1.0  1.036791  \n",
       "20499            1.0  1.521760  \n",
       "26296            1.0  1.271648  \n",
       "5264             1.0  1.047755  \n",
       "24183            1.0  1.081932  \n",
       "13181            1.0  1.056089  \n",
       "6130             1.0  1.425461  "
      ]
     },
     "execution_count": 17,
     "metadata": {},
     "output_type": "execute_result"
    }
   ],
   "source": [
    "pred[pred['delta_jaccard']>0.8][['text','sentiment','selected_text','pred','jaccard','label_jaccard','score']].sample(n=10)"
   ]
  },
  {
   "cell_type": "code",
   "execution_count": 18,
   "metadata": {
    "ExecuteTime": {
     "end_time": "2020-05-24T13:28:49.733709Z",
     "start_time": "2020-05-24T13:28:49.731373Z"
    }
   },
   "outputs": [
    {
     "data": {
      "text/plain": [
       "1.204892635345459"
      ]
     },
     "execution_count": 18,
     "metadata": {},
     "output_type": "execute_result"
    }
   ],
   "source": [
    "pred.loc[5121, 'score']"
   ]
  },
  {
   "cell_type": "code",
   "execution_count": 19,
   "metadata": {
    "ExecuteTime": {
     "end_time": "2020-05-24T13:28:49.737026Z",
     "start_time": "2020-05-24T13:28:49.734476Z"
    }
   },
   "outputs": [
    {
     "data": {
      "text/plain": [
       "['I',\n",
       " 'have',\n",
       " 'such',\n",
       " 'fantastic',\n",
       " 'friends',\n",
       " ',',\n",
       " 'including',\n",
       " 'several',\n",
       " 'ones',\n",
       " 'met',\n",
       " 'through',\n",
       " 'here',\n",
       " '!',\n",
       " 'thanks',\n",
       " 'for',\n",
       " 'being',\n",
       " 'in',\n",
       " 'my',\n",
       " 'life',\n",
       " '-',\n",
       " 'you',\n",
       " 'are',\n",
       " 'such',\n",
       " 'amazing',\n",
       " 'people',\n",
       " '!']"
      ]
     },
     "execution_count": 19,
     "metadata": {},
     "output_type": "execute_result"
    }
   ],
   "source": [
    "pred.loc[5121,'words']"
   ]
  },
  {
   "cell_type": "code",
   "execution_count": 22,
   "metadata": {
    "ExecuteTime": {
     "end_time": "2020-05-24T13:29:17.907275Z",
     "start_time": "2020-05-24T13:29:17.904437Z"
    }
   },
   "outputs": [
    {
     "data": {
      "text/plain": [
       "array([9.81185138e-02, 1.41678040e-03, 4.93733585e-03, 1.77191396e-03,\n",
       "       6.82277530e-02, 8.49719346e-03, 3.49782445e-02, 5.02023160e-01,\n",
       "       4.99137794e-04, 9.88097279e-04, 2.13963143e-03, 1.15508868e-04,\n",
       "       1.77697721e-03, 8.86982400e-03, 3.39606334e-03, 3.18561494e-03,\n",
       "       7.11473497e-03, 2.19332110e-02, 1.46088466e-01, 7.16459937e-04,\n",
       "       1.19606929e-03, 3.02357739e-03, 2.29963195e-03, 1.07984255e-04,\n",
       "       7.18443841e-03, 1.12657312e-04, 8.25565308e-03, 4.41139378e-03,\n",
       "       6.29264468e-05, 4.17986093e-03, 9.03637338e-05, 8.02920293e-03,\n",
       "       7.13601694e-05, 6.63818559e-03, 1.92632055e-04, 2.70112883e-04,\n",
       "       3.70642096e-02, 1.51517124e-05, 0.00000000e+00, 0.00000000e+00,\n",
       "       0.00000000e+00, 0.00000000e+00, 0.00000000e+00], dtype=float32)"
      ]
     },
     "execution_count": 22,
     "metadata": {},
     "output_type": "execute_result"
    }
   ],
   "source": [
    "pred.loc[5264,'start_pred']"
   ]
  },
  {
   "cell_type": "code",
   "execution_count": 23,
   "metadata": {
    "ExecuteTime": {
     "end_time": "2020-05-24T13:29:38.144635Z",
     "start_time": "2020-05-24T13:29:38.141586Z"
    }
   },
   "outputs": [
    {
     "data": {
      "text/plain": [
       "array([3.56165925e-04, 2.31539452e-04, 8.73471654e-05, 1.59801613e-03,\n",
       "       3.96914460e-04, 1.68386148e-04, 2.09067672e-04, 5.45909703e-01,\n",
       "       1.93442404e-02, 1.57455006e-03, 1.45811267e-04, 4.44929227e-02,\n",
       "       4.84313816e-03, 5.02101087e-04, 4.03384533e-04, 1.88563732e-04,\n",
       "       1.12367103e-04, 5.48380078e-04, 1.91551939e-01, 8.76957644e-03,\n",
       "       1.06053101e-03, 8.19328893e-03, 1.50607055e-04, 2.42818426e-02,\n",
       "       3.08785646e-04, 9.46327951e-03, 1.39125797e-03, 8.18730987e-05,\n",
       "       2.96283583e-03, 1.36234943e-04, 2.57435534e-03, 1.20302160e-04,\n",
       "       2.61232071e-03, 1.66190744e-04, 1.52182893e-03, 9.62494873e-03,\n",
       "       1.13905616e-01, 9.78956268e-06, 0.00000000e+00, 0.00000000e+00,\n",
       "       0.00000000e+00, 0.00000000e+00, 0.00000000e+00], dtype=float32)"
      ]
     },
     "execution_count": 23,
     "metadata": {},
     "output_type": "execute_result"
    }
   ],
   "source": [
    "pred.loc[5264,'end_pred']"
   ]
  },
  {
   "cell_type": "code",
   "execution_count": null,
   "metadata": {},
   "outputs": [],
   "source": []
  }
 ],
 "metadata": {
  "kernelspec": {
   "display_name": "Python 3",
   "language": "python",
   "name": "python3"
  },
  "language_info": {
   "codemirror_mode": {
    "name": "ipython",
    "version": 3
   },
   "file_extension": ".py",
   "mimetype": "text/x-python",
   "name": "python",
   "nbconvert_exporter": "python",
   "pygments_lexer": "ipython3",
   "version": "3.7.1"
  }
 },
 "nbformat": 4,
 "nbformat_minor": 2
}
